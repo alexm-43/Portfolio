{
 "cells": [
  {
   "cell_type": "code",
   "execution_count": 1,
   "id": "a117028c-6f95-4e6f-8550-4fa565df0961",
   "metadata": {},
   "outputs": [],
   "source": [
    "import pandas as pd\n",
    "pd.set_option(\"display.max_columns\", None)\n",
    "data = pd.read_csv(\"~/datasets/WA_Fn-UseC_-Telco-Customer-Churn.csv\")\n",
    "\n",
    "data.columns= data.columns.str.lower()"
   ]
  },
  {
   "cell_type": "code",
   "execution_count": 2,
   "id": "9cc7fcad-6062-4a1d-ae85-c1ea11645a2a",
   "metadata": {},
   "outputs": [],
   "source": [
    "#formatting boolean columns\n",
    "data['partner'] = data['partner'].map({'Yes': True, 'No': False})\n",
    "data['dependents'] = data['dependents'].map({'Yes': True, 'No': False})\n",
    "data['phoneservice'] = data['phoneservice'].map({'Yes': True, 'No': False})\n",
    "data['paperlessbilling'] = data['paperlessbilling'].map({'Yes': True, 'No': False})\n",
    "data['churn'] = data['churn'].map({'Yes': True, 'No': False})\n",
    "data['seniorcitizen'] = data['seniorcitizen'].map({0: False, 1: True})"
   ]
  },
  {
   "cell_type": "code",
   "execution_count": 3,
   "id": "7cd8bb8f-4cdd-4a1e-9adc-8caa4d683394",
   "metadata": {},
   "outputs": [],
   "source": [
    "#converting object columns to more workable data types\n",
    "data['totalcharges'] = pd.to_numeric(data['totalcharges'], errors='coerce')\n",
    "\n",
    "data = data.astype({'gender':'category','multiplelines':'category',\n",
    "            'internetservice':'category','onlinesecurity':'category',\n",
    "            'onlinebackup':'category','deviceprotection':'category',\n",
    "            'techsupport':'category','streamingtv':'category',\n",
    "            'streamingmovies':'category','contract':'category',\n",
    "            'paymentmethod':'category'})"
   ]
  },
  {
   "cell_type": "code",
   "execution_count": 4,
   "id": "b7576131-e4df-4e01-8939-93476a49ad6a",
   "metadata": {},
   "outputs": [],
   "source": [
    "#cleaning up column names\n",
    "data = data.rename(columns={'seniorcitizen':'senior_citizen', 'phoneservice':'phone_service',\n",
    " 'multiplelines':'multiple_lines', 'internetservice':'internet_service',\n",
    " 'onlinesecurity':'online_security', 'onlinebackup':'online_backup',\n",
    " 'deviceprotection':'device_protection', 'techsupport':'tech_support',\n",
    " 'streamingtv':'streaming_tv', 'streamingmovies':'streaming_movies',\n",
    " 'paperlessbilling':'paperless_bill','paymentmethod':'payment_method',\n",
    " 'monthlycharges':'monthly_charges', 'totalcharges':'total_charges'})\n"
   ]
  },
  {
   "cell_type": "code",
   "execution_count": 6,
   "id": "605b60fa-bd9d-404a-8448-8abbae0e3d7e",
   "metadata": {},
   "outputs": [],
   "source": [
    "#create dictionary for categorical data\n",
    "dic = {'gender':{}, 'senior_citizen':{}, 'partner':{}, 'dependents':{},\n",
    "       'phone_service':{}, 'multiple_lines':{}, 'internet_service':{},\n",
    "       'online_security':{}, 'online_backup':{}, 'device_protection':{}, 'tech_support':{},\n",
    "       'streaming_tv':{}, 'streaming_movies':{}, 'contract':{}, 'paperless_bill':{},\n",
    "       'payment_method':{}}\n",
    "\n",
    "# compute churn rates and fill in dictionary for each measure\n",
    "for c in dic:\n",
    "    out = data[[c, 'churn']].groupby(c).mean()\n",
    "    dic[c] = out.to_dict(orient='index')\n",
    "\n",
    "# turn the dictionary into a df\n",
    "churn_rates = pd.DataFrame.from_dict(dic, orient=\"index\").stack().to_frame()\n",
    "# format data \n",
    "churn_rates = pd.DataFrame(churn_rates[0].values.tolist(), index=churn_rates.index)"
   ]
  },
  {
   "cell_type": "code",
   "execution_count": 7,
   "id": "a5e9dc94-c50b-43cd-acea-20bbc9e7d916",
   "metadata": {},
   "outputs": [],
   "source": [
    "churn_rates = churn_rates.reset_index()\n",
    "churn_rates = churn_rates.rename(columns={'level_0':'measure','level_1':'measure_category'})"
   ]
  },
  {
   "cell_type": "code",
   "execution_count": 8,
   "id": "718c495a-a8a0-45b8-a0c5-010c1c132b20",
   "metadata": {},
   "outputs": [],
   "source": [
    "# create dataframe subset for tenure\n",
    "ten = data[['tenure','churn']].sort_values(by='tenure')\n",
    "ten['cum_churn'] = ten['churn'].cumsum()"
   ]
  },
  {
   "cell_type": "code",
   "execution_count": 9,
   "id": "a758fae8-5a98-4c1e-b3be-a42fb758d028",
   "metadata": {},
   "outputs": [],
   "source": [
    "# create dataframe subset for monthly_charges\n",
    "charges = data[['monthly_charges','churn']].sort_values(by='monthly_charges')\n",
    "\n",
    "charges['cum_churn'] = charges['churn'].cumsum()\n",
    "charges['avg_churn']= charges['churn'].rolling(100).mean()"
   ]
  },
  {
   "cell_type": "code",
   "execution_count": 12,
   "id": "1c31f9eb-2674-49ef-b61e-8091101bf11f",
   "metadata": {},
   "outputs": [],
   "source": [
    "data.to_csv(r'/home/alex/projects/telco_data.csv', index=False)\n",
    "churn_rates.to_csv(r'/home/alex/projects/telco_churn.csv', index=False)\n",
    "ten.to_csv(r'/home/alex/projects/telco_tenure.csv', index=False)\n",
    "charges.to_csv(r'/home/alex/projects/telco_charges.csv', index=False)"
   ]
  }
 ],
 "metadata": {
  "kernelspec": {
   "display_name": "Python 3 (ipykernel)",
   "language": "python",
   "name": "python3"
  },
  "language_info": {
   "codemirror_mode": {
    "name": "ipython",
    "version": 3
   },
   "file_extension": ".py",
   "mimetype": "text/x-python",
   "name": "python",
   "nbconvert_exporter": "python",
   "pygments_lexer": "ipython3",
   "version": "3.9.7"
  }
 },
 "nbformat": 4,
 "nbformat_minor": 5
}
