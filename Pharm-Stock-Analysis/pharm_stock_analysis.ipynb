{
 "cells": [
  {
   "cell_type": "code",
   "execution_count": 1,
   "id": "cfcd4b46-d44f-4a14-b261-4a32c69e7acb",
   "metadata": {},
   "outputs": [
    {
     "name": "stdout",
     "output_type": "stream",
     "text": [
      "[*********************100%***********************]  4 of 4 completed\n"
     ]
    }
   ],
   "source": [
    "import yfinance as yf  \n",
    "import pandas as pd\n",
    "import seaborn as sns\n",
    "import plotly.express as px\n",
    "%matplotlib inline\n",
    "#import data\n",
    "stocks = yf.download(['SPY','PFE','MRNA','JNJ'],\n",
    "                     '2020-01-01','2022-01-01')\n",
    "covid = pd.read_csv('~/projects/portfolio/us_covid_cases.csv')"
   ]
  },
  {
   "cell_type": "markdown",
   "id": "591b0793-a67f-4868-951a-8145ea814780",
   "metadata": {},
   "source": [
    "## Preparing Data"
   ]
  },
  {
   "cell_type": "code",
   "execution_count": 2,
   "id": "03561118-b2ad-4e1a-a8d1-1870117415d0",
   "metadata": {},
   "outputs": [],
   "source": [
    "#calculating daily covid data\n",
    "covid['daily_cases']= covid['cases'].diff()\n",
    "covid['daily_deaths']= covid['deaths'].diff()\n",
    "#filling in null rows\n",
    "covid.at[0,'daily_cases'] = 1\n",
    "covid.at[0,'daily_deaths'] = 0\n",
    "\n",
    "#calculating rolling averages\n",
    "covid['cases_7day']= covid['daily_cases'].rolling(7).mean()\n",
    "covid['deaths_7day']= covid['daily_deaths'].rolling(7).mean()\n",
    "\n",
    "#setting index to be the date\n",
    "covid.set_index('date', inplace=True)\n",
    "\n",
    "#making index names consistent\n",
    "stocks = stocks.rename_axis('date')"
   ]
  },
  {
   "cell_type": "markdown",
   "id": "cb1f14d2-41f7-4982-b344-4e247ca1e854",
   "metadata": {},
   "source": [
    "## Exploring & Visualizing Data"
   ]
  },
  {
   "cell_type": "code",
   "execution_count": 3,
   "id": "d6ad48c3-97d8-4b6a-b02d-7bb567fd961a",
   "metadata": {
    "tags": []
   },
   "outputs": [
    {
     "data": {
      "text/html": [
       "<div>\n",
       "<style scoped>\n",
       "    .dataframe tbody tr th:only-of-type {\n",
       "        vertical-align: middle;\n",
       "    }\n",
       "\n",
       "    .dataframe tbody tr th {\n",
       "        vertical-align: top;\n",
       "    }\n",
       "\n",
       "    .dataframe thead th {\n",
       "        text-align: right;\n",
       "    }\n",
       "</style>\n",
       "<table border=\"1\" class=\"dataframe\">\n",
       "  <thead>\n",
       "    <tr style=\"text-align: right;\">\n",
       "      <th></th>\n",
       "      <th>JNJ</th>\n",
       "      <th>MRNA</th>\n",
       "      <th>PFE</th>\n",
       "      <th>SPY</th>\n",
       "    </tr>\n",
       "    <tr>\n",
       "      <th>date</th>\n",
       "      <th></th>\n",
       "      <th></th>\n",
       "      <th></th>\n",
       "      <th></th>\n",
       "    </tr>\n",
       "  </thead>\n",
       "  <tbody>\n",
       "    <tr>\n",
       "      <th>2020-01-02</th>\n",
       "      <td>138.613358</td>\n",
       "      <td>19.230000</td>\n",
       "      <td>34.074841</td>\n",
       "      <td>314.719177</td>\n",
       "    </tr>\n",
       "    <tr>\n",
       "      <th>2020-01-03</th>\n",
       "      <td>137.008575</td>\n",
       "      <td>18.889999</td>\n",
       "      <td>33.892029</td>\n",
       "      <td>312.336060</td>\n",
       "    </tr>\n",
       "    <tr>\n",
       "      <th>2020-01-06</th>\n",
       "      <td>136.837677</td>\n",
       "      <td>18.129999</td>\n",
       "      <td>33.848495</td>\n",
       "      <td>313.527649</td>\n",
       "    </tr>\n",
       "    <tr>\n",
       "      <th>2020-01-07</th>\n",
       "      <td>137.673264</td>\n",
       "      <td>17.780001</td>\n",
       "      <td>33.735313</td>\n",
       "      <td>312.646088</td>\n",
       "    </tr>\n",
       "    <tr>\n",
       "      <th>2020-01-08</th>\n",
       "      <td>137.654297</td>\n",
       "      <td>17.980000</td>\n",
       "      <td>34.005196</td>\n",
       "      <td>314.312378</td>\n",
       "    </tr>\n",
       "  </tbody>\n",
       "</table>\n",
       "</div>"
      ],
      "text/plain": [
       "                   JNJ       MRNA        PFE         SPY\n",
       "date                                                    \n",
       "2020-01-02  138.613358  19.230000  34.074841  314.719177\n",
       "2020-01-03  137.008575  18.889999  33.892029  312.336060\n",
       "2020-01-06  136.837677  18.129999  33.848495  313.527649\n",
       "2020-01-07  137.673264  17.780001  33.735313  312.646088\n",
       "2020-01-08  137.654297  17.980000  34.005196  314.312378"
      ]
     },
     "execution_count": 3,
     "metadata": {},
     "output_type": "execute_result"
    }
   ],
   "source": [
    "stocks['Adj Close'].head()"
   ]
  },
  {
   "cell_type": "code",
   "execution_count": 4,
   "id": "6f713a90-a98d-47ba-b46d-b0e7e786463c",
   "metadata": {
    "tags": []
   },
   "outputs": [
    {
     "data": {
      "text/html": [
       "<div>\n",
       "<style scoped>\n",
       "    .dataframe tbody tr th:only-of-type {\n",
       "        vertical-align: middle;\n",
       "    }\n",
       "\n",
       "    .dataframe tbody tr th {\n",
       "        vertical-align: top;\n",
       "    }\n",
       "\n",
       "    .dataframe thead th {\n",
       "        text-align: right;\n",
       "    }\n",
       "</style>\n",
       "<table border=\"1\" class=\"dataframe\">\n",
       "  <thead>\n",
       "    <tr style=\"text-align: right;\">\n",
       "      <th></th>\n",
       "      <th>cases</th>\n",
       "      <th>deaths</th>\n",
       "      <th>daily_cases</th>\n",
       "      <th>daily_deaths</th>\n",
       "      <th>cases_7day</th>\n",
       "      <th>deaths_7day</th>\n",
       "    </tr>\n",
       "    <tr>\n",
       "      <th>date</th>\n",
       "      <th></th>\n",
       "      <th></th>\n",
       "      <th></th>\n",
       "      <th></th>\n",
       "      <th></th>\n",
       "      <th></th>\n",
       "    </tr>\n",
       "  </thead>\n",
       "  <tbody>\n",
       "    <tr>\n",
       "      <th>2020-01-21</th>\n",
       "      <td>1</td>\n",
       "      <td>0</td>\n",
       "      <td>1.0</td>\n",
       "      <td>0.0</td>\n",
       "      <td>NaN</td>\n",
       "      <td>NaN</td>\n",
       "    </tr>\n",
       "    <tr>\n",
       "      <th>2020-01-22</th>\n",
       "      <td>1</td>\n",
       "      <td>0</td>\n",
       "      <td>0.0</td>\n",
       "      <td>0.0</td>\n",
       "      <td>NaN</td>\n",
       "      <td>NaN</td>\n",
       "    </tr>\n",
       "    <tr>\n",
       "      <th>2020-01-23</th>\n",
       "      <td>1</td>\n",
       "      <td>0</td>\n",
       "      <td>0.0</td>\n",
       "      <td>0.0</td>\n",
       "      <td>NaN</td>\n",
       "      <td>NaN</td>\n",
       "    </tr>\n",
       "    <tr>\n",
       "      <th>2020-01-24</th>\n",
       "      <td>2</td>\n",
       "      <td>0</td>\n",
       "      <td>1.0</td>\n",
       "      <td>0.0</td>\n",
       "      <td>NaN</td>\n",
       "      <td>NaN</td>\n",
       "    </tr>\n",
       "    <tr>\n",
       "      <th>2020-01-25</th>\n",
       "      <td>3</td>\n",
       "      <td>0</td>\n",
       "      <td>1.0</td>\n",
       "      <td>0.0</td>\n",
       "      <td>NaN</td>\n",
       "      <td>NaN</td>\n",
       "    </tr>\n",
       "    <tr>\n",
       "      <th>2020-01-26</th>\n",
       "      <td>5</td>\n",
       "      <td>0</td>\n",
       "      <td>2.0</td>\n",
       "      <td>0.0</td>\n",
       "      <td>NaN</td>\n",
       "      <td>NaN</td>\n",
       "    </tr>\n",
       "    <tr>\n",
       "      <th>2020-01-27</th>\n",
       "      <td>5</td>\n",
       "      <td>0</td>\n",
       "      <td>0.0</td>\n",
       "      <td>0.0</td>\n",
       "      <td>0.714286</td>\n",
       "      <td>0.0</td>\n",
       "    </tr>\n",
       "    <tr>\n",
       "      <th>2020-01-28</th>\n",
       "      <td>5</td>\n",
       "      <td>0</td>\n",
       "      <td>0.0</td>\n",
       "      <td>0.0</td>\n",
       "      <td>0.571429</td>\n",
       "      <td>0.0</td>\n",
       "    </tr>\n",
       "    <tr>\n",
       "      <th>2020-01-29</th>\n",
       "      <td>5</td>\n",
       "      <td>0</td>\n",
       "      <td>0.0</td>\n",
       "      <td>0.0</td>\n",
       "      <td>0.571429</td>\n",
       "      <td>0.0</td>\n",
       "    </tr>\n",
       "    <tr>\n",
       "      <th>2020-01-30</th>\n",
       "      <td>6</td>\n",
       "      <td>0</td>\n",
       "      <td>1.0</td>\n",
       "      <td>0.0</td>\n",
       "      <td>0.714286</td>\n",
       "      <td>0.0</td>\n",
       "    </tr>\n",
       "  </tbody>\n",
       "</table>\n",
       "</div>"
      ],
      "text/plain": [
       "            cases  deaths  daily_cases  daily_deaths  cases_7day  deaths_7day\n",
       "date                                                                         \n",
       "2020-01-21      1       0          1.0           0.0         NaN          NaN\n",
       "2020-01-22      1       0          0.0           0.0         NaN          NaN\n",
       "2020-01-23      1       0          0.0           0.0         NaN          NaN\n",
       "2020-01-24      2       0          1.0           0.0         NaN          NaN\n",
       "2020-01-25      3       0          1.0           0.0         NaN          NaN\n",
       "2020-01-26      5       0          2.0           0.0         NaN          NaN\n",
       "2020-01-27      5       0          0.0           0.0    0.714286          0.0\n",
       "2020-01-28      5       0          0.0           0.0    0.571429          0.0\n",
       "2020-01-29      5       0          0.0           0.0    0.571429          0.0\n",
       "2020-01-30      6       0          1.0           0.0    0.714286          0.0"
      ]
     },
     "execution_count": 4,
     "metadata": {},
     "output_type": "execute_result"
    }
   ],
   "source": [
    "covid.head(10)"
   ]
  },
  {
   "cell_type": "code",
   "execution_count": 5,
   "id": "f201941f-df02-4abc-b152-071b3e3fc408",
   "metadata": {},
   "outputs": [
    {
     "name": "stdout",
     "output_type": "stream",
     "text": [
      "<class 'pandas.core.frame.DataFrame'>\n",
      "DatetimeIndex: 505 entries, 2020-01-02 to 2021-12-31\n",
      "Data columns (total 10 columns):\n",
      " #   Column        Non-Null Count  Dtype  \n",
      "---  ------        --------------  -----  \n",
      " 0   JNJ           505 non-null    float64\n",
      " 1   MRNA          505 non-null    float64\n",
      " 2   PFE           505 non-null    float64\n",
      " 3   SPY           505 non-null    float64\n",
      " 4   cases         493 non-null    float64\n",
      " 5   deaths        493 non-null    float64\n",
      " 6   daily_cases   493 non-null    float64\n",
      " 7   daily_deaths  493 non-null    float64\n",
      " 8   cases_7day    489 non-null    float64\n",
      " 9   deaths_7day   489 non-null    float64\n",
      "dtypes: float64(10)\n",
      "memory usage: 43.4 KB\n"
     ]
    }
   ],
   "source": [
    "#joining all data together\n",
    "adj_close = stocks['Adj Close']\n",
    "adj_close = adj_close.reset_index()\n",
    "covid_d = covid.reset_index()\n",
    "covid_d['date'] = covid_d['date'].astype('datetime64')\n",
    "\n",
    "data = pd.merge(left= adj_close, right= covid_d,\n",
    "                on='date',\n",
    "                how='left'\n",
    "               )\n",
    "data = data.set_index('date')\n",
    "data.info()"
   ]
  },
  {
   "cell_type": "code",
   "execution_count": 6,
   "id": "4e5d1cb5-dd8b-4ecf-a79a-064d8e7674e7",
   "metadata": {},
   "outputs": [
    {
     "data": {
      "text/html": [
       "<div>\n",
       "<style scoped>\n",
       "    .dataframe tbody tr th:only-of-type {\n",
       "        vertical-align: middle;\n",
       "    }\n",
       "\n",
       "    .dataframe tbody tr th {\n",
       "        vertical-align: top;\n",
       "    }\n",
       "\n",
       "    .dataframe thead th {\n",
       "        text-align: right;\n",
       "    }\n",
       "</style>\n",
       "<table border=\"1\" class=\"dataframe\">\n",
       "  <thead>\n",
       "    <tr style=\"text-align: right;\">\n",
       "      <th></th>\n",
       "      <th>JNJ</th>\n",
       "      <th>MRNA</th>\n",
       "      <th>PFE</th>\n",
       "      <th>SPY</th>\n",
       "      <th>cases</th>\n",
       "      <th>deaths</th>\n",
       "      <th>daily_cases</th>\n",
       "      <th>daily_deaths</th>\n",
       "      <th>cases_7day</th>\n",
       "      <th>deaths_7day</th>\n",
       "    </tr>\n",
       "  </thead>\n",
       "  <tbody>\n",
       "    <tr>\n",
       "      <th>JNJ</th>\n",
       "      <td>1.000000</td>\n",
       "      <td>0.824111</td>\n",
       "      <td>0.753636</td>\n",
       "      <td>0.919205</td>\n",
       "      <td>0.881475</td>\n",
       "      <td>0.891088</td>\n",
       "      <td>0.422084</td>\n",
       "      <td>0.239912</td>\n",
       "      <td>0.374605</td>\n",
       "      <td>0.200812</td>\n",
       "    </tr>\n",
       "    <tr>\n",
       "      <th>MRNA</th>\n",
       "      <td>0.824111</td>\n",
       "      <td>1.000000</td>\n",
       "      <td>0.787094</td>\n",
       "      <td>0.867462</td>\n",
       "      <td>0.873562</td>\n",
       "      <td>0.863733</td>\n",
       "      <td>0.482249</td>\n",
       "      <td>0.255223</td>\n",
       "      <td>0.412328</td>\n",
       "      <td>0.164061</td>\n",
       "    </tr>\n",
       "    <tr>\n",
       "      <th>PFE</th>\n",
       "      <td>0.753636</td>\n",
       "      <td>0.787094</td>\n",
       "      <td>1.000000</td>\n",
       "      <td>0.843462</td>\n",
       "      <td>0.836557</td>\n",
       "      <td>0.813069</td>\n",
       "      <td>0.592942</td>\n",
       "      <td>0.209994</td>\n",
       "      <td>0.486377</td>\n",
       "      <td>0.119208</td>\n",
       "    </tr>\n",
       "    <tr>\n",
       "      <th>SPY</th>\n",
       "      <td>0.919205</td>\n",
       "      <td>0.867462</td>\n",
       "      <td>0.843462</td>\n",
       "      <td>1.000000</td>\n",
       "      <td>0.962982</td>\n",
       "      <td>0.967543</td>\n",
       "      <td>0.488992</td>\n",
       "      <td>0.208154</td>\n",
       "      <td>0.428302</td>\n",
       "      <td>0.136224</td>\n",
       "    </tr>\n",
       "    <tr>\n",
       "      <th>cases</th>\n",
       "      <td>0.881475</td>\n",
       "      <td>0.873562</td>\n",
       "      <td>0.836557</td>\n",
       "      <td>0.962982</td>\n",
       "      <td>1.000000</td>\n",
       "      <td>0.993206</td>\n",
       "      <td>0.489836</td>\n",
       "      <td>0.274986</td>\n",
       "      <td>0.423491</td>\n",
       "      <td>0.206973</td>\n",
       "    </tr>\n",
       "    <tr>\n",
       "      <th>deaths</th>\n",
       "      <td>0.891088</td>\n",
       "      <td>0.863733</td>\n",
       "      <td>0.813069</td>\n",
       "      <td>0.967543</td>\n",
       "      <td>0.993206</td>\n",
       "      <td>1.000000</td>\n",
       "      <td>0.462729</td>\n",
       "      <td>0.252470</td>\n",
       "      <td>0.398830</td>\n",
       "      <td>0.187032</td>\n",
       "    </tr>\n",
       "    <tr>\n",
       "      <th>daily_cases</th>\n",
       "      <td>0.422084</td>\n",
       "      <td>0.482249</td>\n",
       "      <td>0.592942</td>\n",
       "      <td>0.488992</td>\n",
       "      <td>0.489836</td>\n",
       "      <td>0.462729</td>\n",
       "      <td>1.000000</td>\n",
       "      <td>0.579271</td>\n",
       "      <td>0.945227</td>\n",
       "      <td>0.539489</td>\n",
       "    </tr>\n",
       "    <tr>\n",
       "      <th>daily_deaths</th>\n",
       "      <td>0.239912</td>\n",
       "      <td>0.255223</td>\n",
       "      <td>0.209994</td>\n",
       "      <td>0.208154</td>\n",
       "      <td>0.274986</td>\n",
       "      <td>0.252470</td>\n",
       "      <td>0.579271</td>\n",
       "      <td>1.000000</td>\n",
       "      <td>0.677852</td>\n",
       "      <td>0.905250</td>\n",
       "    </tr>\n",
       "    <tr>\n",
       "      <th>cases_7day</th>\n",
       "      <td>0.374605</td>\n",
       "      <td>0.412328</td>\n",
       "      <td>0.486377</td>\n",
       "      <td>0.428302</td>\n",
       "      <td>0.423491</td>\n",
       "      <td>0.398830</td>\n",
       "      <td>0.945227</td>\n",
       "      <td>0.677852</td>\n",
       "      <td>1.000000</td>\n",
       "      <td>0.673020</td>\n",
       "    </tr>\n",
       "    <tr>\n",
       "      <th>deaths_7day</th>\n",
       "      <td>0.200812</td>\n",
       "      <td>0.164061</td>\n",
       "      <td>0.119208</td>\n",
       "      <td>0.136224</td>\n",
       "      <td>0.206973</td>\n",
       "      <td>0.187032</td>\n",
       "      <td>0.539489</td>\n",
       "      <td>0.905250</td>\n",
       "      <td>0.673020</td>\n",
       "      <td>1.000000</td>\n",
       "    </tr>\n",
       "  </tbody>\n",
       "</table>\n",
       "</div>"
      ],
      "text/plain": [
       "                   JNJ      MRNA       PFE       SPY     cases    deaths  \\\n",
       "JNJ           1.000000  0.824111  0.753636  0.919205  0.881475  0.891088   \n",
       "MRNA          0.824111  1.000000  0.787094  0.867462  0.873562  0.863733   \n",
       "PFE           0.753636  0.787094  1.000000  0.843462  0.836557  0.813069   \n",
       "SPY           0.919205  0.867462  0.843462  1.000000  0.962982  0.967543   \n",
       "cases         0.881475  0.873562  0.836557  0.962982  1.000000  0.993206   \n",
       "deaths        0.891088  0.863733  0.813069  0.967543  0.993206  1.000000   \n",
       "daily_cases   0.422084  0.482249  0.592942  0.488992  0.489836  0.462729   \n",
       "daily_deaths  0.239912  0.255223  0.209994  0.208154  0.274986  0.252470   \n",
       "cases_7day    0.374605  0.412328  0.486377  0.428302  0.423491  0.398830   \n",
       "deaths_7day   0.200812  0.164061  0.119208  0.136224  0.206973  0.187032   \n",
       "\n",
       "              daily_cases  daily_deaths  cases_7day  deaths_7day  \n",
       "JNJ              0.422084      0.239912    0.374605     0.200812  \n",
       "MRNA             0.482249      0.255223    0.412328     0.164061  \n",
       "PFE              0.592942      0.209994    0.486377     0.119208  \n",
       "SPY              0.488992      0.208154    0.428302     0.136224  \n",
       "cases            0.489836      0.274986    0.423491     0.206973  \n",
       "deaths           0.462729      0.252470    0.398830     0.187032  \n",
       "daily_cases      1.000000      0.579271    0.945227     0.539489  \n",
       "daily_deaths     0.579271      1.000000    0.677852     0.905250  \n",
       "cases_7day       0.945227      0.677852    1.000000     0.673020  \n",
       "deaths_7day      0.539489      0.905250    0.673020     1.000000  "
      ]
     },
     "execution_count": 6,
     "metadata": {},
     "output_type": "execute_result"
    }
   ],
   "source": [
    "data.corr()"
   ]
  },
  {
   "cell_type": "code",
   "execution_count": 20,
   "id": "af877810-d069-446d-b4d7-c6b552d0f629",
   "metadata": {},
   "outputs": [
    {
     "data": {
      "text/plain": [
       "<AxesSubplot:xlabel='cases', ylabel='JNJ'>"
      ]
     },
     "execution_count": 20,
     "metadata": {},
     "output_type": "execute_result"
    },
    {
     "data": {
      "image/png": "[encoded data removed]",
      "text/plain": [
       "<Figure size 432x288 with 1 Axes>"
      ]
     },
     "metadata": {
      "needs_background": "light"
     },
     "output_type": "display_data"
    }
   ],
   "source": [
    "sns.regplot(data=data,y=\"JNJ\", x=\"cases\", color='purple')"
   ]
  },
  {
   "cell_type": "code",
   "execution_count": 19,
   "id": "85aac3bf-eae7-4cc8-80f0-1575e7688f53",
   "metadata": {},
   "outputs": [
    {
     "data": {
      "text/plain": [
       "<AxesSubplot:xlabel='cases', ylabel='SPY'>"
      ]
     },
     "execution_count": 19,
     "metadata": {},
     "output_type": "execute_result"
    },
    {
     "data": {
      "image/png": "[encoded data removed]",
      "text/plain": [
       "<Figure size 432x288 with 1 Axes>"
      ]
     },
     "metadata": {
      "needs_background": "light"
     },
     "output_type": "display_data"
    }
   ],
   "source": [
    "sns.regplot(data=data,y=\"SPY\", x=\"cases\", color='darkorange')"
   ]
  },
  {
   "cell_type": "code",
   "execution_count": 12,
   "id": "303a67b8-bfbb-4a3a-916e-f794c46f64c4",
   "metadata": {},
   "outputs": [
    {
     "data": {
      "application/vnd.plotly.v1+json": {
       "config": {
        "plotlyServerURL": "https://plot.ly"
       },
       "data": [
        {
         "name": "Daily Covid Cases",
         "type": "scatter",
         "xaxis": "x",
         "y": [
          null,
          null,
          null,
          null,
          null,
          null,
          null,
          null,
          null,
          null,
          null,
          null,
          1,
          0,
          0,
          1,
          0,
          0,
          0,
          1,
          1,
          0,
          0,
          1,
          0,
          0,
          1,
          0,
          1,
          1,
          0,
          0,
          0,
          2,
          3,
          13,
          2,
          15,
          0,
          5,
          16,
          21,
          36,
          67,
          83,
          201,
          270,
          245,
          405,
          556,
          907,
          1399,
          2444,
          4043,
          5619,
          10432,
          10433,
          14634,
          16998,
          17330,
          21469,
          24506,
          26930,
          29717,
          32318,
          30916,
          30337,
          31820,
          34699,
          25769,
          26691,
          30033,
          31613,
          31509,
          27395,
          25514,
          28831,
          33776,
          36741,
          23197,
          24651,
          26555,
          30357,
          33970,
          21962,
          23709,
          24506,
          28478,
          27648,
          17621,
          22300,
          21145,
          26962,
          26237,
          21827,
          20977,
          23070,
          25733,
          23799,
          18896,
          18744,
          22512,
          24548,
          21897,
          20791,
          19987,
          21616,
          28709,
          18207,
          18805,
          22852,
          23202,
          25493,
          20117,
          24885,
          25655,
          28059,
          30836,
          30466,
          35060,
          36989,
          41173,
          45528,
          39496,
          48389,
          49975,
          55559,
          47316,
          54084,
          59455,
          59889,
          68227,
          61567,
          65602,
          68342,
          75687,
          70923,
          59888,
          65277,
          69739,
          70006,
          73525,
          59181,
          63116,
          66782,
          68948,
          69088,
          47484,
          53549,
          53723,
          57514,
          61157,
          47173,
          53357,
          54278,
          54061,
          59477,
          37523,
          43233,
          43013,
          46029,
          49029,
          40404,
          39183,
          45319,
          45612,
          46564,
          36487,
          44049,
          32444,
          46397,
          52101,
          28942,
          33332,
          38061,
          47567,
          36887,
          39217,
          39268,
          45310,
          48887,
          54952,
          37391,
          41549,
          45204,
          54581,
          37360,
          43697,
          42058,
          46418,
          53580,
          62413,
          42862,
          53017,
          56382,
          58962,
          48016,
          54393,
          59853,
          65353,
          70464,
          65440,
          60594,
          64237,
          75130,
          85297,
          74638,
          74387,
          81882,
          90669,
          99868,
          94006,
          92416,
          108078,
          121349,
          132823,
          130449,
          139750,
          142878,
          163651,
          181496,
          166563,
          161631,
          172280,
          187508,
          198859,
          179623,
          177858,
          180590,
          205839,
          167658,
          184228,
          201172,
          217738,
          231368,
          204523,
          219714,
          219716,
          225225,
          280513,
          200885,
          203153,
          244827,
          237709,
          251190,
          201518,
          201637,
          227763,
          193511,
          189010,
          201030,
          228949,
          231024,
          251830,
          235016,
          255966,
          280334,
          300777,
          226316,
          229977,
          229325,
          239522,
          239853,
          186944,
          185488,
          190482,
          191565,
          156576,
          150638,
          155770,
          166175,
          164615,
          141854,
          115256,
          120183,
          125636,
          129501,
          92982,
          96390,
          94975,
          105640,
          99627,
          64540,
          70161,
          71791,
          78012,
          59466,
          71913,
          74194,
          77881,
          78318,
          56696,
          57644,
          66612,
          67282,
          65695,
          94513,
          55899,
          58195,
          62387,
          64166,
          57164,
          54531,
          58931,
          60470,
          60623,
          54716,
          56746,
          79903,
          69116,
          74499,
          70739,
          62234,
          67936,
          77193,
          76594,
          61972,
          73090,
          80458,
          81582,
          71932,
          77321,
          75750,
          73694,
          78354,
          70260,
          61024,
          62495,
          66241,
          63784,
          47335,
          51877,
          54818,
          57582,
          58517,
          49944,
          40955,
          44719,
          47694,
          47493,
          36557,
          34041,
          35483,
          38439,
          40981,
          29207,
          27863,
          28794,
          29618,
          29011,
          25628,
          22838,
          23386,
          27747,
          22024,
          22570,
          16858,
          19471,
          -23999,
          19452,
          14185,
          20664,
          15799,
          16827,
          15119,
          11872,
          14411,
          12187,
          12700,
          15844,
          12761,
          14031,
          14695,
          14963,
          15548,
          15729,
          15977,
          64959,
          20436,
          27077,
          30219,
          49233,
          35335,
          35383,
          42982,
          38055,
          36018,
          52224,
          59182,
          62111,
          59791,
          65500,
          83062,
          93086,
          106818,
          84961,
          98294,
          122674,
          136170,
          150311,
          112344,
          126972,
          168351,
          178691,
          162091,
          155577,
          138709,
          187392,
          259493,
          144297,
          164611,
          159752,
          199606,
          266147,
          150197,
          170936,
          187761,
          195911,
          280403,
          160250,
          210995,
          175696,
          191475,
          301138,
          184189,
          170571,
          176316,
          285058,
          152696,
          170195,
          154883,
          166938,
          208166,
          129975,
          147493,
          127864,
          140011,
          194789,
          113340,
          128512,
          116209,
          125776,
          172697,
          98602,
          125955,
          105402,
          112926,
          123680,
          111576,
          106557,
          88969,
          98560,
          122033,
          83683,
          86622,
          81946,
          87296,
          105561,
          87423,
          94544,
          86185,
          88723,
          124570,
          76943,
          84844,
          83087,
          91768,
          126461,
          82979,
          99062,
          64601,
          129351,
          148624,
          90485,
          114357,
          110273,
          119648,
          158898,
          92771,
          119892,
          51525,
          216312,
          109294,
          139315,
          138712,
          153245,
          197444,
          113997,
          149045,
          123505,
          165062,
          202883,
          116859,
          145276,
          146319,
          171145,
          302899,
          189471,
          243692,
          265215,
          543540,
          380712,
          489064,
          585055,
          446567
         ],
         "yaxis": "y"
        },
        {
         "name": "PFE Stock",
         "type": "scatter",
         "xaxis": "x2",
         "y": [
          34.0748405456543,
          33.89202880859375,
          33.84849548339844,
          33.735313415527344,
          34.00519561767578,
          33.857200622558594,
          34.37955093383789,
          34.309906005859375,
          34.884490966796875,
          35.40684509277344,
          35.3546142578125,
          35.267547607421875,
          35.11955261230469,
          34.98896408081055,
          35.44166564941406,
          34.666839599609375,
          34.96284484863281,
          33.20425796508789,
          32.71672439575195,
          32.60239028930664,
          32.75189971923828,
          32.98936462402344,
          33.14767074584961,
          33.569820404052734,
          33.64897537231445,
          33.46428680419922,
          33.25320816040039,
          33.49946212768555,
          33.1916389465332,
          32.47926330566406,
          32.10987854003906,
          31.94278335571289,
          31.863628387451172,
          31.52942657470703,
          31.415088653564453,
          30.49163818359375,
          29.840816497802734,
          30.535614013671875,
          29.990327835083008,
          29.392284393310547,
          30.676328659057617,
          30.16622543334961,
          32.01313781738281,
          31.186429977416992,
          30.799455642700195,
          29.691307067871094,
          30.421276092529297,
          28.292932510375977,
          26.40204429626465,
          28.767854690551758,
          26.542760848999023,
          28.284135818481445,
          28.46003532409668,
          26.75383949279785,
          25.513769149780273,
          25.056440353393555,
          26.120609283447266,
          26.164581298828125,
          27.923551559448242,
          27.17599105834961,
          28.7326717376709,
          28.706289291381836,
          27.923551559448242,
          28.9085693359375,
          29.585771560668945,
          30.403688430786133,
          29.55938720703125,
          30.430072784423828,
          31.124860763549805,
          30.904993057250977,
          32.048316955566406,
          31.63496208190918,
          31.55580711364746,
          32.461673736572266,
          31.73170280456543,
          31.3271427154541,
          31.881208419799805,
          32.2681884765625,
          32.875038146972656,
          33.71053695678711,
          33.34115982055664,
          33.52585220336914,
          33.73692321777344,
          33.10369873046875,
          33.08610916137695,
          33.86885070800781,
          33.86885070800781,
          32.82959747314453,
          33.060543060302734,
          33.84218978881836,
          33.18489456176758,
          32.9095344543457,
          33.68231201171875,
          33.54019546508789,
          33.815555572509766,
          33.469139099121094,
          33.42471694946289,
          33.0960693359375,
          33.30924987792969,
          33.30036544799805,
          33.22930908203125,
          33.91325759887695,
          33.92214584350586,
          31.497224807739258,
          32.118995666503906,
          32.118995666503906,
          31.985763549804688,
          31.967994689941406,
          32.50094985961914,
          32.16341018676758,
          31.90582275390625,
          29.578611373901367,
          29.97832679748535,
          29.63191032409668,
          29.667436599731445,
          29.80955696105957,
          29.525320053100586,
          29.685203552246094,
          29.409847259521484,
          29.10784339904785,
          28.592660903930664,
          28.708131790161133,
          28.459423065185547,
          28.992372512817383,
          29.045665740966797,
          29.969446182250977,
          30.653392791748047,
          30.653392791748047,
          30.22703742980957,
          29.97832679748535,
          29.720731735229492,
          30.04938507080078,
          31.27516746520996,
          31.292932510375977,
          31.728168487548828,
          31.62158203125,
          32.19894027709961,
          32.42100524902344,
          32.58977127075195,
          34.250789642333984,
          34.117557525634766,
          33.45137023925781,
          33.34477996826172,
          34.65938949584961,
          34.872562408447266,
          34.74699401855469,
          34.5137939453125,
          34.39719009399414,
          34.433067321777344,
          34.48688507080078,
          34.325439453125,
          34.48688507080078,
          34.433067321777344,
          33.89491653442383,
          34.379249572753906,
          34.235748291015625,
          34.1370849609375,
          34.39719009399414,
          34.40616226196289,
          34.31646728515625,
          34.72905731201172,
          34.87256622314453,
          34.83668899536133,
          34.45100784301758,
          34.12811279296875,
          33.957698822021484,
          34.00254440307617,
          33.89491653442383,
          33.07870864868164,
          33.36572265625,
          32.6481819152832,
          32.6123046875,
          32.22663116455078,
          32.45086669921875,
          31.97548484802246,
          32.352195739746094,
          33.1953125,
          33.15046310424805,
          32.989017486572266,
          33.02489471435547,
          32.85447692871094,
          32.30734634399414,
          32.51363754272461,
          32.28941345214844,
          32.07414627075195,
          32.334259033203125,
          32.63921356201172,
          32.441890716552734,
          32.917259216308594,
          32.62127685546875,
          32.63024139404297,
          32.96210861206055,
          32.441890716552734,
          32.710968017578125,
          33.087677001953125,
          32.99798583984375,
          33.02489471435547,
          33.09664535522461,
          33.06077194213867,
          32.78271484375,
          34.038421630859375,
          33.90387725830078,
          33.625831604003906,
          33.25809860229492,
          33.572017669677734,
          34.244712829589844,
          34.01152038574219,
          33.572017669677734,
          31.796106338500977,
          31.64362335205078,
          31.8230037689209,
          32.495704650878906,
          32.45982360839844,
          33.482330322265625,
          32.97488021850586,
          32.98394012451172,
          35.52117156982422,
          35.049964904785156,
          34.886863708496094,
          34.02602005004883,
          34.99559783935547,
          33.82666778564453,
          34.42124557495117,
          34.68866729736328,
          34.56450653076172,
          35.05160140991211,
          34.87968826293945,
          34.95608901977539,
          34.88923645019531,
          35.557796478271484,
          36.58928680419922,
          37.6398811340332,
          38.967445373535156,
          38.28933334350586,
          38.52811050415039,
          39.39723587036133,
          40.64839553833008,
          39.970279693603516,
          39.855674743652344,
          39.2730712890625,
          37.44886016845703,
          36.97132110595703,
          36.14039611816406,
          36.321861267089844,
          35.98758316040039,
          35.70105743408203,
          35.089805603027344,
          35.75836181640625,
          35.59599685668945,
          35.16621017456055,
          35.38587951660156,
          35.089805603027344,
          35.15666580200195,
          35.15666580200195,
          35.519588470458984,
          35.21396255493164,
          35.39543151855469,
          35.46228790283203,
          36.073543548583984,
          35.510040283203125,
          35.20441436767578,
          35.0993537902832,
          35.05160140991211,
          35.08025360107422,
          34.8605842590332,
          34.84148406982422,
          34.9083366394043,
          35.60554885864258,
          35.63420486450195,
          34.61225891113281,
          34.62191390991211,
          34.66053771972656,
          34.563987731933594,
          33.78195571899414,
          33.63713455200195,
          33.68540573120117,
          33.71437072753906,
          33.617820739746094,
          33.76264572143555,
          33.54058837890625,
          33.24129104614258,
          33.52127456665039,
          33.492305755615234,
          33.68540573120117,
          33.366798400878906,
          33.25094223022461,
          33.07715606689453,
          32.73924255371094,
          32.58477020263672,
          32.652347564697266,
          32.333744049072266,
          32.52683639526367,
          32.35305404663086,
          33.20267105102539,
          33.019229888916016,
          33.20267105102539,
          33.1640510559082,
          33.26060104370117,
          33.72402572631836,
          33.51162338256836,
          33.733680725097656,
          34.18745422363281,
          34.59295654296875,
          34.55433654785156,
          34.5350227355957,
          34.303306579589844,
          34.757083892822266,
          34.139183044433594,
          34.380550384521484,
          34.4384765625,
          34.998451232910156,
          35.35567855834961,
          34.86328887939453,
          34.97914123535156,
          35.04672622680664,
          35.02741241455078,
          34.805355072021484,
          34.670188903808594,
          34.71846389770508,
          35.33636474609375,
          35.69359588623047,
          35.87703323364258,
          35.886688232421875,
          36.301841735839844,
          37.23835754394531,
          37.58592224121094,
          37.682472229003906,
          38.16521072387695,
          37.30593490600586,
          37.32524871826172,
          37.34455490112305,
          37.12249755859375,
          37.470069885253906,
          37.26731491088867,
          37.31559371948242,
          38.45484924316406,
          38.570709228515625,
          38.59001541137695,
          38.20977020263672,
          38.59001922607422,
          38.863014221191406,
          38.36576843261719,
          38.697265625,
          39.09701156616211,
          39.019012451171875,
          39.10676193237305,
          39.04826354980469,
          38.833763122558594,
          39.116512298583984,
          38.95076370239258,
          38.814266204833984,
          38.34627151489258,
          37.9465217590332,
          37.68328094482422,
          37.76127624511719,
          37.53702926635742,
          37.81977844238281,
          37.995277404785156,
          38.170772552490234,
          38.01477813720703,
          37.87827682495117,
          38.814266204833984,
          39.662506103515625,
          39.14575958251953,
          38.63876724243164,
          38.599769592285156,
          38.317020416259766,
          38.49251937866211,
          37.83927917480469,
          38.434017181396484,
          38.619266510009766,
          38.073272705078125,
          38.20977020263672,
          38.00502395629883,
          38.14152145385742,
          38.12202072143555,
          38.18052291870117,
          38.570518493652344,
          38.73626708984375,
          38.30727005004883,
          38.36576843261719,
          38.268272399902344,
          38.619266510009766,
          38.7655143737793,
          38.658267974853516,
          38.95076370239258,
          39.08726119995117,
          39.34075927734375,
          39.14575958251953,
          40.02324676513672,
          39.99400329589844,
          40.43274688720703,
          40.63749313354492,
          40.764244079589844,
          41.04698944091797,
          42.363224029541016,
          42.097591400146484,
          42.11726760864258,
          43.248661041259766,
          44.940826416015625,
          44.45875549316406,
          44.33086013793945,
          44.3406982421875,
          45.2359733581543,
          47.41020965576172,
          45.56063461303711,
          46.4755859375,
          47.695518493652344,
          48.118560791015625,
          49.604122161865234,
          48.512088775634766,
          48.01034164428711,
          47.931636810302734,
          49.1220588684082,
          47.597137451171875,
          46.741214752197266,
          46.613319396972656,
          45.84593963623047,
          46.00334930419922,
          45.32451629638672,
          45.29500198364258,
          46.08205795288086,
          46.08205795288086,
          45.99351119995117,
          45.75739669799805,
          45.285160064697266,
          44.85227966308594,
          43.85862731933594,
          43.98652267456055,
          44.04555130004883,
          43.75040817260742,
          43.17979049682617,
          43.48477554321289,
          43.20930480957031,
          43.23881912231445,
          43.474937438964844,
          43.228981018066406,
          42.864967346191406,
          42.34354782104492,
          42.82561492919922,
          42.314029693603516,
          42.23532485961914,
          41.733577728271484,
          41.635196685791016,
          41.340049743652344,
          42.04840087890625,
          41.76309585571289,
          41.3794059753418,
          41.17279815673828,
          40.749759674072266,
          40.99571228027344,
          40.81863021850586,
          40.6513786315918,
          41.40892028808594,
          42.10742950439453,
          42.16646194458008,
          42.461605072021484,
          42.45176696777344,
          42.855133056640625,
          42.274681091308594,
          42.48128128051758,
          43.032222747802734,
          42.933837890625,
          44.71454620361328,
          44.09474563598633,
          43.51911544799805,
          48.243202209472656,
          47.96531295776367,
          46.943084716796875,
          48.650108337402344,
          49.801353454589844,
          49.3547477722168,
          49.275352478027344,
          49.22572708129883,
          50.48614501953125,
          51.022071838378906,
          50.41667556762695,
          50.813655853271484,
          50.69456481933594,
          50.50599670410156,
          53.592529296875,
          52.00460433959961,
          53.32456588745117,
          54.267398834228516,
          52.639774322509766,
          53.86049270629883,
          51.09154510498047,
          51.329734802246094,
          51.012149810791016,
          51.68701934814453,
          52.38173294067383,
          54.78347396850586,
          55.12091064453125,
          58.35630798339844,
          60.78782272338867,
          59.03117752075195,
          60.5595588684082,
          58.50517654418945,
          59.10064697265625,
          58.26698684692383,
          58.753292083740234,
          57.572269439697266,
          57.14551544189453,
          57.959327697753906,
          58.60441970825195
         ],
         "yaxis": "y2"
        },
        {
         "name": "MRNA Stock",
         "type": "scatter",
         "xaxis": "x3",
         "y": [
          19.229999542236328,
          18.889999389648438,
          18.1299991607666,
          17.780000686645508,
          17.979999542236328,
          18.399999618530273,
          19.139999389648438,
          20.260000228881836,
          20,
          20.239999771118164,
          21.010000228881836,
          20.6200008392334,
          20.940000534057617,
          21.969999313354492,
          21.469999313354492,
          21.1200008392334,
          22.739999771118164,
          22.360000610351562,
          20.549999237060547,
          20.989999771118164,
          20.510000228881836,
          20.3799991607666,
          20.8700008392334,
          20.049999237060547,
          19.8799991607666,
          23.239999771118164,
          23.649999618530273,
          21.350000381469727,
          19.010000228881836,
          19.045000076293945,
          19,
          18.90999984741211,
          18.920000076293945,
          18.540000915527344,
          18.229999542236328,
          18.59000015258789,
          23.760000228881836,
          29.15999984741211,
          26.15999984741211,
          25.93000030517578,
          29.8799991607666,
          27.90999984741211,
          27.489999771118164,
          28.010000228881836,
          29.610000610351562,
          24.290000915527344,
          22.34000015258789,
          23.610000610351562,
          22.299999237060547,
          21.299999237060547,
          26.489999771118164,
          28.18000030517578,
          31.579999923706055,
          28.270000457763672,
          28.200000762939453,
          26.56999969482422,
          25.81999969482422,
          27.1299991607666,
          27.940000534057617,
          30.049999237060547,
          30.479999542236328,
          29.950000762939453,
          29.670000076293945,
          33.20000076293945,
          34.84000015258789,
          34.63999938964844,
          32.02000045776367,
          32.41999816894531,
          31.860000610351562,
          32.900001525878906,
          34.65999984741211,
          37.25,
          40.599998474121094,
          46.849998474121094,
          51.689998626708984,
          49.2599983215332,
          51.20000076293945,
          47.439998626708984,
          50.5,
          48.04999923706055,
          47.880001068115234,
          46.369998931884766,
          45.9900016784668,
          47.93000030517578,
          50.5,
          49.34000015258789,
          48.95000076293945,
          53.189998626708984,
          59.25,
          66.9000015258789,
          62.349998474121094,
          65.18000030517578,
          64.55999755859375,
          66.69000244140625,
          80,
          71.66999816894531,
          73.47000122070312,
          67.05000305175781,
          69,
          57.709999084472656,
          52.18000030517578,
          55.540000915527344,
          61.5,
          62.18000030517578,
          59.869998931884766,
          59.88999938964844,
          60.59000015258789,
          58.189998626708984,
          59.099998474121094,
          58.22999954223633,
          60.06999969482422,
          60.20000076293945,
          62,
          66.56999969482422,
          64.33999633789062,
          63.310001373291016,
          64.94999694824219,
          66.3499984741211,
          64.75,
          62.939998626708984,
          64.83999633789062,
          62,
          61.279998779296875,
          62.08000183105469,
          64.20999908447266,
          61.59000015258789,
          58.56999969482422,
          59.150001525878906,
          61.09000015258789,
          61.58000183105469,
          64.95999908447266,
          62.61000061035156,
          71.77999877929688,
          75.04000091552734,
          80.22000122070312,
          81.80999755859375,
          94.8499984741211,
          82.68000030517578,
          80.86000061035156,
          83.2249984741211,
          75.33000183105469,
          73.20999908447266,
          79.91000366210938,
          81.48999786376953,
          79.51000213623047,
          77.62999725341797,
          74.0999984741211,
          77.9800033569336,
          78.45999908447266,
          75.80000305175781,
          73.76000213623047,
          74.0999984741211,
          72.01000213623047,
          68.97000122070312,
          69.5199966430664,
          67.83000183105469,
          69.1500015258789,
          69.76000213623047,
          67.02999877929688,
          68,
          67.80999755859375,
          66.44999694824219,
          64.87999725341797,
          66.25,
          70.5,
          68.02999877929688,
          67.48999786376953,
          64.88999938964844,
          63.31999969482422,
          64.72000122070312,
          64.83999633789062,
          62.599998474121094,
          54.34000015258789,
          56.900001525878906,
          57.560001373291016,
          59.34000015258789,
          63.66999816894531,
          66.87999725341797,
          68.83999633789062,
          67.88999938964844,
          69.87000274658203,
          69.26000213623047,
          68.72000122070312,
          67.16000366210938,
          65.16999816894531,
          69.47000122070312,
          70.55000305175781,
          70.5199966430664,
          70.75,
          70.02999877929688,
          68.80999755859375,
          71.94999694824219,
          71.04000091552734,
          72.37000274658203,
          72.93000030517578,
          73,
          75.30999755859375,
          78.29000091552734,
          76.55999755859375,
          75.58000183105469,
          73.94000244140625,
          70.95999908447266,
          71.30999755859375,
          68.37000274658203,
          70.83999633789062,
          70.52999877929688,
          70.23999786376953,
          70.66999816894531,
          65.73999786376953,
          71.27999877929688,
          67.47000122070312,
          67.11000061035156,
          69.08000183105469,
          69.80999755859375,
          71.4800033569336,
          72.44999694824219,
          77.73999786376953,
          76.05000305175781,
          82.44000244140625,
          87.80999755859375,
          89.38999938964844,
          97.94999694824219,
          93.1500015258789,
          88.88999938964844,
          92.7699966430664,
          97.61000061035156,
          101.02999877929688,
          98.55999755859375,
          109.18000030517578,
          127.02999877929688,
          152.74000549316406,
          141.00999450683594,
          143,
          157.25999450683594,
          152.52000427246094,
          159.52000427246094,
          169.86000061035156,
          156.58999633789062,
          155.69000244140625,
          156.92999267578125,
          155.07000732421875,
          147.22000122070312,
          137.02999877929688,
          144,
          140.22999572753906,
          138.3000030517578,
          125.87999725341797,
          130.33999633789062,
          123.38999938964844,
          111.4000015258789,
          114.38999938964844,
          111.12999725341797,
          104.47000122070312,
          111.7300033569336,
          109.18000030517578,
          116.26000213623047,
          115.08999633789062,
          112.75,
          117.26000213623047,
          124.55000305175781,
          124.05999755859375,
          129.72000122070312,
          129.64999389648438,
          125.01000213623047,
          125.13999938964844,
          132.97999572753906,
          131.02000427246094,
          147,
          151.92999267578125,
          155.72999572753906,
          159.5500030517578,
          173.16000366210938,
          157.47999572753906,
          158.5800018310547,
          165.86000061035156,
          173.30999755859375,
          176.24000549316406,
          185.97999572753906,
          179.52000427246094,
          179.33999633789062,
          183.44000244140625,
          183.74000549316406,
          178.52999877929688,
          176.75999450683594,
          169.57000732421875,
          174.74000549316406,
          159.3699951171875,
          150.1699981689453,
          144.7899932861328,
          148.3800048828125,
          154.80999755859375,
          157.39999389648438,
          146.80999755859375,
          131.22000122070312,
          132.3000030517578,
          132.19000244140625,
          123.47000122070312,
          130.8699951171875,
          129.75,
          140.47000122070312,
          136.99000549316406,
          143.66000366210938,
          156.02000427246094,
          147.5500030517578,
          141.4600067138672,
          143.74000549316406,
          145.60000610351562,
          136.52000427246094,
          131.61000061035156,
          133.3300018310547,
          133.27999877929688,
          123.41999816894531,
          118.48999786376953,
          130.9499969482422,
          132.5500030517578,
          129.91000366210938,
          133.52999877929688,
          131.47000122070312,
          133.8800048828125,
          140.9199981689453,
          139.39999389648438,
          149.7100067138672,
          160.02999877929688,
          159.8699951171875,
          170.80999755859375,
          161.91000366210938,
          156.77999877929688,
          169.5,
          168.10000610351562,
          173.6300048828125,
          177.61000061035156,
          183.41000366210938,
          178.67999267578125,
          175.6699981689453,
          178.82000732421875,
          186.02000427246094,
          173.58999633789062,
          162.83999633789062,
          160.5,
          163.14999389648438,
          158.5500030517578,
          158.99000549316406,
          152.67999267578125,
          149.8699951171875,
          161.3800048828125,
          160.42999267578125,
          159.52999877929688,
          157.99000549316406,
          165.97000122070312,
          161.4499969482422,
          164.1699981689453,
          169.25999450683594,
          175.58999633789062,
          179.5399932861328,
          185.00999450683594,
          184.66000366210938,
          191.60000610351562,
          195.22000122070312,
          206.07000732421875,
          219.57000732421875,
          213,
          217.44000244140625,
          217,
          218.85000610351562,
          207.41000366210938,
          201.58999633789062,
          197.83999633789062,
          202.47000122070312,
          199.19000244140625,
          208.24000549316406,
          221.36000061035156,
          212.0399932861328,
          220.13999938964844,
          219.94000244140625,
          222.94000244140625,
          234.4600067138672,
          234.97999572753906,
          235.11000061035156,
          234.3000030517578,
          233.33999633789062,
          221.89999389648438,
          232.7899932861328,
          232.80999755859375,
          239.33999633789062,
          235.14999389648438,
          246.66000366210938,
          259.67498779296875,
          286.42999267578125,
          313.5899963378906,
          307.3299865722656,
          321.1099853515625,
          323.4800109863281,
          348.8299865722656,
          335.8699951171875,
          328.5,
          349.32000732421875,
          345.6400146484375,
          353.6000061035156,
          346.6099853515625,
          386.510009765625,
          419.04998779296875,
          416.260009765625,
          413.7200012207031,
          484.4700012207031,
          456.760009765625,
          385.3299865722656,
          391.4200134277344,
          389.7799987792969,
          373.8599853515625,
          401.8599853515625,
          398.79998779296875,
          375.5299987792969,
          382.9800109863281,
          411.8900146484375,
          394.94000244140625,
          397.8699951171875,
          400.29998779296875,
          382.2200012207031,
          370.69000244140625,
          376.69000244140625,
          389.94000244140625,
          397.6600036621094,
          416.70001220703125,
          436.3900146484375,
          422.8999938964844,
          455.9200134277344,
          449.3800048828125,
          419.7200012207031,
          427.7099914550781,
          434.4599914550781,
          440.6499938964844,
          430.04998779296875,
          423.3299865722656,
          434.0400085449219,
          440.7200012207031,
          454.6000061035156,
          430.1400146484375,
          408.8399963378906,
          384.2099914550781,
          378.8999938964844,
          384.8599853515625,
          341.0899963378906,
          325.8399963378906,
          332.1099853515625,
          302.4200134277344,
          309.3599853515625,
          304.9100036621094,
          305.1000061035156,
          311.1300048828125,
          321.5,
          331.8800048828125,
          324.2099914550781,
          334.8399963378906,
          333.6099853515625,
          333.010009765625,
          339.57000732421875,
          326.5400085449219,
          349.55999755859375,
          345.739990234375,
          340.8800048828125,
          347.9200134277344,
          345.2099914550781,
          337.1700134277344,
          348.6400146484375,
          345.9200134277344,
          284.0199890136719,
          236.99000549316406,
          244.67999267578125,
          236.85000610351562,
          228.9600067138672,
          225.82000732421875,
          231.19000244140625,
          235.07000732421875,
          234.27999877929688,
          242.22999572753906,
          251.41000366210938,
          263.7799987792969,
          282.69000244140625,
          276.3800048828125,
          273.3900146484375,
          329.6300048828125,
          368.510009765625,
          352.42999267578125,
          310.6099853515625,
          301.489990234375,
          306.7200012207031,
          265.3299865722656,
          282.3500061035156,
          283.3999938964844,
          272.2099914550781,
          257.05999755859375,
          271.989990234375,
          277.1600036621094,
          283.2799987792969,
          282.0199890136719,
          294.79998779296875,
          276.3800048828125,
          268.1400146484375,
          251.36000061035156,
          249.99000549316406,
          246.8800048828125,
          241.44000244140625,
          247.8800048828125,
          251.60000610351562,
          253.97999572753906
         ],
         "yaxis": "y3"
        },
        {
         "name": "JNJ Stock",
         "type": "scatter",
         "xaxis": "x4",
         "y": [
          138.6133575439453,
          137.00857543945312,
          136.83767700195312,
          137.6732635498047,
          137.654296875,
          138.06263732910156,
          137.74925231933594,
          138.3570098876953,
          139.1356964111328,
          139.60098266601562,
          140.73101806640625,
          141.65211486816406,
          141.74708557128906,
          140.77850341796875,
          141.04437255859375,
          140.84495544433594,
          141.25328063964844,
          141.9654998779297,
          142.95306396484375,
          142.78216552734375,
          141.3672332763672,
          142.6017303466797,
          143.9596710205078,
          146.2292022705078,
          145.79238891601562,
          144.2350311279297,
          144.20655822753906,
          144.3300323486328,
          143.47535705566406,
          142.5257568359375,
          142.56375122070312,
          141.62364196777344,
          141.4337158203125,
          140.89244079589844,
          142.37380981445312,
          139.43994140625,
          138.23582458496094,
          137.30882263183594,
          132.9510498046875,
          128.51678466796875,
          133.81114196777344,
          129.5775604248047,
          137.11770629882812,
          135.71290588378906,
          135.7320098876953,
          130.389892578125,
          135.35928344726562,
          125.95561981201172,
          119.84898376464844,
          128.33522033691406,
          121.49271392822266,
          130.53323364257812,
          128.97549438476562,
          121.41625213623047,
          114.57374572753906,
          106.21174621582031,
          113.89523315429688,
          114.10548400878906,
          120.9575424194336,
          117.69876098632812,
          127.11195373535156,
          125.31532287597656,
          123.09820556640625,
          127.24575805664062,
          128.22055053710938,
          133.5626678466797,
          131.38377380371094,
          136.90745544433594,
          134.9674835205078,
          133.57220458984375,
          139.5546417236328,
          141.1123504638672,
          143.0332489013672,
          145.2790069580078,
          144.94454956054688,
          143.04275512695312,
          146.20602416992188,
          148.6142578125,
          147.9930877685547,
          147.4483642578125,
          144.67697143554688,
          143.5779571533203,
          143.3867950439453,
          141.71441650390625,
          141.6953125,
          142.87075805664062,
          141.5137176513672,
          141.0454559326172,
          142.1062469482422,
          142.498046875,
          140.61541748046875,
          140.60585021972656,
          141.09324645996094,
          143.76910400390625,
          143.84552001953125,
          142.41204833984375,
          141.13148498535156,
          140.20448303222656,
          138.92465209960938,
          139.10748291015625,
          139.42503356933594,
          141.4265594482422,
          143.13943481445312,
          141.63827514648438,
          142.65829467773438,
          143.04319763183594,
          141.19561767578125,
          141.744140625,
          141.23411560058594,
          140.45468139648438,
          142.2252655029297,
          135.55667114257812,
          136.78836059570312,
          135.92234802246094,
          139.01126098632812,
          138.58787536621094,
          138.00086975097656,
          138.40499877929688,
          137.98159790039062,
          137.4716033935547,
          134.5462646484375,
          134.40191650390625,
          132.612060546875,
          133.795654296875,
          135.32571411132812,
          135.08514404296875,
          135.65289306640625,
          137.58706665039062,
          137.4619903564453,
          137.86611938476562,
          137.11557006835938,
          137.0000762939453,
          139.7329864501953,
          142.34075927734375,
          142.6679229736328,
          143.62057495117188,
          143.716796875,
          143.95738220214844,
          144.0921173095703,
          144.35191345214844,
          143.96701049804688,
          142.533203125,
          141.62864685058594,
          141.2918701171875,
          141.01278686523438,
          141.30149841308594,
          140.26220703125,
          141.79225158691406,
          141.66714477539062,
          142.80262756347656,
          141.98472595214844,
          142.9951171875,
          142.44659423828125,
          141.4265594482422,
          144.01512145996094,
          142.417724609375,
          142.64866638183594,
          143.37039184570312,
          144.42889404296875,
          144.7175750732422,
          145.708740234375,
          146.99818420410156,
          147.3856658935547,
          147.29847717285156,
          147.53097534179688,
          148.18968200683594,
          148.82901000976562,
          148.60623168945312,
          146.775390625,
          149.0130615234375,
          144.86709594726562,
          143.93714904785156,
          142.64878845214844,
          145.0123748779297,
          142.30975341796875,
          143.15249633789062,
          143.7046661376953,
          144.22775268554688,
          143.75308227539062,
          142.56161499023438,
          144.5086669921875,
          140.5564422607422,
          139.69430541992188,
          139.91709899902344,
          140.139892578125,
          141.09889221191406,
          142.50350952148438,
          142.45506286621094,
          144.21807861328125,
          142.70693969726562,
          141.66073608398438,
          143.58840942382812,
          141.6800994873047,
          143.24937438964844,
          144.22775268554688,
          146.2426300048828,
          147.0853729248047,
          143.71434020996094,
          143.46249389648438,
          142.5809783935547,
          143.46249389648438,
          139.8008575439453,
          140.02365112304688,
          139.42306518554688,
          140.5370635986328,
          140.69204711914062,
          139.46182250976562,
          138.66748046875,
          134.02749633789062,
          132.8941192626953,
          132.81661987304688,
          134.34715270996094,
          134.1630859375,
          135.034912109375,
          135.38363647460938,
          137.79566955566406,
          141.50575256347656,
          143.63685607910156,
          143.171875,
          143.65623474121094,
          145.20611572265625,
          146.1263885498047,
          144.67333984375,
          142.75535583496094,
          142.53256225585938,
          141.77699279785156,
          140.33335876464844,
          140.33335876464844,
          140.14801025390625,
          140.4601593017578,
          141.12344360351562,
          143.8253631591797,
          144.49839782714844,
          145.33724975585938,
          146.57603454589844,
          145.30799865722656,
          147.82455444335938,
          149.33645629882812,
          148.50735473632812,
          149.1901397705078,
          145.40553283691406,
          146.86865234375,
          145.99078369140625,
          149.8436737060547,
          150.71177673339844,
          149.25843811035156,
          148.96580505371094,
          148.20498657226562,
          148.72193908691406,
          149.4242401123047,
          150.3509063720703,
          152.2139434814453,
          153.51124572753906,
          152.65289306640625,
          154.44764709472656,
          155.9010467529297,
          156.427734375,
          156.10585021972656,
          155.45233154296875,
          154.24281311035156,
          154.0087127685547,
          156.70086669921875,
          156.35948181152344,
          158.7785186767578,
          158.3883514404297,
          157.7543182373047,
          159.52957153320312,
          161.89984130859375,
          166.28921508789062,
          163.75314331054688,
          165.00169372558594,
          159.11990356445312,
          158.71023559570312,
          157.28611755371094,
          156.55455017089844,
          158.00794982910156,
          160.40744018554688,
          160.8658905029297,
          162.18272399902344,
          162.7094268798828,
          161.97787475585938,
          162.485107421875,
          161.01222229003906,
          161.5877227783203,
          161.66575622558594,
          158.9735870361328,
          158.8754425048828,
          157.47190856933594,
          159.58212280273438,
          159.74896240234375,
          155.52853393554688,
          156.3726348876953,
          156.0781707763672,
          153.32997131347656,
          150.23825073242188,
          153.21218872070312,
          154.4881134033203,
          154.78257751464844,
          156.20574951171875,
          156.19593811035156,
          156.64744567871094,
          157.4522705078125,
          158.3846893310547,
          157.79580688476562,
          157.5013427734375,
          157.07928466796875,
          157.53077697753906,
          157.38357543945312,
          158.91470336914062,
          158.9735870361328,
          161.87881469726562,
          162.96827697753906,
          161.9573516845703,
          161.3095703125,
          159.81768798828125,
          160.40658569335938,
          160.36732482910156,
          160.583251953125,
          159.95510864257812,
          158.26690673828125,
          158.64968872070312,
          156.52964782714844,
          156.96151733398438,
          157.42282104492188,
          159.23858642578125,
          159.68028259277344,
          163.40016174316406,
          163.5081329345703,
          162.12420654296875,
          162.45791625976562,
          161.0838165283203,
          160.16119384765625,
          158.9833984375,
          161.16232299804688,
          159.7195281982422,
          162.15367126464844,
          164.66629028320312,
          163.979248046875,
          164.63685607910156,
          165.38279724121094,
          167.12005615234375,
          165.75576782226562,
          165.0883331298828,
          166.81578063964844,
          167.0709686279297,
          167.23782348632812,
          167.2967071533203,
          166.93356323242188,
          167.90524291992188,
          167.79727172851562,
          168.43923950195312,
          167.9750518798828,
          166.97755432128906,
          166.7207489013672,
          167.1553192138672,
          163.48135375976562,
          164.14306640625,
          163.98504638671875,
          163.91590881347656,
          162.79989624023438,
          161.3678436279297,
          163.54061889648438,
          165.01217651367188,
          162.91842651367188,
          163.32333374023438,
          162.45423889160156,
          162.39495849609375,
          163.17518615722656,
          159.9752960205078,
          161.81227111816406,
          161.59500122070312,
          160.61724853515625,
          161.34808349609375,
          162.17770385742188,
          161.99005126953125,
          161.9999237060547,
          162.70114135742188,
          163.9060516357422,
          166.88865661621094,
          165.89117431640625,
          167.31333923339844,
          166.9874267578125,
          167.64913940429688,
          167.38246154785156,
          167.17506408691406,
          168.3108367919922,
          166.2862091064453,
          166.01954650878906,
          164.81466674804688,
          166.36521911621094,
          167.39234924316406,
          167.87628173828125,
          169.66387939453125,
          169.74288940429688,
          170.5231170654297,
          170.04905700683594,
          170.04905700683594,
          170.0688018798828,
          170.13795471191406,
          172.23170471191406,
          171.21444702148438,
          171.54037475585938,
          170.96754455566406,
          171.56011962890625,
          171.619384765625,
          171.64901733398438,
          173.03167724609375,
          174.0686798095703,
          175.63900756835938,
          177.24884033203125,
          174.99705505371094,
          176.3599853515625,
          177.21920776367188,
          176.45420837402344,
          174.2486572265625,
          173.09620666503906,
          172.17225646972656,
          171.80465698242188,
          172.52992248535156,
          172.0033721923828,
          172.60940551757812,
          173.79164123535156,
          173.9009246826172,
          171.19863891601562,
          170.78135681152344,
          166.97630310058594,
          165.88345336914062,
          164.7210693359375,
          163.72756958007812,
          164.34353637695312,
          164.14483642578125,
          163.6779022216797,
          162.7440185546875,
          163.45932006835938,
          162.86322021484375,
          163.7871856689453,
          163.29043579101562,
          162.10816955566406,
          161.75051879882812,
          162.95265197753906,
          160.4490509033203,
          159.42575073242188,
          158.1838836669922,
          158.54153442382812,
          158.86940002441406,
          160.2900848388672,
          159.88275146484375,
          159.20718383789062,
          156.66384887695312,
          158.1640167236328,
          159.06808471679688,
          160.25035095214844,
          159.07801818847656,
          162.80361938476562,
          162.71420288085938,
          162.336669921875,
          162.65460205078125,
          163.0122528076172,
          164.67138671875,
          162.67446899414062,
          161.79026794433594,
          161.820068359375,
          161.9591522216797,
          164.51242065429688,
          163.98587036132812,
          163.5288848876953,
          162.36648559570312,
          161.81011962890625,
          161.4524688720703,
          163.20101928710938,
          161.99888610839844,
          163.9362030029297,
          162.45590209960938,
          161.61143493652344,
          162.21746826171875,
          161.3431854248047,
          161.8300018310547,
          159.6999969482422,
          160.69000244140625,
          160.24000549316406,
          159.1999969482422,
          159.75,
          155.92999267578125,
          158.0800018310547,
          157.08999633789062,
          159.3800048828125,
          162.94000244140625,
          163.36000061035156,
          164.33999633789062,
          165.89999389648438,
          165.49000549316406,
          168.4499969482422,
          170.2899932861328,
          171.13999938964844,
          173.00999450683594,
          168.22999572753906,
          167.75,
          167.2100067138672,
          167.92999267578125,
          168.25,
          169.6699981689453,
          170.35000610351562,
          171.5500030517578,
          172.30999755859375,
          171.07000732421875
         ],
         "yaxis": "y4"
        }
       ],
       "layout": {
        "autosize": true,
        "colorway": [
         "rgb(228,26,28)",
         "rgb(55,126,184)",
         "rgb(77,175,74)",
         "rgb(152,78,163)",
         "rgb(255,127,0)",
         "rgb(255,255,51)",
         "rgb(166,86,40)",
         "rgb(247,129,191)",
         "rgb(153,153,153)"
        ],
        "template": {
         "data": {
          "bar": [
           {
            "error_x": {
             "color": "#2a3f5f"
            },
            "error_y": {
             "color": "#2a3f5f"
            },
            "marker": {
             "line": {
              "color": "#E5ECF6",
              "width": 0.5
             },
             "pattern": {
              "fillmode": "overlay",
              "size": 10,
              "solidity": 0.2
             }
            },
            "type": "bar"
           }
          ],
          "barpolar": [
           {
            "marker": {
             "line": {
              "color": "#E5ECF6",
              "width": 0.5
             },
             "pattern": {
              "fillmode": "overlay",
              "size": 10,
              "solidity": 0.2
             }
            },
            "type": "barpolar"
           }
          ],
          "carpet": [
           {
            "aaxis": {
             "endlinecolor": "#2a3f5f",
             "gridcolor": "white",
             "linecolor": "white",
             "minorgridcolor": "white",
             "startlinecolor": "#2a3f5f"
            },
            "baxis": {
             "endlinecolor": "#2a3f5f",
             "gridcolor": "white",
             "linecolor": "white",
             "minorgridcolor": "white",
             "startlinecolor": "#2a3f5f"
            },
            "type": "carpet"
           }
          ],
          "choropleth": [
           {
            "colorbar": {
             "outlinewidth": 0,
             "ticks": ""
            },
            "type": "choropleth"
           }
          ],
          "contour": [
           {
            "colorbar": {
             "outlinewidth": 0,
             "ticks": ""
            },
            "colorscale": [
             [
              0,
              "#0d0887"
             ],
             [
              0.1111111111111111,
              "#46039f"
             ],
             [
              0.2222222222222222,
              "#7201a8"
             ],
             [
              0.3333333333333333,
              "#9c179e"
             ],
             [
              0.4444444444444444,
              "#bd3786"
             ],
             [
              0.5555555555555556,
              "#d8576b"
             ],
             [
              0.6666666666666666,
              "#ed7953"
             ],
             [
              0.7777777777777778,
              "#fb9f3a"
             ],
             [
              0.8888888888888888,
              "#fdca26"
             ],
             [
              1,
              "#f0f921"
             ]
            ],
            "type": "contour"
           }
          ],
          "contourcarpet": [
           {
            "colorbar": {
             "outlinewidth": 0,
             "ticks": ""
            },
            "type": "contourcarpet"
           }
          ],
          "heatmap": [
           {
            "colorbar": {
             "outlinewidth": 0,
             "ticks": ""
            },
            "colorscale": [
             [
              0,
              "#0d0887"
             ],
             [
              0.1111111111111111,
              "#46039f"
             ],
             [
              0.2222222222222222,
              "#7201a8"
             ],
             [
              0.3333333333333333,
              "#9c179e"
             ],
             [
              0.4444444444444444,
              "#bd3786"
             ],
             [
              0.5555555555555556,
              "#d8576b"
             ],
             [
              0.6666666666666666,
              "#ed7953"
             ],
             [
              0.7777777777777778,
              "#fb9f3a"
             ],
             [
              0.8888888888888888,
              "#fdca26"
             ],
             [
              1,
              "#f0f921"
             ]
            ],
            "type": "heatmap"
           }
          ],
          "heatmapgl": [
           {
            "colorbar": {
             "outlinewidth": 0,
             "ticks": ""
            },
            "colorscale": [
             [
              0,
              "#0d0887"
             ],
             [
              0.1111111111111111,
              "#46039f"
             ],
             [
              0.2222222222222222,
              "#7201a8"
             ],
             [
              0.3333333333333333,
              "#9c179e"
             ],
             [
              0.4444444444444444,
              "#bd3786"
             ],
             [
              0.5555555555555556,
              "#d8576b"
             ],
             [
              0.6666666666666666,
              "#ed7953"
             ],
             [
              0.7777777777777778,
              "#fb9f3a"
             ],
             [
              0.8888888888888888,
              "#fdca26"
             ],
             [
              1,
              "#f0f921"
             ]
            ],
            "type": "heatmapgl"
           }
          ],
          "histogram": [
           {
            "marker": {
             "pattern": {
              "fillmode": "overlay",
              "size": 10,
              "solidity": 0.2
             }
            },
            "type": "histogram"
           }
          ],
          "histogram2d": [
           {
            "colorbar": {
             "outlinewidth": 0,
             "ticks": ""
            },
            "colorscale": [
             [
              0,
              "#0d0887"
             ],
             [
              0.1111111111111111,
              "#46039f"
             ],
             [
              0.2222222222222222,
              "#7201a8"
             ],
             [
              0.3333333333333333,
              "#9c179e"
             ],
             [
              0.4444444444444444,
              "#bd3786"
             ],
             [
              0.5555555555555556,
              "#d8576b"
             ],
             [
              0.6666666666666666,
              "#ed7953"
             ],
             [
              0.7777777777777778,
              "#fb9f3a"
             ],
             [
              0.8888888888888888,
              "#fdca26"
             ],
             [
              1,
              "#f0f921"
             ]
            ],
            "type": "histogram2d"
           }
          ],
          "histogram2dcontour": [
           {
            "colorbar": {
             "outlinewidth": 0,
             "ticks": ""
            },
            "colorscale": [
             [
              0,
              "#0d0887"
             ],
             [
              0.1111111111111111,
              "#46039f"
             ],
             [
              0.2222222222222222,
              "#7201a8"
             ],
             [
              0.3333333333333333,
              "#9c179e"
             ],
             [
              0.4444444444444444,
              "#bd3786"
             ],
             [
              0.5555555555555556,
              "#d8576b"
             ],
             [
              0.6666666666666666,
              "#ed7953"
             ],
             [
              0.7777777777777778,
              "#fb9f3a"
             ],
             [
              0.8888888888888888,
              "#fdca26"
             ],
             [
              1,
              "#f0f921"
             ]
            ],
            "type": "histogram2dcontour"
           }
          ],
          "mesh3d": [
           {
            "colorbar": {
             "outlinewidth": 0,
             "ticks": ""
            },
            "type": "mesh3d"
           }
          ],
          "parcoords": [
           {
            "line": {
             "colorbar": {
              "outlinewidth": 0,
              "ticks": ""
             }
            },
            "type": "parcoords"
           }
          ],
          "pie": [
           {
            "automargin": true,
            "type": "pie"
           }
          ],
          "scatter": [
           {
            "marker": {
             "colorbar": {
              "outlinewidth": 0,
              "ticks": ""
             }
            },
            "type": "scatter"
           }
          ],
          "scatter3d": [
           {
            "line": {
             "colorbar": {
              "outlinewidth": 0,
              "ticks": ""
             }
            },
            "marker": {
             "colorbar": {
              "outlinewidth": 0,
              "ticks": ""
             }
            },
            "type": "scatter3d"
           }
          ],
          "scattercarpet": [
           {
            "marker": {
             "colorbar": {
              "outlinewidth": 0,
              "ticks": ""
             }
            },
            "type": "scattercarpet"
           }
          ],
          "scattergeo": [
           {
            "marker": {
             "colorbar": {
              "outlinewidth": 0,
              "ticks": ""
             }
            },
            "type": "scattergeo"
           }
          ],
          "scattergl": [
           {
            "marker": {
             "colorbar": {
              "outlinewidth": 0,
              "ticks": ""
             }
            },
            "type": "scattergl"
           }
          ],
          "scattermapbox": [
           {
            "marker": {
             "colorbar": {
              "outlinewidth": 0,
              "ticks": ""
             }
            },
            "type": "scattermapbox"
           }
          ],
          "scatterpolar": [
           {
            "marker": {
             "colorbar": {
              "outlinewidth": 0,
              "ticks": ""
             }
            },
            "type": "scatterpolar"
           }
          ],
          "scatterpolargl": [
           {
            "marker": {
             "colorbar": {
              "outlinewidth": 0,
              "ticks": ""
             }
            },
            "type": "scatterpolargl"
           }
          ],
          "scatterternary": [
           {
            "marker": {
             "colorbar": {
              "outlinewidth": 0,
              "ticks": ""
             }
            },
            "type": "scatterternary"
           }
          ],
          "surface": [
           {
            "colorbar": {
             "outlinewidth": 0,
             "ticks": ""
            },
            "colorscale": [
             [
              0,
              "#0d0887"
             ],
             [
              0.1111111111111111,
              "#46039f"
             ],
             [
              0.2222222222222222,
              "#7201a8"
             ],
             [
              0.3333333333333333,
              "#9c179e"
             ],
             [
              0.4444444444444444,
              "#bd3786"
             ],
             [
              0.5555555555555556,
              "#d8576b"
             ],
             [
              0.6666666666666666,
              "#ed7953"
             ],
             [
              0.7777777777777778,
              "#fb9f3a"
             ],
             [
              0.8888888888888888,
              "#fdca26"
             ],
             [
              1,
              "#f0f921"
             ]
            ],
            "type": "surface"
           }
          ],
          "table": [
           {
            "cells": {
             "fill": {
              "color": "#EBF0F8"
             },
             "line": {
              "color": "white"
             }
            },
            "header": {
             "fill": {
              "color": "#C8D4E3"
             },
             "line": {
              "color": "white"
             }
            },
            "type": "table"
           }
          ]
         },
         "layout": {
          "annotationdefaults": {
           "arrowcolor": "#2a3f5f",
           "arrowhead": 0,
           "arrowwidth": 1
          },
          "autotypenumbers": "strict",
          "coloraxis": {
           "colorbar": {
            "outlinewidth": 0,
            "ticks": ""
           }
          },
          "colorscale": {
           "diverging": [
            [
             0,
             "#8e0152"
            ],
            [
             0.1,
             "#c51b7d"
            ],
            [
             0.2,
             "#de77ae"
            ],
            [
             0.3,
             "#f1b6da"
            ],
            [
             0.4,
             "#fde0ef"
            ],
            [
             0.5,
             "#f7f7f7"
            ],
            [
             0.6,
             "#e6f5d0"
            ],
            [
             0.7,
             "#b8e186"
            ],
            [
             0.8,
             "#7fbc41"
            ],
            [
             0.9,
             "#4d9221"
            ],
            [
             1,
             "#276419"
            ]
           ],
           "sequential": [
            [
             0,
             "#0d0887"
            ],
            [
             0.1111111111111111,
             "#46039f"
            ],
            [
             0.2222222222222222,
             "#7201a8"
            ],
            [
             0.3333333333333333,
             "#9c179e"
            ],
            [
             0.4444444444444444,
             "#bd3786"
            ],
            [
             0.5555555555555556,
             "#d8576b"
            ],
            [
             0.6666666666666666,
             "#ed7953"
            ],
            [
             0.7777777777777778,
             "#fb9f3a"
            ],
            [
             0.8888888888888888,
             "#fdca26"
            ],
            [
             1,
             "#f0f921"
            ]
           ],
           "sequentialminus": [
            [
             0,
             "#0d0887"
            ],
            [
             0.1111111111111111,
             "#46039f"
            ],
            [
             0.2222222222222222,
             "#7201a8"
            ],
            [
             0.3333333333333333,
             "#9c179e"
            ],
            [
             0.4444444444444444,
             "#bd3786"
            ],
            [
             0.5555555555555556,
             "#d8576b"
            ],
            [
             0.6666666666666666,
             "#ed7953"
            ],
            [
             0.7777777777777778,
             "#fb9f3a"
            ],
            [
             0.8888888888888888,
             "#fdca26"
            ],
            [
             1,
             "#f0f921"
            ]
           ]
          },
          "colorway": [
           "#636efa",
           "#EF553B",
           "#00cc96",
           "#ab63fa",
           "#FFA15A",
           "#19d3f3",
           "#FF6692",
           "#B6E880",
           "#FF97FF",
           "#FECB52"
          ],
          "font": {
           "color": "#2a3f5f"
          },
          "geo": {
           "bgcolor": "white",
           "lakecolor": "white",
           "landcolor": "#E5ECF6",
           "showlakes": true,
           "showland": true,
           "subunitcolor": "white"
          },
          "hoverlabel": {
           "align": "left"
          },
          "hovermode": "closest",
          "mapbox": {
           "style": "light"
          },
          "paper_bgcolor": "white",
          "plot_bgcolor": "#E5ECF6",
          "polar": {
           "angularaxis": {
            "gridcolor": "white",
            "linecolor": "white",
            "ticks": ""
           },
           "bgcolor": "#E5ECF6",
           "radialaxis": {
            "gridcolor": "white",
            "linecolor": "white",
            "ticks": ""
           }
          },
          "scene": {
           "xaxis": {
            "backgroundcolor": "#E5ECF6",
            "gridcolor": "white",
            "gridwidth": 2,
            "linecolor": "white",
            "showbackground": true,
            "ticks": "",
            "zerolinecolor": "white"
           },
           "yaxis": {
            "backgroundcolor": "#E5ECF6",
            "gridcolor": "white",
            "gridwidth": 2,
            "linecolor": "white",
            "showbackground": true,
            "ticks": "",
            "zerolinecolor": "white"
           },
           "zaxis": {
            "backgroundcolor": "#E5ECF6",
            "gridcolor": "white",
            "gridwidth": 2,
            "linecolor": "white",
            "showbackground": true,
            "ticks": "",
            "zerolinecolor": "white"
           }
          },
          "shapedefaults": {
           "line": {
            "color": "#2a3f5f"
           }
          },
          "ternary": {
           "aaxis": {
            "gridcolor": "white",
            "linecolor": "white",
            "ticks": ""
           },
           "baxis": {
            "gridcolor": "white",
            "linecolor": "white",
            "ticks": ""
           },
           "bgcolor": "#E5ECF6",
           "caxis": {
            "gridcolor": "white",
            "linecolor": "white",
            "ticks": ""
           }
          },
          "title": {
           "x": 0.05
          },
          "xaxis": {
           "automargin": true,
           "gridcolor": "white",
           "linecolor": "white",
           "ticks": "",
           "title": {
            "standoff": 15
           },
           "zerolinecolor": "white",
           "zerolinewidth": 2
          },
          "yaxis": {
           "automargin": true,
           "gridcolor": "white",
           "linecolor": "white",
           "ticks": "",
           "title": {
            "standoff": 15
           },
           "zerolinecolor": "white",
           "zerolinewidth": 2
          }
         }
        },
        "xaxis": {
         "anchor": "y",
         "autorange": true,
         "domain": [
          0,
          1
         ],
         "matches": "x4",
         "range": [
          0,
          504
         ],
         "showticklabels": false
        },
        "xaxis2": {
         "anchor": "y2",
         "autorange": true,
         "domain": [
          0,
          1
         ],
         "matches": "x4",
         "range": [
          0,
          504
         ],
         "showticklabels": false
        },
        "xaxis3": {
         "anchor": "y3",
         "autorange": true,
         "domain": [
          0,
          1
         ],
         "matches": "x4",
         "range": [
          0,
          504
         ],
         "showticklabels": false
        },
        "xaxis4": {
         "anchor": "y4",
         "autorange": true,
         "domain": [
          0,
          1
         ],
         "range": [
          0,
          504
         ]
        },
        "yaxis": {
         "anchor": "x",
         "autorange": true,
         "domain": [
          0.80625,
          1
         ],
         "range": [
          -57835.333333333336,
          618891.3333333334
         ],
         "type": "linear"
        },
        "yaxis2": {
         "anchor": "x2",
         "autorange": true,
         "domain": [
          0.5375,
          0.73125
         ],
         "range": [
          23.071363555060493,
          62.77289952172173
         ],
         "type": "linear"
        },
        "yaxis3": {
         "anchor": "x3",
         "autorange": true,
         "domain": [
          0.26875,
          0.4625
         ],
         "range": [
          -8.147221565246586,
          510.3972234725952
         ],
         "type": "linear"
        },
        "yaxis4": {
         "anchor": "x4",
         "autorange": true,
         "domain": [
          0,
          0.19375
         ],
         "range": [
          102.26524098714192,
          181.19534556070963
         ],
         "type": "linear"
        }
       }
      },
      "image/png": "[encoded data removed]",
      "text/html": [
       "<div>                            <div id=\"fd2d0048-e2d9-44a4-b8a2-3b777a49f9db\" class=\"plotly-graph-div\" style=\"height:700px; width:100%;\"></div>            <script type=\"text/javascript\">                require([\"plotly\"], function(Plotly) {                    window.PLOTLYENV=window.PLOTLYENV || {};                                    if (document.getElementById(\"fd2d0048-e2d9-44a4-b8a2-3b777a49f9db\")) {                    Plotly.newPlot(                        \"fd2d0048-e2d9-44a4-b8a2-3b777a49f9db\",                        [{\"name\":\"Daily Covid Cases\",\"y\":[null,null,null,null,null,null,null,null,null,null,null,null,1.0,0.0,0.0,1.0,0.0,0.0,0.0,1.0,1.0,0.0,0.0,1.0,0.0,0.0,1.0,0.0,1.0,1.0,0.0,0.0,0.0,2.0,3.0,13.0,2.0,15.0,0.0,5.0,16.0,21.0,36.0,67.0,83.0,201.0,270.0,245.0,405.0,556.0,907.0,1399.0,2444.0,4043.0,5619.0,10432.0,10433.0,14634.0,16998.0,17330.0,21469.0,24506.0,26930.0,29717.0,32318.0,30916.0,30337.0,31820.0,34699.0,25769.0,26691.0,30033.0,31613.0,31509.0,27395.0,25514.0,28831.0,33776.0,36741.0,23197.0,24651.0,26555.0,30357.0,33970.0,21962.0,23709.0,24506.0,28478.0,27648.0,17621.0,22300.0,21145.0,26962.0,26237.0,21827.0,20977.0,23070.0,25733.0,23799.0,18896.0,18744.0,22512.0,24548.0,21897.0,20791.0,19987.0,21616.0,28709.0,18207.0,18805.0,22852.0,23202.0,25493.0,20117.0,24885.0,25655.0,28059.0,30836.0,30466.0,35060.0,36989.0,41173.0,45528.0,39496.0,48389.0,49975.0,55559.0,47316.0,54084.0,59455.0,59889.0,68227.0,61567.0,65602.0,68342.0,75687.0,70923.0,59888.0,65277.0,69739.0,70006.0,73525.0,59181.0,63116.0,66782.0,68948.0,69088.0,47484.0,53549.0,53723.0,57514.0,61157.0,47173.0,53357.0,54278.0,54061.0,59477.0,37523.0,43233.0,43013.0,46029.0,49029.0,40404.0,39183.0,45319.0,45612.0,46564.0,36487.0,44049.0,32444.0,46397.0,52101.0,28942.0,33332.0,38061.0,47567.0,36887.0,39217.0,39268.0,45310.0,48887.0,54952.0,37391.0,41549.0,45204.0,54581.0,37360.0,43697.0,42058.0,46418.0,53580.0,62413.0,42862.0,53017.0,56382.0,58962.0,48016.0,54393.0,59853.0,65353.0,70464.0,65440.0,60594.0,64237.0,75130.0,85297.0,74638.0,74387.0,81882.0,90669.0,99868.0,94006.0,92416.0,108078.0,121349.0,132823.0,130449.0,139750.0,142878.0,163651.0,181496.0,166563.0,161631.0,172280.0,187508.0,198859.0,179623.0,177858.0,180590.0,205839.0,167658.0,184228.0,201172.0,217738.0,231368.0,204523.0,219714.0,219716.0,225225.0,280513.0,200885.0,203153.0,244827.0,237709.0,251190.0,201518.0,201637.0,227763.0,193511.0,189010.0,201030.0,228949.0,231024.0,251830.0,235016.0,255966.0,280334.0,300777.0,226316.0,229977.0,229325.0,239522.0,239853.0,186944.0,185488.0,190482.0,191565.0,156576.0,150638.0,155770.0,166175.0,164615.0,141854.0,115256.0,120183.0,125636.0,129501.0,92982.0,96390.0,94975.0,105640.0,99627.0,64540.0,70161.0,71791.0,78012.0,59466.0,71913.0,74194.0,77881.0,78318.0,56696.0,57644.0,66612.0,67282.0,65695.0,94513.0,55899.0,58195.0,62387.0,64166.0,57164.0,54531.0,58931.0,60470.0,60623.0,54716.0,56746.0,79903.0,69116.0,74499.0,70739.0,62234.0,67936.0,77193.0,76594.0,61972.0,73090.0,80458.0,81582.0,71932.0,77321.0,75750.0,73694.0,78354.0,70260.0,61024.0,62495.0,66241.0,63784.0,47335.0,51877.0,54818.0,57582.0,58517.0,49944.0,40955.0,44719.0,47694.0,47493.0,36557.0,34041.0,35483.0,38439.0,40981.0,29207.0,27863.0,28794.0,29618.0,29011.0,25628.0,22838.0,23386.0,27747.0,22024.0,22570.0,16858.0,19471.0,-23999.0,19452.0,14185.0,20664.0,15799.0,16827.0,15119.0,11872.0,14411.0,12187.0,12700.0,15844.0,12761.0,14031.0,14695.0,14963.0,15548.0,15729.0,15977.0,64959.0,20436.0,27077.0,30219.0,49233.0,35335.0,35383.0,42982.0,38055.0,36018.0,52224.0,59182.0,62111.0,59791.0,65500.0,83062.0,93086.0,106818.0,84961.0,98294.0,122674.0,136170.0,150311.0,112344.0,126972.0,168351.0,178691.0,162091.0,155577.0,138709.0,187392.0,259493.0,144297.0,164611.0,159752.0,199606.0,266147.0,150197.0,170936.0,187761.0,195911.0,280403.0,160250.0,210995.0,175696.0,191475.0,301138.0,184189.0,170571.0,176316.0,285058.0,152696.0,170195.0,154883.0,166938.0,208166.0,129975.0,147493.0,127864.0,140011.0,194789.0,113340.0,128512.0,116209.0,125776.0,172697.0,98602.0,125955.0,105402.0,112926.0,123680.0,111576.0,106557.0,88969.0,98560.0,122033.0,83683.0,86622.0,81946.0,87296.0,105561.0,87423.0,94544.0,86185.0,88723.0,124570.0,76943.0,84844.0,83087.0,91768.0,126461.0,82979.0,99062.0,64601.0,129351.0,148624.0,90485.0,114357.0,110273.0,119648.0,158898.0,92771.0,119892.0,51525.0,216312.0,109294.0,139315.0,138712.0,153245.0,197444.0,113997.0,149045.0,123505.0,165062.0,202883.0,116859.0,145276.0,146319.0,171145.0,302899.0,189471.0,243692.0,265215.0,543540.0,380712.0,489064.0,585055.0,446567.0],\"type\":\"scatter\",\"xaxis\":\"x\",\"yaxis\":\"y\"},{\"name\":\"PFE Stock\",\"y\":[34.0748405456543,33.89202880859375,33.84849548339844,33.735313415527344,34.00519561767578,33.857200622558594,34.37955093383789,34.309906005859375,34.884490966796875,35.40684509277344,35.3546142578125,35.267547607421875,35.11955261230469,34.98896408081055,35.44166564941406,34.666839599609375,34.96284484863281,33.20425796508789,32.71672439575195,32.60239028930664,32.75189971923828,32.98936462402344,33.14767074584961,33.569820404052734,33.64897537231445,33.46428680419922,33.25320816040039,33.49946212768555,33.1916389465332,32.47926330566406,32.10987854003906,31.94278335571289,31.863628387451172,31.52942657470703,31.415088653564453,30.49163818359375,29.840816497802734,30.535614013671875,29.990327835083008,29.392284393310547,30.676328659057617,30.16622543334961,32.01313781738281,31.186429977416992,30.799455642700195,29.691307067871094,30.421276092529297,28.292932510375977,26.40204429626465,28.767854690551758,26.542760848999023,28.284135818481445,28.46003532409668,26.75383949279785,25.513769149780273,25.056440353393555,26.120609283447266,26.164581298828125,27.923551559448242,27.17599105834961,28.7326717376709,28.706289291381836,27.923551559448242,28.9085693359375,29.585771560668945,30.403688430786133,29.55938720703125,30.430072784423828,31.124860763549805,30.904993057250977,32.048316955566406,31.63496208190918,31.55580711364746,32.461673736572266,31.73170280456543,31.3271427154541,31.881208419799805,32.2681884765625,32.875038146972656,33.71053695678711,33.34115982055664,33.52585220336914,33.73692321777344,33.10369873046875,33.08610916137695,33.86885070800781,33.86885070800781,32.82959747314453,33.060543060302734,33.84218978881836,33.18489456176758,32.9095344543457,33.68231201171875,33.54019546508789,33.815555572509766,33.469139099121094,33.42471694946289,33.0960693359375,33.30924987792969,33.30036544799805,33.22930908203125,33.91325759887695,33.92214584350586,31.497224807739258,32.118995666503906,32.118995666503906,31.985763549804688,31.967994689941406,32.50094985961914,32.16341018676758,31.90582275390625,29.578611373901367,29.97832679748535,29.63191032409668,29.667436599731445,29.80955696105957,29.525320053100586,29.685203552246094,29.409847259521484,29.10784339904785,28.592660903930664,28.708131790161133,28.459423065185547,28.992372512817383,29.045665740966797,29.969446182250977,30.653392791748047,30.653392791748047,30.22703742980957,29.97832679748535,29.720731735229492,30.04938507080078,31.27516746520996,31.292932510375977,31.728168487548828,31.62158203125,32.19894027709961,32.42100524902344,32.58977127075195,34.250789642333984,34.117557525634766,33.45137023925781,33.34477996826172,34.65938949584961,34.872562408447266,34.74699401855469,34.5137939453125,34.39719009399414,34.433067321777344,34.48688507080078,34.325439453125,34.48688507080078,34.433067321777344,33.89491653442383,34.379249572753906,34.235748291015625,34.1370849609375,34.39719009399414,34.40616226196289,34.31646728515625,34.72905731201172,34.87256622314453,34.83668899536133,34.45100784301758,34.12811279296875,33.957698822021484,34.00254440307617,33.89491653442383,33.07870864868164,33.36572265625,32.6481819152832,32.6123046875,32.22663116455078,32.45086669921875,31.97548484802246,32.352195739746094,33.1953125,33.15046310424805,32.989017486572266,33.02489471435547,32.85447692871094,32.30734634399414,32.51363754272461,32.28941345214844,32.07414627075195,32.334259033203125,32.63921356201172,32.441890716552734,32.917259216308594,32.62127685546875,32.63024139404297,32.96210861206055,32.441890716552734,32.710968017578125,33.087677001953125,32.99798583984375,33.02489471435547,33.09664535522461,33.06077194213867,32.78271484375,34.038421630859375,33.90387725830078,33.625831604003906,33.25809860229492,33.572017669677734,34.244712829589844,34.01152038574219,33.572017669677734,31.796106338500977,31.64362335205078,31.8230037689209,32.495704650878906,32.45982360839844,33.482330322265625,32.97488021850586,32.98394012451172,35.52117156982422,35.049964904785156,34.886863708496094,34.02602005004883,34.99559783935547,33.82666778564453,34.42124557495117,34.68866729736328,34.56450653076172,35.05160140991211,34.87968826293945,34.95608901977539,34.88923645019531,35.557796478271484,36.58928680419922,37.6398811340332,38.967445373535156,38.28933334350586,38.52811050415039,39.39723587036133,40.64839553833008,39.970279693603516,39.855674743652344,39.2730712890625,37.44886016845703,36.97132110595703,36.14039611816406,36.321861267089844,35.98758316040039,35.70105743408203,35.089805603027344,35.75836181640625,35.59599685668945,35.16621017456055,35.38587951660156,35.089805603027344,35.15666580200195,35.15666580200195,35.519588470458984,35.21396255493164,35.39543151855469,35.46228790283203,36.073543548583984,35.510040283203125,35.20441436767578,35.0993537902832,35.05160140991211,35.08025360107422,34.8605842590332,34.84148406982422,34.9083366394043,35.60554885864258,35.63420486450195,34.61225891113281,34.62191390991211,34.66053771972656,34.563987731933594,33.78195571899414,33.63713455200195,33.68540573120117,33.71437072753906,33.617820739746094,33.76264572143555,33.54058837890625,33.24129104614258,33.52127456665039,33.492305755615234,33.68540573120117,33.366798400878906,33.25094223022461,33.07715606689453,32.73924255371094,32.58477020263672,32.652347564697266,32.333744049072266,32.52683639526367,32.35305404663086,33.20267105102539,33.019229888916016,33.20267105102539,33.1640510559082,33.26060104370117,33.72402572631836,33.51162338256836,33.733680725097656,34.18745422363281,34.59295654296875,34.55433654785156,34.5350227355957,34.303306579589844,34.757083892822266,34.139183044433594,34.380550384521484,34.4384765625,34.998451232910156,35.35567855834961,34.86328887939453,34.97914123535156,35.04672622680664,35.02741241455078,34.805355072021484,34.670188903808594,34.71846389770508,35.33636474609375,35.69359588623047,35.87703323364258,35.886688232421875,36.301841735839844,37.23835754394531,37.58592224121094,37.682472229003906,38.16521072387695,37.30593490600586,37.32524871826172,37.34455490112305,37.12249755859375,37.470069885253906,37.26731491088867,37.31559371948242,38.45484924316406,38.570709228515625,38.59001541137695,38.20977020263672,38.59001922607422,38.863014221191406,38.36576843261719,38.697265625,39.09701156616211,39.019012451171875,39.10676193237305,39.04826354980469,38.833763122558594,39.116512298583984,38.95076370239258,38.814266204833984,38.34627151489258,37.9465217590332,37.68328094482422,37.76127624511719,37.53702926635742,37.81977844238281,37.995277404785156,38.170772552490234,38.01477813720703,37.87827682495117,38.814266204833984,39.662506103515625,39.14575958251953,38.63876724243164,38.599769592285156,38.317020416259766,38.49251937866211,37.83927917480469,38.434017181396484,38.619266510009766,38.073272705078125,38.20977020263672,38.00502395629883,38.14152145385742,38.12202072143555,38.18052291870117,38.570518493652344,38.73626708984375,38.30727005004883,38.36576843261719,38.268272399902344,38.619266510009766,38.7655143737793,38.658267974853516,38.95076370239258,39.08726119995117,39.34075927734375,39.14575958251953,40.02324676513672,39.99400329589844,40.43274688720703,40.63749313354492,40.764244079589844,41.04698944091797,42.363224029541016,42.097591400146484,42.11726760864258,43.248661041259766,44.940826416015625,44.45875549316406,44.33086013793945,44.3406982421875,45.2359733581543,47.41020965576172,45.56063461303711,46.4755859375,47.695518493652344,48.118560791015625,49.604122161865234,48.512088775634766,48.01034164428711,47.931636810302734,49.1220588684082,47.597137451171875,46.741214752197266,46.613319396972656,45.84593963623047,46.00334930419922,45.32451629638672,45.29500198364258,46.08205795288086,46.08205795288086,45.99351119995117,45.75739669799805,45.285160064697266,44.85227966308594,43.85862731933594,43.98652267456055,44.04555130004883,43.75040817260742,43.17979049682617,43.48477554321289,43.20930480957031,43.23881912231445,43.474937438964844,43.228981018066406,42.864967346191406,42.34354782104492,42.82561492919922,42.314029693603516,42.23532485961914,41.733577728271484,41.635196685791016,41.340049743652344,42.04840087890625,41.76309585571289,41.3794059753418,41.17279815673828,40.749759674072266,40.99571228027344,40.81863021850586,40.6513786315918,41.40892028808594,42.10742950439453,42.16646194458008,42.461605072021484,42.45176696777344,42.855133056640625,42.274681091308594,42.48128128051758,43.032222747802734,42.933837890625,44.71454620361328,44.09474563598633,43.51911544799805,48.243202209472656,47.96531295776367,46.943084716796875,48.650108337402344,49.801353454589844,49.3547477722168,49.275352478027344,49.22572708129883,50.48614501953125,51.022071838378906,50.41667556762695,50.813655853271484,50.69456481933594,50.50599670410156,53.592529296875,52.00460433959961,53.32456588745117,54.267398834228516,52.639774322509766,53.86049270629883,51.09154510498047,51.329734802246094,51.012149810791016,51.68701934814453,52.38173294067383,54.78347396850586,55.12091064453125,58.35630798339844,60.78782272338867,59.03117752075195,60.5595588684082,58.50517654418945,59.10064697265625,58.26698684692383,58.753292083740234,57.572269439697266,57.14551544189453,57.959327697753906,58.60441970825195],\"type\":\"scatter\",\"xaxis\":\"x2\",\"yaxis\":\"y2\"},{\"name\":\"MRNA Stock\",\"y\":[19.229999542236328,18.889999389648438,18.1299991607666,17.780000686645508,17.979999542236328,18.399999618530273,19.139999389648438,20.260000228881836,20.0,20.239999771118164,21.010000228881836,20.6200008392334,20.940000534057617,21.969999313354492,21.469999313354492,21.1200008392334,22.739999771118164,22.360000610351562,20.549999237060547,20.989999771118164,20.510000228881836,20.3799991607666,20.8700008392334,20.049999237060547,19.8799991607666,23.239999771118164,23.649999618530273,21.350000381469727,19.010000228881836,19.045000076293945,19.0,18.90999984741211,18.920000076293945,18.540000915527344,18.229999542236328,18.59000015258789,23.760000228881836,29.15999984741211,26.15999984741211,25.93000030517578,29.8799991607666,27.90999984741211,27.489999771118164,28.010000228881836,29.610000610351562,24.290000915527344,22.34000015258789,23.610000610351562,22.299999237060547,21.299999237060547,26.489999771118164,28.18000030517578,31.579999923706055,28.270000457763672,28.200000762939453,26.56999969482422,25.81999969482422,27.1299991607666,27.940000534057617,30.049999237060547,30.479999542236328,29.950000762939453,29.670000076293945,33.20000076293945,34.84000015258789,34.63999938964844,32.02000045776367,32.41999816894531,31.860000610351562,32.900001525878906,34.65999984741211,37.25,40.599998474121094,46.849998474121094,51.689998626708984,49.2599983215332,51.20000076293945,47.439998626708984,50.5,48.04999923706055,47.880001068115234,46.369998931884766,45.9900016784668,47.93000030517578,50.5,49.34000015258789,48.95000076293945,53.189998626708984,59.25,66.9000015258789,62.349998474121094,65.18000030517578,64.55999755859375,66.69000244140625,80.0,71.66999816894531,73.47000122070312,67.05000305175781,69.0,57.709999084472656,52.18000030517578,55.540000915527344,61.5,62.18000030517578,59.869998931884766,59.88999938964844,60.59000015258789,58.189998626708984,59.099998474121094,58.22999954223633,60.06999969482422,60.20000076293945,62.0,66.56999969482422,64.33999633789062,63.310001373291016,64.94999694824219,66.3499984741211,64.75,62.939998626708984,64.83999633789062,62.0,61.279998779296875,62.08000183105469,64.20999908447266,61.59000015258789,58.56999969482422,59.150001525878906,61.09000015258789,61.58000183105469,64.95999908447266,62.61000061035156,71.77999877929688,75.04000091552734,80.22000122070312,81.80999755859375,94.8499984741211,82.68000030517578,80.86000061035156,83.2249984741211,75.33000183105469,73.20999908447266,79.91000366210938,81.48999786376953,79.51000213623047,77.62999725341797,74.0999984741211,77.9800033569336,78.45999908447266,75.80000305175781,73.76000213623047,74.0999984741211,72.01000213623047,68.97000122070312,69.5199966430664,67.83000183105469,69.1500015258789,69.76000213623047,67.02999877929688,68.0,67.80999755859375,66.44999694824219,64.87999725341797,66.25,70.5,68.02999877929688,67.48999786376953,64.88999938964844,63.31999969482422,64.72000122070312,64.83999633789062,62.599998474121094,54.34000015258789,56.900001525878906,57.560001373291016,59.34000015258789,63.66999816894531,66.87999725341797,68.83999633789062,67.88999938964844,69.87000274658203,69.26000213623047,68.72000122070312,67.16000366210938,65.16999816894531,69.47000122070312,70.55000305175781,70.5199966430664,70.75,70.02999877929688,68.80999755859375,71.94999694824219,71.04000091552734,72.37000274658203,72.93000030517578,73.0,75.30999755859375,78.29000091552734,76.55999755859375,75.58000183105469,73.94000244140625,70.95999908447266,71.30999755859375,68.37000274658203,70.83999633789062,70.52999877929688,70.23999786376953,70.66999816894531,65.73999786376953,71.27999877929688,67.47000122070312,67.11000061035156,69.08000183105469,69.80999755859375,71.4800033569336,72.44999694824219,77.73999786376953,76.05000305175781,82.44000244140625,87.80999755859375,89.38999938964844,97.94999694824219,93.1500015258789,88.88999938964844,92.7699966430664,97.61000061035156,101.02999877929688,98.55999755859375,109.18000030517578,127.02999877929688,152.74000549316406,141.00999450683594,143.0,157.25999450683594,152.52000427246094,159.52000427246094,169.86000061035156,156.58999633789062,155.69000244140625,156.92999267578125,155.07000732421875,147.22000122070312,137.02999877929688,144.0,140.22999572753906,138.3000030517578,125.87999725341797,130.33999633789062,123.38999938964844,111.4000015258789,114.38999938964844,111.12999725341797,104.47000122070312,111.7300033569336,109.18000030517578,116.26000213623047,115.08999633789062,112.75,117.26000213623047,124.55000305175781,124.05999755859375,129.72000122070312,129.64999389648438,125.01000213623047,125.13999938964844,132.97999572753906,131.02000427246094,147.0,151.92999267578125,155.72999572753906,159.5500030517578,173.16000366210938,157.47999572753906,158.5800018310547,165.86000061035156,173.30999755859375,176.24000549316406,185.97999572753906,179.52000427246094,179.33999633789062,183.44000244140625,183.74000549316406,178.52999877929688,176.75999450683594,169.57000732421875,174.74000549316406,159.3699951171875,150.1699981689453,144.7899932861328,148.3800048828125,154.80999755859375,157.39999389648438,146.80999755859375,131.22000122070312,132.3000030517578,132.19000244140625,123.47000122070312,130.8699951171875,129.75,140.47000122070312,136.99000549316406,143.66000366210938,156.02000427246094,147.5500030517578,141.4600067138672,143.74000549316406,145.60000610351562,136.52000427246094,131.61000061035156,133.3300018310547,133.27999877929688,123.41999816894531,118.48999786376953,130.9499969482422,132.5500030517578,129.91000366210938,133.52999877929688,131.47000122070312,133.8800048828125,140.9199981689453,139.39999389648438,149.7100067138672,160.02999877929688,159.8699951171875,170.80999755859375,161.91000366210938,156.77999877929688,169.5,168.10000610351562,173.6300048828125,177.61000061035156,183.41000366210938,178.67999267578125,175.6699981689453,178.82000732421875,186.02000427246094,173.58999633789062,162.83999633789062,160.5,163.14999389648438,158.5500030517578,158.99000549316406,152.67999267578125,149.8699951171875,161.3800048828125,160.42999267578125,159.52999877929688,157.99000549316406,165.97000122070312,161.4499969482422,164.1699981689453,169.25999450683594,175.58999633789062,179.5399932861328,185.00999450683594,184.66000366210938,191.60000610351562,195.22000122070312,206.07000732421875,219.57000732421875,213.0,217.44000244140625,217.0,218.85000610351562,207.41000366210938,201.58999633789062,197.83999633789062,202.47000122070312,199.19000244140625,208.24000549316406,221.36000061035156,212.0399932861328,220.13999938964844,219.94000244140625,222.94000244140625,234.4600067138672,234.97999572753906,235.11000061035156,234.3000030517578,233.33999633789062,221.89999389648438,232.7899932861328,232.80999755859375,239.33999633789062,235.14999389648438,246.66000366210938,259.67498779296875,286.42999267578125,313.5899963378906,307.3299865722656,321.1099853515625,323.4800109863281,348.8299865722656,335.8699951171875,328.5,349.32000732421875,345.6400146484375,353.6000061035156,346.6099853515625,386.510009765625,419.04998779296875,416.260009765625,413.7200012207031,484.4700012207031,456.760009765625,385.3299865722656,391.4200134277344,389.7799987792969,373.8599853515625,401.8599853515625,398.79998779296875,375.5299987792969,382.9800109863281,411.8900146484375,394.94000244140625,397.8699951171875,400.29998779296875,382.2200012207031,370.69000244140625,376.69000244140625,389.94000244140625,397.6600036621094,416.70001220703125,436.3900146484375,422.8999938964844,455.9200134277344,449.3800048828125,419.7200012207031,427.7099914550781,434.4599914550781,440.6499938964844,430.04998779296875,423.3299865722656,434.0400085449219,440.7200012207031,454.6000061035156,430.1400146484375,408.8399963378906,384.2099914550781,378.8999938964844,384.8599853515625,341.0899963378906,325.8399963378906,332.1099853515625,302.4200134277344,309.3599853515625,304.9100036621094,305.1000061035156,311.1300048828125,321.5,331.8800048828125,324.2099914550781,334.8399963378906,333.6099853515625,333.010009765625,339.57000732421875,326.5400085449219,349.55999755859375,345.739990234375,340.8800048828125,347.9200134277344,345.2099914550781,337.1700134277344,348.6400146484375,345.9200134277344,284.0199890136719,236.99000549316406,244.67999267578125,236.85000610351562,228.9600067138672,225.82000732421875,231.19000244140625,235.07000732421875,234.27999877929688,242.22999572753906,251.41000366210938,263.7799987792969,282.69000244140625,276.3800048828125,273.3900146484375,329.6300048828125,368.510009765625,352.42999267578125,310.6099853515625,301.489990234375,306.7200012207031,265.3299865722656,282.3500061035156,283.3999938964844,272.2099914550781,257.05999755859375,271.989990234375,277.1600036621094,283.2799987792969,282.0199890136719,294.79998779296875,276.3800048828125,268.1400146484375,251.36000061035156,249.99000549316406,246.8800048828125,241.44000244140625,247.8800048828125,251.60000610351562,253.97999572753906],\"type\":\"scatter\",\"xaxis\":\"x3\",\"yaxis\":\"y3\"},{\"name\":\"JNJ Stock\",\"y\":[138.6133575439453,137.00857543945312,136.83767700195312,137.6732635498047,137.654296875,138.06263732910156,137.74925231933594,138.3570098876953,139.1356964111328,139.60098266601562,140.73101806640625,141.65211486816406,141.74708557128906,140.77850341796875,141.04437255859375,140.84495544433594,141.25328063964844,141.9654998779297,142.95306396484375,142.78216552734375,141.3672332763672,142.6017303466797,143.9596710205078,146.2292022705078,145.79238891601562,144.2350311279297,144.20655822753906,144.3300323486328,143.47535705566406,142.5257568359375,142.56375122070312,141.62364196777344,141.4337158203125,140.89244079589844,142.37380981445312,139.43994140625,138.23582458496094,137.30882263183594,132.9510498046875,128.51678466796875,133.81114196777344,129.5775604248047,137.11770629882812,135.71290588378906,135.7320098876953,130.389892578125,135.35928344726562,125.95561981201172,119.84898376464844,128.33522033691406,121.49271392822266,130.53323364257812,128.97549438476562,121.41625213623047,114.57374572753906,106.21174621582031,113.89523315429688,114.10548400878906,120.9575424194336,117.69876098632812,127.11195373535156,125.31532287597656,123.09820556640625,127.24575805664062,128.22055053710938,133.5626678466797,131.38377380371094,136.90745544433594,134.9674835205078,133.57220458984375,139.5546417236328,141.1123504638672,143.0332489013672,145.2790069580078,144.94454956054688,143.04275512695312,146.20602416992188,148.6142578125,147.9930877685547,147.4483642578125,144.67697143554688,143.5779571533203,143.3867950439453,141.71441650390625,141.6953125,142.87075805664062,141.5137176513672,141.0454559326172,142.1062469482422,142.498046875,140.61541748046875,140.60585021972656,141.09324645996094,143.76910400390625,143.84552001953125,142.41204833984375,141.13148498535156,140.20448303222656,138.92465209960938,139.10748291015625,139.42503356933594,141.4265594482422,143.13943481445312,141.63827514648438,142.65829467773438,143.04319763183594,141.19561767578125,141.744140625,141.23411560058594,140.45468139648438,142.2252655029297,135.55667114257812,136.78836059570312,135.92234802246094,139.01126098632812,138.58787536621094,138.00086975097656,138.40499877929688,137.98159790039062,137.4716033935547,134.5462646484375,134.40191650390625,132.612060546875,133.795654296875,135.32571411132812,135.08514404296875,135.65289306640625,137.58706665039062,137.4619903564453,137.86611938476562,137.11557006835938,137.0000762939453,139.7329864501953,142.34075927734375,142.6679229736328,143.62057495117188,143.716796875,143.95738220214844,144.0921173095703,144.35191345214844,143.96701049804688,142.533203125,141.62864685058594,141.2918701171875,141.01278686523438,141.30149841308594,140.26220703125,141.79225158691406,141.66714477539062,142.80262756347656,141.98472595214844,142.9951171875,142.44659423828125,141.4265594482422,144.01512145996094,142.417724609375,142.64866638183594,143.37039184570312,144.42889404296875,144.7175750732422,145.708740234375,146.99818420410156,147.3856658935547,147.29847717285156,147.53097534179688,148.18968200683594,148.82901000976562,148.60623168945312,146.775390625,149.0130615234375,144.86709594726562,143.93714904785156,142.64878845214844,145.0123748779297,142.30975341796875,143.15249633789062,143.7046661376953,144.22775268554688,143.75308227539062,142.56161499023438,144.5086669921875,140.5564422607422,139.69430541992188,139.91709899902344,140.139892578125,141.09889221191406,142.50350952148438,142.45506286621094,144.21807861328125,142.70693969726562,141.66073608398438,143.58840942382812,141.6800994873047,143.24937438964844,144.22775268554688,146.2426300048828,147.0853729248047,143.71434020996094,143.46249389648438,142.5809783935547,143.46249389648438,139.8008575439453,140.02365112304688,139.42306518554688,140.5370635986328,140.69204711914062,139.46182250976562,138.66748046875,134.02749633789062,132.8941192626953,132.81661987304688,134.34715270996094,134.1630859375,135.034912109375,135.38363647460938,137.79566955566406,141.50575256347656,143.63685607910156,143.171875,143.65623474121094,145.20611572265625,146.1263885498047,144.67333984375,142.75535583496094,142.53256225585938,141.77699279785156,140.33335876464844,140.33335876464844,140.14801025390625,140.4601593017578,141.12344360351562,143.8253631591797,144.49839782714844,145.33724975585938,146.57603454589844,145.30799865722656,147.82455444335938,149.33645629882812,148.50735473632812,149.1901397705078,145.40553283691406,146.86865234375,145.99078369140625,149.8436737060547,150.71177673339844,149.25843811035156,148.96580505371094,148.20498657226562,148.72193908691406,149.4242401123047,150.3509063720703,152.2139434814453,153.51124572753906,152.65289306640625,154.44764709472656,155.9010467529297,156.427734375,156.10585021972656,155.45233154296875,154.24281311035156,154.0087127685547,156.70086669921875,156.35948181152344,158.7785186767578,158.3883514404297,157.7543182373047,159.52957153320312,161.89984130859375,166.28921508789062,163.75314331054688,165.00169372558594,159.11990356445312,158.71023559570312,157.28611755371094,156.55455017089844,158.00794982910156,160.40744018554688,160.8658905029297,162.18272399902344,162.7094268798828,161.97787475585938,162.485107421875,161.01222229003906,161.5877227783203,161.66575622558594,158.9735870361328,158.8754425048828,157.47190856933594,159.58212280273438,159.74896240234375,155.52853393554688,156.3726348876953,156.0781707763672,153.32997131347656,150.23825073242188,153.21218872070312,154.4881134033203,154.78257751464844,156.20574951171875,156.19593811035156,156.64744567871094,157.4522705078125,158.3846893310547,157.79580688476562,157.5013427734375,157.07928466796875,157.53077697753906,157.38357543945312,158.91470336914062,158.9735870361328,161.87881469726562,162.96827697753906,161.9573516845703,161.3095703125,159.81768798828125,160.40658569335938,160.36732482910156,160.583251953125,159.95510864257812,158.26690673828125,158.64968872070312,156.52964782714844,156.96151733398438,157.42282104492188,159.23858642578125,159.68028259277344,163.40016174316406,163.5081329345703,162.12420654296875,162.45791625976562,161.0838165283203,160.16119384765625,158.9833984375,161.16232299804688,159.7195281982422,162.15367126464844,164.66629028320312,163.979248046875,164.63685607910156,165.38279724121094,167.12005615234375,165.75576782226562,165.0883331298828,166.81578063964844,167.0709686279297,167.23782348632812,167.2967071533203,166.93356323242188,167.90524291992188,167.79727172851562,168.43923950195312,167.9750518798828,166.97755432128906,166.7207489013672,167.1553192138672,163.48135375976562,164.14306640625,163.98504638671875,163.91590881347656,162.79989624023438,161.3678436279297,163.54061889648438,165.01217651367188,162.91842651367188,163.32333374023438,162.45423889160156,162.39495849609375,163.17518615722656,159.9752960205078,161.81227111816406,161.59500122070312,160.61724853515625,161.34808349609375,162.17770385742188,161.99005126953125,161.9999237060547,162.70114135742188,163.9060516357422,166.88865661621094,165.89117431640625,167.31333923339844,166.9874267578125,167.64913940429688,167.38246154785156,167.17506408691406,168.3108367919922,166.2862091064453,166.01954650878906,164.81466674804688,166.36521911621094,167.39234924316406,167.87628173828125,169.66387939453125,169.74288940429688,170.5231170654297,170.04905700683594,170.04905700683594,170.0688018798828,170.13795471191406,172.23170471191406,171.21444702148438,171.54037475585938,170.96754455566406,171.56011962890625,171.619384765625,171.64901733398438,173.03167724609375,174.0686798095703,175.63900756835938,177.24884033203125,174.99705505371094,176.3599853515625,177.21920776367188,176.45420837402344,174.2486572265625,173.09620666503906,172.17225646972656,171.80465698242188,172.52992248535156,172.0033721923828,172.60940551757812,173.79164123535156,173.9009246826172,171.19863891601562,170.78135681152344,166.97630310058594,165.88345336914062,164.7210693359375,163.72756958007812,164.34353637695312,164.14483642578125,163.6779022216797,162.7440185546875,163.45932006835938,162.86322021484375,163.7871856689453,163.29043579101562,162.10816955566406,161.75051879882812,162.95265197753906,160.4490509033203,159.42575073242188,158.1838836669922,158.54153442382812,158.86940002441406,160.2900848388672,159.88275146484375,159.20718383789062,156.66384887695312,158.1640167236328,159.06808471679688,160.25035095214844,159.07801818847656,162.80361938476562,162.71420288085938,162.336669921875,162.65460205078125,163.0122528076172,164.67138671875,162.67446899414062,161.79026794433594,161.820068359375,161.9591522216797,164.51242065429688,163.98587036132812,163.5288848876953,162.36648559570312,161.81011962890625,161.4524688720703,163.20101928710938,161.99888610839844,163.9362030029297,162.45590209960938,161.61143493652344,162.21746826171875,161.3431854248047,161.8300018310547,159.6999969482422,160.69000244140625,160.24000549316406,159.1999969482422,159.75,155.92999267578125,158.0800018310547,157.08999633789062,159.3800048828125,162.94000244140625,163.36000061035156,164.33999633789062,165.89999389648438,165.49000549316406,168.4499969482422,170.2899932861328,171.13999938964844,173.00999450683594,168.22999572753906,167.75,167.2100067138672,167.92999267578125,168.25,169.6699981689453,170.35000610351562,171.5500030517578,172.30999755859375,171.07000732421875],\"type\":\"scatter\",\"xaxis\":\"x4\",\"yaxis\":\"y4\"}],                        {\"template\":{\"data\":{\"bar\":[{\"error_x\":{\"color\":\"#2a3f5f\"},\"error_y\":{\"color\":\"#2a3f5f\"},\"marker\":{\"line\":{\"color\":\"#E5ECF6\",\"width\":0.5},\"pattern\":{\"fillmode\":\"overlay\",\"size\":10,\"solidity\":0.2}},\"type\":\"bar\"}],\"barpolar\":[{\"marker\":{\"line\":{\"color\":\"#E5ECF6\",\"width\":0.5},\"pattern\":{\"fillmode\":\"overlay\",\"size\":10,\"solidity\":0.2}},\"type\":\"barpolar\"}],\"carpet\":[{\"aaxis\":{\"endlinecolor\":\"#2a3f5f\",\"gridcolor\":\"white\",\"linecolor\":\"white\",\"minorgridcolor\":\"white\",\"startlinecolor\":\"#2a3f5f\"},\"baxis\":{\"endlinecolor\":\"#2a3f5f\",\"gridcolor\":\"white\",\"linecolor\":\"white\",\"minorgridcolor\":\"white\",\"startlinecolor\":\"#2a3f5f\"},\"type\":\"carpet\"}],\"choropleth\":[{\"colorbar\":{\"outlinewidth\":0,\"ticks\":\"\"},\"type\":\"choropleth\"}],\"contour\":[{\"colorbar\":{\"outlinewidth\":0,\"ticks\":\"\"},\"colorscale\":[[0.0,\"#0d0887\"],[0.1111111111111111,\"#46039f\"],[0.2222222222222222,\"#7201a8\"],[0.3333333333333333,\"#9c179e\"],[0.4444444444444444,\"#bd3786\"],[0.5555555555555556,\"#d8576b\"],[0.6666666666666666,\"#ed7953\"],[0.7777777777777778,\"#fb9f3a\"],[0.8888888888888888,\"#fdca26\"],[1.0,\"#f0f921\"]],\"type\":\"contour\"}],\"contourcarpet\":[{\"colorbar\":{\"outlinewidth\":0,\"ticks\":\"\"},\"type\":\"contourcarpet\"}],\"heatmap\":[{\"colorbar\":{\"outlinewidth\":0,\"ticks\":\"\"},\"colorscale\":[[0.0,\"#0d0887\"],[0.1111111111111111,\"#46039f\"],[0.2222222222222222,\"#7201a8\"],[0.3333333333333333,\"#9c179e\"],[0.4444444444444444,\"#bd3786\"],[0.5555555555555556,\"#d8576b\"],[0.6666666666666666,\"#ed7953\"],[0.7777777777777778,\"#fb9f3a\"],[0.8888888888888888,\"#fdca26\"],[1.0,\"#f0f921\"]],\"type\":\"heatmap\"}],\"heatmapgl\":[{\"colorbar\":{\"outlinewidth\":0,\"ticks\":\"\"},\"colorscale\":[[0.0,\"#0d0887\"],[0.1111111111111111,\"#46039f\"],[0.2222222222222222,\"#7201a8\"],[0.3333333333333333,\"#9c179e\"],[0.4444444444444444,\"#bd3786\"],[0.5555555555555556,\"#d8576b\"],[0.6666666666666666,\"#ed7953\"],[0.7777777777777778,\"#fb9f3a\"],[0.8888888888888888,\"#fdca26\"],[1.0,\"#f0f921\"]],\"type\":\"heatmapgl\"}],\"histogram\":[{\"marker\":{\"pattern\":{\"fillmode\":\"overlay\",\"size\":10,\"solidity\":0.2}},\"type\":\"histogram\"}],\"histogram2d\":[{\"colorbar\":{\"outlinewidth\":0,\"ticks\":\"\"},\"colorscale\":[[0.0,\"#0d0887\"],[0.1111111111111111,\"#46039f\"],[0.2222222222222222,\"#7201a8\"],[0.3333333333333333,\"#9c179e\"],[0.4444444444444444,\"#bd3786\"],[0.5555555555555556,\"#d8576b\"],[0.6666666666666666,\"#ed7953\"],[0.7777777777777778,\"#fb9f3a\"],[0.8888888888888888,\"#fdca26\"],[1.0,\"#f0f921\"]],\"type\":\"histogram2d\"}],\"histogram2dcontour\":[{\"colorbar\":{\"outlinewidth\":0,\"ticks\":\"\"},\"colorscale\":[[0.0,\"#0d0887\"],[0.1111111111111111,\"#46039f\"],[0.2222222222222222,\"#7201a8\"],[0.3333333333333333,\"#9c179e\"],[0.4444444444444444,\"#bd3786\"],[0.5555555555555556,\"#d8576b\"],[0.6666666666666666,\"#ed7953\"],[0.7777777777777778,\"#fb9f3a\"],[0.8888888888888888,\"#fdca26\"],[1.0,\"#f0f921\"]],\"type\":\"histogram2dcontour\"}],\"mesh3d\":[{\"colorbar\":{\"outlinewidth\":0,\"ticks\":\"\"},\"type\":\"mesh3d\"}],\"parcoords\":[{\"line\":{\"colorbar\":{\"outlinewidth\":0,\"ticks\":\"\"}},\"type\":\"parcoords\"}],\"pie\":[{\"automargin\":true,\"type\":\"pie\"}],\"scatter\":[{\"marker\":{\"colorbar\":{\"outlinewidth\":0,\"ticks\":\"\"}},\"type\":\"scatter\"}],\"scatter3d\":[{\"line\":{\"colorbar\":{\"outlinewidth\":0,\"ticks\":\"\"}},\"marker\":{\"colorbar\":{\"outlinewidth\":0,\"ticks\":\"\"}},\"type\":\"scatter3d\"}],\"scattercarpet\":[{\"marker\":{\"colorbar\":{\"outlinewidth\":0,\"ticks\":\"\"}},\"type\":\"scattercarpet\"}],\"scattergeo\":[{\"marker\":{\"colorbar\":{\"outlinewidth\":0,\"ticks\":\"\"}},\"type\":\"scattergeo\"}],\"scattergl\":[{\"marker\":{\"colorbar\":{\"outlinewidth\":0,\"ticks\":\"\"}},\"type\":\"scattergl\"}],\"scattermapbox\":[{\"marker\":{\"colorbar\":{\"outlinewidth\":0,\"ticks\":\"\"}},\"type\":\"scattermapbox\"}],\"scatterpolar\":[{\"marker\":{\"colorbar\":{\"outlinewidth\":0,\"ticks\":\"\"}},\"type\":\"scatterpolar\"}],\"scatterpolargl\":[{\"marker\":{\"colorbar\":{\"outlinewidth\":0,\"ticks\":\"\"}},\"type\":\"scatterpolargl\"}],\"scatterternary\":[{\"marker\":{\"colorbar\":{\"outlinewidth\":0,\"ticks\":\"\"}},\"type\":\"scatterternary\"}],\"surface\":[{\"colorbar\":{\"outlinewidth\":0,\"ticks\":\"\"},\"colorscale\":[[0.0,\"#0d0887\"],[0.1111111111111111,\"#46039f\"],[0.2222222222222222,\"#7201a8\"],[0.3333333333333333,\"#9c179e\"],[0.4444444444444444,\"#bd3786\"],[0.5555555555555556,\"#d8576b\"],[0.6666666666666666,\"#ed7953\"],[0.7777777777777778,\"#fb9f3a\"],[0.8888888888888888,\"#fdca26\"],[1.0,\"#f0f921\"]],\"type\":\"surface\"}],\"table\":[{\"cells\":{\"fill\":{\"color\":\"#EBF0F8\"},\"line\":{\"color\":\"white\"}},\"header\":{\"fill\":{\"color\":\"#C8D4E3\"},\"line\":{\"color\":\"white\"}},\"type\":\"table\"}]},\"layout\":{\"annotationdefaults\":{\"arrowcolor\":\"#2a3f5f\",\"arrowhead\":0,\"arrowwidth\":1},\"autotypenumbers\":\"strict\",\"coloraxis\":{\"colorbar\":{\"outlinewidth\":0,\"ticks\":\"\"}},\"colorscale\":{\"diverging\":[[0,\"#8e0152\"],[0.1,\"#c51b7d\"],[0.2,\"#de77ae\"],[0.3,\"#f1b6da\"],[0.4,\"#fde0ef\"],[0.5,\"#f7f7f7\"],[0.6,\"#e6f5d0\"],[0.7,\"#b8e186\"],[0.8,\"#7fbc41\"],[0.9,\"#4d9221\"],[1,\"#276419\"]],\"sequential\":[[0.0,\"#0d0887\"],[0.1111111111111111,\"#46039f\"],[0.2222222222222222,\"#7201a8\"],[0.3333333333333333,\"#9c179e\"],[0.4444444444444444,\"#bd3786\"],[0.5555555555555556,\"#d8576b\"],[0.6666666666666666,\"#ed7953\"],[0.7777777777777778,\"#fb9f3a\"],[0.8888888888888888,\"#fdca26\"],[1.0,\"#f0f921\"]],\"sequentialminus\":[[0.0,\"#0d0887\"],[0.1111111111111111,\"#46039f\"],[0.2222222222222222,\"#7201a8\"],[0.3333333333333333,\"#9c179e\"],[0.4444444444444444,\"#bd3786\"],[0.5555555555555556,\"#d8576b\"],[0.6666666666666666,\"#ed7953\"],[0.7777777777777778,\"#fb9f3a\"],[0.8888888888888888,\"#fdca26\"],[1.0,\"#f0f921\"]]},\"colorway\":[\"#636efa\",\"#EF553B\",\"#00cc96\",\"#ab63fa\",\"#FFA15A\",\"#19d3f3\",\"#FF6692\",\"#B6E880\",\"#FF97FF\",\"#FECB52\"],\"font\":{\"color\":\"#2a3f5f\"},\"geo\":{\"bgcolor\":\"white\",\"lakecolor\":\"white\",\"landcolor\":\"#E5ECF6\",\"showlakes\":true,\"showland\":true,\"subunitcolor\":\"white\"},\"hoverlabel\":{\"align\":\"left\"},\"hovermode\":\"closest\",\"mapbox\":{\"style\":\"light\"},\"paper_bgcolor\":\"white\",\"plot_bgcolor\":\"#E5ECF6\",\"polar\":{\"angularaxis\":{\"gridcolor\":\"white\",\"linecolor\":\"white\",\"ticks\":\"\"},\"bgcolor\":\"#E5ECF6\",\"radialaxis\":{\"gridcolor\":\"white\",\"linecolor\":\"white\",\"ticks\":\"\"}},\"scene\":{\"xaxis\":{\"backgroundcolor\":\"#E5ECF6\",\"gridcolor\":\"white\",\"gridwidth\":2,\"linecolor\":\"white\",\"showbackground\":true,\"ticks\":\"\",\"zerolinecolor\":\"white\"},\"yaxis\":{\"backgroundcolor\":\"#E5ECF6\",\"gridcolor\":\"white\",\"gridwidth\":2,\"linecolor\":\"white\",\"showbackground\":true,\"ticks\":\"\",\"zerolinecolor\":\"white\"},\"zaxis\":{\"backgroundcolor\":\"#E5ECF6\",\"gridcolor\":\"white\",\"gridwidth\":2,\"linecolor\":\"white\",\"showbackground\":true,\"ticks\":\"\",\"zerolinecolor\":\"white\"}},\"shapedefaults\":{\"line\":{\"color\":\"#2a3f5f\"}},\"ternary\":{\"aaxis\":{\"gridcolor\":\"white\",\"linecolor\":\"white\",\"ticks\":\"\"},\"baxis\":{\"gridcolor\":\"white\",\"linecolor\":\"white\",\"ticks\":\"\"},\"bgcolor\":\"#E5ECF6\",\"caxis\":{\"gridcolor\":\"white\",\"linecolor\":\"white\",\"ticks\":\"\"}},\"title\":{\"x\":0.05},\"xaxis\":{\"automargin\":true,\"gridcolor\":\"white\",\"linecolor\":\"white\",\"ticks\":\"\",\"title\":{\"standoff\":15},\"zerolinecolor\":\"white\",\"zerolinewidth\":2},\"yaxis\":{\"automargin\":true,\"gridcolor\":\"white\",\"linecolor\":\"white\",\"ticks\":\"\",\"title\":{\"standoff\":15},\"zerolinecolor\":\"white\",\"zerolinewidth\":2}}},\"xaxis\":{\"anchor\":\"y\",\"domain\":[0.0,1.0],\"matches\":\"x4\",\"showticklabels\":false},\"yaxis\":{\"anchor\":\"x\",\"domain\":[0.80625,1.0]},\"xaxis2\":{\"anchor\":\"y2\",\"domain\":[0.0,1.0],\"matches\":\"x4\",\"showticklabels\":false},\"yaxis2\":{\"anchor\":\"x2\",\"domain\":[0.5375,0.73125]},\"xaxis3\":{\"anchor\":\"y3\",\"domain\":[0.0,1.0],\"matches\":\"x4\",\"showticklabels\":false},\"yaxis3\":{\"anchor\":\"x3\",\"domain\":[0.26875,0.4625]},\"xaxis4\":{\"anchor\":\"y4\",\"domain\":[0.0,1.0]},\"yaxis4\":{\"anchor\":\"x4\",\"domain\":[0.0,0.19375]},\"height\":700,\"colorway\":[\"rgb(228,26,28)\",\"rgb(55,126,184)\",\"rgb(77,175,74)\",\"rgb(152,78,163)\",\"rgb(255,127,0)\",\"rgb(255,255,51)\",\"rgb(166,86,40)\",\"rgb(247,129,191)\",\"rgb(153,153,153)\"]},                        {\"responsive\": true}                    ).then(function(){\n",
       "                            \n",
       "var gd = document.getElementById('fd2d0048-e2d9-44a4-b8a2-3b777a49f9db');\n",
       "var x = new MutationObserver(function (mutations, observer) {{\n",
       "        var display = window.getComputedStyle(gd).display;\n",
       "        if (!display || display === 'none') {{\n",
       "            console.log([gd, 'removed!']);\n",
       "            Plotly.purge(gd);\n",
       "            observer.disconnect();\n",
       "        }}\n",
       "}});\n",
       "\n",
       "// Listen for the removal of the full notebook cells\n",
       "var notebookContainer = gd.closest('#notebook-container');\n",
       "if (notebookContainer) {{\n",
       "    x.observe(notebookContainer, {childList: true});\n",
       "}}\n",
       "\n",
       "// Listen for the clearing of the current output cell\n",
       "var outputEl = gd.closest('.output');\n",
       "if (outputEl) {{\n",
       "    x.observe(outputEl, {childList: true});\n",
       "}}\n",
       "\n",
       "                        })                };                });            </script>        </div>"
      ]
     },
     "metadata": {},
     "output_type": "display_data"
    }
   ],
   "source": [
    "from plotly.subplots import make_subplots\n",
    "import plotly.graph_objects as go\n",
    "\n",
    "#initialize figure\n",
    "fig = make_subplots(rows=4, shared_xaxes=True)\n",
    "#adding subplots to \n",
    "fig.add_scatter(y= data['daily_cases'], row=1, col=1, name='Daily Covid Cases') \n",
    "fig.add_scatter(y= data['PFE'], row=2, col=1, name='PFE Stock')\n",
    "fig.add_scatter(y= data['MRNA'], row=3, col=1, name='MRNA Stock')\n",
    "fig.add_scatter(y= data['JNJ'], row=4, col=1, name='JNJ Stock')\n",
    "fig.update_layout(height=700, colorway=px.colors.qualitative.Set1)"
   ]
  },
  {
   "cell_type": "code",
   "execution_count": 8,
   "id": "e427526b-26fa-4417-8363-961b49e4871e",
   "metadata": {},
   "outputs": [
    {
     "data": {
      "text/plain": [
       "<AxesSubplot:xlabel='daily_cases', ylabel='PFE'>"
      ]
     },
     "execution_count": 8,
     "metadata": {},
     "output_type": "execute_result"
    },
    {
     "data": {
      "image/png": "[encoded data removed]",
      "text/plain": [
       "<Figure size 432x288 with 1 Axes>"
      ]
     },
     "metadata": {
      "needs_background": "light"
     },
     "output_type": "display_data"
    }
   ],
   "source": [
    "sns.regplot(data=data,y=\"PFE\", x=\"daily_cases\")"
   ]
  },
  {
   "cell_type": "code",
   "execution_count": 23,
   "id": "23c0fd50-10fe-4cee-8936-7e4e75782574",
   "metadata": {},
   "outputs": [
    {
     "data": {
      "application/vnd.plotly.v1+json": {
       "config": {
        "plotlyServerURL": "https://plot.ly"
       },
       "data": [
        {
         "hovertemplate": "date=%{x}<br>cases_7day=%{y}<extra></extra>",
         "legendgroup": "",
         "line": {
          "color": "#E45756",
          "dash": "solid"
         },
         "marker": {
          "symbol": "circle"
         },
         "mode": "lines",
         "name": "",
         "orientation": "v",
         "showlegend": false,
         "type": "scatter",
         "x": [
          "2020-01-02T00:00:00",
          "2020-01-03T00:00:00",
          "2020-01-06T00:00:00",
          "2020-01-07T00:00:00",
          "2020-01-08T00:00:00",
          "2020-01-09T00:00:00",
          "2020-01-10T00:00:00",
          "2020-01-13T00:00:00",
          "2020-01-14T00:00:00",
          "2020-01-15T00:00:00",
          "2020-01-16T00:00:00",
          "2020-01-17T00:00:00",
          "2020-01-21T00:00:00",
          "2020-01-22T00:00:00",
          "2020-01-23T00:00:00",
          "2020-01-24T00:00:00",
          "2020-01-27T00:00:00",
          "2020-01-28T00:00:00",
          "2020-01-29T00:00:00",
          "2020-01-30T00:00:00",
          "2020-01-31T00:00:00",
          "2020-02-03T00:00:00",
          "2020-02-04T00:00:00",
          "2020-02-05T00:00:00",
          "2020-02-06T00:00:00",
          "2020-02-07T00:00:00",
          "2020-02-10T00:00:00",
          "2020-02-11T00:00:00",
          "2020-02-12T00:00:00",
          "2020-02-13T00:00:00",
          "2020-02-14T00:00:00",
          "2020-02-18T00:00:00",
          "2020-02-19T00:00:00",
          "2020-02-20T00:00:00",
          "2020-02-21T00:00:00",
          "2020-02-24T00:00:00",
          "2020-02-25T00:00:00",
          "2020-02-26T00:00:00",
          "2020-02-27T00:00:00",
          "2020-02-28T00:00:00",
          "2020-03-02T00:00:00",
          "2020-03-03T00:00:00",
          "2020-03-04T00:00:00",
          "2020-03-05T00:00:00",
          "2020-03-06T00:00:00",
          "2020-03-09T00:00:00",
          "2020-03-10T00:00:00",
          "2020-03-11T00:00:00",
          "2020-03-12T00:00:00",
          "2020-03-13T00:00:00",
          "2020-03-16T00:00:00",
          "2020-03-17T00:00:00",
          "2020-03-18T00:00:00",
          "2020-03-19T00:00:00",
          "2020-03-20T00:00:00",
          "2020-03-23T00:00:00",
          "2020-03-24T00:00:00",
          "2020-03-25T00:00:00",
          "2020-03-26T00:00:00",
          "2020-03-27T00:00:00",
          "2020-03-30T00:00:00",
          "2020-03-31T00:00:00",
          "2020-04-01T00:00:00",
          "2020-04-02T00:00:00",
          "2020-04-03T00:00:00",
          "2020-04-06T00:00:00",
          "2020-04-07T00:00:00",
          "2020-04-08T00:00:00",
          "2020-04-09T00:00:00",
          "2020-04-13T00:00:00",
          "2020-04-14T00:00:00",
          "2020-04-15T00:00:00",
          "2020-04-16T00:00:00",
          "2020-04-17T00:00:00",
          "2020-04-20T00:00:00",
          "2020-04-21T00:00:00",
          "2020-04-22T00:00:00",
          "2020-04-23T00:00:00",
          "2020-04-24T00:00:00",
          "2020-04-27T00:00:00",
          "2020-04-28T00:00:00",
          "2020-04-29T00:00:00",
          "2020-04-30T00:00:00",
          "2020-05-01T00:00:00",
          "2020-05-04T00:00:00",
          "2020-05-05T00:00:00",
          "2020-05-06T00:00:00",
          "2020-05-07T00:00:00",
          "2020-05-08T00:00:00",
          "2020-05-11T00:00:00",
          "2020-05-12T00:00:00",
          "2020-05-13T00:00:00",
          "2020-05-14T00:00:00",
          "2020-05-15T00:00:00",
          "2020-05-18T00:00:00",
          "2020-05-19T00:00:00",
          "2020-05-20T00:00:00",
          "2020-05-21T00:00:00",
          "2020-05-22T00:00:00",
          "2020-05-26T00:00:00",
          "2020-05-27T00:00:00",
          "2020-05-28T00:00:00",
          "2020-05-29T00:00:00",
          "2020-06-01T00:00:00",
          "2020-06-02T00:00:00",
          "2020-06-03T00:00:00",
          "2020-06-04T00:00:00",
          "2020-06-05T00:00:00",
          "2020-06-08T00:00:00",
          "2020-06-09T00:00:00",
          "2020-06-10T00:00:00",
          "2020-06-11T00:00:00",
          "2020-06-12T00:00:00",
          "2020-06-15T00:00:00",
          "2020-06-16T00:00:00",
          "2020-06-17T00:00:00",
          "2020-06-18T00:00:00",
          "2020-06-19T00:00:00",
          "2020-06-22T00:00:00",
          "2020-06-23T00:00:00",
          "2020-06-24T00:00:00",
          "2020-06-25T00:00:00",
          "2020-06-26T00:00:00",
          "2020-06-29T00:00:00",
          "2020-06-30T00:00:00",
          "2020-07-01T00:00:00",
          "2020-07-02T00:00:00",
          "2020-07-06T00:00:00",
          "2020-07-07T00:00:00",
          "2020-07-08T00:00:00",
          "2020-07-09T00:00:00",
          "2020-07-10T00:00:00",
          "2020-07-13T00:00:00",
          "2020-07-14T00:00:00",
          "2020-07-15T00:00:00",
          "2020-07-16T00:00:00",
          "2020-07-17T00:00:00",
          "2020-07-20T00:00:00",
          "2020-07-21T00:00:00",
          "2020-07-22T00:00:00",
          "2020-07-23T00:00:00",
          "2020-07-24T00:00:00",
          "2020-07-27T00:00:00",
          "2020-07-28T00:00:00",
          "2020-07-29T00:00:00",
          "2020-07-30T00:00:00",
          "2020-07-31T00:00:00",
          "2020-08-03T00:00:00",
          "2020-08-04T00:00:00",
          "2020-08-05T00:00:00",
          "2020-08-06T00:00:00",
          "2020-08-07T00:00:00",
          "2020-08-10T00:00:00",
          "2020-08-11T00:00:00",
          "2020-08-12T00:00:00",
          "2020-08-13T00:00:00",
          "2020-08-14T00:00:00",
          "2020-08-17T00:00:00",
          "2020-08-18T00:00:00",
          "2020-08-19T00:00:00",
          "2020-08-20T00:00:00",
          "2020-08-21T00:00:00",
          "2020-08-24T00:00:00",
          "2020-08-25T00:00:00",
          "2020-08-26T00:00:00",
          "2020-08-27T00:00:00",
          "2020-08-28T00:00:00",
          "2020-08-31T00:00:00",
          "2020-09-01T00:00:00",
          "2020-09-02T00:00:00",
          "2020-09-03T00:00:00",
          "2020-09-04T00:00:00",
          "2020-09-08T00:00:00",
          "2020-09-09T00:00:00",
          "2020-09-10T00:00:00",
          "2020-09-11T00:00:00",
          "2020-09-14T00:00:00",
          "2020-09-15T00:00:00",
          "2020-09-16T00:00:00",
          "2020-09-17T00:00:00",
          "2020-09-18T00:00:00",
          "2020-09-21T00:00:00",
          "2020-09-22T00:00:00",
          "2020-09-23T00:00:00",
          "2020-09-24T00:00:00",
          "2020-09-25T00:00:00",
          "2020-09-28T00:00:00",
          "2020-09-29T00:00:00",
          "2020-09-30T00:00:00",
          "2020-10-01T00:00:00",
          "2020-10-02T00:00:00",
          "2020-10-05T00:00:00",
          "2020-10-06T00:00:00",
          "2020-10-07T00:00:00",
          "2020-10-08T00:00:00",
          "2020-10-09T00:00:00",
          "2020-10-12T00:00:00",
          "2020-10-13T00:00:00",
          "2020-10-14T00:00:00",
          "2020-10-15T00:00:00",
          "2020-10-16T00:00:00",
          "2020-10-19T00:00:00",
          "2020-10-20T00:00:00",
          "2020-10-21T00:00:00",
          "2020-10-22T00:00:00",
          "2020-10-23T00:00:00",
          "2020-10-26T00:00:00",
          "2020-10-27T00:00:00",
          "2020-10-28T00:00:00",
          "2020-10-29T00:00:00",
          "2020-10-30T00:00:00",
          "2020-11-02T00:00:00",
          "2020-11-03T00:00:00",
          "2020-11-04T00:00:00",
          "2020-11-05T00:00:00",
          "2020-11-06T00:00:00",
          "2020-11-09T00:00:00",
          "2020-11-10T00:00:00",
          "2020-11-11T00:00:00",
          "2020-11-12T00:00:00",
          "2020-11-13T00:00:00",
          "2020-11-16T00:00:00",
          "2020-11-17T00:00:00",
          "2020-11-18T00:00:00",
          "2020-11-19T00:00:00",
          "2020-11-20T00:00:00",
          "2020-11-23T00:00:00",
          "2020-11-24T00:00:00",
          "2020-11-25T00:00:00",
          "2020-11-27T00:00:00",
          "2020-11-30T00:00:00",
          "2020-12-01T00:00:00",
          "2020-12-02T00:00:00",
          "2020-12-03T00:00:00",
          "2020-12-04T00:00:00",
          "2020-12-07T00:00:00",
          "2020-12-08T00:00:00",
          "2020-12-09T00:00:00",
          "2020-12-10T00:00:00",
          "2020-12-11T00:00:00",
          "2020-12-14T00:00:00",
          "2020-12-15T00:00:00",
          "2020-12-16T00:00:00",
          "2020-12-17T00:00:00",
          "2020-12-18T00:00:00",
          "2020-12-21T00:00:00",
          "2020-12-22T00:00:00",
          "2020-12-23T00:00:00",
          "2020-12-24T00:00:00",
          "2020-12-28T00:00:00",
          "2020-12-29T00:00:00",
          "2020-12-30T00:00:00",
          "2020-12-31T00:00:00",
          "2021-01-04T00:00:00",
          "2021-01-05T00:00:00",
          "2021-01-06T00:00:00",
          "2021-01-07T00:00:00",
          "2021-01-08T00:00:00",
          "2021-01-11T00:00:00",
          "2021-01-12T00:00:00",
          "2021-01-13T00:00:00",
          "2021-01-14T00:00:00",
          "2021-01-15T00:00:00",
          "2021-01-19T00:00:00",
          "2021-01-20T00:00:00",
          "2021-01-21T00:00:00",
          "2021-01-22T00:00:00",
          "2021-01-25T00:00:00",
          "2021-01-26T00:00:00",
          "2021-01-27T00:00:00",
          "2021-01-28T00:00:00",
          "2021-01-29T00:00:00",
          "2021-02-01T00:00:00",
          "2021-02-02T00:00:00",
          "2021-02-03T00:00:00",
          "2021-02-04T00:00:00",
          "2021-02-05T00:00:00",
          "2021-02-08T00:00:00",
          "2021-02-09T00:00:00",
          "2021-02-10T00:00:00",
          "2021-02-11T00:00:00",
          "2021-02-12T00:00:00",
          "2021-02-16T00:00:00",
          "2021-02-17T00:00:00",
          "2021-02-18T00:00:00",
          "2021-02-19T00:00:00",
          "2021-02-22T00:00:00",
          "2021-02-23T00:00:00",
          "2021-02-24T00:00:00",
          "2021-02-25T00:00:00",
          "2021-02-26T00:00:00",
          "2021-03-01T00:00:00",
          "2021-03-02T00:00:00",
          "2021-03-03T00:00:00",
          "2021-03-04T00:00:00",
          "2021-03-05T00:00:00",
          "2021-03-08T00:00:00",
          "2021-03-09T00:00:00",
          "2021-03-10T00:00:00",
          "2021-03-11T00:00:00",
          "2021-03-12T00:00:00",
          "2021-03-15T00:00:00",
          "2021-03-16T00:00:00",
          "2021-03-17T00:00:00",
          "2021-03-18T00:00:00",
          "2021-03-19T00:00:00",
          "2021-03-22T00:00:00",
          "2021-03-23T00:00:00",
          "2021-03-24T00:00:00",
          "2021-03-25T00:00:00",
          "2021-03-26T00:00:00",
          "2021-03-29T00:00:00",
          "2021-03-30T00:00:00",
          "2021-03-31T00:00:00",
          "2021-04-01T00:00:00",
          "2021-04-05T00:00:00",
          "2021-04-06T00:00:00",
          "2021-04-07T00:00:00",
          "2021-04-08T00:00:00",
          "2021-04-09T00:00:00",
          "2021-04-12T00:00:00",
          "2021-04-13T00:00:00",
          "2021-04-14T00:00:00",
          "2021-04-15T00:00:00",
          "2021-04-16T00:00:00",
          "2021-04-19T00:00:00",
          "2021-04-20T00:00:00",
          "2021-04-21T00:00:00",
          "2021-04-22T00:00:00",
          "2021-04-23T00:00:00",
          "2021-04-26T00:00:00",
          "2021-04-27T00:00:00",
          "2021-04-28T00:00:00",
          "2021-04-29T00:00:00",
          "2021-04-30T00:00:00",
          "2021-05-03T00:00:00",
          "2021-05-04T00:00:00",
          "2021-05-05T00:00:00",
          "2021-05-06T00:00:00",
          "2021-05-07T00:00:00",
          "2021-05-10T00:00:00",
          "2021-05-11T00:00:00",
          "2021-05-12T00:00:00",
          "2021-05-13T00:00:00",
          "2021-05-14T00:00:00",
          "2021-05-17T00:00:00",
          "2021-05-18T00:00:00",
          "2021-05-19T00:00:00",
          "2021-05-20T00:00:00",
          "2021-05-21T00:00:00",
          "2021-05-24T00:00:00",
          "2021-05-25T00:00:00",
          "2021-05-26T00:00:00",
          "2021-05-27T00:00:00",
          "2021-05-28T00:00:00",
          "2021-06-01T00:00:00",
          "2021-06-02T00:00:00",
          "2021-06-03T00:00:00",
          "2021-06-04T00:00:00",
          "2021-06-07T00:00:00",
          "2021-06-08T00:00:00",
          "2021-06-09T00:00:00",
          "2021-06-10T00:00:00",
          "2021-06-11T00:00:00",
          "2021-06-14T00:00:00",
          "2021-06-15T00:00:00",
          "2021-06-16T00:00:00",
          "2021-06-17T00:00:00",
          "2021-06-18T00:00:00",
          "2021-06-21T00:00:00",
          "2021-06-22T00:00:00",
          "2021-06-23T00:00:00",
          "2021-06-24T00:00:00",
          "2021-06-25T00:00:00",
          "2021-06-28T00:00:00",
          "2021-06-29T00:00:00",
          "2021-06-30T00:00:00",
          "2021-07-01T00:00:00",
          "2021-07-02T00:00:00",
          "2021-07-06T00:00:00",
          "2021-07-07T00:00:00",
          "2021-07-08T00:00:00",
          "2021-07-09T00:00:00",
          "2021-07-12T00:00:00",
          "2021-07-13T00:00:00",
          "2021-07-14T00:00:00",
          "2021-07-15T00:00:00",
          "2021-07-16T00:00:00",
          "2021-07-19T00:00:00",
          "2021-07-20T00:00:00",
          "2021-07-21T00:00:00",
          "2021-07-22T00:00:00",
          "2021-07-23T00:00:00",
          "2021-07-26T00:00:00",
          "2021-07-27T00:00:00",
          "2021-07-28T00:00:00",
          "2021-07-29T00:00:00",
          "2021-07-30T00:00:00",
          "2021-08-02T00:00:00",
          "2021-08-03T00:00:00",
          "2021-08-04T00:00:00",
          "2021-08-05T00:00:00",
          "2021-08-06T00:00:00",
          "2021-08-09T00:00:00",
          "2021-08-10T00:00:00",
          "2021-08-11T00:00:00",
          "2021-08-12T00:00:00",
          "2021-08-13T00:00:00",
          "2021-08-16T00:00:00",
          "2021-08-17T00:00:00",
          "2021-08-18T00:00:00",
          "2021-08-19T00:00:00",
          "2021-08-20T00:00:00",
          "2021-08-23T00:00:00",
          "2021-08-24T00:00:00",
          "2021-08-25T00:00:00",
          "2021-08-26T00:00:00",
          "2021-08-27T00:00:00",
          "2021-08-30T00:00:00",
          "2021-08-31T00:00:00",
          "2021-09-01T00:00:00",
          "2021-09-02T00:00:00",
          "2021-09-03T00:00:00",
          "2021-09-07T00:00:00",
          "2021-09-08T00:00:00",
          "2021-09-09T00:00:00",
          "2021-09-10T00:00:00",
          "2021-09-13T00:00:00",
          "2021-09-14T00:00:00",
          "2021-09-15T00:00:00",
          "2021-09-16T00:00:00",
          "2021-09-17T00:00:00",
          "2021-09-20T00:00:00",
          "2021-09-21T00:00:00",
          "2021-09-22T00:00:00",
          "2021-09-23T00:00:00",
          "2021-09-24T00:00:00",
          "2021-09-27T00:00:00",
          "2021-09-28T00:00:00",
          "2021-09-29T00:00:00",
          "2021-09-30T00:00:00",
          "2021-10-01T00:00:00",
          "2021-10-04T00:00:00",
          "2021-10-05T00:00:00",
          "2021-10-06T00:00:00",
          "2021-10-07T00:00:00",
          "2021-10-08T00:00:00",
          "2021-10-11T00:00:00",
          "2021-10-12T00:00:00",
          "2021-10-13T00:00:00",
          "2021-10-14T00:00:00",
          "2021-10-15T00:00:00",
          "2021-10-18T00:00:00",
          "2021-10-19T00:00:00",
          "2021-10-20T00:00:00",
          "2021-10-21T00:00:00",
          "2021-10-22T00:00:00",
          "2021-10-25T00:00:00",
          "2021-10-26T00:00:00",
          "2021-10-27T00:00:00",
          "2021-10-28T00:00:00",
          "2021-10-29T00:00:00",
          "2021-11-01T00:00:00",
          "2021-11-02T00:00:00",
          "2021-11-03T00:00:00",
          "2021-11-04T00:00:00",
          "2021-11-05T00:00:00",
          "2021-11-08T00:00:00",
          "2021-11-09T00:00:00",
          "2021-11-10T00:00:00",
          "2021-11-11T00:00:00",
          "2021-11-12T00:00:00",
          "2021-11-15T00:00:00",
          "2021-11-16T00:00:00",
          "2021-11-17T00:00:00",
          "2021-11-18T00:00:00",
          "2021-11-19T00:00:00",
          "2021-11-22T00:00:00",
          "2021-11-23T00:00:00",
          "2021-11-24T00:00:00",
          "2021-11-26T00:00:00",
          "2021-11-29T00:00:00",
          "2021-11-30T00:00:00",
          "2021-12-01T00:00:00",
          "2021-12-02T00:00:00",
          "2021-12-03T00:00:00",
          "2021-12-06T00:00:00",
          "2021-12-07T00:00:00",
          "2021-12-08T00:00:00",
          "2021-12-09T00:00:00",
          "2021-12-10T00:00:00",
          "2021-12-13T00:00:00",
          "2021-12-14T00:00:00",
          "2021-12-15T00:00:00",
          "2021-12-16T00:00:00",
          "2021-12-17T00:00:00",
          "2021-12-20T00:00:00",
          "2021-12-21T00:00:00",
          "2021-12-22T00:00:00",
          "2021-12-23T00:00:00",
          "2021-12-27T00:00:00",
          "2021-12-28T00:00:00",
          "2021-12-29T00:00:00",
          "2021-12-30T00:00:00",
          "2021-12-31T00:00:00"
         ],
         "xaxis": "x",
         "y": [
          null,
          null,
          null,
          null,
          null,
          null,
          null,
          null,
          null,
          null,
          null,
          null,
          null,
          null,
          null,
          null,
          0.7142857142857143,
          0.5714285714285714,
          0.5714285714285714,
          0.7142857142857143,
          0.7142857142857143,
          0.8571428571428571,
          0.8571428571428571,
          1,
          0.8571428571428571,
          0.7142857142857143,
          0.2857142857142857,
          0.2857142857142857,
          0.2857142857142857,
          0.42857142857142855,
          0.42857142857142855,
          1.7142857142857142,
          1.5714285714285714,
          1.7142857142857142,
          2.142857142857143,
          2.5714285714285716,
          2.857142857142857,
          5,
          4.714285714285714,
          5,
          8.714285714285714,
          11.428571428571429,
          14.428571428571429,
          24,
          35.142857142857146,
          92,
          127.57142857142857,
          157.42857142857142,
          205.71428571428572,
          273.2857142857143,
          537,
          698.2857142857143,
          1012.4285714285714,
          1532.142857142857,
          2255.4285714285716,
          5571.142857142857,
          6861.714285714285,
          8603.142857142857,
          10453.857142857143,
          12126.857142857143,
          17207.14285714286,
          19217.571428571428,
          20974.14285714286,
          22791.14285714286,
          24932.285714285714,
          29300.285714285714,
          30133.285714285714,
          30831.85714285714,
          31543.571428571428,
          30708.714285714286,
          30187.85714285714,
          29932.571428571428,
          29491.714285714286,
          29211.14285714286,
          28710.428571428572,
          28542.285714285714,
          28370.571428571428,
          28679.571428571428,
          29427,
          29886,
          29762.714285714286,
          29437.571428571428,
          28949.14285714286,
          28553.285714285714,
          27587,
          27452.428571428572,
          27159.714285714286,
          26891.285714285714,
          25988.14285714286,
          23878.14285714286,
          23676.85714285714,
          23196.714285714286,
          22980.14285714286,
          22778.571428571428,
          23020.571428571428,
          22831.571428571428,
          23106.571428571428,
          22931,
          22582.714285714286,
          21842.428571428572,
          21224.428571428572,
          20764.285714285714,
          20871.285714285714,
          21518.285714285714,
          21789,
          21966.571428571428,
          21838.571428571428,
          22433,
          21491.714285714286,
          21208,
          21617.285714285714,
          21843.85714285714,
          21384.428571428572,
          22133.285714285714,
          23001.85714285714,
          23402.285714285714,
          24096.14285714286,
          24859.428571428572,
          28329.285714285714,
          29782.85714285714,
          31402,
          33275.42857142857,
          35374.28571428572,
          40007.57142857143,
          41911.71428571428,
          43766.857142857145,
          45822,
          50452.28571428572,
          51265.857142857145,
          52620.142857142855,
          53238.71428571428,
          54820.57142857143,
          60249.71428571428,
          61895.142857142855,
          63164.71428571428,
          65421.57142857143,
          65806.71428571429,
          66452.57142857143,
          66406.14285714286,
          66605.71428571429,
          65794.14285714286,
          66165.85714285714,
          65531.57142857143,
          65222.857142857145,
          64800.42857142857,
          64649.28571428572,
          64015.42857142857,
          60434.28571428572,
          59067.57142857143,
          57202,
          55568.57142857143,
          54435.57142857143,
          53833.71428571428,
          53806.28571428572,
          53885.57142857143,
          53392.28571428572,
          53152.28571428572,
          50225.142857142855,
          48778.857142857145,
          47169.57142857143,
          46022.142857142855,
          44529.57142857143,
          42723.857142857145,
          42145.28571428572,
          42474.71428571428,
          42415.142857142855,
          42063,
          41600.42857142857,
          42295.57142857143,
          40456.28571428572,
          40568.42857142857,
          41359.42857142857,
          36757.28571428572,
          36884.142857142855,
          35693.28571428572,
          35045.57142857143,
          36748,
          38215.857142857145,
          39063.857142857145,
          40099.42857142857,
          40288,
          43685.857142857145,
          43425,
          43750.857142857145,
          43735.71428571428,
          44549.142857142855,
          42296.857142857145,
          43197.71428571428,
          43270.42857142857,
          43443.857142857145,
          43300.857142857145,
          47286.857142857145,
          47167.57142857143,
          48733.142857142855,
          50156.57142857143,
          50925.42857142857,
          50810,
          52457.28571428572,
          53433.857142857145,
          54715.42857142857,
          56358.57142857143,
          59449.42857142857,
          60335.28571428572,
          60961.57142857143,
          62358.28571428572,
          64477.28571428572,
          71170,
          73140.42857142857,
          75661.14285714286,
          77881,
          79962.57142857143,
          85602,
          88177.57142857143,
          91919.85714285714,
          96302.71428571429,
          101010.57142857143,
          116351.28571428571,
          123113.28571428571,
          128084.71428571429,
          134127.85714285713,
          141081.14285714287,
          155508.14285714287,
          158634,
          162834.2857142857,
          166242.42857142858,
          168722.85714285713,
          173232.57142857142,
          175550.7142857143,
          176737.85714285713,
          165661.57142857142,
          160352.7142857143,
          161262.7142857143,
          164203,
          180595,
          184242,
          202379.7142857143,
          207449.14285714287,
          210098.2857142857,
          211167.85714285713,
          218188.57142857142,
          219686.2857142857,
          217320.42857142858,
          220907.7142857143,
          222691.14285714287,
          218502.14285714287,
          216030.42857142858,
          215813.85714285713,
          213376.14285714287,
          207062.14285714287,
          183114.57142857142,
          183027.85714285713,
          183197.2857142857,
          188556.2857142857,
          221924.42857142858,
          226779.57142857142,
          230639.14285714287,
          237683.42857142858,
          259616.14285714287,
          251231.85714285713,
          250512,
          246706.14285714287,
          240875.85714285713,
          232172.42857142858,
          201294.85714285713,
          195032.42857142858,
          188026.7142857143,
          181128.42857142858,
          172664,
          167477.42857142858,
          163232,
          159759.57142857142,
          155909.57142857142,
          146663.85714285713,
          141609.2857142857,
          136525.42857142858,
          130734.14285714286,
          125717.85714285714,
          110826.57142857143,
          108131.42857142857,
          104530.28571428571,
          101673.71428571429,
          97406,
          81212.28571428571,
          77667.42857142857,
          72831.85714285714,
          69744,
          66981.42857142857,
          68034.71428571429,
          68610.85714285714,
          69480.85714285714,
          69524.57142857143,
          67511.57142857143,
          65473.142857142855,
          64390,
          62875.857142857145,
          61072.57142857143,
          64056.42857142857,
          63807.142857142855,
          62604.71428571428,
          61905.42857142857,
          61687,
          55051,
          54855.57142857143,
          54960.71428571428,
          54686.857142857145,
          54180.71428571428,
          53984.142857142855,
          54300.57142857143,
          57296.57142857143,
          58531.71428571428,
          60514,
          65174,
          65958,
          64248.42857142857,
          65402.28571428572,
          64786.42857142857,
          64749,
          65485.28571428572,
          65951.71428571429,
          67807.85714285714,
          68824.14285714286,
          71016.85714285714,
          71396.85714285714,
          70430.57142857143,
          69969.42857142857,
          67236,
          64907.857142857145,
          63014.28571428572,
          61949.57142857143,
          59868.142857142855,
          54991.142857142855,
          53684.42857142857,
          52587.71428571428,
          51350.71428571428,
          50598.28571428572,
          49589.857142857145,
          48029.57142857143,
          46586.857142857145,
          45174.28571428572,
          43599.42857142857,
          39058.857142857145,
          38071.142857142855,
          36751.71428571428,
          35429.57142857143,
          34499.28571428572,
          31987.285714285714,
          31104.714285714286,
          30149.14285714286,
          28889,
          27179,
          24768.571428571428,
          24050.714285714286,
          23278.14285714286,
          23010.85714285714,
          22012.714285714286,
          17176,
          16243.42857142857,
          15061.142857142857,
          8486.42857142857,
          10136.142857142857,
          8938.285714285714,
          9482,
          8957.42857142857,
          14789.714285714286,
          13951.42857142857,
          13621,
          12727.714285714286,
          12211.714285714286,
          11622.142857142857,
          11236.714285714286,
          11363.714285714286,
          11309.42857142857,
          11667.714285714286,
          11991,
          11839.42857142857,
          12263.42857142857,
          12541.42857142857,
          19722,
          20503.85714285714,
          19993.571428571428,
          22028.14285714286,
          19781.571428571428,
          21910,
          27221.14285714286,
          29493.285714285714,
          30612.714285714286,
          28724.85714285714,
          31137.571428571428,
          35704.71428571428,
          38437.42857142857,
          41542.57142857143,
          45754.28571428572,
          50159.71428571428,
          56996.142857142855,
          63382.857142857145,
          66978.57142857143,
          71663.42857142857,
          77322.28571428571,
          85929.85714285714,
          92143.14285714286,
          96055,
          100151.85714285714,
          106677.14285714286,
          116407.42857142857,
          118090.28571428571,
          124266.42857142857,
          125943.14285714286,
          128663.28571428571,
          142413.85714285713,
          139871.85714285713,
          141162.42857142858,
          144168.57142857142,
          145913.42857142858,
          150625.2857142857,
          151468.14285714287,
          152371.7142857143,
          156373,
          155845.14285714287,
          158946.42857142858,
          160382.57142857142,
          166105.2857142857,
          164381.7142857143,
          163748,
          152393,
          148563.57142857142,
          147831.42857142858,
          145665.85714285713,
          175822.2857142857,
          154616.2857142857,
          152617.14285714287,
          150376,
          149036.2857142857,
          137287.7142857143,
          134041.85714285713,
          130798.71428571429,
          126938.85714285714,
          123092.14285714286,
          117994.14285714286,
          115617.71428571429,
          112906.14285714286,
          111241.14285714286,
          109207.57142857143,
          103799.28571428571,
          101693.85714285714,
          101328.57142857143,
          99784.71428571429,
          97949,
          89562.57142857143,
          91416,
          88644.85714285714,
          86297.28571428571,
          84245,
          83341.14285714286,
          79356.42857142857,
          76508.57142857143,
          75505.28571428571,
          73896.14285714286,
          70290.57142857143,
          70824.85714285714,
          71956.57142857143,
          72562.14285714286,
          72766,
          75677,
          74179.85714285714,
          72794.14285714286,
          72351.57142857143,
          72786.57142857143,
          73875.28571428571,
          74737.57142857143,
          76768.71428571429,
          74127.85714285714,
          79496.85714285714,
          87089,
          88161.28571428571,
          90346.28571428571,
          96870.85714285714,
          95484.71428571429,
          95156.71428571429,
          95483.28571428571,
          96274,
          75196.42857142857,
          79997.42857142857,
          82357.85714285714,
          85132.57142857143,
          100541,
          115072.42857142857,
          118675.28571428571,
          119347.14285714286,
          120737.14285714286,
          118564.71428571429,
          120252.85714285714,
          120313.28571428571,
          120722.14285714286,
          120183.71428571429,
          123442.85714285714,
          124311.85714285714,
          147091.42857142858,
          157464.57142857142,
          171524,
          188509.14285714287,
          239129.2857142857,
          266449.4285714286,
          301502.5714285714,
          347194,
          384714.28571428574
         ],
         "yaxis": "y"
        }
       ],
       "layout": {
        "autosize": true,
        "legend": {
         "tracegroupgap": 0
        },
        "margin": {
         "t": 60
        },
        "template": {
         "data": {
          "bar": [
           {
            "error_x": {
             "color": "#2a3f5f"
            },
            "error_y": {
             "color": "#2a3f5f"
            },
            "marker": {
             "line": {
              "color": "#E5ECF6",
              "width": 0.5
             },
             "pattern": {
              "fillmode": "overlay",
              "size": 10,
              "solidity": 0.2
             }
            },
            "type": "bar"
           }
          ],
          "barpolar": [
           {
            "marker": {
             "line": {
              "color": "#E5ECF6",
              "width": 0.5
             },
             "pattern": {
              "fillmode": "overlay",
              "size": 10,
              "solidity": 0.2
             }
            },
            "type": "barpolar"
           }
          ],
          "carpet": [
           {
            "aaxis": {
             "endlinecolor": "#2a3f5f",
             "gridcolor": "white",
             "linecolor": "white",
             "minorgridcolor": "white",
             "startlinecolor": "#2a3f5f"
            },
            "baxis": {
             "endlinecolor": "#2a3f5f",
             "gridcolor": "white",
             "linecolor": "white",
             "minorgridcolor": "white",
             "startlinecolor": "#2a3f5f"
            },
            "type": "carpet"
           }
          ],
          "choropleth": [
           {
            "colorbar": {
             "outlinewidth": 0,
             "ticks": ""
            },
            "type": "choropleth"
           }
          ],
          "contour": [
           {
            "colorbar": {
             "outlinewidth": 0,
             "ticks": ""
            },
            "colorscale": [
             [
              0,
              "#0d0887"
             ],
             [
              0.1111111111111111,
              "#46039f"
             ],
             [
              0.2222222222222222,
              "#7201a8"
             ],
             [
              0.3333333333333333,
              "#9c179e"
             ],
             [
              0.4444444444444444,
              "#bd3786"
             ],
             [
              0.5555555555555556,
              "#d8576b"
             ],
             [
              0.6666666666666666,
              "#ed7953"
             ],
             [
              0.7777777777777778,
              "#fb9f3a"
             ],
             [
              0.8888888888888888,
              "#fdca26"
             ],
             [
              1,
              "#f0f921"
             ]
            ],
            "type": "contour"
           }
          ],
          "contourcarpet": [
           {
            "colorbar": {
             "outlinewidth": 0,
             "ticks": ""
            },
            "type": "contourcarpet"
           }
          ],
          "heatmap": [
           {
            "colorbar": {
             "outlinewidth": 0,
             "ticks": ""
            },
            "colorscale": [
             [
              0,
              "#0d0887"
             ],
             [
              0.1111111111111111,
              "#46039f"
             ],
             [
              0.2222222222222222,
              "#7201a8"
             ],
             [
              0.3333333333333333,
              "#9c179e"
             ],
             [
              0.4444444444444444,
              "#bd3786"
             ],
             [
              0.5555555555555556,
              "#d8576b"
             ],
             [
              0.6666666666666666,
              "#ed7953"
             ],
             [
              0.7777777777777778,
              "#fb9f3a"
             ],
             [
              0.8888888888888888,
              "#fdca26"
             ],
             [
              1,
              "#f0f921"
             ]
            ],
            "type": "heatmap"
           }
          ],
          "heatmapgl": [
           {
            "colorbar": {
             "outlinewidth": 0,
             "ticks": ""
            },
            "colorscale": [
             [
              0,
              "#0d0887"
             ],
             [
              0.1111111111111111,
              "#46039f"
             ],
             [
              0.2222222222222222,
              "#7201a8"
             ],
             [
              0.3333333333333333,
              "#9c179e"
             ],
             [
              0.4444444444444444,
              "#bd3786"
             ],
             [
              0.5555555555555556,
              "#d8576b"
             ],
             [
              0.6666666666666666,
              "#ed7953"
             ],
             [
              0.7777777777777778,
              "#fb9f3a"
             ],
             [
              0.8888888888888888,
              "#fdca26"
             ],
             [
              1,
              "#f0f921"
             ]
            ],
            "type": "heatmapgl"
           }
          ],
          "histogram": [
           {
            "marker": {
             "pattern": {
              "fillmode": "overlay",
              "size": 10,
              "solidity": 0.2
             }
            },
            "type": "histogram"
           }
          ],
          "histogram2d": [
           {
            "colorbar": {
             "outlinewidth": 0,
             "ticks": ""
            },
            "colorscale": [
             [
              0,
              "#0d0887"
             ],
             [
              0.1111111111111111,
              "#46039f"
             ],
             [
              0.2222222222222222,
              "#7201a8"
             ],
             [
              0.3333333333333333,
              "#9c179e"
             ],
             [
              0.4444444444444444,
              "#bd3786"
             ],
             [
              0.5555555555555556,
              "#d8576b"
             ],
             [
              0.6666666666666666,
              "#ed7953"
             ],
             [
              0.7777777777777778,
              "#fb9f3a"
             ],
             [
              0.8888888888888888,
              "#fdca26"
             ],
             [
              1,
              "#f0f921"
             ]
            ],
            "type": "histogram2d"
           }
          ],
          "histogram2dcontour": [
           {
            "colorbar": {
             "outlinewidth": 0,
             "ticks": ""
            },
            "colorscale": [
             [
              0,
              "#0d0887"
             ],
             [
              0.1111111111111111,
              "#46039f"
             ],
             [
              0.2222222222222222,
              "#7201a8"
             ],
             [
              0.3333333333333333,
              "#9c179e"
             ],
             [
              0.4444444444444444,
              "#bd3786"
             ],
             [
              0.5555555555555556,
              "#d8576b"
             ],
             [
              0.6666666666666666,
              "#ed7953"
             ],
             [
              0.7777777777777778,
              "#fb9f3a"
             ],
             [
              0.8888888888888888,
              "#fdca26"
             ],
             [
              1,
              "#f0f921"
             ]
            ],
            "type": "histogram2dcontour"
           }
          ],
          "mesh3d": [
           {
            "colorbar": {
             "outlinewidth": 0,
             "ticks": ""
            },
            "type": "mesh3d"
           }
          ],
          "parcoords": [
           {
            "line": {
             "colorbar": {
              "outlinewidth": 0,
              "ticks": ""
             }
            },
            "type": "parcoords"
           }
          ],
          "pie": [
           {
            "automargin": true,
            "type": "pie"
           }
          ],
          "scatter": [
           {
            "marker": {
             "colorbar": {
              "outlinewidth": 0,
              "ticks": ""
             }
            },
            "type": "scatter"
           }
          ],
          "scatter3d": [
           {
            "line": {
             "colorbar": {
              "outlinewidth": 0,
              "ticks": ""
             }
            },
            "marker": {
             "colorbar": {
              "outlinewidth": 0,
              "ticks": ""
             }
            },
            "type": "scatter3d"
           }
          ],
          "scattercarpet": [
           {
            "marker": {
             "colorbar": {
              "outlinewidth": 0,
              "ticks": ""
             }
            },
            "type": "scattercarpet"
           }
          ],
          "scattergeo": [
           {
            "marker": {
             "colorbar": {
              "outlinewidth": 0,
              "ticks": ""
             }
            },
            "type": "scattergeo"
           }
          ],
          "scattergl": [
           {
            "marker": {
             "colorbar": {
              "outlinewidth": 0,
              "ticks": ""
             }
            },
            "type": "scattergl"
           }
          ],
          "scattermapbox": [
           {
            "marker": {
             "colorbar": {
              "outlinewidth": 0,
              "ticks": ""
             }
            },
            "type": "scattermapbox"
           }
          ],
          "scatterpolar": [
           {
            "marker": {
             "colorbar": {
              "outlinewidth": 0,
              "ticks": ""
             }
            },
            "type": "scatterpolar"
           }
          ],
          "scatterpolargl": [
           {
            "marker": {
             "colorbar": {
              "outlinewidth": 0,
              "ticks": ""
             }
            },
            "type": "scatterpolargl"
           }
          ],
          "scatterternary": [
           {
            "marker": {
             "colorbar": {
              "outlinewidth": 0,
              "ticks": ""
             }
            },
            "type": "scatterternary"
           }
          ],
          "surface": [
           {
            "colorbar": {
             "outlinewidth": 0,
             "ticks": ""
            },
            "colorscale": [
             [
              0,
              "#0d0887"
             ],
             [
              0.1111111111111111,
              "#46039f"
             ],
             [
              0.2222222222222222,
              "#7201a8"
             ],
             [
              0.3333333333333333,
              "#9c179e"
             ],
             [
              0.4444444444444444,
              "#bd3786"
             ],
             [
              0.5555555555555556,
              "#d8576b"
             ],
             [
              0.6666666666666666,
              "#ed7953"
             ],
             [
              0.7777777777777778,
              "#fb9f3a"
             ],
             [
              0.8888888888888888,
              "#fdca26"
             ],
             [
              1,
              "#f0f921"
             ]
            ],
            "type": "surface"
           }
          ],
          "table": [
           {
            "cells": {
             "fill": {
              "color": "#EBF0F8"
             },
             "line": {
              "color": "white"
             }
            },
            "header": {
             "fill": {
              "color": "#C8D4E3"
             },
             "line": {
              "color": "white"
             }
            },
            "type": "table"
           }
          ]
         },
         "layout": {
          "annotationdefaults": {
           "arrowcolor": "#2a3f5f",
           "arrowhead": 0,
           "arrowwidth": 1
          },
          "autotypenumbers": "strict",
          "coloraxis": {
           "colorbar": {
            "outlinewidth": 0,
            "ticks": ""
           }
          },
          "colorscale": {
           "diverging": [
            [
             0,
             "#8e0152"
            ],
            [
             0.1,
             "#c51b7d"
            ],
            [
             0.2,
             "#de77ae"
            ],
            [
             0.3,
             "#f1b6da"
            ],
            [
             0.4,
             "#fde0ef"
            ],
            [
             0.5,
             "#f7f7f7"
            ],
            [
             0.6,
             "#e6f5d0"
            ],
            [
             0.7,
             "#b8e186"
            ],
            [
             0.8,
             "#7fbc41"
            ],
            [
             0.9,
             "#4d9221"
            ],
            [
             1,
             "#276419"
            ]
           ],
           "sequential": [
            [
             0,
             "#0d0887"
            ],
            [
             0.1111111111111111,
             "#46039f"
            ],
            [
             0.2222222222222222,
             "#7201a8"
            ],
            [
             0.3333333333333333,
             "#9c179e"
            ],
            [
             0.4444444444444444,
             "#bd3786"
            ],
            [
             0.5555555555555556,
             "#d8576b"
            ],
            [
             0.6666666666666666,
             "#ed7953"
            ],
            [
             0.7777777777777778,
             "#fb9f3a"
            ],
            [
             0.8888888888888888,
             "#fdca26"
            ],
            [
             1,
             "#f0f921"
            ]
           ],
           "sequentialminus": [
            [
             0,
             "#0d0887"
            ],
            [
             0.1111111111111111,
             "#46039f"
            ],
            [
             0.2222222222222222,
             "#7201a8"
            ],
            [
             0.3333333333333333,
             "#9c179e"
            ],
            [
             0.4444444444444444,
             "#bd3786"
            ],
            [
             0.5555555555555556,
             "#d8576b"
            ],
            [
             0.6666666666666666,
             "#ed7953"
            ],
            [
             0.7777777777777778,
             "#fb9f3a"
            ],
            [
             0.8888888888888888,
             "#fdca26"
            ],
            [
             1,
             "#f0f921"
            ]
           ]
          },
          "colorway": [
           "#636efa",
           "#EF553B",
           "#00cc96",
           "#ab63fa",
           "#FFA15A",
           "#19d3f3",
           "#FF6692",
           "#B6E880",
           "#FF97FF",
           "#FECB52"
          ],
          "font": {
           "color": "#2a3f5f"
          },
          "geo": {
           "bgcolor": "white",
           "lakecolor": "white",
           "landcolor": "#E5ECF6",
           "showlakes": true,
           "showland": true,
           "subunitcolor": "white"
          },
          "hoverlabel": {
           "align": "left"
          },
          "hovermode": "closest",
          "mapbox": {
           "style": "light"
          },
          "paper_bgcolor": "white",
          "plot_bgcolor": "#E5ECF6",
          "polar": {
           "angularaxis": {
            "gridcolor": "white",
            "linecolor": "white",
            "ticks": ""
           },
           "bgcolor": "#E5ECF6",
           "radialaxis": {
            "gridcolor": "white",
            "linecolor": "white",
            "ticks": ""
           }
          },
          "scene": {
           "xaxis": {
            "backgroundcolor": "#E5ECF6",
            "gridcolor": "white",
            "gridwidth": 2,
            "linecolor": "white",
            "showbackground": true,
            "ticks": "",
            "zerolinecolor": "white"
           },
           "yaxis": {
            "backgroundcolor": "#E5ECF6",
            "gridcolor": "white",
            "gridwidth": 2,
            "linecolor": "white",
            "showbackground": true,
            "ticks": "",
            "zerolinecolor": "white"
           },
           "zaxis": {
            "backgroundcolor": "#E5ECF6",
            "gridcolor": "white",
            "gridwidth": 2,
            "linecolor": "white",
            "showbackground": true,
            "ticks": "",
            "zerolinecolor": "white"
           }
          },
          "shapedefaults": {
           "line": {
            "color": "#2a3f5f"
           }
          },
          "ternary": {
           "aaxis": {
            "gridcolor": "white",
            "linecolor": "white",
            "ticks": ""
           },
           "baxis": {
            "gridcolor": "white",
            "linecolor": "white",
            "ticks": ""
           },
           "bgcolor": "#E5ECF6",
           "caxis": {
            "gridcolor": "white",
            "linecolor": "white",
            "ticks": ""
           }
          },
          "title": {
           "x": 0.05
          },
          "xaxis": {
           "automargin": true,
           "gridcolor": "white",
           "linecolor": "white",
           "ticks": "",
           "title": {
            "standoff": 15
           },
           "zerolinecolor": "white",
           "zerolinewidth": 2
          },
          "yaxis": {
           "automargin": true,
           "gridcolor": "white",
           "linecolor": "white",
           "ticks": "",
           "title": {
            "standoff": 15
           },
           "zerolinecolor": "white",
           "zerolinewidth": 2
          }
         }
        },
        "xaxis": {
         "anchor": "y",
         "autorange": true,
         "domain": [
          0,
          1
         ],
         "range": [
          "2020-01-02",
          "2021-12-31"
         ],
         "title": {
          "text": "date"
         },
         "type": "date"
        },
        "yaxis": {
         "anchor": "x",
         "autorange": true,
         "domain": [
          0,
          1
         ],
         "range": [
          -21372.714285714286,
          406087.28571428574
         ],
         "title": {
          "text": "cases_7day"
         },
         "type": "linear"
        }
       }
      },
      "image/png": "[encoded data removed]",
      "text/html": [
       "<div>                            <div id=\"8b86a460-c0f0-4694-9374-22fd11022c32\" class=\"plotly-graph-div\" style=\"height:525px; width:100%;\"></div>            <script type=\"text/javascript\">                require([\"plotly\"], function(Plotly) {                    window.PLOTLYENV=window.PLOTLYENV || {};                                    if (document.getElementById(\"8b86a460-c0f0-4694-9374-22fd11022c32\")) {                    Plotly.newPlot(                        \"8b86a460-c0f0-4694-9374-22fd11022c32\",                        [{\"hovertemplate\":\"date=%{x}<br>cases_7day=%{y}<extra></extra>\",\"legendgroup\":\"\",\"line\":{\"color\":\"#E45756\",\"dash\":\"solid\"},\"marker\":{\"symbol\":\"circle\"},\"mode\":\"lines\",\"name\":\"\",\"orientation\":\"v\",\"showlegend\":false,\"x\":[\"2020-01-02T00:00:00\",\"2020-01-03T00:00:00\",\"2020-01-06T00:00:00\",\"2020-01-07T00:00:00\",\"2020-01-08T00:00:00\",\"2020-01-09T00:00:00\",\"2020-01-10T00:00:00\",\"2020-01-13T00:00:00\",\"2020-01-14T00:00:00\",\"2020-01-15T00:00:00\",\"2020-01-16T00:00:00\",\"2020-01-17T00:00:00\",\"2020-01-21T00:00:00\",\"2020-01-22T00:00:00\",\"2020-01-23T00:00:00\",\"2020-01-24T00:00:00\",\"2020-01-27T00:00:00\",\"2020-01-28T00:00:00\",\"2020-01-29T00:00:00\",\"2020-01-30T00:00:00\",\"2020-01-31T00:00:00\",\"2020-02-03T00:00:00\",\"2020-02-04T00:00:00\",\"2020-02-05T00:00:00\",\"2020-02-06T00:00:00\",\"2020-02-07T00:00:00\",\"2020-02-10T00:00:00\",\"2020-02-11T00:00:00\",\"2020-02-12T00:00:00\",\"2020-02-13T00:00:00\",\"2020-02-14T00:00:00\",\"2020-02-18T00:00:00\",\"2020-02-19T00:00:00\",\"2020-02-20T00:00:00\",\"2020-02-21T00:00:00\",\"2020-02-24T00:00:00\",\"2020-02-25T00:00:00\",\"2020-02-26T00:00:00\",\"2020-02-27T00:00:00\",\"2020-02-28T00:00:00\",\"2020-03-02T00:00:00\",\"2020-03-03T00:00:00\",\"2020-03-04T00:00:00\",\"2020-03-05T00:00:00\",\"2020-03-06T00:00:00\",\"2020-03-09T00:00:00\",\"2020-03-10T00:00:00\",\"2020-03-11T00:00:00\",\"2020-03-12T00:00:00\",\"2020-03-13T00:00:00\",\"2020-03-16T00:00:00\",\"2020-03-17T00:00:00\",\"2020-03-18T00:00:00\",\"2020-03-19T00:00:00\",\"2020-03-20T00:00:00\",\"2020-03-23T00:00:00\",\"2020-03-24T00:00:00\",\"2020-03-25T00:00:00\",\"2020-03-26T00:00:00\",\"2020-03-27T00:00:00\",\"2020-03-30T00:00:00\",\"2020-03-31T00:00:00\",\"2020-04-01T00:00:00\",\"2020-04-02T00:00:00\",\"2020-04-03T00:00:00\",\"2020-04-06T00:00:00\",\"2020-04-07T00:00:00\",\"2020-04-08T00:00:00\",\"2020-04-09T00:00:00\",\"2020-04-13T00:00:00\",\"2020-04-14T00:00:00\",\"2020-04-15T00:00:00\",\"2020-04-16T00:00:00\",\"2020-04-17T00:00:00\",\"2020-04-20T00:00:00\",\"2020-04-21T00:00:00\",\"2020-04-22T00:00:00\",\"2020-04-23T00:00:00\",\"2020-04-24T00:00:00\",\"2020-04-27T00:00:00\",\"2020-04-28T00:00:00\",\"2020-04-29T00:00:00\",\"2020-04-30T00:00:00\",\"2020-05-01T00:00:00\",\"2020-05-04T00:00:00\",\"2020-05-05T00:00:00\",\"2020-05-06T00:00:00\",\"2020-05-07T00:00:00\",\"2020-05-08T00:00:00\",\"2020-05-11T00:00:00\",\"2020-05-12T00:00:00\",\"2020-05-13T00:00:00\",\"2020-05-14T00:00:00\",\"2020-05-15T00:00:00\",\"2020-05-18T00:00:00\",\"2020-05-19T00:00:00\",\"2020-05-20T00:00:00\",\"2020-05-21T00:00:00\",\"2020-05-22T00:00:00\",\"2020-05-26T00:00:00\",\"2020-05-27T00:00:00\",\"2020-05-28T00:00:00\",\"2020-05-29T00:00:00\",\"2020-06-01T00:00:00\",\"2020-06-02T00:00:00\",\"2020-06-03T00:00:00\",\"2020-06-04T00:00:00\",\"2020-06-05T00:00:00\",\"2020-06-08T00:00:00\",\"2020-06-09T00:00:00\",\"2020-06-10T00:00:00\",\"2020-06-11T00:00:00\",\"2020-06-12T00:00:00\",\"2020-06-15T00:00:00\",\"2020-06-16T00:00:00\",\"2020-06-17T00:00:00\",\"2020-06-18T00:00:00\",\"2020-06-19T00:00:00\",\"2020-06-22T00:00:00\",\"2020-06-23T00:00:00\",\"2020-06-24T00:00:00\",\"2020-06-25T00:00:00\",\"2020-06-26T00:00:00\",\"2020-06-29T00:00:00\",\"2020-06-30T00:00:00\",\"2020-07-01T00:00:00\",\"2020-07-02T00:00:00\",\"2020-07-06T00:00:00\",\"2020-07-07T00:00:00\",\"2020-07-08T00:00:00\",\"2020-07-09T00:00:00\",\"2020-07-10T00:00:00\",\"2020-07-13T00:00:00\",\"2020-07-14T00:00:00\",\"2020-07-15T00:00:00\",\"2020-07-16T00:00:00\",\"2020-07-17T00:00:00\",\"2020-07-20T00:00:00\",\"2020-07-21T00:00:00\",\"2020-07-22T00:00:00\",\"2020-07-23T00:00:00\",\"2020-07-24T00:00:00\",\"2020-07-27T00:00:00\",\"2020-07-28T00:00:00\",\"2020-07-29T00:00:00\",\"2020-07-30T00:00:00\",\"2020-07-31T00:00:00\",\"2020-08-03T00:00:00\",\"2020-08-04T00:00:00\",\"2020-08-05T00:00:00\",\"2020-08-06T00:00:00\",\"2020-08-07T00:00:00\",\"2020-08-10T00:00:00\",\"2020-08-11T00:00:00\",\"2020-08-12T00:00:00\",\"2020-08-13T00:00:00\",\"2020-08-14T00:00:00\",\"2020-08-17T00:00:00\",\"2020-08-18T00:00:00\",\"2020-08-19T00:00:00\",\"2020-08-20T00:00:00\",\"2020-08-21T00:00:00\",\"2020-08-24T00:00:00\",\"2020-08-25T00:00:00\",\"2020-08-26T00:00:00\",\"2020-08-27T00:00:00\",\"2020-08-28T00:00:00\",\"2020-08-31T00:00:00\",\"2020-09-01T00:00:00\",\"2020-09-02T00:00:00\",\"2020-09-03T00:00:00\",\"2020-09-04T00:00:00\",\"2020-09-08T00:00:00\",\"2020-09-09T00:00:00\",\"2020-09-10T00:00:00\",\"2020-09-11T00:00:00\",\"2020-09-14T00:00:00\",\"2020-09-15T00:00:00\",\"2020-09-16T00:00:00\",\"2020-09-17T00:00:00\",\"2020-09-18T00:00:00\",\"2020-09-21T00:00:00\",\"2020-09-22T00:00:00\",\"2020-09-23T00:00:00\",\"2020-09-24T00:00:00\",\"2020-09-25T00:00:00\",\"2020-09-28T00:00:00\",\"2020-09-29T00:00:00\",\"2020-09-30T00:00:00\",\"2020-10-01T00:00:00\",\"2020-10-02T00:00:00\",\"2020-10-05T00:00:00\",\"2020-10-06T00:00:00\",\"2020-10-07T00:00:00\",\"2020-10-08T00:00:00\",\"2020-10-09T00:00:00\",\"2020-10-12T00:00:00\",\"2020-10-13T00:00:00\",\"2020-10-14T00:00:00\",\"2020-10-15T00:00:00\",\"2020-10-16T00:00:00\",\"2020-10-19T00:00:00\",\"2020-10-20T00:00:00\",\"2020-10-21T00:00:00\",\"2020-10-22T00:00:00\",\"2020-10-23T00:00:00\",\"2020-10-26T00:00:00\",\"2020-10-27T00:00:00\",\"2020-10-28T00:00:00\",\"2020-10-29T00:00:00\",\"2020-10-30T00:00:00\",\"2020-11-02T00:00:00\",\"2020-11-03T00:00:00\",\"2020-11-04T00:00:00\",\"2020-11-05T00:00:00\",\"2020-11-06T00:00:00\",\"2020-11-09T00:00:00\",\"2020-11-10T00:00:00\",\"2020-11-11T00:00:00\",\"2020-11-12T00:00:00\",\"2020-11-13T00:00:00\",\"2020-11-16T00:00:00\",\"2020-11-17T00:00:00\",\"2020-11-18T00:00:00\",\"2020-11-19T00:00:00\",\"2020-11-20T00:00:00\",\"2020-11-23T00:00:00\",\"2020-11-24T00:00:00\",\"2020-11-25T00:00:00\",\"2020-11-27T00:00:00\",\"2020-11-30T00:00:00\",\"2020-12-01T00:00:00\",\"2020-12-02T00:00:00\",\"2020-12-03T00:00:00\",\"2020-12-04T00:00:00\",\"2020-12-07T00:00:00\",\"2020-12-08T00:00:00\",\"2020-12-09T00:00:00\",\"2020-12-10T00:00:00\",\"2020-12-11T00:00:00\",\"2020-12-14T00:00:00\",\"2020-12-15T00:00:00\",\"2020-12-16T00:00:00\",\"2020-12-17T00:00:00\",\"2020-12-18T00:00:00\",\"2020-12-21T00:00:00\",\"2020-12-22T00:00:00\",\"2020-12-23T00:00:00\",\"2020-12-24T00:00:00\",\"2020-12-28T00:00:00\",\"2020-12-29T00:00:00\",\"2020-12-30T00:00:00\",\"2020-12-31T00:00:00\",\"2021-01-04T00:00:00\",\"2021-01-05T00:00:00\",\"2021-01-06T00:00:00\",\"2021-01-07T00:00:00\",\"2021-01-08T00:00:00\",\"2021-01-11T00:00:00\",\"2021-01-12T00:00:00\",\"2021-01-13T00:00:00\",\"2021-01-14T00:00:00\",\"2021-01-15T00:00:00\",\"2021-01-19T00:00:00\",\"2021-01-20T00:00:00\",\"2021-01-21T00:00:00\",\"2021-01-22T00:00:00\",\"2021-01-25T00:00:00\",\"2021-01-26T00:00:00\",\"2021-01-27T00:00:00\",\"2021-01-28T00:00:00\",\"2021-01-29T00:00:00\",\"2021-02-01T00:00:00\",\"2021-02-02T00:00:00\",\"2021-02-03T00:00:00\",\"2021-02-04T00:00:00\",\"2021-02-05T00:00:00\",\"2021-02-08T00:00:00\",\"2021-02-09T00:00:00\",\"2021-02-10T00:00:00\",\"2021-02-11T00:00:00\",\"2021-02-12T00:00:00\",\"2021-02-16T00:00:00\",\"2021-02-17T00:00:00\",\"2021-02-18T00:00:00\",\"2021-02-19T00:00:00\",\"2021-02-22T00:00:00\",\"2021-02-23T00:00:00\",\"2021-02-24T00:00:00\",\"2021-02-25T00:00:00\",\"2021-02-26T00:00:00\",\"2021-03-01T00:00:00\",\"2021-03-02T00:00:00\",\"2021-03-03T00:00:00\",\"2021-03-04T00:00:00\",\"2021-03-05T00:00:00\",\"2021-03-08T00:00:00\",\"2021-03-09T00:00:00\",\"2021-03-10T00:00:00\",\"2021-03-11T00:00:00\",\"2021-03-12T00:00:00\",\"2021-03-15T00:00:00\",\"2021-03-16T00:00:00\",\"2021-03-17T00:00:00\",\"2021-03-18T00:00:00\",\"2021-03-19T00:00:00\",\"2021-03-22T00:00:00\",\"2021-03-23T00:00:00\",\"2021-03-24T00:00:00\",\"2021-03-25T00:00:00\",\"2021-03-26T00:00:00\",\"2021-03-29T00:00:00\",\"2021-03-30T00:00:00\",\"2021-03-31T00:00:00\",\"2021-04-01T00:00:00\",\"2021-04-05T00:00:00\",\"2021-04-06T00:00:00\",\"2021-04-07T00:00:00\",\"2021-04-08T00:00:00\",\"2021-04-09T00:00:00\",\"2021-04-12T00:00:00\",\"2021-04-13T00:00:00\",\"2021-04-14T00:00:00\",\"2021-04-15T00:00:00\",\"2021-04-16T00:00:00\",\"2021-04-19T00:00:00\",\"2021-04-20T00:00:00\",\"2021-04-21T00:00:00\",\"2021-04-22T00:00:00\",\"2021-04-23T00:00:00\",\"2021-04-26T00:00:00\",\"2021-04-27T00:00:00\",\"2021-04-28T00:00:00\",\"2021-04-29T00:00:00\",\"2021-04-30T00:00:00\",\"2021-05-03T00:00:00\",\"2021-05-04T00:00:00\",\"2021-05-05T00:00:00\",\"2021-05-06T00:00:00\",\"2021-05-07T00:00:00\",\"2021-05-10T00:00:00\",\"2021-05-11T00:00:00\",\"2021-05-12T00:00:00\",\"2021-05-13T00:00:00\",\"2021-05-14T00:00:00\",\"2021-05-17T00:00:00\",\"2021-05-18T00:00:00\",\"2021-05-19T00:00:00\",\"2021-05-20T00:00:00\",\"2021-05-21T00:00:00\",\"2021-05-24T00:00:00\",\"2021-05-25T00:00:00\",\"2021-05-26T00:00:00\",\"2021-05-27T00:00:00\",\"2021-05-28T00:00:00\",\"2021-06-01T00:00:00\",\"2021-06-02T00:00:00\",\"2021-06-03T00:00:00\",\"2021-06-04T00:00:00\",\"2021-06-07T00:00:00\",\"2021-06-08T00:00:00\",\"2021-06-09T00:00:00\",\"2021-06-10T00:00:00\",\"2021-06-11T00:00:00\",\"2021-06-14T00:00:00\",\"2021-06-15T00:00:00\",\"2021-06-16T00:00:00\",\"2021-06-17T00:00:00\",\"2021-06-18T00:00:00\",\"2021-06-21T00:00:00\",\"2021-06-22T00:00:00\",\"2021-06-23T00:00:00\",\"2021-06-24T00:00:00\",\"2021-06-25T00:00:00\",\"2021-06-28T00:00:00\",\"2021-06-29T00:00:00\",\"2021-06-30T00:00:00\",\"2021-07-01T00:00:00\",\"2021-07-02T00:00:00\",\"2021-07-06T00:00:00\",\"2021-07-07T00:00:00\",\"2021-07-08T00:00:00\",\"2021-07-09T00:00:00\",\"2021-07-12T00:00:00\",\"2021-07-13T00:00:00\",\"2021-07-14T00:00:00\",\"2021-07-15T00:00:00\",\"2021-07-16T00:00:00\",\"2021-07-19T00:00:00\",\"2021-07-20T00:00:00\",\"2021-07-21T00:00:00\",\"2021-07-22T00:00:00\",\"2021-07-23T00:00:00\",\"2021-07-26T00:00:00\",\"2021-07-27T00:00:00\",\"2021-07-28T00:00:00\",\"2021-07-29T00:00:00\",\"2021-07-30T00:00:00\",\"2021-08-02T00:00:00\",\"2021-08-03T00:00:00\",\"2021-08-04T00:00:00\",\"2021-08-05T00:00:00\",\"2021-08-06T00:00:00\",\"2021-08-09T00:00:00\",\"2021-08-10T00:00:00\",\"2021-08-11T00:00:00\",\"2021-08-12T00:00:00\",\"2021-08-13T00:00:00\",\"2021-08-16T00:00:00\",\"2021-08-17T00:00:00\",\"2021-08-18T00:00:00\",\"2021-08-19T00:00:00\",\"2021-08-20T00:00:00\",\"2021-08-23T00:00:00\",\"2021-08-24T00:00:00\",\"2021-08-25T00:00:00\",\"2021-08-26T00:00:00\",\"2021-08-27T00:00:00\",\"2021-08-30T00:00:00\",\"2021-08-31T00:00:00\",\"2021-09-01T00:00:00\",\"2021-09-02T00:00:00\",\"2021-09-03T00:00:00\",\"2021-09-07T00:00:00\",\"2021-09-08T00:00:00\",\"2021-09-09T00:00:00\",\"2021-09-10T00:00:00\",\"2021-09-13T00:00:00\",\"2021-09-14T00:00:00\",\"2021-09-15T00:00:00\",\"2021-09-16T00:00:00\",\"2021-09-17T00:00:00\",\"2021-09-20T00:00:00\",\"2021-09-21T00:00:00\",\"2021-09-22T00:00:00\",\"2021-09-23T00:00:00\",\"2021-09-24T00:00:00\",\"2021-09-27T00:00:00\",\"2021-09-28T00:00:00\",\"2021-09-29T00:00:00\",\"2021-09-30T00:00:00\",\"2021-10-01T00:00:00\",\"2021-10-04T00:00:00\",\"2021-10-05T00:00:00\",\"2021-10-06T00:00:00\",\"2021-10-07T00:00:00\",\"2021-10-08T00:00:00\",\"2021-10-11T00:00:00\",\"2021-10-12T00:00:00\",\"2021-10-13T00:00:00\",\"2021-10-14T00:00:00\",\"2021-10-15T00:00:00\",\"2021-10-18T00:00:00\",\"2021-10-19T00:00:00\",\"2021-10-20T00:00:00\",\"2021-10-21T00:00:00\",\"2021-10-22T00:00:00\",\"2021-10-25T00:00:00\",\"2021-10-26T00:00:00\",\"2021-10-27T00:00:00\",\"2021-10-28T00:00:00\",\"2021-10-29T00:00:00\",\"2021-11-01T00:00:00\",\"2021-11-02T00:00:00\",\"2021-11-03T00:00:00\",\"2021-11-04T00:00:00\",\"2021-11-05T00:00:00\",\"2021-11-08T00:00:00\",\"2021-11-09T00:00:00\",\"2021-11-10T00:00:00\",\"2021-11-11T00:00:00\",\"2021-11-12T00:00:00\",\"2021-11-15T00:00:00\",\"2021-11-16T00:00:00\",\"2021-11-17T00:00:00\",\"2021-11-18T00:00:00\",\"2021-11-19T00:00:00\",\"2021-11-22T00:00:00\",\"2021-11-23T00:00:00\",\"2021-11-24T00:00:00\",\"2021-11-26T00:00:00\",\"2021-11-29T00:00:00\",\"2021-11-30T00:00:00\",\"2021-12-01T00:00:00\",\"2021-12-02T00:00:00\",\"2021-12-03T00:00:00\",\"2021-12-06T00:00:00\",\"2021-12-07T00:00:00\",\"2021-12-08T00:00:00\",\"2021-12-09T00:00:00\",\"2021-12-10T00:00:00\",\"2021-12-13T00:00:00\",\"2021-12-14T00:00:00\",\"2021-12-15T00:00:00\",\"2021-12-16T00:00:00\",\"2021-12-17T00:00:00\",\"2021-12-20T00:00:00\",\"2021-12-21T00:00:00\",\"2021-12-22T00:00:00\",\"2021-12-23T00:00:00\",\"2021-12-27T00:00:00\",\"2021-12-28T00:00:00\",\"2021-12-29T00:00:00\",\"2021-12-30T00:00:00\",\"2021-12-31T00:00:00\"],\"xaxis\":\"x\",\"y\":[null,null,null,null,null,null,null,null,null,null,null,null,null,null,null,null,0.7142857142857143,0.5714285714285714,0.5714285714285714,0.7142857142857143,0.7142857142857143,0.8571428571428571,0.8571428571428571,1.0,0.8571428571428571,0.7142857142857143,0.2857142857142857,0.2857142857142857,0.2857142857142857,0.42857142857142855,0.42857142857142855,1.7142857142857142,1.5714285714285714,1.7142857142857142,2.142857142857143,2.5714285714285716,2.857142857142857,5.0,4.714285714285714,5.0,8.714285714285714,11.428571428571429,14.428571428571429,24.0,35.142857142857146,92.0,127.57142857142857,157.42857142857142,205.71428571428572,273.2857142857143,537.0,698.2857142857143,1012.4285714285714,1532.142857142857,2255.4285714285716,5571.142857142857,6861.714285714285,8603.142857142857,10453.857142857143,12126.857142857143,17207.14285714286,19217.571428571428,20974.14285714286,22791.14285714286,24932.285714285714,29300.285714285714,30133.285714285714,30831.85714285714,31543.571428571428,30708.714285714286,30187.85714285714,29932.571428571428,29491.714285714286,29211.14285714286,28710.428571428572,28542.285714285714,28370.571428571428,28679.571428571428,29427.0,29886.0,29762.714285714286,29437.571428571428,28949.14285714286,28553.285714285714,27587.0,27452.428571428572,27159.714285714286,26891.285714285714,25988.14285714286,23878.14285714286,23676.85714285714,23196.714285714286,22980.14285714286,22778.571428571428,23020.571428571428,22831.571428571428,23106.571428571428,22931.0,22582.714285714286,21842.428571428572,21224.428571428572,20764.285714285714,20871.285714285714,21518.285714285714,21789.0,21966.571428571428,21838.571428571428,22433.0,21491.714285714286,21208.0,21617.285714285714,21843.85714285714,21384.428571428572,22133.285714285714,23001.85714285714,23402.285714285714,24096.14285714286,24859.428571428572,28329.285714285714,29782.85714285714,31402.0,33275.42857142857,35374.28571428572,40007.57142857143,41911.71428571428,43766.857142857145,45822.0,50452.28571428572,51265.857142857145,52620.142857142855,53238.71428571428,54820.57142857143,60249.71428571428,61895.142857142855,63164.71428571428,65421.57142857143,65806.71428571429,66452.57142857143,66406.14285714286,66605.71428571429,65794.14285714286,66165.85714285714,65531.57142857143,65222.857142857145,64800.42857142857,64649.28571428572,64015.42857142857,60434.28571428572,59067.57142857143,57202.0,55568.57142857143,54435.57142857143,53833.71428571428,53806.28571428572,53885.57142857143,53392.28571428572,53152.28571428572,50225.142857142855,48778.857142857145,47169.57142857143,46022.142857142855,44529.57142857143,42723.857142857145,42145.28571428572,42474.71428571428,42415.142857142855,42063.0,41600.42857142857,42295.57142857143,40456.28571428572,40568.42857142857,41359.42857142857,36757.28571428572,36884.142857142855,35693.28571428572,35045.57142857143,36748.0,38215.857142857145,39063.857142857145,40099.42857142857,40288.0,43685.857142857145,43425.0,43750.857142857145,43735.71428571428,44549.142857142855,42296.857142857145,43197.71428571428,43270.42857142857,43443.857142857145,43300.857142857145,47286.857142857145,47167.57142857143,48733.142857142855,50156.57142857143,50925.42857142857,50810.0,52457.28571428572,53433.857142857145,54715.42857142857,56358.57142857143,59449.42857142857,60335.28571428572,60961.57142857143,62358.28571428572,64477.28571428572,71170.0,73140.42857142857,75661.14285714286,77881.0,79962.57142857143,85602.0,88177.57142857143,91919.85714285714,96302.71428571429,101010.57142857143,116351.28571428571,123113.28571428571,128084.71428571429,134127.85714285713,141081.14285714287,155508.14285714287,158634.0,162834.2857142857,166242.42857142858,168722.85714285713,173232.57142857142,175550.7142857143,176737.85714285713,165661.57142857142,160352.7142857143,161262.7142857143,164203.0,180595.0,184242.0,202379.7142857143,207449.14285714287,210098.2857142857,211167.85714285713,218188.57142857142,219686.2857142857,217320.42857142858,220907.7142857143,222691.14285714287,218502.14285714287,216030.42857142858,215813.85714285713,213376.14285714287,207062.14285714287,183114.57142857142,183027.85714285713,183197.2857142857,188556.2857142857,221924.42857142858,226779.57142857142,230639.14285714287,237683.42857142858,259616.14285714287,251231.85714285713,250512.0,246706.14285714287,240875.85714285713,232172.42857142858,201294.85714285713,195032.42857142858,188026.7142857143,181128.42857142858,172664.0,167477.42857142858,163232.0,159759.57142857142,155909.57142857142,146663.85714285713,141609.2857142857,136525.42857142858,130734.14285714286,125717.85714285714,110826.57142857143,108131.42857142857,104530.28571428571,101673.71428571429,97406.0,81212.28571428571,77667.42857142857,72831.85714285714,69744.0,66981.42857142857,68034.71428571429,68610.85714285714,69480.85714285714,69524.57142857143,67511.57142857143,65473.142857142855,64390.0,62875.857142857145,61072.57142857143,64056.42857142857,63807.142857142855,62604.71428571428,61905.42857142857,61687.0,55051.0,54855.57142857143,54960.71428571428,54686.857142857145,54180.71428571428,53984.142857142855,54300.57142857143,57296.57142857143,58531.71428571428,60514.0,65174.0,65958.0,64248.42857142857,65402.28571428572,64786.42857142857,64749.0,65485.28571428572,65951.71428571429,67807.85714285714,68824.14285714286,71016.85714285714,71396.85714285714,70430.57142857143,69969.42857142857,67236.0,64907.857142857145,63014.28571428572,61949.57142857143,59868.142857142855,54991.142857142855,53684.42857142857,52587.71428571428,51350.71428571428,50598.28571428572,49589.857142857145,48029.57142857143,46586.857142857145,45174.28571428572,43599.42857142857,39058.857142857145,38071.142857142855,36751.71428571428,35429.57142857143,34499.28571428572,31987.285714285714,31104.714285714286,30149.14285714286,28889.0,27179.0,24768.571428571428,24050.714285714286,23278.14285714286,23010.85714285714,22012.714285714286,17176.0,16243.42857142857,15061.142857142857,8486.42857142857,10136.142857142857,8938.285714285714,9482.0,8957.42857142857,14789.714285714286,13951.42857142857,13621.0,12727.714285714286,12211.714285714286,11622.142857142857,11236.714285714286,11363.714285714286,11309.42857142857,11667.714285714286,11991.0,11839.42857142857,12263.42857142857,12541.42857142857,19722.0,20503.85714285714,19993.571428571428,22028.14285714286,19781.571428571428,21910.0,27221.14285714286,29493.285714285714,30612.714285714286,28724.85714285714,31137.571428571428,35704.71428571428,38437.42857142857,41542.57142857143,45754.28571428572,50159.71428571428,56996.142857142855,63382.857142857145,66978.57142857143,71663.42857142857,77322.28571428571,85929.85714285714,92143.14285714286,96055.0,100151.85714285714,106677.14285714286,116407.42857142857,118090.28571428571,124266.42857142857,125943.14285714286,128663.28571428571,142413.85714285713,139871.85714285713,141162.42857142858,144168.57142857142,145913.42857142858,150625.2857142857,151468.14285714287,152371.7142857143,156373.0,155845.14285714287,158946.42857142858,160382.57142857142,166105.2857142857,164381.7142857143,163748.0,152393.0,148563.57142857142,147831.42857142858,145665.85714285713,175822.2857142857,154616.2857142857,152617.14285714287,150376.0,149036.2857142857,137287.7142857143,134041.85714285713,130798.71428571429,126938.85714285714,123092.14285714286,117994.14285714286,115617.71428571429,112906.14285714286,111241.14285714286,109207.57142857143,103799.28571428571,101693.85714285714,101328.57142857143,99784.71428571429,97949.0,89562.57142857143,91416.0,88644.85714285714,86297.28571428571,84245.0,83341.14285714286,79356.42857142857,76508.57142857143,75505.28571428571,73896.14285714286,70290.57142857143,70824.85714285714,71956.57142857143,72562.14285714286,72766.0,75677.0,74179.85714285714,72794.14285714286,72351.57142857143,72786.57142857143,73875.28571428571,74737.57142857143,76768.71428571429,74127.85714285714,79496.85714285714,87089.0,88161.28571428571,90346.28571428571,96870.85714285714,95484.71428571429,95156.71428571429,95483.28571428571,96274.0,75196.42857142857,79997.42857142857,82357.85714285714,85132.57142857143,100541.0,115072.42857142857,118675.28571428571,119347.14285714286,120737.14285714286,118564.71428571429,120252.85714285714,120313.28571428571,120722.14285714286,120183.71428571429,123442.85714285714,124311.85714285714,147091.42857142858,157464.57142857142,171524.0,188509.14285714287,239129.2857142857,266449.4285714286,301502.5714285714,347194.0,384714.28571428574],\"yaxis\":\"y\",\"type\":\"scatter\"}],                        {\"template\":{\"data\":{\"bar\":[{\"error_x\":{\"color\":\"#2a3f5f\"},\"error_y\":{\"color\":\"#2a3f5f\"},\"marker\":{\"line\":{\"color\":\"#E5ECF6\",\"width\":0.5},\"pattern\":{\"fillmode\":\"overlay\",\"size\":10,\"solidity\":0.2}},\"type\":\"bar\"}],\"barpolar\":[{\"marker\":{\"line\":{\"color\":\"#E5ECF6\",\"width\":0.5},\"pattern\":{\"fillmode\":\"overlay\",\"size\":10,\"solidity\":0.2}},\"type\":\"barpolar\"}],\"carpet\":[{\"aaxis\":{\"endlinecolor\":\"#2a3f5f\",\"gridcolor\":\"white\",\"linecolor\":\"white\",\"minorgridcolor\":\"white\",\"startlinecolor\":\"#2a3f5f\"},\"baxis\":{\"endlinecolor\":\"#2a3f5f\",\"gridcolor\":\"white\",\"linecolor\":\"white\",\"minorgridcolor\":\"white\",\"startlinecolor\":\"#2a3f5f\"},\"type\":\"carpet\"}],\"choropleth\":[{\"colorbar\":{\"outlinewidth\":0,\"ticks\":\"\"},\"type\":\"choropleth\"}],\"contour\":[{\"colorbar\":{\"outlinewidth\":0,\"ticks\":\"\"},\"colorscale\":[[0.0,\"#0d0887\"],[0.1111111111111111,\"#46039f\"],[0.2222222222222222,\"#7201a8\"],[0.3333333333333333,\"#9c179e\"],[0.4444444444444444,\"#bd3786\"],[0.5555555555555556,\"#d8576b\"],[0.6666666666666666,\"#ed7953\"],[0.7777777777777778,\"#fb9f3a\"],[0.8888888888888888,\"#fdca26\"],[1.0,\"#f0f921\"]],\"type\":\"contour\"}],\"contourcarpet\":[{\"colorbar\":{\"outlinewidth\":0,\"ticks\":\"\"},\"type\":\"contourcarpet\"}],\"heatmap\":[{\"colorbar\":{\"outlinewidth\":0,\"ticks\":\"\"},\"colorscale\":[[0.0,\"#0d0887\"],[0.1111111111111111,\"#46039f\"],[0.2222222222222222,\"#7201a8\"],[0.3333333333333333,\"#9c179e\"],[0.4444444444444444,\"#bd3786\"],[0.5555555555555556,\"#d8576b\"],[0.6666666666666666,\"#ed7953\"],[0.7777777777777778,\"#fb9f3a\"],[0.8888888888888888,\"#fdca26\"],[1.0,\"#f0f921\"]],\"type\":\"heatmap\"}],\"heatmapgl\":[{\"colorbar\":{\"outlinewidth\":0,\"ticks\":\"\"},\"colorscale\":[[0.0,\"#0d0887\"],[0.1111111111111111,\"#46039f\"],[0.2222222222222222,\"#7201a8\"],[0.3333333333333333,\"#9c179e\"],[0.4444444444444444,\"#bd3786\"],[0.5555555555555556,\"#d8576b\"],[0.6666666666666666,\"#ed7953\"],[0.7777777777777778,\"#fb9f3a\"],[0.8888888888888888,\"#fdca26\"],[1.0,\"#f0f921\"]],\"type\":\"heatmapgl\"}],\"histogram\":[{\"marker\":{\"pattern\":{\"fillmode\":\"overlay\",\"size\":10,\"solidity\":0.2}},\"type\":\"histogram\"}],\"histogram2d\":[{\"colorbar\":{\"outlinewidth\":0,\"ticks\":\"\"},\"colorscale\":[[0.0,\"#0d0887\"],[0.1111111111111111,\"#46039f\"],[0.2222222222222222,\"#7201a8\"],[0.3333333333333333,\"#9c179e\"],[0.4444444444444444,\"#bd3786\"],[0.5555555555555556,\"#d8576b\"],[0.6666666666666666,\"#ed7953\"],[0.7777777777777778,\"#fb9f3a\"],[0.8888888888888888,\"#fdca26\"],[1.0,\"#f0f921\"]],\"type\":\"histogram2d\"}],\"histogram2dcontour\":[{\"colorbar\":{\"outlinewidth\":0,\"ticks\":\"\"},\"colorscale\":[[0.0,\"#0d0887\"],[0.1111111111111111,\"#46039f\"],[0.2222222222222222,\"#7201a8\"],[0.3333333333333333,\"#9c179e\"],[0.4444444444444444,\"#bd3786\"],[0.5555555555555556,\"#d8576b\"],[0.6666666666666666,\"#ed7953\"],[0.7777777777777778,\"#fb9f3a\"],[0.8888888888888888,\"#fdca26\"],[1.0,\"#f0f921\"]],\"type\":\"histogram2dcontour\"}],\"mesh3d\":[{\"colorbar\":{\"outlinewidth\":0,\"ticks\":\"\"},\"type\":\"mesh3d\"}],\"parcoords\":[{\"line\":{\"colorbar\":{\"outlinewidth\":0,\"ticks\":\"\"}},\"type\":\"parcoords\"}],\"pie\":[{\"automargin\":true,\"type\":\"pie\"}],\"scatter\":[{\"marker\":{\"colorbar\":{\"outlinewidth\":0,\"ticks\":\"\"}},\"type\":\"scatter\"}],\"scatter3d\":[{\"line\":{\"colorbar\":{\"outlinewidth\":0,\"ticks\":\"\"}},\"marker\":{\"colorbar\":{\"outlinewidth\":0,\"ticks\":\"\"}},\"type\":\"scatter3d\"}],\"scattercarpet\":[{\"marker\":{\"colorbar\":{\"outlinewidth\":0,\"ticks\":\"\"}},\"type\":\"scattercarpet\"}],\"scattergeo\":[{\"marker\":{\"colorbar\":{\"outlinewidth\":0,\"ticks\":\"\"}},\"type\":\"scattergeo\"}],\"scattergl\":[{\"marker\":{\"colorbar\":{\"outlinewidth\":0,\"ticks\":\"\"}},\"type\":\"scattergl\"}],\"scattermapbox\":[{\"marker\":{\"colorbar\":{\"outlinewidth\":0,\"ticks\":\"\"}},\"type\":\"scattermapbox\"}],\"scatterpolar\":[{\"marker\":{\"colorbar\":{\"outlinewidth\":0,\"ticks\":\"\"}},\"type\":\"scatterpolar\"}],\"scatterpolargl\":[{\"marker\":{\"colorbar\":{\"outlinewidth\":0,\"ticks\":\"\"}},\"type\":\"scatterpolargl\"}],\"scatterternary\":[{\"marker\":{\"colorbar\":{\"outlinewidth\":0,\"ticks\":\"\"}},\"type\":\"scatterternary\"}],\"surface\":[{\"colorbar\":{\"outlinewidth\":0,\"ticks\":\"\"},\"colorscale\":[[0.0,\"#0d0887\"],[0.1111111111111111,\"#46039f\"],[0.2222222222222222,\"#7201a8\"],[0.3333333333333333,\"#9c179e\"],[0.4444444444444444,\"#bd3786\"],[0.5555555555555556,\"#d8576b\"],[0.6666666666666666,\"#ed7953\"],[0.7777777777777778,\"#fb9f3a\"],[0.8888888888888888,\"#fdca26\"],[1.0,\"#f0f921\"]],\"type\":\"surface\"}],\"table\":[{\"cells\":{\"fill\":{\"color\":\"#EBF0F8\"},\"line\":{\"color\":\"white\"}},\"header\":{\"fill\":{\"color\":\"#C8D4E3\"},\"line\":{\"color\":\"white\"}},\"type\":\"table\"}]},\"layout\":{\"annotationdefaults\":{\"arrowcolor\":\"#2a3f5f\",\"arrowhead\":0,\"arrowwidth\":1},\"autotypenumbers\":\"strict\",\"coloraxis\":{\"colorbar\":{\"outlinewidth\":0,\"ticks\":\"\"}},\"colorscale\":{\"diverging\":[[0,\"#8e0152\"],[0.1,\"#c51b7d\"],[0.2,\"#de77ae\"],[0.3,\"#f1b6da\"],[0.4,\"#fde0ef\"],[0.5,\"#f7f7f7\"],[0.6,\"#e6f5d0\"],[0.7,\"#b8e186\"],[0.8,\"#7fbc41\"],[0.9,\"#4d9221\"],[1,\"#276419\"]],\"sequential\":[[0.0,\"#0d0887\"],[0.1111111111111111,\"#46039f\"],[0.2222222222222222,\"#7201a8\"],[0.3333333333333333,\"#9c179e\"],[0.4444444444444444,\"#bd3786\"],[0.5555555555555556,\"#d8576b\"],[0.6666666666666666,\"#ed7953\"],[0.7777777777777778,\"#fb9f3a\"],[0.8888888888888888,\"#fdca26\"],[1.0,\"#f0f921\"]],\"sequentialminus\":[[0.0,\"#0d0887\"],[0.1111111111111111,\"#46039f\"],[0.2222222222222222,\"#7201a8\"],[0.3333333333333333,\"#9c179e\"],[0.4444444444444444,\"#bd3786\"],[0.5555555555555556,\"#d8576b\"],[0.6666666666666666,\"#ed7953\"],[0.7777777777777778,\"#fb9f3a\"],[0.8888888888888888,\"#fdca26\"],[1.0,\"#f0f921\"]]},\"colorway\":[\"#636efa\",\"#EF553B\",\"#00cc96\",\"#ab63fa\",\"#FFA15A\",\"#19d3f3\",\"#FF6692\",\"#B6E880\",\"#FF97FF\",\"#FECB52\"],\"font\":{\"color\":\"#2a3f5f\"},\"geo\":{\"bgcolor\":\"white\",\"lakecolor\":\"white\",\"landcolor\":\"#E5ECF6\",\"showlakes\":true,\"showland\":true,\"subunitcolor\":\"white\"},\"hoverlabel\":{\"align\":\"left\"},\"hovermode\":\"closest\",\"mapbox\":{\"style\":\"light\"},\"paper_bgcolor\":\"white\",\"plot_bgcolor\":\"#E5ECF6\",\"polar\":{\"angularaxis\":{\"gridcolor\":\"white\",\"linecolor\":\"white\",\"ticks\":\"\"},\"bgcolor\":\"#E5ECF6\",\"radialaxis\":{\"gridcolor\":\"white\",\"linecolor\":\"white\",\"ticks\":\"\"}},\"scene\":{\"xaxis\":{\"backgroundcolor\":\"#E5ECF6\",\"gridcolor\":\"white\",\"gridwidth\":2,\"linecolor\":\"white\",\"showbackground\":true,\"ticks\":\"\",\"zerolinecolor\":\"white\"},\"yaxis\":{\"backgroundcolor\":\"#E5ECF6\",\"gridcolor\":\"white\",\"gridwidth\":2,\"linecolor\":\"white\",\"showbackground\":true,\"ticks\":\"\",\"zerolinecolor\":\"white\"},\"zaxis\":{\"backgroundcolor\":\"#E5ECF6\",\"gridcolor\":\"white\",\"gridwidth\":2,\"linecolor\":\"white\",\"showbackground\":true,\"ticks\":\"\",\"zerolinecolor\":\"white\"}},\"shapedefaults\":{\"line\":{\"color\":\"#2a3f5f\"}},\"ternary\":{\"aaxis\":{\"gridcolor\":\"white\",\"linecolor\":\"white\",\"ticks\":\"\"},\"baxis\":{\"gridcolor\":\"white\",\"linecolor\":\"white\",\"ticks\":\"\"},\"bgcolor\":\"#E5ECF6\",\"caxis\":{\"gridcolor\":\"white\",\"linecolor\":\"white\",\"ticks\":\"\"}},\"title\":{\"x\":0.05},\"xaxis\":{\"automargin\":true,\"gridcolor\":\"white\",\"linecolor\":\"white\",\"ticks\":\"\",\"title\":{\"standoff\":15},\"zerolinecolor\":\"white\",\"zerolinewidth\":2},\"yaxis\":{\"automargin\":true,\"gridcolor\":\"white\",\"linecolor\":\"white\",\"ticks\":\"\",\"title\":{\"standoff\":15},\"zerolinecolor\":\"white\",\"zerolinewidth\":2}}},\"xaxis\":{\"anchor\":\"y\",\"domain\":[0.0,1.0],\"title\":{\"text\":\"date\"}},\"yaxis\":{\"anchor\":\"x\",\"domain\":[0.0,1.0],\"title\":{\"text\":\"cases_7day\"}},\"legend\":{\"tracegroupgap\":0},\"margin\":{\"t\":60}},                        {\"responsive\": true}                    ).then(function(){\n",
       "                            \n",
       "var gd = document.getElementById('8b86a460-c0f0-4694-9374-22fd11022c32');\n",
       "var x = new MutationObserver(function (mutations, observer) {{\n",
       "        var display = window.getComputedStyle(gd).display;\n",
       "        if (!display || display === 'none') {{\n",
       "            console.log([gd, 'removed!']);\n",
       "            Plotly.purge(gd);\n",
       "            observer.disconnect();\n",
       "        }}\n",
       "}});\n",
       "\n",
       "// Listen for the removal of the full notebook cells\n",
       "var notebookContainer = gd.closest('#notebook-container');\n",
       "if (notebookContainer) {{\n",
       "    x.observe(notebookContainer, {childList: true});\n",
       "}}\n",
       "\n",
       "// Listen for the clearing of the current output cell\n",
       "var outputEl = gd.closest('.output');\n",
       "if (outputEl) {{\n",
       "    x.observe(outputEl, {childList: true});\n",
       "}}\n",
       "\n",
       "                        })                };                });            </script>        </div>"
      ]
     },
     "metadata": {},
     "output_type": "display_data"
    }
   ],
   "source": [
    "px.line(data_frame=data, y='cases_7day', color_discrete_sequence=[px.colors.qualitative.T10[2]])"
   ]
  },
  {
   "cell_type": "code",
   "execution_count": 28,
   "id": "09c9deca-d4cd-4e60-973e-5cbdb762e058",
   "metadata": {
    "tags": []
   },
   "outputs": [
    {
     "data": {
      "application/vnd.plotly.v1+json": {
       "config": {
        "plotlyServerURL": "https://plot.ly"
       },
       "data": [
        {
         "hovertemplate": "variable=PFEx<br>date=%{x}<br>value=%{y}<extra></extra>",
         "legendgroup": "PFEx",
         "line": {
          "color": "#4C78A8",
          "dash": "solid"
         },
         "marker": {
          "symbol": "circle"
         },
         "mode": "lines",
         "name": "PFEx",
         "showlegend": true,
         "type": "scattergl",
         "x": [
          "2020-01-02T00:00:00",
          "2020-01-03T00:00:00",
          "2020-01-06T00:00:00",
          "2020-01-07T00:00:00",
          "2020-01-08T00:00:00",
          "2020-01-09T00:00:00",
          "2020-01-10T00:00:00",
          "2020-01-13T00:00:00",
          "2020-01-14T00:00:00",
          "2020-01-15T00:00:00",
          "2020-01-16T00:00:00",
          "2020-01-17T00:00:00",
          "2020-01-21T00:00:00",
          "2020-01-22T00:00:00",
          "2020-01-23T00:00:00",
          "2020-01-24T00:00:00",
          "2020-01-27T00:00:00",
          "2020-01-28T00:00:00",
          "2020-01-29T00:00:00",
          "2020-01-30T00:00:00",
          "2020-01-31T00:00:00",
          "2020-02-03T00:00:00",
          "2020-02-04T00:00:00",
          "2020-02-05T00:00:00",
          "2020-02-06T00:00:00",
          "2020-02-07T00:00:00",
          "2020-02-10T00:00:00",
          "2020-02-11T00:00:00",
          "2020-02-12T00:00:00",
          "2020-02-13T00:00:00",
          "2020-02-14T00:00:00",
          "2020-02-18T00:00:00",
          "2020-02-19T00:00:00",
          "2020-02-20T00:00:00",
          "2020-02-21T00:00:00",
          "2020-02-24T00:00:00",
          "2020-02-25T00:00:00",
          "2020-02-26T00:00:00",
          "2020-02-27T00:00:00",
          "2020-02-28T00:00:00",
          "2020-03-02T00:00:00",
          "2020-03-03T00:00:00",
          "2020-03-04T00:00:00",
          "2020-03-05T00:00:00",
          "2020-03-06T00:00:00",
          "2020-03-09T00:00:00",
          "2020-03-10T00:00:00",
          "2020-03-11T00:00:00",
          "2020-03-12T00:00:00",
          "2020-03-13T00:00:00",
          "2020-03-16T00:00:00",
          "2020-03-17T00:00:00",
          "2020-03-18T00:00:00",
          "2020-03-19T00:00:00",
          "2020-03-20T00:00:00",
          "2020-03-23T00:00:00",
          "2020-03-24T00:00:00",
          "2020-03-25T00:00:00",
          "2020-03-26T00:00:00",
          "2020-03-27T00:00:00",
          "2020-03-30T00:00:00",
          "2020-03-31T00:00:00",
          "2020-04-01T00:00:00",
          "2020-04-02T00:00:00",
          "2020-04-03T00:00:00",
          "2020-04-06T00:00:00",
          "2020-04-07T00:00:00",
          "2020-04-08T00:00:00",
          "2020-04-09T00:00:00",
          "2020-04-13T00:00:00",
          "2020-04-14T00:00:00",
          "2020-04-15T00:00:00",
          "2020-04-16T00:00:00",
          "2020-04-17T00:00:00",
          "2020-04-20T00:00:00",
          "2020-04-21T00:00:00",
          "2020-04-22T00:00:00",
          "2020-04-23T00:00:00",
          "2020-04-24T00:00:00",
          "2020-04-27T00:00:00",
          "2020-04-28T00:00:00",
          "2020-04-29T00:00:00",
          "2020-04-30T00:00:00",
          "2020-05-01T00:00:00",
          "2020-05-04T00:00:00",
          "2020-05-05T00:00:00",
          "2020-05-06T00:00:00",
          "2020-05-07T00:00:00",
          "2020-05-08T00:00:00",
          "2020-05-11T00:00:00",
          "2020-05-12T00:00:00",
          "2020-05-13T00:00:00",
          "2020-05-14T00:00:00",
          "2020-05-15T00:00:00",
          "2020-05-18T00:00:00",
          "2020-05-19T00:00:00",
          "2020-05-20T00:00:00",
          "2020-05-21T00:00:00",
          "2020-05-22T00:00:00",
          "2020-05-26T00:00:00",
          "2020-05-27T00:00:00",
          "2020-05-28T00:00:00",
          "2020-05-29T00:00:00",
          "2020-06-01T00:00:00",
          "2020-06-02T00:00:00",
          "2020-06-03T00:00:00",
          "2020-06-04T00:00:00",
          "2020-06-05T00:00:00",
          "2020-06-08T00:00:00",
          "2020-06-09T00:00:00",
          "2020-06-10T00:00:00",
          "2020-06-11T00:00:00",
          "2020-06-12T00:00:00",
          "2020-06-15T00:00:00",
          "2020-06-16T00:00:00",
          "2020-06-17T00:00:00",
          "2020-06-18T00:00:00",
          "2020-06-19T00:00:00",
          "2020-06-22T00:00:00",
          "2020-06-23T00:00:00",
          "2020-06-24T00:00:00",
          "2020-06-25T00:00:00",
          "2020-06-26T00:00:00",
          "2020-06-29T00:00:00",
          "2020-06-30T00:00:00",
          "2020-07-01T00:00:00",
          "2020-07-02T00:00:00",
          "2020-07-06T00:00:00",
          "2020-07-07T00:00:00",
          "2020-07-08T00:00:00",
          "2020-07-09T00:00:00",
          "2020-07-10T00:00:00",
          "2020-07-13T00:00:00",
          "2020-07-14T00:00:00",
          "2020-07-15T00:00:00",
          "2020-07-16T00:00:00",
          "2020-07-17T00:00:00",
          "2020-07-20T00:00:00",
          "2020-07-21T00:00:00",
          "2020-07-22T00:00:00",
          "2020-07-23T00:00:00",
          "2020-07-24T00:00:00",
          "2020-07-27T00:00:00",
          "2020-07-28T00:00:00",
          "2020-07-29T00:00:00",
          "2020-07-30T00:00:00",
          "2020-07-31T00:00:00",
          "2020-08-03T00:00:00",
          "2020-08-04T00:00:00",
          "2020-08-05T00:00:00",
          "2020-08-06T00:00:00",
          "2020-08-07T00:00:00",
          "2020-08-10T00:00:00",
          "2020-08-11T00:00:00",
          "2020-08-12T00:00:00",
          "2020-08-13T00:00:00",
          "2020-08-14T00:00:00",
          "2020-08-17T00:00:00",
          "2020-08-18T00:00:00",
          "2020-08-19T00:00:00",
          "2020-08-20T00:00:00",
          "2020-08-21T00:00:00",
          "2020-08-24T00:00:00",
          "2020-08-25T00:00:00",
          "2020-08-26T00:00:00",
          "2020-08-27T00:00:00",
          "2020-08-28T00:00:00",
          "2020-08-31T00:00:00",
          "2020-09-01T00:00:00",
          "2020-09-02T00:00:00",
          "2020-09-03T00:00:00",
          "2020-09-04T00:00:00",
          "2020-09-08T00:00:00",
          "2020-09-09T00:00:00",
          "2020-09-10T00:00:00",
          "2020-09-11T00:00:00",
          "2020-09-14T00:00:00",
          "2020-09-15T00:00:00",
          "2020-09-16T00:00:00",
          "2020-09-17T00:00:00",
          "2020-09-18T00:00:00",
          "2020-09-21T00:00:00",
          "2020-09-22T00:00:00",
          "2020-09-23T00:00:00",
          "2020-09-24T00:00:00",
          "2020-09-25T00:00:00",
          "2020-09-28T00:00:00",
          "2020-09-29T00:00:00",
          "2020-09-30T00:00:00",
          "2020-10-01T00:00:00",
          "2020-10-02T00:00:00",
          "2020-10-05T00:00:00",
          "2020-10-06T00:00:00",
          "2020-10-07T00:00:00",
          "2020-10-08T00:00:00",
          "2020-10-09T00:00:00",
          "2020-10-12T00:00:00",
          "2020-10-13T00:00:00",
          "2020-10-14T00:00:00",
          "2020-10-15T00:00:00",
          "2020-10-16T00:00:00",
          "2020-10-19T00:00:00",
          "2020-10-20T00:00:00",
          "2020-10-21T00:00:00",
          "2020-10-22T00:00:00",
          "2020-10-23T00:00:00",
          "2020-10-26T00:00:00",
          "2020-10-27T00:00:00",
          "2020-10-28T00:00:00",
          "2020-10-29T00:00:00",
          "2020-10-30T00:00:00",
          "2020-11-02T00:00:00",
          "2020-11-03T00:00:00",
          "2020-11-04T00:00:00",
          "2020-11-05T00:00:00",
          "2020-11-06T00:00:00",
          "2020-11-09T00:00:00",
          "2020-11-10T00:00:00",
          "2020-11-11T00:00:00",
          "2020-11-12T00:00:00",
          "2020-11-13T00:00:00",
          "2020-11-16T00:00:00",
          "2020-11-17T00:00:00",
          "2020-11-18T00:00:00",
          "2020-11-19T00:00:00",
          "2020-11-20T00:00:00",
          "2020-11-23T00:00:00",
          "2020-11-24T00:00:00",
          "2020-11-25T00:00:00",
          "2020-11-27T00:00:00",
          "2020-11-30T00:00:00",
          "2020-12-01T00:00:00",
          "2020-12-02T00:00:00",
          "2020-12-03T00:00:00",
          "2020-12-04T00:00:00",
          "2020-12-07T00:00:00",
          "2020-12-08T00:00:00",
          "2020-12-09T00:00:00",
          "2020-12-10T00:00:00",
          "2020-12-11T00:00:00",
          "2020-12-14T00:00:00",
          "2020-12-15T00:00:00",
          "2020-12-16T00:00:00",
          "2020-12-17T00:00:00",
          "2020-12-18T00:00:00",
          "2020-12-21T00:00:00",
          "2020-12-22T00:00:00",
          "2020-12-23T00:00:00",
          "2020-12-24T00:00:00",
          "2020-12-28T00:00:00",
          "2020-12-29T00:00:00",
          "2020-12-30T00:00:00",
          "2020-12-31T00:00:00",
          "2021-01-04T00:00:00",
          "2021-01-05T00:00:00",
          "2021-01-06T00:00:00",
          "2021-01-07T00:00:00",
          "2021-01-08T00:00:00",
          "2021-01-11T00:00:00",
          "2021-01-12T00:00:00",
          "2021-01-13T00:00:00",
          "2021-01-14T00:00:00",
          "2021-01-15T00:00:00",
          "2021-01-19T00:00:00",
          "2021-01-20T00:00:00",
          "2021-01-21T00:00:00",
          "2021-01-22T00:00:00",
          "2021-01-25T00:00:00",
          "2021-01-26T00:00:00",
          "2021-01-27T00:00:00",
          "2021-01-28T00:00:00",
          "2021-01-29T00:00:00",
          "2021-02-01T00:00:00",
          "2021-02-02T00:00:00",
          "2021-02-03T00:00:00",
          "2021-02-04T00:00:00",
          "2021-02-05T00:00:00",
          "2021-02-08T00:00:00",
          "2021-02-09T00:00:00",
          "2021-02-10T00:00:00",
          "2021-02-11T00:00:00",
          "2021-02-12T00:00:00",
          "2021-02-16T00:00:00",
          "2021-02-17T00:00:00",
          "2021-02-18T00:00:00",
          "2021-02-19T00:00:00",
          "2021-02-22T00:00:00",
          "2021-02-23T00:00:00",
          "2021-02-24T00:00:00",
          "2021-02-25T00:00:00",
          "2021-02-26T00:00:00",
          "2021-03-01T00:00:00",
          "2021-03-02T00:00:00",
          "2021-03-03T00:00:00",
          "2021-03-04T00:00:00",
          "2021-03-05T00:00:00",
          "2021-03-08T00:00:00",
          "2021-03-09T00:00:00",
          "2021-03-10T00:00:00",
          "2021-03-11T00:00:00",
          "2021-03-12T00:00:00",
          "2021-03-15T00:00:00",
          "2021-03-16T00:00:00",
          "2021-03-17T00:00:00",
          "2021-03-18T00:00:00",
          "2021-03-19T00:00:00",
          "2021-03-22T00:00:00",
          "2021-03-23T00:00:00",
          "2021-03-24T00:00:00",
          "2021-03-25T00:00:00",
          "2021-03-26T00:00:00",
          "2021-03-29T00:00:00",
          "2021-03-30T00:00:00",
          "2021-03-31T00:00:00",
          "2021-04-01T00:00:00",
          "2021-04-05T00:00:00",
          "2021-04-06T00:00:00",
          "2021-04-07T00:00:00",
          "2021-04-08T00:00:00",
          "2021-04-09T00:00:00",
          "2021-04-12T00:00:00",
          "2021-04-13T00:00:00",
          "2021-04-14T00:00:00",
          "2021-04-15T00:00:00",
          "2021-04-16T00:00:00",
          "2021-04-19T00:00:00",
          "2021-04-20T00:00:00",
          "2021-04-21T00:00:00",
          "2021-04-22T00:00:00",
          "2021-04-23T00:00:00",
          "2021-04-26T00:00:00",
          "2021-04-27T00:00:00",
          "2021-04-28T00:00:00",
          "2021-04-29T00:00:00",
          "2021-04-30T00:00:00",
          "2021-05-03T00:00:00",
          "2021-05-04T00:00:00",
          "2021-05-05T00:00:00",
          "2021-05-06T00:00:00",
          "2021-05-07T00:00:00",
          "2021-05-10T00:00:00",
          "2021-05-11T00:00:00",
          "2021-05-12T00:00:00",
          "2021-05-13T00:00:00",
          "2021-05-14T00:00:00",
          "2021-05-17T00:00:00",
          "2021-05-18T00:00:00",
          "2021-05-19T00:00:00",
          "2021-05-20T00:00:00",
          "2021-05-21T00:00:00",
          "2021-05-24T00:00:00",
          "2021-05-25T00:00:00",
          "2021-05-26T00:00:00",
          "2021-05-27T00:00:00",
          "2021-05-28T00:00:00",
          "2021-06-01T00:00:00",
          "2021-06-02T00:00:00",
          "2021-06-03T00:00:00",
          "2021-06-04T00:00:00",
          "2021-06-07T00:00:00",
          "2021-06-08T00:00:00",
          "2021-06-09T00:00:00",
          "2021-06-10T00:00:00",
          "2021-06-11T00:00:00",
          "2021-06-14T00:00:00",
          "2021-06-15T00:00:00",
          "2021-06-16T00:00:00",
          "2021-06-17T00:00:00",
          "2021-06-18T00:00:00",
          "2021-06-21T00:00:00",
          "2021-06-22T00:00:00",
          "2021-06-23T00:00:00",
          "2021-06-24T00:00:00",
          "2021-06-25T00:00:00",
          "2021-06-28T00:00:00",
          "2021-06-29T00:00:00",
          "2021-06-30T00:00:00",
          "2021-07-01T00:00:00",
          "2021-07-02T00:00:00",
          "2021-07-06T00:00:00",
          "2021-07-07T00:00:00",
          "2021-07-08T00:00:00",
          "2021-07-09T00:00:00",
          "2021-07-12T00:00:00",
          "2021-07-13T00:00:00",
          "2021-07-14T00:00:00",
          "2021-07-15T00:00:00",
          "2021-07-16T00:00:00",
          "2021-07-19T00:00:00",
          "2021-07-20T00:00:00",
          "2021-07-21T00:00:00",
          "2021-07-22T00:00:00",
          "2021-07-23T00:00:00",
          "2021-07-26T00:00:00",
          "2021-07-27T00:00:00",
          "2021-07-28T00:00:00",
          "2021-07-29T00:00:00",
          "2021-07-30T00:00:00",
          "2021-08-02T00:00:00",
          "2021-08-03T00:00:00",
          "2021-08-04T00:00:00",
          "2021-08-05T00:00:00",
          "2021-08-06T00:00:00",
          "2021-08-09T00:00:00",
          "2021-08-10T00:00:00",
          "2021-08-11T00:00:00",
          "2021-08-12T00:00:00",
          "2021-08-13T00:00:00",
          "2021-08-16T00:00:00",
          "2021-08-17T00:00:00",
          "2021-08-18T00:00:00",
          "2021-08-19T00:00:00",
          "2021-08-20T00:00:00",
          "2021-08-23T00:00:00",
          "2021-08-24T00:00:00",
          "2021-08-25T00:00:00",
          "2021-08-26T00:00:00",
          "2021-08-27T00:00:00",
          "2021-08-30T00:00:00",
          "2021-08-31T00:00:00",
          "2021-09-01T00:00:00",
          "2021-09-02T00:00:00",
          "2021-09-03T00:00:00",
          "2021-09-07T00:00:00",
          "2021-09-08T00:00:00",
          "2021-09-09T00:00:00",
          "2021-09-10T00:00:00",
          "2021-09-13T00:00:00",
          "2021-09-14T00:00:00",
          "2021-09-15T00:00:00",
          "2021-09-16T00:00:00",
          "2021-09-17T00:00:00",
          "2021-09-20T00:00:00",
          "2021-09-21T00:00:00",
          "2021-09-22T00:00:00",
          "2021-09-23T00:00:00",
          "2021-09-24T00:00:00",
          "2021-09-27T00:00:00",
          "2021-09-28T00:00:00",
          "2021-09-29T00:00:00",
          "2021-09-30T00:00:00",
          "2021-10-01T00:00:00",
          "2021-10-04T00:00:00",
          "2021-10-05T00:00:00",
          "2021-10-06T00:00:00",
          "2021-10-07T00:00:00",
          "2021-10-08T00:00:00",
          "2021-10-11T00:00:00",
          "2021-10-12T00:00:00",
          "2021-10-13T00:00:00",
          "2021-10-14T00:00:00",
          "2021-10-15T00:00:00",
          "2021-10-18T00:00:00",
          "2021-10-19T00:00:00",
          "2021-10-20T00:00:00",
          "2021-10-21T00:00:00",
          "2021-10-22T00:00:00",
          "2021-10-25T00:00:00",
          "2021-10-26T00:00:00",
          "2021-10-27T00:00:00",
          "2021-10-28T00:00:00",
          "2021-10-29T00:00:00",
          "2021-11-01T00:00:00",
          "2021-11-02T00:00:00",
          "2021-11-03T00:00:00",
          "2021-11-04T00:00:00",
          "2021-11-05T00:00:00",
          "2021-11-08T00:00:00",
          "2021-11-09T00:00:00",
          "2021-11-10T00:00:00",
          "2021-11-11T00:00:00",
          "2021-11-12T00:00:00",
          "2021-11-15T00:00:00",
          "2021-11-16T00:00:00",
          "2021-11-17T00:00:00",
          "2021-11-18T00:00:00",
          "2021-11-19T00:00:00",
          "2021-11-22T00:00:00",
          "2021-11-23T00:00:00",
          "2021-11-24T00:00:00",
          "2021-11-26T00:00:00",
          "2021-11-29T00:00:00",
          "2021-11-30T00:00:00",
          "2021-12-01T00:00:00",
          "2021-12-02T00:00:00",
          "2021-12-03T00:00:00",
          "2021-12-06T00:00:00",
          "2021-12-07T00:00:00",
          "2021-12-08T00:00:00",
          "2021-12-09T00:00:00",
          "2021-12-10T00:00:00",
          "2021-12-13T00:00:00",
          "2021-12-14T00:00:00",
          "2021-12-15T00:00:00",
          "2021-12-16T00:00:00",
          "2021-12-17T00:00:00",
          "2021-12-20T00:00:00",
          "2021-12-21T00:00:00",
          "2021-12-22T00:00:00",
          "2021-12-23T00:00:00",
          "2021-12-27T00:00:00",
          "2021-12-28T00:00:00",
          "2021-12-29T00:00:00",
          "2021-12-30T00:00:00",
          "2021-12-31T00:00:00"
         ],
         "xaxis": "x",
         "y": [
          340.7484436035156,
          338.9202117919922,
          338.48487854003906,
          337.3530960083008,
          340.05191802978516,
          338.57200622558594,
          343.79547119140625,
          343.0990219116211,
          348.8449478149414,
          354.0684127807617,
          353.54610443115234,
          352.6755142211914,
          351.1954879760742,
          349.8896026611328,
          354.4166564941406,
          346.6684341430664,
          349.6284484863281,
          332.0425033569336,
          327.16724395751953,
          326.0239028930664,
          327.5191116333008,
          329.8936080932617,
          331.47674560546875,
          335.6982421875,
          336.48975372314453,
          334.6428680419922,
          332.53204345703125,
          334.99462127685547,
          331.91646575927734,
          324.7926330566406,
          321.09886169433594,
          319.4277572631836,
          318.6362838745117,
          315.29422760009766,
          314.15088653564453,
          304.9163818359375,
          298.40816497802734,
          305.35608291625977,
          299.90331649780273,
          293.92284393310547,
          306.7632484436035,
          301.6622543334961,
          320.1313781738281,
          311.86424255371094,
          307.99455642700195,
          296.9131088256836,
          304.21274185180664,
          282.9292869567871,
          264.0204620361328,
          287.6785469055176,
          265.42762756347656,
          282.84135818481445,
          284.6002960205078,
          267.5383949279785,
          255.13769149780273,
          250.56440353393555,
          261.20609283447266,
          261.6458320617676,
          279.2354965209961,
          271.7599296569824,
          287.3267364501953,
          287.06287384033203,
          279.2354965209961,
          289.0856742858887,
          295.85771560668945,
          304.03690338134766,
          295.5938529968262,
          304.30070877075195,
          311.2486267089844,
          309.0499496459961,
          320.4831314086914,
          316.3496208190918,
          315.5580520629883,
          324.61669921875,
          317.3170471191406,
          313.271484375,
          318.81216049194336,
          322.68184661865234,
          328.75030517578125,
          337.10533142089844,
          333.4115982055664,
          335.2585220336914,
          337.3692321777344,
          331.0369110107422,
          330.86109161376953,
          338.68846893310547,
          338.68846893310547,
          328.29601287841797,
          330.60543060302734,
          338.4219741821289,
          331.8489456176758,
          329.0953826904297,
          336.8231201171875,
          335.4019546508789,
          338.155517578125,
          334.6913528442383,
          334.2472457885742,
          330.96073150634766,
          333.0924987792969,
          333.0036926269531,
          332.2930908203125,
          339.1326141357422,
          339.2213821411133,
          314.97222900390625,
          321.1899948120117,
          321.1899948120117,
          319.8575782775879,
          319.6799850463867,
          325.00946044921875,
          321.6341781616211,
          319.0581703186035,
          295.7861328125,
          299.7832679748535,
          296.31906509399414,
          296.6744041442871,
          298.0955696105957,
          295.25320053100586,
          296.85203552246094,
          294.0984535217285,
          291.0784339904785,
          285.92660903930664,
          287.0813179016113,
          284.59423065185547,
          289.9237060546875,
          290.45665740966797,
          299.6944236755371,
          306.53390884399414,
          306.53390884399414,
          302.2703742980957,
          299.7832679748535,
          297.2073554992676,
          300.4938507080078,
          312.7516555786133,
          312.9293441772461,
          317.2816848754883,
          316.2158393859863,
          321.9894027709961,
          324.2100143432617,
          325.8976745605469,
          342.5079345703125,
          341.175537109375,
          334.51366424560547,
          333.44776153564453,
          346.59385681152344,
          348.72562408447266,
          347.4699401855469,
          345.137939453125,
          343.97193908691406,
          344.3306350708008,
          344.8688507080078,
          343.25435638427734,
          344.8688507080078,
          344.3306350708008,
          338.94908905029297,
          343.7925338745117,
          342.3574447631836,
          341.37081146240234,
          343.97193908691406,
          344.0616226196289,
          343.16471099853516,
          347.2905731201172,
          348.72562408447266,
          348.3668518066406,
          344.5100784301758,
          341.28116607666016,
          339.57691192626953,
          340.0254440307617,
          338.94908905029297,
          330.7870864868164,
          333.6572265625,
          326.48181915283203,
          326.12308502197266,
          322.2663116455078,
          324.50862884521484,
          319.75486755371094,
          323.5219955444336,
          331.95308685302734,
          331.50463104248047,
          329.8902130126953,
          330.2488708496094,
          328.54480743408203,
          323.0734634399414,
          325.13641357421875,
          322.8941345214844,
          320.7415008544922,
          323.3426284790039,
          326.39209747314453,
          324.4188690185547,
          329.17259216308594,
          326.21273040771484,
          326.3024139404297,
          329.6210479736328,
          324.4188690185547,
          327.10960388183594,
          330.87677001953125,
          329.97989654541016,
          330.2488708496094,
          330.9664535522461,
          330.6077194213867,
          327.8272247314453,
          340.38421630859375,
          339.03881072998047,
          336.25831604003906,
          332.58094787597656,
          335.72017669677734,
          342.44712829589844,
          340.11512756347656,
          335.72017669677734,
          317.96106338500977,
          316.43619537353516,
          318.23007583618164,
          324.95704650878906,
          324.59827423095703,
          334.82322692871094,
          329.7488021850586,
          329.8394012451172,
          355.21167755126953,
          350.4996871948242,
          348.86863708496094,
          340.2601623535156,
          349.9559783935547,
          338.26663970947266,
          344.2124557495117,
          346.8866729736328,
          345.6450653076172,
          350.5160140991211,
          348.7968444824219,
          349.5608901977539,
          348.8923645019531,
          355.57796478271484,
          365.8928680419922,
          376.3987731933594,
          389.67445373535156,
          382.8934097290039,
          385.28106689453125,
          393.9723587036133,
          406.4839553833008,
          399.7028350830078,
          398.5567092895508,
          392.730712890625,
          374.48863983154297,
          369.7132110595703,
          361.4039611816406,
          363.21861267089844,
          359.8758316040039,
          357.01053619384766,
          350.8980178833008,
          357.5836181640625,
          355.9600067138672,
          351.66210174560547,
          353.85875701904297,
          350.8980178833008,
          351.5666198730469,
          351.5666198730469,
          355.19588470458984,
          352.1396255493164,
          353.9543151855469,
          354.62291717529297,
          360.73543548583984,
          355.1004409790039,
          352.0441436767578,
          350.99353790283203,
          350.5160140991211,
          350.8025360107422,
          348.6058044433594,
          348.4148406982422,
          349.08336639404297,
          356.0554885864258,
          356.3420104980469,
          346.1226272583008,
          346.2191390991211,
          346.6053771972656,
          345.63987731933594,
          337.8195571899414,
          336.3713073730469,
          336.85401916503906,
          337.14366912841797,
          336.17820739746094,
          337.62645721435547,
          335.40584564208984,
          332.4128723144531,
          335.2127456665039,
          334.923095703125,
          336.85401916503906,
          333.66798400878906,
          332.5094223022461,
          330.7715606689453,
          327.3924255371094,
          325.84766387939453,
          326.52347564697266,
          323.33744049072266,
          325.2683639526367,
          323.53050231933594,
          332.0267105102539,
          330.19229888916016,
          332.0267105102539,
          331.64051055908203,
          332.6060104370117,
          337.2402572631836,
          335.1162338256836,
          337.3367691040039,
          341.8745422363281,
          345.9295654296875,
          345.54332733154297,
          345.35022735595703,
          343.03306579589844,
          347.57083892822266,
          341.39183044433594,
          343.80550384521484,
          344.38472747802734,
          349.98451232910156,
          353.5567855834961,
          348.6328887939453,
          349.7914123535156,
          350.4672622680664,
          350.27416229248047,
          348.05355072021484,
          346.70188903808594,
          347.1846389770508,
          353.3636474609375,
          356.9359588623047,
          358.7703323364258,
          358.86688232421875,
          363.0184555053711,
          372.3835754394531,
          375.85926055908203,
          376.82472229003906,
          381.65210723876953,
          373.05938720703125,
          373.2524871826172,
          373.4455108642578,
          371.2249755859375,
          374.70069885253906,
          372.6731491088867,
          373.1559371948242,
          384.5485305786133,
          385.70709228515625,
          385.9001922607422,
          382.0977020263672,
          385.9001922607422,
          388.63014221191406,
          383.6576843261719,
          386.97265625,
          390.9701156616211,
          390.19012451171875,
          391.06761932373047,
          390.4826354980469,
          388.33763122558594,
          391.16512298583984,
          389.5076370239258,
          388.14266204833984,
          383.4627151489258,
          379.46521759033203,
          376.8328094482422,
          377.6127624511719,
          375.3702926635742,
          378.1977844238281,
          379.95277404785156,
          381.70772552490234,
          380.1477813720703,
          378.7827682495117,
          388.14266204833984,
          396.62506103515625,
          391.4575958251953,
          386.3876724243164,
          385.99769592285156,
          383.17020416259766,
          384.9251937866211,
          378.3927917480469,
          384.34017181396484,
          386.19266510009766,
          380.73272705078125,
          382.0977020263672,
          380.0502395629883,
          381.4152145385742,
          381.22020721435547,
          381.8052291870117,
          385.70518493652344,
          387.3626708984375,
          383.0727005004883,
          383.6576843261719,
          382.68272399902344,
          386.19266510009766,
          387.65514373779297,
          386.58267974853516,
          389.5076370239258,
          390.8726119995117,
          393.4075927734375,
          391.4575958251953,
          400.2324676513672,
          399.9400329589844,
          404.3274688720703,
          406.3749313354492,
          407.64244079589844,
          410.4698944091797,
          423.63224029541016,
          420.97591400146484,
          421.1726760864258,
          432.48661041259766,
          449.40826416015625,
          444.5875549316406,
          443.30860137939453,
          443.406982421875,
          452.35973358154297,
          474.1020965576172,
          455.6063461303711,
          464.755859375,
          476.95518493652344,
          481.18560791015625,
          496.04122161865234,
          485.12088775634766,
          480.1034164428711,
          479.31636810302734,
          491.22058868408203,
          475.97137451171875,
          467.41214752197266,
          466.13319396972656,
          458.4593963623047,
          460.0334930419922,
          453.2451629638672,
          452.9500198364258,
          460.8205795288086,
          460.8205795288086,
          459.9351119995117,
          457.57396697998047,
          452.85160064697266,
          448.5227966308594,
          438.5862731933594,
          439.86522674560547,
          440.4555130004883,
          437.5040817260742,
          431.7979049682617,
          434.8477554321289,
          432.0930480957031,
          432.38819122314453,
          434.74937438964844,
          432.28981018066406,
          428.64967346191406,
          423.4354782104492,
          428.2561492919922,
          423.14029693603516,
          422.3532485961914,
          417.33577728271484,
          416.35196685791016,
          413.40049743652344,
          420.4840087890625,
          417.6309585571289,
          413.79405975341797,
          411.7279815673828,
          407.49759674072266,
          409.9571228027344,
          408.1863021850586,
          406.51378631591797,
          414.0892028808594,
          421.0742950439453,
          421.6646194458008,
          424.61605072021484,
          424.5176696777344,
          428.55133056640625,
          422.74681091308594,
          424.8128128051758,
          430.32222747802734,
          429.33837890625,
          447.1454620361328,
          440.9474563598633,
          435.19115447998047,
          482.43202209472656,
          479.6531295776367,
          469.43084716796875,
          486.50108337402344,
          498.01353454589844,
          493.54747772216797,
          492.75352478027344,
          492.2572708129883,
          504.8614501953125,
          510.22071838378906,
          504.16675567626953,
          508.13655853271484,
          506.9456481933594,
          505.0599670410156,
          535.92529296875,
          520.0460433959961,
          533.2456588745117,
          542.6739883422852,
          526.3977432250977,
          538.6049270629883,
          510.9154510498047,
          513.2973480224609,
          510.12149810791016,
          516.8701934814453,
          523.8173294067383,
          547.8347396850586,
          551.2091064453125,
          583.5630798339844,
          607.8782272338867,
          590.3117752075195,
          605.595588684082,
          585.0517654418945,
          591.0064697265625,
          582.6698684692383,
          587.5329208374023,
          575.7226943969727,
          571.4551544189453,
          579.5932769775391,
          586.0441970825195
         ],
         "yaxis": "y"
        },
        {
         "hovertemplate": "variable=SPY<br>date=%{x}<br>value=%{y}<extra></extra>",
         "legendgroup": "SPY",
         "line": {
          "color": "#F58518",
          "dash": "solid"
         },
         "marker": {
          "symbol": "circle"
         },
         "mode": "lines",
         "name": "SPY",
         "showlegend": true,
         "type": "scattergl",
         "visible": true,
         "x": [
          "2020-01-02T00:00:00",
          "2020-01-03T00:00:00",
          "2020-01-06T00:00:00",
          "2020-01-07T00:00:00",
          "2020-01-08T00:00:00",
          "2020-01-09T00:00:00",
          "2020-01-10T00:00:00",
          "2020-01-13T00:00:00",
          "2020-01-14T00:00:00",
          "2020-01-15T00:00:00",
          "2020-01-16T00:00:00",
          "2020-01-17T00:00:00",
          "2020-01-21T00:00:00",
          "2020-01-22T00:00:00",
          "2020-01-23T00:00:00",
          "2020-01-24T00:00:00",
          "2020-01-27T00:00:00",
          "2020-01-28T00:00:00",
          "2020-01-29T00:00:00",
          "2020-01-30T00:00:00",
          "2020-01-31T00:00:00",
          "2020-02-03T00:00:00",
          "2020-02-04T00:00:00",
          "2020-02-05T00:00:00",
          "2020-02-06T00:00:00",
          "2020-02-07T00:00:00",
          "2020-02-10T00:00:00",
          "2020-02-11T00:00:00",
          "2020-02-12T00:00:00",
          "2020-02-13T00:00:00",
          "2020-02-14T00:00:00",
          "2020-02-18T00:00:00",
          "2020-02-19T00:00:00",
          "2020-02-20T00:00:00",
          "2020-02-21T00:00:00",
          "2020-02-24T00:00:00",
          "2020-02-25T00:00:00",
          "2020-02-26T00:00:00",
          "2020-02-27T00:00:00",
          "2020-02-28T00:00:00",
          "2020-03-02T00:00:00",
          "2020-03-03T00:00:00",
          "2020-03-04T00:00:00",
          "2020-03-05T00:00:00",
          "2020-03-06T00:00:00",
          "2020-03-09T00:00:00",
          "2020-03-10T00:00:00",
          "2020-03-11T00:00:00",
          "2020-03-12T00:00:00",
          "2020-03-13T00:00:00",
          "2020-03-16T00:00:00",
          "2020-03-17T00:00:00",
          "2020-03-18T00:00:00",
          "2020-03-19T00:00:00",
          "2020-03-20T00:00:00",
          "2020-03-23T00:00:00",
          "2020-03-24T00:00:00",
          "2020-03-25T00:00:00",
          "2020-03-26T00:00:00",
          "2020-03-27T00:00:00",
          "2020-03-30T00:00:00",
          "2020-03-31T00:00:00",
          "2020-04-01T00:00:00",
          "2020-04-02T00:00:00",
          "2020-04-03T00:00:00",
          "2020-04-06T00:00:00",
          "2020-04-07T00:00:00",
          "2020-04-08T00:00:00",
          "2020-04-09T00:00:00",
          "2020-04-13T00:00:00",
          "2020-04-14T00:00:00",
          "2020-04-15T00:00:00",
          "2020-04-16T00:00:00",
          "2020-04-17T00:00:00",
          "2020-04-20T00:00:00",
          "2020-04-21T00:00:00",
          "2020-04-22T00:00:00",
          "2020-04-23T00:00:00",
          "2020-04-24T00:00:00",
          "2020-04-27T00:00:00",
          "2020-04-28T00:00:00",
          "2020-04-29T00:00:00",
          "2020-04-30T00:00:00",
          "2020-05-01T00:00:00",
          "2020-05-04T00:00:00",
          "2020-05-05T00:00:00",
          "2020-05-06T00:00:00",
          "2020-05-07T00:00:00",
          "2020-05-08T00:00:00",
          "2020-05-11T00:00:00",
          "2020-05-12T00:00:00",
          "2020-05-13T00:00:00",
          "2020-05-14T00:00:00",
          "2020-05-15T00:00:00",
          "2020-05-18T00:00:00",
          "2020-05-19T00:00:00",
          "2020-05-20T00:00:00",
          "2020-05-21T00:00:00",
          "2020-05-22T00:00:00",
          "2020-05-26T00:00:00",
          "2020-05-27T00:00:00",
          "2020-05-28T00:00:00",
          "2020-05-29T00:00:00",
          "2020-06-01T00:00:00",
          "2020-06-02T00:00:00",
          "2020-06-03T00:00:00",
          "2020-06-04T00:00:00",
          "2020-06-05T00:00:00",
          "2020-06-08T00:00:00",
          "2020-06-09T00:00:00",
          "2020-06-10T00:00:00",
          "2020-06-11T00:00:00",
          "2020-06-12T00:00:00",
          "2020-06-15T00:00:00",
          "2020-06-16T00:00:00",
          "2020-06-17T00:00:00",
          "2020-06-18T00:00:00",
          "2020-06-19T00:00:00",
          "2020-06-22T00:00:00",
          "2020-06-23T00:00:00",
          "2020-06-24T00:00:00",
          "2020-06-25T00:00:00",
          "2020-06-26T00:00:00",
          "2020-06-29T00:00:00",
          "2020-06-30T00:00:00",
          "2020-07-01T00:00:00",
          "2020-07-02T00:00:00",
          "2020-07-06T00:00:00",
          "2020-07-07T00:00:00",
          "2020-07-08T00:00:00",
          "2020-07-09T00:00:00",
          "2020-07-10T00:00:00",
          "2020-07-13T00:00:00",
          "2020-07-14T00:00:00",
          "2020-07-15T00:00:00",
          "2020-07-16T00:00:00",
          "2020-07-17T00:00:00",
          "2020-07-20T00:00:00",
          "2020-07-21T00:00:00",
          "2020-07-22T00:00:00",
          "2020-07-23T00:00:00",
          "2020-07-24T00:00:00",
          "2020-07-27T00:00:00",
          "2020-07-28T00:00:00",
          "2020-07-29T00:00:00",
          "2020-07-30T00:00:00",
          "2020-07-31T00:00:00",
          "2020-08-03T00:00:00",
          "2020-08-04T00:00:00",
          "2020-08-05T00:00:00",
          "2020-08-06T00:00:00",
          "2020-08-07T00:00:00",
          "2020-08-10T00:00:00",
          "2020-08-11T00:00:00",
          "2020-08-12T00:00:00",
          "2020-08-13T00:00:00",
          "2020-08-14T00:00:00",
          "2020-08-17T00:00:00",
          "2020-08-18T00:00:00",
          "2020-08-19T00:00:00",
          "2020-08-20T00:00:00",
          "2020-08-21T00:00:00",
          "2020-08-24T00:00:00",
          "2020-08-25T00:00:00",
          "2020-08-26T00:00:00",
          "2020-08-27T00:00:00",
          "2020-08-28T00:00:00",
          "2020-08-31T00:00:00",
          "2020-09-01T00:00:00",
          "2020-09-02T00:00:00",
          "2020-09-03T00:00:00",
          "2020-09-04T00:00:00",
          "2020-09-08T00:00:00",
          "2020-09-09T00:00:00",
          "2020-09-10T00:00:00",
          "2020-09-11T00:00:00",
          "2020-09-14T00:00:00",
          "2020-09-15T00:00:00",
          "2020-09-16T00:00:00",
          "2020-09-17T00:00:00",
          "2020-09-18T00:00:00",
          "2020-09-21T00:00:00",
          "2020-09-22T00:00:00",
          "2020-09-23T00:00:00",
          "2020-09-24T00:00:00",
          "2020-09-25T00:00:00",
          "2020-09-28T00:00:00",
          "2020-09-29T00:00:00",
          "2020-09-30T00:00:00",
          "2020-10-01T00:00:00",
          "2020-10-02T00:00:00",
          "2020-10-05T00:00:00",
          "2020-10-06T00:00:00",
          "2020-10-07T00:00:00",
          "2020-10-08T00:00:00",
          "2020-10-09T00:00:00",
          "2020-10-12T00:00:00",
          "2020-10-13T00:00:00",
          "2020-10-14T00:00:00",
          "2020-10-15T00:00:00",
          "2020-10-16T00:00:00",
          "2020-10-19T00:00:00",
          "2020-10-20T00:00:00",
          "2020-10-21T00:00:00",
          "2020-10-22T00:00:00",
          "2020-10-23T00:00:00",
          "2020-10-26T00:00:00",
          "2020-10-27T00:00:00",
          "2020-10-28T00:00:00",
          "2020-10-29T00:00:00",
          "2020-10-30T00:00:00",
          "2020-11-02T00:00:00",
          "2020-11-03T00:00:00",
          "2020-11-04T00:00:00",
          "2020-11-05T00:00:00",
          "2020-11-06T00:00:00",
          "2020-11-09T00:00:00",
          "2020-11-10T00:00:00",
          "2020-11-11T00:00:00",
          "2020-11-12T00:00:00",
          "2020-11-13T00:00:00",
          "2020-11-16T00:00:00",
          "2020-11-17T00:00:00",
          "2020-11-18T00:00:00",
          "2020-11-19T00:00:00",
          "2020-11-20T00:00:00",
          "2020-11-23T00:00:00",
          "2020-11-24T00:00:00",
          "2020-11-25T00:00:00",
          "2020-11-27T00:00:00",
          "2020-11-30T00:00:00",
          "2020-12-01T00:00:00",
          "2020-12-02T00:00:00",
          "2020-12-03T00:00:00",
          "2020-12-04T00:00:00",
          "2020-12-07T00:00:00",
          "2020-12-08T00:00:00",
          "2020-12-09T00:00:00",
          "2020-12-10T00:00:00",
          "2020-12-11T00:00:00",
          "2020-12-14T00:00:00",
          "2020-12-15T00:00:00",
          "2020-12-16T00:00:00",
          "2020-12-17T00:00:00",
          "2020-12-18T00:00:00",
          "2020-12-21T00:00:00",
          "2020-12-22T00:00:00",
          "2020-12-23T00:00:00",
          "2020-12-24T00:00:00",
          "2020-12-28T00:00:00",
          "2020-12-29T00:00:00",
          "2020-12-30T00:00:00",
          "2020-12-31T00:00:00",
          "2021-01-04T00:00:00",
          "2021-01-05T00:00:00",
          "2021-01-06T00:00:00",
          "2021-01-07T00:00:00",
          "2021-01-08T00:00:00",
          "2021-01-11T00:00:00",
          "2021-01-12T00:00:00",
          "2021-01-13T00:00:00",
          "2021-01-14T00:00:00",
          "2021-01-15T00:00:00",
          "2021-01-19T00:00:00",
          "2021-01-20T00:00:00",
          "2021-01-21T00:00:00",
          "2021-01-22T00:00:00",
          "2021-01-25T00:00:00",
          "2021-01-26T00:00:00",
          "2021-01-27T00:00:00",
          "2021-01-28T00:00:00",
          "2021-01-29T00:00:00",
          "2021-02-01T00:00:00",
          "2021-02-02T00:00:00",
          "2021-02-03T00:00:00",
          "2021-02-04T00:00:00",
          "2021-02-05T00:00:00",
          "2021-02-08T00:00:00",
          "2021-02-09T00:00:00",
          "2021-02-10T00:00:00",
          "2021-02-11T00:00:00",
          "2021-02-12T00:00:00",
          "2021-02-16T00:00:00",
          "2021-02-17T00:00:00",
          "2021-02-18T00:00:00",
          "2021-02-19T00:00:00",
          "2021-02-22T00:00:00",
          "2021-02-23T00:00:00",
          "2021-02-24T00:00:00",
          "2021-02-25T00:00:00",
          "2021-02-26T00:00:00",
          "2021-03-01T00:00:00",
          "2021-03-02T00:00:00",
          "2021-03-03T00:00:00",
          "2021-03-04T00:00:00",
          "2021-03-05T00:00:00",
          "2021-03-08T00:00:00",
          "2021-03-09T00:00:00",
          "2021-03-10T00:00:00",
          "2021-03-11T00:00:00",
          "2021-03-12T00:00:00",
          "2021-03-15T00:00:00",
          "2021-03-16T00:00:00",
          "2021-03-17T00:00:00",
          "2021-03-18T00:00:00",
          "2021-03-19T00:00:00",
          "2021-03-22T00:00:00",
          "2021-03-23T00:00:00",
          "2021-03-24T00:00:00",
          "2021-03-25T00:00:00",
          "2021-03-26T00:00:00",
          "2021-03-29T00:00:00",
          "2021-03-30T00:00:00",
          "2021-03-31T00:00:00",
          "2021-04-01T00:00:00",
          "2021-04-05T00:00:00",
          "2021-04-06T00:00:00",
          "2021-04-07T00:00:00",
          "2021-04-08T00:00:00",
          "2021-04-09T00:00:00",
          "2021-04-12T00:00:00",
          "2021-04-13T00:00:00",
          "2021-04-14T00:00:00",
          "2021-04-15T00:00:00",
          "2021-04-16T00:00:00",
          "2021-04-19T00:00:00",
          "2021-04-20T00:00:00",
          "2021-04-21T00:00:00",
          "2021-04-22T00:00:00",
          "2021-04-23T00:00:00",
          "2021-04-26T00:00:00",
          "2021-04-27T00:00:00",
          "2021-04-28T00:00:00",
          "2021-04-29T00:00:00",
          "2021-04-30T00:00:00",
          "2021-05-03T00:00:00",
          "2021-05-04T00:00:00",
          "2021-05-05T00:00:00",
          "2021-05-06T00:00:00",
          "2021-05-07T00:00:00",
          "2021-05-10T00:00:00",
          "2021-05-11T00:00:00",
          "2021-05-12T00:00:00",
          "2021-05-13T00:00:00",
          "2021-05-14T00:00:00",
          "2021-05-17T00:00:00",
          "2021-05-18T00:00:00",
          "2021-05-19T00:00:00",
          "2021-05-20T00:00:00",
          "2021-05-21T00:00:00",
          "2021-05-24T00:00:00",
          "2021-05-25T00:00:00",
          "2021-05-26T00:00:00",
          "2021-05-27T00:00:00",
          "2021-05-28T00:00:00",
          "2021-06-01T00:00:00",
          "2021-06-02T00:00:00",
          "2021-06-03T00:00:00",
          "2021-06-04T00:00:00",
          "2021-06-07T00:00:00",
          "2021-06-08T00:00:00",
          "2021-06-09T00:00:00",
          "2021-06-10T00:00:00",
          "2021-06-11T00:00:00",
          "2021-06-14T00:00:00",
          "2021-06-15T00:00:00",
          "2021-06-16T00:00:00",
          "2021-06-17T00:00:00",
          "2021-06-18T00:00:00",
          "2021-06-21T00:00:00",
          "2021-06-22T00:00:00",
          "2021-06-23T00:00:00",
          "2021-06-24T00:00:00",
          "2021-06-25T00:00:00",
          "2021-06-28T00:00:00",
          "2021-06-29T00:00:00",
          "2021-06-30T00:00:00",
          "2021-07-01T00:00:00",
          "2021-07-02T00:00:00",
          "2021-07-06T00:00:00",
          "2021-07-07T00:00:00",
          "2021-07-08T00:00:00",
          "2021-07-09T00:00:00",
          "2021-07-12T00:00:00",
          "2021-07-13T00:00:00",
          "2021-07-14T00:00:00",
          "2021-07-15T00:00:00",
          "2021-07-16T00:00:00",
          "2021-07-19T00:00:00",
          "2021-07-20T00:00:00",
          "2021-07-21T00:00:00",
          "2021-07-22T00:00:00",
          "2021-07-23T00:00:00",
          "2021-07-26T00:00:00",
          "2021-07-27T00:00:00",
          "2021-07-28T00:00:00",
          "2021-07-29T00:00:00",
          "2021-07-30T00:00:00",
          "2021-08-02T00:00:00",
          "2021-08-03T00:00:00",
          "2021-08-04T00:00:00",
          "2021-08-05T00:00:00",
          "2021-08-06T00:00:00",
          "2021-08-09T00:00:00",
          "2021-08-10T00:00:00",
          "2021-08-11T00:00:00",
          "2021-08-12T00:00:00",
          "2021-08-13T00:00:00",
          "2021-08-16T00:00:00",
          "2021-08-17T00:00:00",
          "2021-08-18T00:00:00",
          "2021-08-19T00:00:00",
          "2021-08-20T00:00:00",
          "2021-08-23T00:00:00",
          "2021-08-24T00:00:00",
          "2021-08-25T00:00:00",
          "2021-08-26T00:00:00",
          "2021-08-27T00:00:00",
          "2021-08-30T00:00:00",
          "2021-08-31T00:00:00",
          "2021-09-01T00:00:00",
          "2021-09-02T00:00:00",
          "2021-09-03T00:00:00",
          "2021-09-07T00:00:00",
          "2021-09-08T00:00:00",
          "2021-09-09T00:00:00",
          "2021-09-10T00:00:00",
          "2021-09-13T00:00:00",
          "2021-09-14T00:00:00",
          "2021-09-15T00:00:00",
          "2021-09-16T00:00:00",
          "2021-09-17T00:00:00",
          "2021-09-20T00:00:00",
          "2021-09-21T00:00:00",
          "2021-09-22T00:00:00",
          "2021-09-23T00:00:00",
          "2021-09-24T00:00:00",
          "2021-09-27T00:00:00",
          "2021-09-28T00:00:00",
          "2021-09-29T00:00:00",
          "2021-09-30T00:00:00",
          "2021-10-01T00:00:00",
          "2021-10-04T00:00:00",
          "2021-10-05T00:00:00",
          "2021-10-06T00:00:00",
          "2021-10-07T00:00:00",
          "2021-10-08T00:00:00",
          "2021-10-11T00:00:00",
          "2021-10-12T00:00:00",
          "2021-10-13T00:00:00",
          "2021-10-14T00:00:00",
          "2021-10-15T00:00:00",
          "2021-10-18T00:00:00",
          "2021-10-19T00:00:00",
          "2021-10-20T00:00:00",
          "2021-10-21T00:00:00",
          "2021-10-22T00:00:00",
          "2021-10-25T00:00:00",
          "2021-10-26T00:00:00",
          "2021-10-27T00:00:00",
          "2021-10-28T00:00:00",
          "2021-10-29T00:00:00",
          "2021-11-01T00:00:00",
          "2021-11-02T00:00:00",
          "2021-11-03T00:00:00",
          "2021-11-04T00:00:00",
          "2021-11-05T00:00:00",
          "2021-11-08T00:00:00",
          "2021-11-09T00:00:00",
          "2021-11-10T00:00:00",
          "2021-11-11T00:00:00",
          "2021-11-12T00:00:00",
          "2021-11-15T00:00:00",
          "2021-11-16T00:00:00",
          "2021-11-17T00:00:00",
          "2021-11-18T00:00:00",
          "2021-11-19T00:00:00",
          "2021-11-22T00:00:00",
          "2021-11-23T00:00:00",
          "2021-11-24T00:00:00",
          "2021-11-26T00:00:00",
          "2021-11-29T00:00:00",
          "2021-11-30T00:00:00",
          "2021-12-01T00:00:00",
          "2021-12-02T00:00:00",
          "2021-12-03T00:00:00",
          "2021-12-06T00:00:00",
          "2021-12-07T00:00:00",
          "2021-12-08T00:00:00",
          "2021-12-09T00:00:00",
          "2021-12-10T00:00:00",
          "2021-12-13T00:00:00",
          "2021-12-14T00:00:00",
          "2021-12-15T00:00:00",
          "2021-12-16T00:00:00",
          "2021-12-17T00:00:00",
          "2021-12-20T00:00:00",
          "2021-12-21T00:00:00",
          "2021-12-22T00:00:00",
          "2021-12-23T00:00:00",
          "2021-12-27T00:00:00",
          "2021-12-28T00:00:00",
          "2021-12-29T00:00:00",
          "2021-12-30T00:00:00",
          "2021-12-31T00:00:00"
         ],
         "xaxis": "x",
         "y": [
          314.7192077636719,
          312.3360900878906,
          313.5276184082031,
          312.64605712890625,
          314.3123779296875,
          316.4435729980469,
          315.532958984375,
          317.7029724121094,
          317.21856689453125,
          317.9354553222656,
          320.5802307128906,
          321.5779724121094,
          320.9482421875,
          320.9870300292969,
          321.3551330566406,
          318.4973449707031,
          313.3919677734375,
          316.67608642578125,
          316.41455078125,
          317.44140625,
          311.67724609375,
          313.9925842285156,
          318.77825927734375,
          322.45953369140625,
          323.5445861816406,
          321.8201904296875,
          324.2226257324219,
          324.7845458984375,
          326.8770751953125,
          326.5283203125,
          327.0514831542969,
          326.2086181640625,
          327.768310546875,
          326.4217529296875,
          323.0601501464844,
          312.3457336425781,
          302.8810119628906,
          301.7669677734375,
          288.214111328125,
          287.0031433105469,
          299.4322509765625,
          290.8587646484375,
          303.0844421386719,
          293.0093994140625,
          288.1656494140625,
          265.6615295410156,
          279.40814208984375,
          265.78741455078125,
          240.35760498046875,
          260.9048767089844,
          232.35572814941406,
          244.90106201171875,
          232.50100708007812,
          232.99510192871094,
          222.954345703125,
          217.25379943847656,
          236.93771362304688,
          240.48471069335938,
          254.5265655517578,
          246.9453125,
          254.96505737304688,
          251.1647186279297,
          239.86105346679688,
          245.39593505859375,
          241.8489532470703,
          258.093017578125,
          258.35614013671875,
          267.02874755859375,
          271.09222412109375,
          268.6170959472656,
          276.5393981933594,
          270.6634521484375,
          271.96923828125,
          279.3165588378906,
          274.3956298828125,
          266.06402587890625,
          271.96923828125,
          271.94970703125,
          275.7403564453125,
          279.7160949707031,
          278.4298095703125,
          285.71868896484375,
          283.0584411621094,
          275.56494140625,
          276.32501220703125,
          278.8780517578125,
          276.9876403808594,
          280.3299865722656,
          284.9683837890625,
          285.0268859863281,
          279.3458251953125,
          274.4053649902344,
          277.68927001953125,
          278.96575927734375,
          287.4629821777344,
          284.5103454589844,
          289.3436584472656,
          287.3460388183594,
          287.8917541503906,
          291.438720703125,
          295.7750244140625,
          295.2293701171875,
          296.5448913574219,
          297.743408203125,
          300.208740234375,
          304.2040100097656,
          303.4049987792969,
          311.18115234375,
          314.9424743652344,
          312.5940856933594,
          310.8498229980469,
          292.92962646484375,
          296.43768310546875,
          299.205078125,
          304.964111328125,
          303.69732666015625,
          303.81427001953125,
          302.0779724121094,
          304.015869140625,
          305.41546630859375,
          297.6247253417969,
          300.81536865234375,
          293.6706237792969,
          297.9869079589844,
          301.80389404296875,
          303.9179992675781,
          305.5916748046875,
          310.3091735839844,
          307.10870361328125,
          309.4576416015625,
          307.6959228515625,
          310.8376770019531,
          308.14617919921875,
          312.1394348144531,
          315.00714111328125,
          313.9696960449219,
          314.8799133300781,
          317.42462158203125,
          318.0999450683594,
          319.9105529785156,
          316.0934753417969,
          314.0577392578125,
          316.3480224609375,
          314.3415832519531,
          318.2076110839844,
          317.0722961425781,
          319.57781982421875,
          321.799560546875,
          323.0425720214844,
          325.04901123046875,
          327.2217712402344,
          327.45672607421875,
          328.4354248046875,
          325.72430419921875,
          330.26568603515625,
          329.6686096191406,
          329.6784362792969,
          330.7256774902344,
          331.4402160644531,
          330.06011962890625,
          331.08782958984375,
          332.26226806640625,
          335.6291809082031,
          336.80364990234375,
          340.1802673339844,
          340.9241027832031,
          343.1263122558594,
          341.8833312988281,
          345.1033020019531,
          350.09490966796875,
          338.046630859375,
          335.2865905761719,
          326.1256103515625,
          332.5657043457031,
          326.7911682128906,
          326.95751953125,
          331.2639465332031,
          332.9376525878906,
          331.6163024902344,
          328.69970703125,
          324.91546630859375,
          321.2992858886719,
          324.571533203125,
          317.0444030761719,
          317.8894348144531,
          323.02880859375,
          328.3940734863281,
          326.60565185546875,
          329.0819396972656,
          331.19464111328125,
          328.05010986328125,
          333.86749267578125,
          329.1212158203125,
          334.85015869140625,
          337.8177490234375,
          340.8345031738281,
          346.3177490234375,
          344.0576477050781,
          341.8957824707031,
          341.47320556640625,
          341.2668762207031,
          336.0784606933594,
          337.4246826171875,
          336.78594970703125,
          338.6333312988281,
          339.7830810546875,
          333.5039367675781,
          332.3541564941406,
          320.99468994140625,
          324.2571105957031,
          320.8767395019531,
          324.4732666015625,
          330.2021789550781,
          337.5819091796875,
          344.1656799316406,
          344.0871276855469,
          348.4107971191406,
          347.89984130859375,
          350.4842224121094,
          347.0841979980469,
          351.889404296875,
          356.2818908691406,
          354.36572265625,
          350.1009521484375,
          351.5749206542969,
          349.16741943359375,
          351.2604675292969,
          356.9206237792969,
          356.3703308105469,
          357.36279296875,
          355.7807312011719,
          359.6720275878906,
          360.4287109375,
          360.3304443359375,
          363.4356384277344,
          362.68878173828125,
          363.7501220703125,
          360.4876403808594,
          360.3697204589844,
          359.9471740722656,
          358.33563232421875,
          363.18011474609375,
          363.7501220703125,
          365.7841491699219,
          364.3236083984375,
          363.02099609375,
          362.4091491699219,
          362.7348327636719,
          364.14599609375,
          367.2742919921875,
          366.5736389160156,
          367.0966796875,
          368.9617919921875,
          363.93878173828125,
          366.4453125,
          368.6361083984375,
          374.1131286621094,
          376.2447204589844,
          373.7085266113281,
          373.7874755859375,
          374.7940673828125,
          373.4815673828125,
          370.75787353515625,
          373.6690673828125,
          378.84014892578125,
          379.1855163574219,
          377.8434143066406,
          379.33355712890625,
          378.7414855957031,
          369.4848327636719,
          372.6624755859375,
          365.2019348144531,
          371.2809143066406,
          376.5308837890625,
          376.8269958496094,
          381.1098937988281,
          382.60986328125,
          385.3730163574219,
          385.116455078125,
          384.9486999511719,
          385.5704040527344,
          387.47503662109375,
          387.1394958496094,
          387.2283630371094,
          385.5802917480469,
          384.89935302734375,
          381.9388122558594,
          382.4026184082031,
          386.6164855957031,
          377.3006591796875,
          375.3565673828125,
          384.45526123046875,
          381.455322265625,
          376.4026184082031,
          371.74468994140625,
          378.58355712890625,
          376.69866943359375,
          382.07696533203125,
          384.45526123046875,
          388.35333251953125,
          388.8763732910156,
          391.1954040527344,
          390.7020263671875,
          392.0342712402344,
          386.330322265625,
          385.6154479980469,
          388.6946105957031,
          385.63525390625,
          383.6748962402344,
          385.8332824707031,
          392.05096435546875,
          391.85296630859375,
          390.8133544921875,
          392.3974914550781,
          396.635009765625,
          402.32794189453125,
          402.09033203125,
          402.55572509765625,
          404.4665222167969,
          407.40704345703125,
          407.55560302734375,
          408.7634582519531,
          407.3674621582031,
          411.74359130859375,
          413.11981201171875,
          411.0901794433594,
          408.080322265625,
          411.9416198730469,
          408.1793212890625,
          412.60498046875,
          413.46630859375,
          413.37725830078125,
          413.2583923339844,
          415.89202880859375,
          413.1593933105469,
          414.0505065917969,
          411.49609375,
          411.62481689453125,
          414.911865234375,
          417.93157958984375,
          413.7930603027344,
          410.1000671386719,
          401.38739013671875,
          406.2090759277344,
          412.446533203125,
          411.3970642089844,
          407.8526306152344,
          406.7833251953125,
          411.1594543457031,
          410.8228454589844,
          415.0108642578125,
          414.090087890625,
          414.911865234375,
          415.12969970703125,
          415.87225341796875,
          415.50592041015625,
          416.1593322753906,
          414.6148376464844,
          418.4068603515625,
          418.0008850097656,
          418.09002685546875,
          417.46624755859375,
          419.40679931640625,
          420.0998840332031,
          421.04046630859375,
          420.2681884765625,
          417.9216613769531,
          417.7830810546875,
          412.14703369140625,
          418.0472717285156,
          420.2822570800781,
          419.77569580078125,
          422.25897216796875,
          423.7588806152344,
          424.6131286621094,
          424.84161376953125,
          425.1991882324219,
          427.5533447265625,
          430.82135009765625,
          430.0366516113281,
          431.556396484375,
          428.0400695800781,
          432.6093444824219,
          434.1589050292969,
          432.6788635253906,
          433.32452392578125,
          431.844482421875,
          428.4572448730469,
          422.1298522949219,
          428.17913818359375,
          431.64581298828125,
          432.54974365234375,
          436.99981689453125,
          438.07257080078125,
          436.0760192871094,
          435.8971862792969,
          437.7050476074219,
          435.5793762207031,
          434.6654968261719,
          438.20172119140625,
          436.0462341308594,
          438.8076477050781,
          439.5327453613281,
          439.1751403808594,
          439.7214660644531,
          440.8141174316406,
          442.13525390625,
          442.9398498535156,
          443.9828186035156,
          441.0723876953125,
          436.244873046875,
          436.9203186035156,
          440.39691162109375,
          444.2708740234375,
          444.9761047363281,
          445.90985107421875,
          443.277587890625,
          447.24090576171875,
          449.2076721191406,
          448.5421447753906,
          448.780517578125,
          450.1612548828125,
          450.0519714355469,
          448.4427795410156,
          447.896484375,
          445.9794006347656,
          442.4630432128906,
          443.59539794921875,
          441.2015380859375,
          444.8867492675781,
          444.1814880371094,
          439.85467529296875,
          432.52044677734375,
          432.1119079589844,
          436.3270568847656,
          441.6284484863281,
          442.35589599609375,
          441.0903625488281,
          432.2015686035156,
          432.92901611328125,
          427.63763427734375,
          432.7197570800781,
          427.1393737792969,
          431.583740234375,
          433.37744140625,
          437.124267578125,
          436.3270568847656,
          433.1681823730469,
          432.1019287109375,
          433.6564636230469,
          440.9508361816406,
          444.30902099609375,
          445.6244201660156,
          449.0623474121094,
          450.8261413574219,
          452.00201416015625,
          451.5336608886719,
          453.95513916015625,
          454.36370849609375,
          452.3507995605469,
          456.7154541015625,
          457.6421813964844,
          458.429443359375,
          460.28289794921875,
          463.0930480957031,
          465.275390625,
          466.88970947265625,
          467.2882995605469,
          465.7437438964844,
          461.99688720703125,
          462.1463623046875,
          465.63409423828125,
          465.7935485839844,
          467.6370849609375,
          466.5010986328125,
          468.08551025390625,
          467.24847412109375,
          465.9330749511719,
          466.5509033203125,
          467.7965087890625,
          457.3631896972656,
          462.9734802246094,
          453.9651184082031,
          448.9228210449219,
          455.7986755371094,
          451.8326110839844,
          457.1838073730469,
          466.6405944824219,
          467.876220703125,
          464.71734619140625,
          469.0919494628906,
          464.93658447265625,
          461.73779296875,
          468.95245361328125,
          464.8169860839844,
          459.8699951171875,
          454.9800109863281,
          463.05999755859375,
          467.69000244140625,
          470.6000061035156,
          477.260009765625,
          476.8699951171875,
          477.4800109863281,
          476.1600036621094,
          474.9599914550781
         ],
         "yaxis": "y"
        }
       ],
       "layout": {
        "autosize": true,
        "dragmode": "zoom",
        "legend": {
         "title": {
          "text": "variable"
         },
         "tracegroupgap": 0
        },
        "margin": {
         "t": 60
        },
        "template": {
         "data": {
          "bar": [
           {
            "error_x": {
             "color": "#2a3f5f"
            },
            "error_y": {
             "color": "#2a3f5f"
            },
            "marker": {
             "line": {
              "color": "#E5ECF6",
              "width": 0.5
             },
             "pattern": {
              "fillmode": "overlay",
              "size": 10,
              "solidity": 0.2
             }
            },
            "type": "bar"
           }
          ],
          "barpolar": [
           {
            "marker": {
             "line": {
              "color": "#E5ECF6",
              "width": 0.5
             },
             "pattern": {
              "fillmode": "overlay",
              "size": 10,
              "solidity": 0.2
             }
            },
            "type": "barpolar"
           }
          ],
          "carpet": [
           {
            "aaxis": {
             "endlinecolor": "#2a3f5f",
             "gridcolor": "white",
             "linecolor": "white",
             "minorgridcolor": "white",
             "startlinecolor": "#2a3f5f"
            },
            "baxis": {
             "endlinecolor": "#2a3f5f",
             "gridcolor": "white",
             "linecolor": "white",
             "minorgridcolor": "white",
             "startlinecolor": "#2a3f5f"
            },
            "type": "carpet"
           }
          ],
          "choropleth": [
           {
            "colorbar": {
             "outlinewidth": 0,
             "ticks": ""
            },
            "type": "choropleth"
           }
          ],
          "contour": [
           {
            "colorbar": {
             "outlinewidth": 0,
             "ticks": ""
            },
            "colorscale": [
             [
              0,
              "#0d0887"
             ],
             [
              0.1111111111111111,
              "#46039f"
             ],
             [
              0.2222222222222222,
              "#7201a8"
             ],
             [
              0.3333333333333333,
              "#9c179e"
             ],
             [
              0.4444444444444444,
              "#bd3786"
             ],
             [
              0.5555555555555556,
              "#d8576b"
             ],
             [
              0.6666666666666666,
              "#ed7953"
             ],
             [
              0.7777777777777778,
              "#fb9f3a"
             ],
             [
              0.8888888888888888,
              "#fdca26"
             ],
             [
              1,
              "#f0f921"
             ]
            ],
            "type": "contour"
           }
          ],
          "contourcarpet": [
           {
            "colorbar": {
             "outlinewidth": 0,
             "ticks": ""
            },
            "type": "contourcarpet"
           }
          ],
          "heatmap": [
           {
            "colorbar": {
             "outlinewidth": 0,
             "ticks": ""
            },
            "colorscale": [
             [
              0,
              "#0d0887"
             ],
             [
              0.1111111111111111,
              "#46039f"
             ],
             [
              0.2222222222222222,
              "#7201a8"
             ],
             [
              0.3333333333333333,
              "#9c179e"
             ],
             [
              0.4444444444444444,
              "#bd3786"
             ],
             [
              0.5555555555555556,
              "#d8576b"
             ],
             [
              0.6666666666666666,
              "#ed7953"
             ],
             [
              0.7777777777777778,
              "#fb9f3a"
             ],
             [
              0.8888888888888888,
              "#fdca26"
             ],
             [
              1,
              "#f0f921"
             ]
            ],
            "type": "heatmap"
           }
          ],
          "heatmapgl": [
           {
            "colorbar": {
             "outlinewidth": 0,
             "ticks": ""
            },
            "colorscale": [
             [
              0,
              "#0d0887"
             ],
             [
              0.1111111111111111,
              "#46039f"
             ],
             [
              0.2222222222222222,
              "#7201a8"
             ],
             [
              0.3333333333333333,
              "#9c179e"
             ],
             [
              0.4444444444444444,
              "#bd3786"
             ],
             [
              0.5555555555555556,
              "#d8576b"
             ],
             [
              0.6666666666666666,
              "#ed7953"
             ],
             [
              0.7777777777777778,
              "#fb9f3a"
             ],
             [
              0.8888888888888888,
              "#fdca26"
             ],
             [
              1,
              "#f0f921"
             ]
            ],
            "type": "heatmapgl"
           }
          ],
          "histogram": [
           {
            "marker": {
             "pattern": {
              "fillmode": "overlay",
              "size": 10,
              "solidity": 0.2
             }
            },
            "type": "histogram"
           }
          ],
          "histogram2d": [
           {
            "colorbar": {
             "outlinewidth": 0,
             "ticks": ""
            },
            "colorscale": [
             [
              0,
              "#0d0887"
             ],
             [
              0.1111111111111111,
              "#46039f"
             ],
             [
              0.2222222222222222,
              "#7201a8"
             ],
             [
              0.3333333333333333,
              "#9c179e"
             ],
             [
              0.4444444444444444,
              "#bd3786"
             ],
             [
              0.5555555555555556,
              "#d8576b"
             ],
             [
              0.6666666666666666,
              "#ed7953"
             ],
             [
              0.7777777777777778,
              "#fb9f3a"
             ],
             [
              0.8888888888888888,
              "#fdca26"
             ],
             [
              1,
              "#f0f921"
             ]
            ],
            "type": "histogram2d"
           }
          ],
          "histogram2dcontour": [
           {
            "colorbar": {
             "outlinewidth": 0,
             "ticks": ""
            },
            "colorscale": [
             [
              0,
              "#0d0887"
             ],
             [
              0.1111111111111111,
              "#46039f"
             ],
             [
              0.2222222222222222,
              "#7201a8"
             ],
             [
              0.3333333333333333,
              "#9c179e"
             ],
             [
              0.4444444444444444,
              "#bd3786"
             ],
             [
              0.5555555555555556,
              "#d8576b"
             ],
             [
              0.6666666666666666,
              "#ed7953"
             ],
             [
              0.7777777777777778,
              "#fb9f3a"
             ],
             [
              0.8888888888888888,
              "#fdca26"
             ],
             [
              1,
              "#f0f921"
             ]
            ],
            "type": "histogram2dcontour"
           }
          ],
          "mesh3d": [
           {
            "colorbar": {
             "outlinewidth": 0,
             "ticks": ""
            },
            "type": "mesh3d"
           }
          ],
          "parcoords": [
           {
            "line": {
             "colorbar": {
              "outlinewidth": 0,
              "ticks": ""
             }
            },
            "type": "parcoords"
           }
          ],
          "pie": [
           {
            "automargin": true,
            "type": "pie"
           }
          ],
          "scatter": [
           {
            "marker": {
             "colorbar": {
              "outlinewidth": 0,
              "ticks": ""
             }
            },
            "type": "scatter"
           }
          ],
          "scatter3d": [
           {
            "line": {
             "colorbar": {
              "outlinewidth": 0,
              "ticks": ""
             }
            },
            "marker": {
             "colorbar": {
              "outlinewidth": 0,
              "ticks": ""
             }
            },
            "type": "scatter3d"
           }
          ],
          "scattercarpet": [
           {
            "marker": {
             "colorbar": {
              "outlinewidth": 0,
              "ticks": ""
             }
            },
            "type": "scattercarpet"
           }
          ],
          "scattergeo": [
           {
            "marker": {
             "colorbar": {
              "outlinewidth": 0,
              "ticks": ""
             }
            },
            "type": "scattergeo"
           }
          ],
          "scattergl": [
           {
            "marker": {
             "colorbar": {
              "outlinewidth": 0,
              "ticks": ""
             }
            },
            "type": "scattergl"
           }
          ],
          "scattermapbox": [
           {
            "marker": {
             "colorbar": {
              "outlinewidth": 0,
              "ticks": ""
             }
            },
            "type": "scattermapbox"
           }
          ],
          "scatterpolar": [
           {
            "marker": {
             "colorbar": {
              "outlinewidth": 0,
              "ticks": ""
             }
            },
            "type": "scatterpolar"
           }
          ],
          "scatterpolargl": [
           {
            "marker": {
             "colorbar": {
              "outlinewidth": 0,
              "ticks": ""
             }
            },
            "type": "scatterpolargl"
           }
          ],
          "scatterternary": [
           {
            "marker": {
             "colorbar": {
              "outlinewidth": 0,
              "ticks": ""
             }
            },
            "type": "scatterternary"
           }
          ],
          "surface": [
           {
            "colorbar": {
             "outlinewidth": 0,
             "ticks": ""
            },
            "colorscale": [
             [
              0,
              "#0d0887"
             ],
             [
              0.1111111111111111,
              "#46039f"
             ],
             [
              0.2222222222222222,
              "#7201a8"
             ],
             [
              0.3333333333333333,
              "#9c179e"
             ],
             [
              0.4444444444444444,
              "#bd3786"
             ],
             [
              0.5555555555555556,
              "#d8576b"
             ],
             [
              0.6666666666666666,
              "#ed7953"
             ],
             [
              0.7777777777777778,
              "#fb9f3a"
             ],
             [
              0.8888888888888888,
              "#fdca26"
             ],
             [
              1,
              "#f0f921"
             ]
            ],
            "type": "surface"
           }
          ],
          "table": [
           {
            "cells": {
             "fill": {
              "color": "#EBF0F8"
             },
             "line": {
              "color": "white"
             }
            },
            "header": {
             "fill": {
              "color": "#C8D4E3"
             },
             "line": {
              "color": "white"
             }
            },
            "type": "table"
           }
          ]
         },
         "layout": {
          "annotationdefaults": {
           "arrowcolor": "#2a3f5f",
           "arrowhead": 0,
           "arrowwidth": 1
          },
          "autotypenumbers": "strict",
          "coloraxis": {
           "colorbar": {
            "outlinewidth": 0,
            "ticks": ""
           }
          },
          "colorscale": {
           "diverging": [
            [
             0,
             "#8e0152"
            ],
            [
             0.1,
             "#c51b7d"
            ],
            [
             0.2,
             "#de77ae"
            ],
            [
             0.3,
             "#f1b6da"
            ],
            [
             0.4,
             "#fde0ef"
            ],
            [
             0.5,
             "#f7f7f7"
            ],
            [
             0.6,
             "#e6f5d0"
            ],
            [
             0.7,
             "#b8e186"
            ],
            [
             0.8,
             "#7fbc41"
            ],
            [
             0.9,
             "#4d9221"
            ],
            [
             1,
             "#276419"
            ]
           ],
           "sequential": [
            [
             0,
             "#0d0887"
            ],
            [
             0.1111111111111111,
             "#46039f"
            ],
            [
             0.2222222222222222,
             "#7201a8"
            ],
            [
             0.3333333333333333,
             "#9c179e"
            ],
            [
             0.4444444444444444,
             "#bd3786"
            ],
            [
             0.5555555555555556,
             "#d8576b"
            ],
            [
             0.6666666666666666,
             "#ed7953"
            ],
            [
             0.7777777777777778,
             "#fb9f3a"
            ],
            [
             0.8888888888888888,
             "#fdca26"
            ],
            [
             1,
             "#f0f921"
            ]
           ],
           "sequentialminus": [
            [
             0,
             "#0d0887"
            ],
            [
             0.1111111111111111,
             "#46039f"
            ],
            [
             0.2222222222222222,
             "#7201a8"
            ],
            [
             0.3333333333333333,
             "#9c179e"
            ],
            [
             0.4444444444444444,
             "#bd3786"
            ],
            [
             0.5555555555555556,
             "#d8576b"
            ],
            [
             0.6666666666666666,
             "#ed7953"
            ],
            [
             0.7777777777777778,
             "#fb9f3a"
            ],
            [
             0.8888888888888888,
             "#fdca26"
            ],
            [
             1,
             "#f0f921"
            ]
           ]
          },
          "colorway": [
           "#636efa",
           "#EF553B",
           "#00cc96",
           "#ab63fa",
           "#FFA15A",
           "#19d3f3",
           "#FF6692",
           "#B6E880",
           "#FF97FF",
           "#FECB52"
          ],
          "font": {
           "color": "#2a3f5f"
          },
          "geo": {
           "bgcolor": "white",
           "lakecolor": "white",
           "landcolor": "#E5ECF6",
           "showlakes": true,
           "showland": true,
           "subunitcolor": "white"
          },
          "hoverlabel": {
           "align": "left"
          },
          "hovermode": "closest",
          "mapbox": {
           "style": "light"
          },
          "paper_bgcolor": "white",
          "plot_bgcolor": "#E5ECF6",
          "polar": {
           "angularaxis": {
            "gridcolor": "white",
            "linecolor": "white",
            "ticks": ""
           },
           "bgcolor": "#E5ECF6",
           "radialaxis": {
            "gridcolor": "white",
            "linecolor": "white",
            "ticks": ""
           }
          },
          "scene": {
           "xaxis": {
            "backgroundcolor": "#E5ECF6",
            "gridcolor": "white",
            "gridwidth": 2,
            "linecolor": "white",
            "showbackground": true,
            "ticks": "",
            "zerolinecolor": "white"
           },
           "yaxis": {
            "backgroundcolor": "#E5ECF6",
            "gridcolor": "white",
            "gridwidth": 2,
            "linecolor": "white",
            "showbackground": true,
            "ticks": "",
            "zerolinecolor": "white"
           },
           "zaxis": {
            "backgroundcolor": "#E5ECF6",
            "gridcolor": "white",
            "gridwidth": 2,
            "linecolor": "white",
            "showbackground": true,
            "ticks": "",
            "zerolinecolor": "white"
           }
          },
          "shapedefaults": {
           "line": {
            "color": "#2a3f5f"
           }
          },
          "ternary": {
           "aaxis": {
            "gridcolor": "white",
            "linecolor": "white",
            "ticks": ""
           },
           "baxis": {
            "gridcolor": "white",
            "linecolor": "white",
            "ticks": ""
           },
           "bgcolor": "#E5ECF6",
           "caxis": {
            "gridcolor": "white",
            "linecolor": "white",
            "ticks": ""
           }
          },
          "title": {
           "x": 0.05
          },
          "xaxis": {
           "automargin": true,
           "gridcolor": "white",
           "linecolor": "white",
           "ticks": "",
           "title": {
            "standoff": 15
           },
           "zerolinecolor": "white",
           "zerolinewidth": 2
          },
          "yaxis": {
           "automargin": true,
           "gridcolor": "white",
           "linecolor": "white",
           "ticks": "",
           "title": {
            "standoff": 15
           },
           "zerolinecolor": "white",
           "zerolinewidth": 2
          }
         }
        },
        "xaxis": {
         "anchor": "y",
         "autorange": true,
         "domain": [
          0,
          1
         ],
         "range": [
          "2020-01-02",
          "2021-12-31"
         ],
         "showspikes": false,
         "title": {
          "text": "date"
         },
         "type": "date"
        },
        "yaxis": {
         "anchor": "x",
         "autorange": true,
         "domain": [
          0,
          1
         ],
         "range": [
          195.55244233873157,
          629.5795843336317
         ],
         "showspikes": false,
         "title": {
          "text": "value"
         },
         "type": "linear"
        }
       }
      },
      "image/png": "[encoded data removed]",
      "text/html": [
       "<div>                            <div id=\"264f1ffa-084f-405b-882d-e4b765890e21\" class=\"plotly-graph-div\" style=\"height:525px; width:100%;\"></div>            <script type=\"text/javascript\">                require([\"plotly\"], function(Plotly) {                    window.PLOTLYENV=window.PLOTLYENV || {};                                    if (document.getElementById(\"264f1ffa-084f-405b-882d-e4b765890e21\")) {                    Plotly.newPlot(                        \"264f1ffa-084f-405b-882d-e4b765890e21\",                        [{\"hovertemplate\":\"variable=PFEx<br>date=%{x}<br>value=%{y}<extra></extra>\",\"legendgroup\":\"PFEx\",\"line\":{\"color\":\"#4C78A8\",\"dash\":\"solid\"},\"marker\":{\"symbol\":\"circle\"},\"mode\":\"lines\",\"name\":\"PFEx\",\"showlegend\":true,\"x\":[\"2020-01-02T00:00:00\",\"2020-01-03T00:00:00\",\"2020-01-06T00:00:00\",\"2020-01-07T00:00:00\",\"2020-01-08T00:00:00\",\"2020-01-09T00:00:00\",\"2020-01-10T00:00:00\",\"2020-01-13T00:00:00\",\"2020-01-14T00:00:00\",\"2020-01-15T00:00:00\",\"2020-01-16T00:00:00\",\"2020-01-17T00:00:00\",\"2020-01-21T00:00:00\",\"2020-01-22T00:00:00\",\"2020-01-23T00:00:00\",\"2020-01-24T00:00:00\",\"2020-01-27T00:00:00\",\"2020-01-28T00:00:00\",\"2020-01-29T00:00:00\",\"2020-01-30T00:00:00\",\"2020-01-31T00:00:00\",\"2020-02-03T00:00:00\",\"2020-02-04T00:00:00\",\"2020-02-05T00:00:00\",\"2020-02-06T00:00:00\",\"2020-02-07T00:00:00\",\"2020-02-10T00:00:00\",\"2020-02-11T00:00:00\",\"2020-02-12T00:00:00\",\"2020-02-13T00:00:00\",\"2020-02-14T00:00:00\",\"2020-02-18T00:00:00\",\"2020-02-19T00:00:00\",\"2020-02-20T00:00:00\",\"2020-02-21T00:00:00\",\"2020-02-24T00:00:00\",\"2020-02-25T00:00:00\",\"2020-02-26T00:00:00\",\"2020-02-27T00:00:00\",\"2020-02-28T00:00:00\",\"2020-03-02T00:00:00\",\"2020-03-03T00:00:00\",\"2020-03-04T00:00:00\",\"2020-03-05T00:00:00\",\"2020-03-06T00:00:00\",\"2020-03-09T00:00:00\",\"2020-03-10T00:00:00\",\"2020-03-11T00:00:00\",\"2020-03-12T00:00:00\",\"2020-03-13T00:00:00\",\"2020-03-16T00:00:00\",\"2020-03-17T00:00:00\",\"2020-03-18T00:00:00\",\"2020-03-19T00:00:00\",\"2020-03-20T00:00:00\",\"2020-03-23T00:00:00\",\"2020-03-24T00:00:00\",\"2020-03-25T00:00:00\",\"2020-03-26T00:00:00\",\"2020-03-27T00:00:00\",\"2020-03-30T00:00:00\",\"2020-03-31T00:00:00\",\"2020-04-01T00:00:00\",\"2020-04-02T00:00:00\",\"2020-04-03T00:00:00\",\"2020-04-06T00:00:00\",\"2020-04-07T00:00:00\",\"2020-04-08T00:00:00\",\"2020-04-09T00:00:00\",\"2020-04-13T00:00:00\",\"2020-04-14T00:00:00\",\"2020-04-15T00:00:00\",\"2020-04-16T00:00:00\",\"2020-04-17T00:00:00\",\"2020-04-20T00:00:00\",\"2020-04-21T00:00:00\",\"2020-04-22T00:00:00\",\"2020-04-23T00:00:00\",\"2020-04-24T00:00:00\",\"2020-04-27T00:00:00\",\"2020-04-28T00:00:00\",\"2020-04-29T00:00:00\",\"2020-04-30T00:00:00\",\"2020-05-01T00:00:00\",\"2020-05-04T00:00:00\",\"2020-05-05T00:00:00\",\"2020-05-06T00:00:00\",\"2020-05-07T00:00:00\",\"2020-05-08T00:00:00\",\"2020-05-11T00:00:00\",\"2020-05-12T00:00:00\",\"2020-05-13T00:00:00\",\"2020-05-14T00:00:00\",\"2020-05-15T00:00:00\",\"2020-05-18T00:00:00\",\"2020-05-19T00:00:00\",\"2020-05-20T00:00:00\",\"2020-05-21T00:00:00\",\"2020-05-22T00:00:00\",\"2020-05-26T00:00:00\",\"2020-05-27T00:00:00\",\"2020-05-28T00:00:00\",\"2020-05-29T00:00:00\",\"2020-06-01T00:00:00\",\"2020-06-02T00:00:00\",\"2020-06-03T00:00:00\",\"2020-06-04T00:00:00\",\"2020-06-05T00:00:00\",\"2020-06-08T00:00:00\",\"2020-06-09T00:00:00\",\"2020-06-10T00:00:00\",\"2020-06-11T00:00:00\",\"2020-06-12T00:00:00\",\"2020-06-15T00:00:00\",\"2020-06-16T00:00:00\",\"2020-06-17T00:00:00\",\"2020-06-18T00:00:00\",\"2020-06-19T00:00:00\",\"2020-06-22T00:00:00\",\"2020-06-23T00:00:00\",\"2020-06-24T00:00:00\",\"2020-06-25T00:00:00\",\"2020-06-26T00:00:00\",\"2020-06-29T00:00:00\",\"2020-06-30T00:00:00\",\"2020-07-01T00:00:00\",\"2020-07-02T00:00:00\",\"2020-07-06T00:00:00\",\"2020-07-07T00:00:00\",\"2020-07-08T00:00:00\",\"2020-07-09T00:00:00\",\"2020-07-10T00:00:00\",\"2020-07-13T00:00:00\",\"2020-07-14T00:00:00\",\"2020-07-15T00:00:00\",\"2020-07-16T00:00:00\",\"2020-07-17T00:00:00\",\"2020-07-20T00:00:00\",\"2020-07-21T00:00:00\",\"2020-07-22T00:00:00\",\"2020-07-23T00:00:00\",\"2020-07-24T00:00:00\",\"2020-07-27T00:00:00\",\"2020-07-28T00:00:00\",\"2020-07-29T00:00:00\",\"2020-07-30T00:00:00\",\"2020-07-31T00:00:00\",\"2020-08-03T00:00:00\",\"2020-08-04T00:00:00\",\"2020-08-05T00:00:00\",\"2020-08-06T00:00:00\",\"2020-08-07T00:00:00\",\"2020-08-10T00:00:00\",\"2020-08-11T00:00:00\",\"2020-08-12T00:00:00\",\"2020-08-13T00:00:00\",\"2020-08-14T00:00:00\",\"2020-08-17T00:00:00\",\"2020-08-18T00:00:00\",\"2020-08-19T00:00:00\",\"2020-08-20T00:00:00\",\"2020-08-21T00:00:00\",\"2020-08-24T00:00:00\",\"2020-08-25T00:00:00\",\"2020-08-26T00:00:00\",\"2020-08-27T00:00:00\",\"2020-08-28T00:00:00\",\"2020-08-31T00:00:00\",\"2020-09-01T00:00:00\",\"2020-09-02T00:00:00\",\"2020-09-03T00:00:00\",\"2020-09-04T00:00:00\",\"2020-09-08T00:00:00\",\"2020-09-09T00:00:00\",\"2020-09-10T00:00:00\",\"2020-09-11T00:00:00\",\"2020-09-14T00:00:00\",\"2020-09-15T00:00:00\",\"2020-09-16T00:00:00\",\"2020-09-17T00:00:00\",\"2020-09-18T00:00:00\",\"2020-09-21T00:00:00\",\"2020-09-22T00:00:00\",\"2020-09-23T00:00:00\",\"2020-09-24T00:00:00\",\"2020-09-25T00:00:00\",\"2020-09-28T00:00:00\",\"2020-09-29T00:00:00\",\"2020-09-30T00:00:00\",\"2020-10-01T00:00:00\",\"2020-10-02T00:00:00\",\"2020-10-05T00:00:00\",\"2020-10-06T00:00:00\",\"2020-10-07T00:00:00\",\"2020-10-08T00:00:00\",\"2020-10-09T00:00:00\",\"2020-10-12T00:00:00\",\"2020-10-13T00:00:00\",\"2020-10-14T00:00:00\",\"2020-10-15T00:00:00\",\"2020-10-16T00:00:00\",\"2020-10-19T00:00:00\",\"2020-10-20T00:00:00\",\"2020-10-21T00:00:00\",\"2020-10-22T00:00:00\",\"2020-10-23T00:00:00\",\"2020-10-26T00:00:00\",\"2020-10-27T00:00:00\",\"2020-10-28T00:00:00\",\"2020-10-29T00:00:00\",\"2020-10-30T00:00:00\",\"2020-11-02T00:00:00\",\"2020-11-03T00:00:00\",\"2020-11-04T00:00:00\",\"2020-11-05T00:00:00\",\"2020-11-06T00:00:00\",\"2020-11-09T00:00:00\",\"2020-11-10T00:00:00\",\"2020-11-11T00:00:00\",\"2020-11-12T00:00:00\",\"2020-11-13T00:00:00\",\"2020-11-16T00:00:00\",\"2020-11-17T00:00:00\",\"2020-11-18T00:00:00\",\"2020-11-19T00:00:00\",\"2020-11-20T00:00:00\",\"2020-11-23T00:00:00\",\"2020-11-24T00:00:00\",\"2020-11-25T00:00:00\",\"2020-11-27T00:00:00\",\"2020-11-30T00:00:00\",\"2020-12-01T00:00:00\",\"2020-12-02T00:00:00\",\"2020-12-03T00:00:00\",\"2020-12-04T00:00:00\",\"2020-12-07T00:00:00\",\"2020-12-08T00:00:00\",\"2020-12-09T00:00:00\",\"2020-12-10T00:00:00\",\"2020-12-11T00:00:00\",\"2020-12-14T00:00:00\",\"2020-12-15T00:00:00\",\"2020-12-16T00:00:00\",\"2020-12-17T00:00:00\",\"2020-12-18T00:00:00\",\"2020-12-21T00:00:00\",\"2020-12-22T00:00:00\",\"2020-12-23T00:00:00\",\"2020-12-24T00:00:00\",\"2020-12-28T00:00:00\",\"2020-12-29T00:00:00\",\"2020-12-30T00:00:00\",\"2020-12-31T00:00:00\",\"2021-01-04T00:00:00\",\"2021-01-05T00:00:00\",\"2021-01-06T00:00:00\",\"2021-01-07T00:00:00\",\"2021-01-08T00:00:00\",\"2021-01-11T00:00:00\",\"2021-01-12T00:00:00\",\"2021-01-13T00:00:00\",\"2021-01-14T00:00:00\",\"2021-01-15T00:00:00\",\"2021-01-19T00:00:00\",\"2021-01-20T00:00:00\",\"2021-01-21T00:00:00\",\"2021-01-22T00:00:00\",\"2021-01-25T00:00:00\",\"2021-01-26T00:00:00\",\"2021-01-27T00:00:00\",\"2021-01-28T00:00:00\",\"2021-01-29T00:00:00\",\"2021-02-01T00:00:00\",\"2021-02-02T00:00:00\",\"2021-02-03T00:00:00\",\"2021-02-04T00:00:00\",\"2021-02-05T00:00:00\",\"2021-02-08T00:00:00\",\"2021-02-09T00:00:00\",\"2021-02-10T00:00:00\",\"2021-02-11T00:00:00\",\"2021-02-12T00:00:00\",\"2021-02-16T00:00:00\",\"2021-02-17T00:00:00\",\"2021-02-18T00:00:00\",\"2021-02-19T00:00:00\",\"2021-02-22T00:00:00\",\"2021-02-23T00:00:00\",\"2021-02-24T00:00:00\",\"2021-02-25T00:00:00\",\"2021-02-26T00:00:00\",\"2021-03-01T00:00:00\",\"2021-03-02T00:00:00\",\"2021-03-03T00:00:00\",\"2021-03-04T00:00:00\",\"2021-03-05T00:00:00\",\"2021-03-08T00:00:00\",\"2021-03-09T00:00:00\",\"2021-03-10T00:00:00\",\"2021-03-11T00:00:00\",\"2021-03-12T00:00:00\",\"2021-03-15T00:00:00\",\"2021-03-16T00:00:00\",\"2021-03-17T00:00:00\",\"2021-03-18T00:00:00\",\"2021-03-19T00:00:00\",\"2021-03-22T00:00:00\",\"2021-03-23T00:00:00\",\"2021-03-24T00:00:00\",\"2021-03-25T00:00:00\",\"2021-03-26T00:00:00\",\"2021-03-29T00:00:00\",\"2021-03-30T00:00:00\",\"2021-03-31T00:00:00\",\"2021-04-01T00:00:00\",\"2021-04-05T00:00:00\",\"2021-04-06T00:00:00\",\"2021-04-07T00:00:00\",\"2021-04-08T00:00:00\",\"2021-04-09T00:00:00\",\"2021-04-12T00:00:00\",\"2021-04-13T00:00:00\",\"2021-04-14T00:00:00\",\"2021-04-15T00:00:00\",\"2021-04-16T00:00:00\",\"2021-04-19T00:00:00\",\"2021-04-20T00:00:00\",\"2021-04-21T00:00:00\",\"2021-04-22T00:00:00\",\"2021-04-23T00:00:00\",\"2021-04-26T00:00:00\",\"2021-04-27T00:00:00\",\"2021-04-28T00:00:00\",\"2021-04-29T00:00:00\",\"2021-04-30T00:00:00\",\"2021-05-03T00:00:00\",\"2021-05-04T00:00:00\",\"2021-05-05T00:00:00\",\"2021-05-06T00:00:00\",\"2021-05-07T00:00:00\",\"2021-05-10T00:00:00\",\"2021-05-11T00:00:00\",\"2021-05-12T00:00:00\",\"2021-05-13T00:00:00\",\"2021-05-14T00:00:00\",\"2021-05-17T00:00:00\",\"2021-05-18T00:00:00\",\"2021-05-19T00:00:00\",\"2021-05-20T00:00:00\",\"2021-05-21T00:00:00\",\"2021-05-24T00:00:00\",\"2021-05-25T00:00:00\",\"2021-05-26T00:00:00\",\"2021-05-27T00:00:00\",\"2021-05-28T00:00:00\",\"2021-06-01T00:00:00\",\"2021-06-02T00:00:00\",\"2021-06-03T00:00:00\",\"2021-06-04T00:00:00\",\"2021-06-07T00:00:00\",\"2021-06-08T00:00:00\",\"2021-06-09T00:00:00\",\"2021-06-10T00:00:00\",\"2021-06-11T00:00:00\",\"2021-06-14T00:00:00\",\"2021-06-15T00:00:00\",\"2021-06-16T00:00:00\",\"2021-06-17T00:00:00\",\"2021-06-18T00:00:00\",\"2021-06-21T00:00:00\",\"2021-06-22T00:00:00\",\"2021-06-23T00:00:00\",\"2021-06-24T00:00:00\",\"2021-06-25T00:00:00\",\"2021-06-28T00:00:00\",\"2021-06-29T00:00:00\",\"2021-06-30T00:00:00\",\"2021-07-01T00:00:00\",\"2021-07-02T00:00:00\",\"2021-07-06T00:00:00\",\"2021-07-07T00:00:00\",\"2021-07-08T00:00:00\",\"2021-07-09T00:00:00\",\"2021-07-12T00:00:00\",\"2021-07-13T00:00:00\",\"2021-07-14T00:00:00\",\"2021-07-15T00:00:00\",\"2021-07-16T00:00:00\",\"2021-07-19T00:00:00\",\"2021-07-20T00:00:00\",\"2021-07-21T00:00:00\",\"2021-07-22T00:00:00\",\"2021-07-23T00:00:00\",\"2021-07-26T00:00:00\",\"2021-07-27T00:00:00\",\"2021-07-28T00:00:00\",\"2021-07-29T00:00:00\",\"2021-07-30T00:00:00\",\"2021-08-02T00:00:00\",\"2021-08-03T00:00:00\",\"2021-08-04T00:00:00\",\"2021-08-05T00:00:00\",\"2021-08-06T00:00:00\",\"2021-08-09T00:00:00\",\"2021-08-10T00:00:00\",\"2021-08-11T00:00:00\",\"2021-08-12T00:00:00\",\"2021-08-13T00:00:00\",\"2021-08-16T00:00:00\",\"2021-08-17T00:00:00\",\"2021-08-18T00:00:00\",\"2021-08-19T00:00:00\",\"2021-08-20T00:00:00\",\"2021-08-23T00:00:00\",\"2021-08-24T00:00:00\",\"2021-08-25T00:00:00\",\"2021-08-26T00:00:00\",\"2021-08-27T00:00:00\",\"2021-08-30T00:00:00\",\"2021-08-31T00:00:00\",\"2021-09-01T00:00:00\",\"2021-09-02T00:00:00\",\"2021-09-03T00:00:00\",\"2021-09-07T00:00:00\",\"2021-09-08T00:00:00\",\"2021-09-09T00:00:00\",\"2021-09-10T00:00:00\",\"2021-09-13T00:00:00\",\"2021-09-14T00:00:00\",\"2021-09-15T00:00:00\",\"2021-09-16T00:00:00\",\"2021-09-17T00:00:00\",\"2021-09-20T00:00:00\",\"2021-09-21T00:00:00\",\"2021-09-22T00:00:00\",\"2021-09-23T00:00:00\",\"2021-09-24T00:00:00\",\"2021-09-27T00:00:00\",\"2021-09-28T00:00:00\",\"2021-09-29T00:00:00\",\"2021-09-30T00:00:00\",\"2021-10-01T00:00:00\",\"2021-10-04T00:00:00\",\"2021-10-05T00:00:00\",\"2021-10-06T00:00:00\",\"2021-10-07T00:00:00\",\"2021-10-08T00:00:00\",\"2021-10-11T00:00:00\",\"2021-10-12T00:00:00\",\"2021-10-13T00:00:00\",\"2021-10-14T00:00:00\",\"2021-10-15T00:00:00\",\"2021-10-18T00:00:00\",\"2021-10-19T00:00:00\",\"2021-10-20T00:00:00\",\"2021-10-21T00:00:00\",\"2021-10-22T00:00:00\",\"2021-10-25T00:00:00\",\"2021-10-26T00:00:00\",\"2021-10-27T00:00:00\",\"2021-10-28T00:00:00\",\"2021-10-29T00:00:00\",\"2021-11-01T00:00:00\",\"2021-11-02T00:00:00\",\"2021-11-03T00:00:00\",\"2021-11-04T00:00:00\",\"2021-11-05T00:00:00\",\"2021-11-08T00:00:00\",\"2021-11-09T00:00:00\",\"2021-11-10T00:00:00\",\"2021-11-11T00:00:00\",\"2021-11-12T00:00:00\",\"2021-11-15T00:00:00\",\"2021-11-16T00:00:00\",\"2021-11-17T00:00:00\",\"2021-11-18T00:00:00\",\"2021-11-19T00:00:00\",\"2021-11-22T00:00:00\",\"2021-11-23T00:00:00\",\"2021-11-24T00:00:00\",\"2021-11-26T00:00:00\",\"2021-11-29T00:00:00\",\"2021-11-30T00:00:00\",\"2021-12-01T00:00:00\",\"2021-12-02T00:00:00\",\"2021-12-03T00:00:00\",\"2021-12-06T00:00:00\",\"2021-12-07T00:00:00\",\"2021-12-08T00:00:00\",\"2021-12-09T00:00:00\",\"2021-12-10T00:00:00\",\"2021-12-13T00:00:00\",\"2021-12-14T00:00:00\",\"2021-12-15T00:00:00\",\"2021-12-16T00:00:00\",\"2021-12-17T00:00:00\",\"2021-12-20T00:00:00\",\"2021-12-21T00:00:00\",\"2021-12-22T00:00:00\",\"2021-12-23T00:00:00\",\"2021-12-27T00:00:00\",\"2021-12-28T00:00:00\",\"2021-12-29T00:00:00\",\"2021-12-30T00:00:00\",\"2021-12-31T00:00:00\"],\"xaxis\":\"x\",\"y\":[340.7484436035156,338.9202117919922,338.48487854003906,337.3530960083008,340.05191802978516,338.57200622558594,343.79547119140625,343.0990219116211,348.8449478149414,354.0684127807617,353.54610443115234,352.6755142211914,351.1954879760742,349.8896026611328,354.4166564941406,346.6684341430664,349.6284484863281,332.0425033569336,327.16724395751953,326.0239028930664,327.5191116333008,329.8936080932617,331.47674560546875,335.6982421875,336.48975372314453,334.6428680419922,332.53204345703125,334.99462127685547,331.91646575927734,324.7926330566406,321.09886169433594,319.4277572631836,318.6362838745117,315.29422760009766,314.15088653564453,304.9163818359375,298.40816497802734,305.35608291625977,299.90331649780273,293.92284393310547,306.7632484436035,301.6622543334961,320.1313781738281,311.86424255371094,307.99455642700195,296.9131088256836,304.21274185180664,282.9292869567871,264.0204620361328,287.6785469055176,265.42762756347656,282.84135818481445,284.6002960205078,267.5383949279785,255.13769149780273,250.56440353393555,261.20609283447266,261.6458320617676,279.2354965209961,271.7599296569824,287.3267364501953,287.06287384033203,279.2354965209961,289.0856742858887,295.85771560668945,304.03690338134766,295.5938529968262,304.30070877075195,311.2486267089844,309.0499496459961,320.4831314086914,316.3496208190918,315.5580520629883,324.61669921875,317.3170471191406,313.271484375,318.81216049194336,322.68184661865234,328.75030517578125,337.10533142089844,333.4115982055664,335.2585220336914,337.3692321777344,331.0369110107422,330.86109161376953,338.68846893310547,338.68846893310547,328.29601287841797,330.60543060302734,338.4219741821289,331.8489456176758,329.0953826904297,336.8231201171875,335.4019546508789,338.155517578125,334.6913528442383,334.2472457885742,330.96073150634766,333.0924987792969,333.0036926269531,332.2930908203125,339.1326141357422,339.2213821411133,314.97222900390625,321.1899948120117,321.1899948120117,319.8575782775879,319.6799850463867,325.00946044921875,321.6341781616211,319.0581703186035,295.7861328125,299.7832679748535,296.31906509399414,296.6744041442871,298.0955696105957,295.25320053100586,296.85203552246094,294.0984535217285,291.0784339904785,285.92660903930664,287.0813179016113,284.59423065185547,289.9237060546875,290.45665740966797,299.6944236755371,306.53390884399414,306.53390884399414,302.2703742980957,299.7832679748535,297.2073554992676,300.4938507080078,312.7516555786133,312.9293441772461,317.2816848754883,316.2158393859863,321.9894027709961,324.2100143432617,325.8976745605469,342.5079345703125,341.175537109375,334.51366424560547,333.44776153564453,346.59385681152344,348.72562408447266,347.4699401855469,345.137939453125,343.97193908691406,344.3306350708008,344.8688507080078,343.25435638427734,344.8688507080078,344.3306350708008,338.94908905029297,343.7925338745117,342.3574447631836,341.37081146240234,343.97193908691406,344.0616226196289,343.16471099853516,347.2905731201172,348.72562408447266,348.3668518066406,344.5100784301758,341.28116607666016,339.57691192626953,340.0254440307617,338.94908905029297,330.7870864868164,333.6572265625,326.48181915283203,326.12308502197266,322.2663116455078,324.50862884521484,319.75486755371094,323.5219955444336,331.95308685302734,331.50463104248047,329.8902130126953,330.2488708496094,328.54480743408203,323.0734634399414,325.13641357421875,322.8941345214844,320.7415008544922,323.3426284790039,326.39209747314453,324.4188690185547,329.17259216308594,326.21273040771484,326.3024139404297,329.6210479736328,324.4188690185547,327.10960388183594,330.87677001953125,329.97989654541016,330.2488708496094,330.9664535522461,330.6077194213867,327.8272247314453,340.38421630859375,339.03881072998047,336.25831604003906,332.58094787597656,335.72017669677734,342.44712829589844,340.11512756347656,335.72017669677734,317.96106338500977,316.43619537353516,318.23007583618164,324.95704650878906,324.59827423095703,334.82322692871094,329.7488021850586,329.8394012451172,355.21167755126953,350.4996871948242,348.86863708496094,340.2601623535156,349.9559783935547,338.26663970947266,344.2124557495117,346.8866729736328,345.6450653076172,350.5160140991211,348.7968444824219,349.5608901977539,348.8923645019531,355.57796478271484,365.8928680419922,376.3987731933594,389.67445373535156,382.8934097290039,385.28106689453125,393.9723587036133,406.4839553833008,399.7028350830078,398.5567092895508,392.730712890625,374.48863983154297,369.7132110595703,361.4039611816406,363.21861267089844,359.8758316040039,357.01053619384766,350.8980178833008,357.5836181640625,355.9600067138672,351.66210174560547,353.85875701904297,350.8980178833008,351.5666198730469,351.5666198730469,355.19588470458984,352.1396255493164,353.9543151855469,354.62291717529297,360.73543548583984,355.1004409790039,352.0441436767578,350.99353790283203,350.5160140991211,350.8025360107422,348.6058044433594,348.4148406982422,349.08336639404297,356.0554885864258,356.3420104980469,346.1226272583008,346.2191390991211,346.6053771972656,345.63987731933594,337.8195571899414,336.3713073730469,336.85401916503906,337.14366912841797,336.17820739746094,337.62645721435547,335.40584564208984,332.4128723144531,335.2127456665039,334.923095703125,336.85401916503906,333.66798400878906,332.5094223022461,330.7715606689453,327.3924255371094,325.84766387939453,326.52347564697266,323.33744049072266,325.2683639526367,323.53050231933594,332.0267105102539,330.19229888916016,332.0267105102539,331.64051055908203,332.6060104370117,337.2402572631836,335.1162338256836,337.3367691040039,341.8745422363281,345.9295654296875,345.54332733154297,345.35022735595703,343.03306579589844,347.57083892822266,341.39183044433594,343.80550384521484,344.38472747802734,349.98451232910156,353.5567855834961,348.6328887939453,349.7914123535156,350.4672622680664,350.27416229248047,348.05355072021484,346.70188903808594,347.1846389770508,353.3636474609375,356.9359588623047,358.7703323364258,358.86688232421875,363.0184555053711,372.3835754394531,375.85926055908203,376.82472229003906,381.65210723876953,373.05938720703125,373.2524871826172,373.4455108642578,371.2249755859375,374.70069885253906,372.6731491088867,373.1559371948242,384.5485305786133,385.70709228515625,385.9001922607422,382.0977020263672,385.9001922607422,388.63014221191406,383.6576843261719,386.97265625,390.9701156616211,390.19012451171875,391.06761932373047,390.4826354980469,388.33763122558594,391.16512298583984,389.5076370239258,388.14266204833984,383.4627151489258,379.46521759033203,376.8328094482422,377.6127624511719,375.3702926635742,378.1977844238281,379.95277404785156,381.70772552490234,380.1477813720703,378.7827682495117,388.14266204833984,396.62506103515625,391.4575958251953,386.3876724243164,385.99769592285156,383.17020416259766,384.9251937866211,378.3927917480469,384.34017181396484,386.19266510009766,380.73272705078125,382.0977020263672,380.0502395629883,381.4152145385742,381.22020721435547,381.8052291870117,385.70518493652344,387.3626708984375,383.0727005004883,383.6576843261719,382.68272399902344,386.19266510009766,387.65514373779297,386.58267974853516,389.5076370239258,390.8726119995117,393.4075927734375,391.4575958251953,400.2324676513672,399.9400329589844,404.3274688720703,406.3749313354492,407.64244079589844,410.4698944091797,423.63224029541016,420.97591400146484,421.1726760864258,432.48661041259766,449.40826416015625,444.5875549316406,443.30860137939453,443.406982421875,452.35973358154297,474.1020965576172,455.6063461303711,464.755859375,476.95518493652344,481.18560791015625,496.04122161865234,485.12088775634766,480.1034164428711,479.31636810302734,491.22058868408203,475.97137451171875,467.41214752197266,466.13319396972656,458.4593963623047,460.0334930419922,453.2451629638672,452.9500198364258,460.8205795288086,460.8205795288086,459.9351119995117,457.57396697998047,452.85160064697266,448.5227966308594,438.5862731933594,439.86522674560547,440.4555130004883,437.5040817260742,431.7979049682617,434.8477554321289,432.0930480957031,432.38819122314453,434.74937438964844,432.28981018066406,428.64967346191406,423.4354782104492,428.2561492919922,423.14029693603516,422.3532485961914,417.33577728271484,416.35196685791016,413.40049743652344,420.4840087890625,417.6309585571289,413.79405975341797,411.7279815673828,407.49759674072266,409.9571228027344,408.1863021850586,406.51378631591797,414.0892028808594,421.0742950439453,421.6646194458008,424.61605072021484,424.5176696777344,428.55133056640625,422.74681091308594,424.8128128051758,430.32222747802734,429.33837890625,447.1454620361328,440.9474563598633,435.19115447998047,482.43202209472656,479.6531295776367,469.43084716796875,486.50108337402344,498.01353454589844,493.54747772216797,492.75352478027344,492.2572708129883,504.8614501953125,510.22071838378906,504.16675567626953,508.13655853271484,506.9456481933594,505.0599670410156,535.92529296875,520.0460433959961,533.2456588745117,542.6739883422852,526.3977432250977,538.6049270629883,510.9154510498047,513.2973480224609,510.12149810791016,516.8701934814453,523.8173294067383,547.8347396850586,551.2091064453125,583.5630798339844,607.8782272338867,590.3117752075195,605.595588684082,585.0517654418945,591.0064697265625,582.6698684692383,587.5329208374023,575.7226943969727,571.4551544189453,579.5932769775391,586.0441970825195],\"yaxis\":\"y\",\"type\":\"scattergl\"},{\"hovertemplate\":\"variable=SPY<br>date=%{x}<br>value=%{y}<extra></extra>\",\"legendgroup\":\"SPY\",\"line\":{\"color\":\"#F58518\",\"dash\":\"solid\"},\"marker\":{\"symbol\":\"circle\"},\"mode\":\"lines\",\"name\":\"SPY\",\"showlegend\":true,\"x\":[\"2020-01-02T00:00:00\",\"2020-01-03T00:00:00\",\"2020-01-06T00:00:00\",\"2020-01-07T00:00:00\",\"2020-01-08T00:00:00\",\"2020-01-09T00:00:00\",\"2020-01-10T00:00:00\",\"2020-01-13T00:00:00\",\"2020-01-14T00:00:00\",\"2020-01-15T00:00:00\",\"2020-01-16T00:00:00\",\"2020-01-17T00:00:00\",\"2020-01-21T00:00:00\",\"2020-01-22T00:00:00\",\"2020-01-23T00:00:00\",\"2020-01-24T00:00:00\",\"2020-01-27T00:00:00\",\"2020-01-28T00:00:00\",\"2020-01-29T00:00:00\",\"2020-01-30T00:00:00\",\"2020-01-31T00:00:00\",\"2020-02-03T00:00:00\",\"2020-02-04T00:00:00\",\"2020-02-05T00:00:00\",\"2020-02-06T00:00:00\",\"2020-02-07T00:00:00\",\"2020-02-10T00:00:00\",\"2020-02-11T00:00:00\",\"2020-02-12T00:00:00\",\"2020-02-13T00:00:00\",\"2020-02-14T00:00:00\",\"2020-02-18T00:00:00\",\"2020-02-19T00:00:00\",\"2020-02-20T00:00:00\",\"2020-02-21T00:00:00\",\"2020-02-24T00:00:00\",\"2020-02-25T00:00:00\",\"2020-02-26T00:00:00\",\"2020-02-27T00:00:00\",\"2020-02-28T00:00:00\",\"2020-03-02T00:00:00\",\"2020-03-03T00:00:00\",\"2020-03-04T00:00:00\",\"2020-03-05T00:00:00\",\"2020-03-06T00:00:00\",\"2020-03-09T00:00:00\",\"2020-03-10T00:00:00\",\"2020-03-11T00:00:00\",\"2020-03-12T00:00:00\",\"2020-03-13T00:00:00\",\"2020-03-16T00:00:00\",\"2020-03-17T00:00:00\",\"2020-03-18T00:00:00\",\"2020-03-19T00:00:00\",\"2020-03-20T00:00:00\",\"2020-03-23T00:00:00\",\"2020-03-24T00:00:00\",\"2020-03-25T00:00:00\",\"2020-03-26T00:00:00\",\"2020-03-27T00:00:00\",\"2020-03-30T00:00:00\",\"2020-03-31T00:00:00\",\"2020-04-01T00:00:00\",\"2020-04-02T00:00:00\",\"2020-04-03T00:00:00\",\"2020-04-06T00:00:00\",\"2020-04-07T00:00:00\",\"2020-04-08T00:00:00\",\"2020-04-09T00:00:00\",\"2020-04-13T00:00:00\",\"2020-04-14T00:00:00\",\"2020-04-15T00:00:00\",\"2020-04-16T00:00:00\",\"2020-04-17T00:00:00\",\"2020-04-20T00:00:00\",\"2020-04-21T00:00:00\",\"2020-04-22T00:00:00\",\"2020-04-23T00:00:00\",\"2020-04-24T00:00:00\",\"2020-04-27T00:00:00\",\"2020-04-28T00:00:00\",\"2020-04-29T00:00:00\",\"2020-04-30T00:00:00\",\"2020-05-01T00:00:00\",\"2020-05-04T00:00:00\",\"2020-05-05T00:00:00\",\"2020-05-06T00:00:00\",\"2020-05-07T00:00:00\",\"2020-05-08T00:00:00\",\"2020-05-11T00:00:00\",\"2020-05-12T00:00:00\",\"2020-05-13T00:00:00\",\"2020-05-14T00:00:00\",\"2020-05-15T00:00:00\",\"2020-05-18T00:00:00\",\"2020-05-19T00:00:00\",\"2020-05-20T00:00:00\",\"2020-05-21T00:00:00\",\"2020-05-22T00:00:00\",\"2020-05-26T00:00:00\",\"2020-05-27T00:00:00\",\"2020-05-28T00:00:00\",\"2020-05-29T00:00:00\",\"2020-06-01T00:00:00\",\"2020-06-02T00:00:00\",\"2020-06-03T00:00:00\",\"2020-06-04T00:00:00\",\"2020-06-05T00:00:00\",\"2020-06-08T00:00:00\",\"2020-06-09T00:00:00\",\"2020-06-10T00:00:00\",\"2020-06-11T00:00:00\",\"2020-06-12T00:00:00\",\"2020-06-15T00:00:00\",\"2020-06-16T00:00:00\",\"2020-06-17T00:00:00\",\"2020-06-18T00:00:00\",\"2020-06-19T00:00:00\",\"2020-06-22T00:00:00\",\"2020-06-23T00:00:00\",\"2020-06-24T00:00:00\",\"2020-06-25T00:00:00\",\"2020-06-26T00:00:00\",\"2020-06-29T00:00:00\",\"2020-06-30T00:00:00\",\"2020-07-01T00:00:00\",\"2020-07-02T00:00:00\",\"2020-07-06T00:00:00\",\"2020-07-07T00:00:00\",\"2020-07-08T00:00:00\",\"2020-07-09T00:00:00\",\"2020-07-10T00:00:00\",\"2020-07-13T00:00:00\",\"2020-07-14T00:00:00\",\"2020-07-15T00:00:00\",\"2020-07-16T00:00:00\",\"2020-07-17T00:00:00\",\"2020-07-20T00:00:00\",\"2020-07-21T00:00:00\",\"2020-07-22T00:00:00\",\"2020-07-23T00:00:00\",\"2020-07-24T00:00:00\",\"2020-07-27T00:00:00\",\"2020-07-28T00:00:00\",\"2020-07-29T00:00:00\",\"2020-07-30T00:00:00\",\"2020-07-31T00:00:00\",\"2020-08-03T00:00:00\",\"2020-08-04T00:00:00\",\"2020-08-05T00:00:00\",\"2020-08-06T00:00:00\",\"2020-08-07T00:00:00\",\"2020-08-10T00:00:00\",\"2020-08-11T00:00:00\",\"2020-08-12T00:00:00\",\"2020-08-13T00:00:00\",\"2020-08-14T00:00:00\",\"2020-08-17T00:00:00\",\"2020-08-18T00:00:00\",\"2020-08-19T00:00:00\",\"2020-08-20T00:00:00\",\"2020-08-21T00:00:00\",\"2020-08-24T00:00:00\",\"2020-08-25T00:00:00\",\"2020-08-26T00:00:00\",\"2020-08-27T00:00:00\",\"2020-08-28T00:00:00\",\"2020-08-31T00:00:00\",\"2020-09-01T00:00:00\",\"2020-09-02T00:00:00\",\"2020-09-03T00:00:00\",\"2020-09-04T00:00:00\",\"2020-09-08T00:00:00\",\"2020-09-09T00:00:00\",\"2020-09-10T00:00:00\",\"2020-09-11T00:00:00\",\"2020-09-14T00:00:00\",\"2020-09-15T00:00:00\",\"2020-09-16T00:00:00\",\"2020-09-17T00:00:00\",\"2020-09-18T00:00:00\",\"2020-09-21T00:00:00\",\"2020-09-22T00:00:00\",\"2020-09-23T00:00:00\",\"2020-09-24T00:00:00\",\"2020-09-25T00:00:00\",\"2020-09-28T00:00:00\",\"2020-09-29T00:00:00\",\"2020-09-30T00:00:00\",\"2020-10-01T00:00:00\",\"2020-10-02T00:00:00\",\"2020-10-05T00:00:00\",\"2020-10-06T00:00:00\",\"2020-10-07T00:00:00\",\"2020-10-08T00:00:00\",\"2020-10-09T00:00:00\",\"2020-10-12T00:00:00\",\"2020-10-13T00:00:00\",\"2020-10-14T00:00:00\",\"2020-10-15T00:00:00\",\"2020-10-16T00:00:00\",\"2020-10-19T00:00:00\",\"2020-10-20T00:00:00\",\"2020-10-21T00:00:00\",\"2020-10-22T00:00:00\",\"2020-10-23T00:00:00\",\"2020-10-26T00:00:00\",\"2020-10-27T00:00:00\",\"2020-10-28T00:00:00\",\"2020-10-29T00:00:00\",\"2020-10-30T00:00:00\",\"2020-11-02T00:00:00\",\"2020-11-03T00:00:00\",\"2020-11-04T00:00:00\",\"2020-11-05T00:00:00\",\"2020-11-06T00:00:00\",\"2020-11-09T00:00:00\",\"2020-11-10T00:00:00\",\"2020-11-11T00:00:00\",\"2020-11-12T00:00:00\",\"2020-11-13T00:00:00\",\"2020-11-16T00:00:00\",\"2020-11-17T00:00:00\",\"2020-11-18T00:00:00\",\"2020-11-19T00:00:00\",\"2020-11-20T00:00:00\",\"2020-11-23T00:00:00\",\"2020-11-24T00:00:00\",\"2020-11-25T00:00:00\",\"2020-11-27T00:00:00\",\"2020-11-30T00:00:00\",\"2020-12-01T00:00:00\",\"2020-12-02T00:00:00\",\"2020-12-03T00:00:00\",\"2020-12-04T00:00:00\",\"2020-12-07T00:00:00\",\"2020-12-08T00:00:00\",\"2020-12-09T00:00:00\",\"2020-12-10T00:00:00\",\"2020-12-11T00:00:00\",\"2020-12-14T00:00:00\",\"2020-12-15T00:00:00\",\"2020-12-16T00:00:00\",\"2020-12-17T00:00:00\",\"2020-12-18T00:00:00\",\"2020-12-21T00:00:00\",\"2020-12-22T00:00:00\",\"2020-12-23T00:00:00\",\"2020-12-24T00:00:00\",\"2020-12-28T00:00:00\",\"2020-12-29T00:00:00\",\"2020-12-30T00:00:00\",\"2020-12-31T00:00:00\",\"2021-01-04T00:00:00\",\"2021-01-05T00:00:00\",\"2021-01-06T00:00:00\",\"2021-01-07T00:00:00\",\"2021-01-08T00:00:00\",\"2021-01-11T00:00:00\",\"2021-01-12T00:00:00\",\"2021-01-13T00:00:00\",\"2021-01-14T00:00:00\",\"2021-01-15T00:00:00\",\"2021-01-19T00:00:00\",\"2021-01-20T00:00:00\",\"2021-01-21T00:00:00\",\"2021-01-22T00:00:00\",\"2021-01-25T00:00:00\",\"2021-01-26T00:00:00\",\"2021-01-27T00:00:00\",\"2021-01-28T00:00:00\",\"2021-01-29T00:00:00\",\"2021-02-01T00:00:00\",\"2021-02-02T00:00:00\",\"2021-02-03T00:00:00\",\"2021-02-04T00:00:00\",\"2021-02-05T00:00:00\",\"2021-02-08T00:00:00\",\"2021-02-09T00:00:00\",\"2021-02-10T00:00:00\",\"2021-02-11T00:00:00\",\"2021-02-12T00:00:00\",\"2021-02-16T00:00:00\",\"2021-02-17T00:00:00\",\"2021-02-18T00:00:00\",\"2021-02-19T00:00:00\",\"2021-02-22T00:00:00\",\"2021-02-23T00:00:00\",\"2021-02-24T00:00:00\",\"2021-02-25T00:00:00\",\"2021-02-26T00:00:00\",\"2021-03-01T00:00:00\",\"2021-03-02T00:00:00\",\"2021-03-03T00:00:00\",\"2021-03-04T00:00:00\",\"2021-03-05T00:00:00\",\"2021-03-08T00:00:00\",\"2021-03-09T00:00:00\",\"2021-03-10T00:00:00\",\"2021-03-11T00:00:00\",\"2021-03-12T00:00:00\",\"2021-03-15T00:00:00\",\"2021-03-16T00:00:00\",\"2021-03-17T00:00:00\",\"2021-03-18T00:00:00\",\"2021-03-19T00:00:00\",\"2021-03-22T00:00:00\",\"2021-03-23T00:00:00\",\"2021-03-24T00:00:00\",\"2021-03-25T00:00:00\",\"2021-03-26T00:00:00\",\"2021-03-29T00:00:00\",\"2021-03-30T00:00:00\",\"2021-03-31T00:00:00\",\"2021-04-01T00:00:00\",\"2021-04-05T00:00:00\",\"2021-04-06T00:00:00\",\"2021-04-07T00:00:00\",\"2021-04-08T00:00:00\",\"2021-04-09T00:00:00\",\"2021-04-12T00:00:00\",\"2021-04-13T00:00:00\",\"2021-04-14T00:00:00\",\"2021-04-15T00:00:00\",\"2021-04-16T00:00:00\",\"2021-04-19T00:00:00\",\"2021-04-20T00:00:00\",\"2021-04-21T00:00:00\",\"2021-04-22T00:00:00\",\"2021-04-23T00:00:00\",\"2021-04-26T00:00:00\",\"2021-04-27T00:00:00\",\"2021-04-28T00:00:00\",\"2021-04-29T00:00:00\",\"2021-04-30T00:00:00\",\"2021-05-03T00:00:00\",\"2021-05-04T00:00:00\",\"2021-05-05T00:00:00\",\"2021-05-06T00:00:00\",\"2021-05-07T00:00:00\",\"2021-05-10T00:00:00\",\"2021-05-11T00:00:00\",\"2021-05-12T00:00:00\",\"2021-05-13T00:00:00\",\"2021-05-14T00:00:00\",\"2021-05-17T00:00:00\",\"2021-05-18T00:00:00\",\"2021-05-19T00:00:00\",\"2021-05-20T00:00:00\",\"2021-05-21T00:00:00\",\"2021-05-24T00:00:00\",\"2021-05-25T00:00:00\",\"2021-05-26T00:00:00\",\"2021-05-27T00:00:00\",\"2021-05-28T00:00:00\",\"2021-06-01T00:00:00\",\"2021-06-02T00:00:00\",\"2021-06-03T00:00:00\",\"2021-06-04T00:00:00\",\"2021-06-07T00:00:00\",\"2021-06-08T00:00:00\",\"2021-06-09T00:00:00\",\"2021-06-10T00:00:00\",\"2021-06-11T00:00:00\",\"2021-06-14T00:00:00\",\"2021-06-15T00:00:00\",\"2021-06-16T00:00:00\",\"2021-06-17T00:00:00\",\"2021-06-18T00:00:00\",\"2021-06-21T00:00:00\",\"2021-06-22T00:00:00\",\"2021-06-23T00:00:00\",\"2021-06-24T00:00:00\",\"2021-06-25T00:00:00\",\"2021-06-28T00:00:00\",\"2021-06-29T00:00:00\",\"2021-06-30T00:00:00\",\"2021-07-01T00:00:00\",\"2021-07-02T00:00:00\",\"2021-07-06T00:00:00\",\"2021-07-07T00:00:00\",\"2021-07-08T00:00:00\",\"2021-07-09T00:00:00\",\"2021-07-12T00:00:00\",\"2021-07-13T00:00:00\",\"2021-07-14T00:00:00\",\"2021-07-15T00:00:00\",\"2021-07-16T00:00:00\",\"2021-07-19T00:00:00\",\"2021-07-20T00:00:00\",\"2021-07-21T00:00:00\",\"2021-07-22T00:00:00\",\"2021-07-23T00:00:00\",\"2021-07-26T00:00:00\",\"2021-07-27T00:00:00\",\"2021-07-28T00:00:00\",\"2021-07-29T00:00:00\",\"2021-07-30T00:00:00\",\"2021-08-02T00:00:00\",\"2021-08-03T00:00:00\",\"2021-08-04T00:00:00\",\"2021-08-05T00:00:00\",\"2021-08-06T00:00:00\",\"2021-08-09T00:00:00\",\"2021-08-10T00:00:00\",\"2021-08-11T00:00:00\",\"2021-08-12T00:00:00\",\"2021-08-13T00:00:00\",\"2021-08-16T00:00:00\",\"2021-08-17T00:00:00\",\"2021-08-18T00:00:00\",\"2021-08-19T00:00:00\",\"2021-08-20T00:00:00\",\"2021-08-23T00:00:00\",\"2021-08-24T00:00:00\",\"2021-08-25T00:00:00\",\"2021-08-26T00:00:00\",\"2021-08-27T00:00:00\",\"2021-08-30T00:00:00\",\"2021-08-31T00:00:00\",\"2021-09-01T00:00:00\",\"2021-09-02T00:00:00\",\"2021-09-03T00:00:00\",\"2021-09-07T00:00:00\",\"2021-09-08T00:00:00\",\"2021-09-09T00:00:00\",\"2021-09-10T00:00:00\",\"2021-09-13T00:00:00\",\"2021-09-14T00:00:00\",\"2021-09-15T00:00:00\",\"2021-09-16T00:00:00\",\"2021-09-17T00:00:00\",\"2021-09-20T00:00:00\",\"2021-09-21T00:00:00\",\"2021-09-22T00:00:00\",\"2021-09-23T00:00:00\",\"2021-09-24T00:00:00\",\"2021-09-27T00:00:00\",\"2021-09-28T00:00:00\",\"2021-09-29T00:00:00\",\"2021-09-30T00:00:00\",\"2021-10-01T00:00:00\",\"2021-10-04T00:00:00\",\"2021-10-05T00:00:00\",\"2021-10-06T00:00:00\",\"2021-10-07T00:00:00\",\"2021-10-08T00:00:00\",\"2021-10-11T00:00:00\",\"2021-10-12T00:00:00\",\"2021-10-13T00:00:00\",\"2021-10-14T00:00:00\",\"2021-10-15T00:00:00\",\"2021-10-18T00:00:00\",\"2021-10-19T00:00:00\",\"2021-10-20T00:00:00\",\"2021-10-21T00:00:00\",\"2021-10-22T00:00:00\",\"2021-10-25T00:00:00\",\"2021-10-26T00:00:00\",\"2021-10-27T00:00:00\",\"2021-10-28T00:00:00\",\"2021-10-29T00:00:00\",\"2021-11-01T00:00:00\",\"2021-11-02T00:00:00\",\"2021-11-03T00:00:00\",\"2021-11-04T00:00:00\",\"2021-11-05T00:00:00\",\"2021-11-08T00:00:00\",\"2021-11-09T00:00:00\",\"2021-11-10T00:00:00\",\"2021-11-11T00:00:00\",\"2021-11-12T00:00:00\",\"2021-11-15T00:00:00\",\"2021-11-16T00:00:00\",\"2021-11-17T00:00:00\",\"2021-11-18T00:00:00\",\"2021-11-19T00:00:00\",\"2021-11-22T00:00:00\",\"2021-11-23T00:00:00\",\"2021-11-24T00:00:00\",\"2021-11-26T00:00:00\",\"2021-11-29T00:00:00\",\"2021-11-30T00:00:00\",\"2021-12-01T00:00:00\",\"2021-12-02T00:00:00\",\"2021-12-03T00:00:00\",\"2021-12-06T00:00:00\",\"2021-12-07T00:00:00\",\"2021-12-08T00:00:00\",\"2021-12-09T00:00:00\",\"2021-12-10T00:00:00\",\"2021-12-13T00:00:00\",\"2021-12-14T00:00:00\",\"2021-12-15T00:00:00\",\"2021-12-16T00:00:00\",\"2021-12-17T00:00:00\",\"2021-12-20T00:00:00\",\"2021-12-21T00:00:00\",\"2021-12-22T00:00:00\",\"2021-12-23T00:00:00\",\"2021-12-27T00:00:00\",\"2021-12-28T00:00:00\",\"2021-12-29T00:00:00\",\"2021-12-30T00:00:00\",\"2021-12-31T00:00:00\"],\"xaxis\":\"x\",\"y\":[314.7192077636719,312.3360900878906,313.5276184082031,312.64605712890625,314.3123779296875,316.4435729980469,315.532958984375,317.7029724121094,317.21856689453125,317.9354553222656,320.5802307128906,321.5779724121094,320.9482421875,320.9870300292969,321.3551330566406,318.4973449707031,313.3919677734375,316.67608642578125,316.41455078125,317.44140625,311.67724609375,313.9925842285156,318.77825927734375,322.45953369140625,323.5445861816406,321.8201904296875,324.2226257324219,324.7845458984375,326.8770751953125,326.5283203125,327.0514831542969,326.2086181640625,327.768310546875,326.4217529296875,323.0601501464844,312.3457336425781,302.8810119628906,301.7669677734375,288.214111328125,287.0031433105469,299.4322509765625,290.8587646484375,303.0844421386719,293.0093994140625,288.1656494140625,265.6615295410156,279.40814208984375,265.78741455078125,240.35760498046875,260.9048767089844,232.35572814941406,244.90106201171875,232.50100708007812,232.99510192871094,222.954345703125,217.25379943847656,236.93771362304688,240.48471069335938,254.5265655517578,246.9453125,254.96505737304688,251.1647186279297,239.86105346679688,245.39593505859375,241.8489532470703,258.093017578125,258.35614013671875,267.02874755859375,271.09222412109375,268.6170959472656,276.5393981933594,270.6634521484375,271.96923828125,279.3165588378906,274.3956298828125,266.06402587890625,271.96923828125,271.94970703125,275.7403564453125,279.7160949707031,278.4298095703125,285.71868896484375,283.0584411621094,275.56494140625,276.32501220703125,278.8780517578125,276.9876403808594,280.3299865722656,284.9683837890625,285.0268859863281,279.3458251953125,274.4053649902344,277.68927001953125,278.96575927734375,287.4629821777344,284.5103454589844,289.3436584472656,287.3460388183594,287.8917541503906,291.438720703125,295.7750244140625,295.2293701171875,296.5448913574219,297.743408203125,300.208740234375,304.2040100097656,303.4049987792969,311.18115234375,314.9424743652344,312.5940856933594,310.8498229980469,292.92962646484375,296.43768310546875,299.205078125,304.964111328125,303.69732666015625,303.81427001953125,302.0779724121094,304.015869140625,305.41546630859375,297.6247253417969,300.81536865234375,293.6706237792969,297.9869079589844,301.80389404296875,303.9179992675781,305.5916748046875,310.3091735839844,307.10870361328125,309.4576416015625,307.6959228515625,310.8376770019531,308.14617919921875,312.1394348144531,315.00714111328125,313.9696960449219,314.8799133300781,317.42462158203125,318.0999450683594,319.9105529785156,316.0934753417969,314.0577392578125,316.3480224609375,314.3415832519531,318.2076110839844,317.0722961425781,319.57781982421875,321.799560546875,323.0425720214844,325.04901123046875,327.2217712402344,327.45672607421875,328.4354248046875,325.72430419921875,330.26568603515625,329.6686096191406,329.6784362792969,330.7256774902344,331.4402160644531,330.06011962890625,331.08782958984375,332.26226806640625,335.6291809082031,336.80364990234375,340.1802673339844,340.9241027832031,343.1263122558594,341.8833312988281,345.1033020019531,350.09490966796875,338.046630859375,335.2865905761719,326.1256103515625,332.5657043457031,326.7911682128906,326.95751953125,331.2639465332031,332.9376525878906,331.6163024902344,328.69970703125,324.91546630859375,321.2992858886719,324.571533203125,317.0444030761719,317.8894348144531,323.02880859375,328.3940734863281,326.60565185546875,329.0819396972656,331.19464111328125,328.05010986328125,333.86749267578125,329.1212158203125,334.85015869140625,337.8177490234375,340.8345031738281,346.3177490234375,344.0576477050781,341.8957824707031,341.47320556640625,341.2668762207031,336.0784606933594,337.4246826171875,336.78594970703125,338.6333312988281,339.7830810546875,333.5039367675781,332.3541564941406,320.99468994140625,324.2571105957031,320.8767395019531,324.4732666015625,330.2021789550781,337.5819091796875,344.1656799316406,344.0871276855469,348.4107971191406,347.89984130859375,350.4842224121094,347.0841979980469,351.889404296875,356.2818908691406,354.36572265625,350.1009521484375,351.5749206542969,349.16741943359375,351.2604675292969,356.9206237792969,356.3703308105469,357.36279296875,355.7807312011719,359.6720275878906,360.4287109375,360.3304443359375,363.4356384277344,362.68878173828125,363.7501220703125,360.4876403808594,360.3697204589844,359.9471740722656,358.33563232421875,363.18011474609375,363.7501220703125,365.7841491699219,364.3236083984375,363.02099609375,362.4091491699219,362.7348327636719,364.14599609375,367.2742919921875,366.5736389160156,367.0966796875,368.9617919921875,363.93878173828125,366.4453125,368.6361083984375,374.1131286621094,376.2447204589844,373.7085266113281,373.7874755859375,374.7940673828125,373.4815673828125,370.75787353515625,373.6690673828125,378.84014892578125,379.1855163574219,377.8434143066406,379.33355712890625,378.7414855957031,369.4848327636719,372.6624755859375,365.2019348144531,371.2809143066406,376.5308837890625,376.8269958496094,381.1098937988281,382.60986328125,385.3730163574219,385.116455078125,384.9486999511719,385.5704040527344,387.47503662109375,387.1394958496094,387.2283630371094,385.5802917480469,384.89935302734375,381.9388122558594,382.4026184082031,386.6164855957031,377.3006591796875,375.3565673828125,384.45526123046875,381.455322265625,376.4026184082031,371.74468994140625,378.58355712890625,376.69866943359375,382.07696533203125,384.45526123046875,388.35333251953125,388.8763732910156,391.1954040527344,390.7020263671875,392.0342712402344,386.330322265625,385.6154479980469,388.6946105957031,385.63525390625,383.6748962402344,385.8332824707031,392.05096435546875,391.85296630859375,390.8133544921875,392.3974914550781,396.635009765625,402.32794189453125,402.09033203125,402.55572509765625,404.4665222167969,407.40704345703125,407.55560302734375,408.7634582519531,407.3674621582031,411.74359130859375,413.11981201171875,411.0901794433594,408.080322265625,411.9416198730469,408.1793212890625,412.60498046875,413.46630859375,413.37725830078125,413.2583923339844,415.89202880859375,413.1593933105469,414.0505065917969,411.49609375,411.62481689453125,414.911865234375,417.93157958984375,413.7930603027344,410.1000671386719,401.38739013671875,406.2090759277344,412.446533203125,411.3970642089844,407.8526306152344,406.7833251953125,411.1594543457031,410.8228454589844,415.0108642578125,414.090087890625,414.911865234375,415.12969970703125,415.87225341796875,415.50592041015625,416.1593322753906,414.6148376464844,418.4068603515625,418.0008850097656,418.09002685546875,417.46624755859375,419.40679931640625,420.0998840332031,421.04046630859375,420.2681884765625,417.9216613769531,417.7830810546875,412.14703369140625,418.0472717285156,420.2822570800781,419.77569580078125,422.25897216796875,423.7588806152344,424.6131286621094,424.84161376953125,425.1991882324219,427.5533447265625,430.82135009765625,430.0366516113281,431.556396484375,428.0400695800781,432.6093444824219,434.1589050292969,432.6788635253906,433.32452392578125,431.844482421875,428.4572448730469,422.1298522949219,428.17913818359375,431.64581298828125,432.54974365234375,436.99981689453125,438.07257080078125,436.0760192871094,435.8971862792969,437.7050476074219,435.5793762207031,434.6654968261719,438.20172119140625,436.0462341308594,438.8076477050781,439.5327453613281,439.1751403808594,439.7214660644531,440.8141174316406,442.13525390625,442.9398498535156,443.9828186035156,441.0723876953125,436.244873046875,436.9203186035156,440.39691162109375,444.2708740234375,444.9761047363281,445.90985107421875,443.277587890625,447.24090576171875,449.2076721191406,448.5421447753906,448.780517578125,450.1612548828125,450.0519714355469,448.4427795410156,447.896484375,445.9794006347656,442.4630432128906,443.59539794921875,441.2015380859375,444.8867492675781,444.1814880371094,439.85467529296875,432.52044677734375,432.1119079589844,436.3270568847656,441.6284484863281,442.35589599609375,441.0903625488281,432.2015686035156,432.92901611328125,427.63763427734375,432.7197570800781,427.1393737792969,431.583740234375,433.37744140625,437.124267578125,436.3270568847656,433.1681823730469,432.1019287109375,433.6564636230469,440.9508361816406,444.30902099609375,445.6244201660156,449.0623474121094,450.8261413574219,452.00201416015625,451.5336608886719,453.95513916015625,454.36370849609375,452.3507995605469,456.7154541015625,457.6421813964844,458.429443359375,460.28289794921875,463.0930480957031,465.275390625,466.88970947265625,467.2882995605469,465.7437438964844,461.99688720703125,462.1463623046875,465.63409423828125,465.7935485839844,467.6370849609375,466.5010986328125,468.08551025390625,467.24847412109375,465.9330749511719,466.5509033203125,467.7965087890625,457.3631896972656,462.9734802246094,453.9651184082031,448.9228210449219,455.7986755371094,451.8326110839844,457.1838073730469,466.6405944824219,467.876220703125,464.71734619140625,469.0919494628906,464.93658447265625,461.73779296875,468.95245361328125,464.8169860839844,459.8699951171875,454.9800109863281,463.05999755859375,467.69000244140625,470.6000061035156,477.260009765625,476.8699951171875,477.4800109863281,476.1600036621094,474.9599914550781],\"yaxis\":\"y\",\"type\":\"scattergl\"}],                        {\"template\":{\"data\":{\"bar\":[{\"error_x\":{\"color\":\"#2a3f5f\"},\"error_y\":{\"color\":\"#2a3f5f\"},\"marker\":{\"line\":{\"color\":\"#E5ECF6\",\"width\":0.5},\"pattern\":{\"fillmode\":\"overlay\",\"size\":10,\"solidity\":0.2}},\"type\":\"bar\"}],\"barpolar\":[{\"marker\":{\"line\":{\"color\":\"#E5ECF6\",\"width\":0.5},\"pattern\":{\"fillmode\":\"overlay\",\"size\":10,\"solidity\":0.2}},\"type\":\"barpolar\"}],\"carpet\":[{\"aaxis\":{\"endlinecolor\":\"#2a3f5f\",\"gridcolor\":\"white\",\"linecolor\":\"white\",\"minorgridcolor\":\"white\",\"startlinecolor\":\"#2a3f5f\"},\"baxis\":{\"endlinecolor\":\"#2a3f5f\",\"gridcolor\":\"white\",\"linecolor\":\"white\",\"minorgridcolor\":\"white\",\"startlinecolor\":\"#2a3f5f\"},\"type\":\"carpet\"}],\"choropleth\":[{\"colorbar\":{\"outlinewidth\":0,\"ticks\":\"\"},\"type\":\"choropleth\"}],\"contour\":[{\"colorbar\":{\"outlinewidth\":0,\"ticks\":\"\"},\"colorscale\":[[0.0,\"#0d0887\"],[0.1111111111111111,\"#46039f\"],[0.2222222222222222,\"#7201a8\"],[0.3333333333333333,\"#9c179e\"],[0.4444444444444444,\"#bd3786\"],[0.5555555555555556,\"#d8576b\"],[0.6666666666666666,\"#ed7953\"],[0.7777777777777778,\"#fb9f3a\"],[0.8888888888888888,\"#fdca26\"],[1.0,\"#f0f921\"]],\"type\":\"contour\"}],\"contourcarpet\":[{\"colorbar\":{\"outlinewidth\":0,\"ticks\":\"\"},\"type\":\"contourcarpet\"}],\"heatmap\":[{\"colorbar\":{\"outlinewidth\":0,\"ticks\":\"\"},\"colorscale\":[[0.0,\"#0d0887\"],[0.1111111111111111,\"#46039f\"],[0.2222222222222222,\"#7201a8\"],[0.3333333333333333,\"#9c179e\"],[0.4444444444444444,\"#bd3786\"],[0.5555555555555556,\"#d8576b\"],[0.6666666666666666,\"#ed7953\"],[0.7777777777777778,\"#fb9f3a\"],[0.8888888888888888,\"#fdca26\"],[1.0,\"#f0f921\"]],\"type\":\"heatmap\"}],\"heatmapgl\":[{\"colorbar\":{\"outlinewidth\":0,\"ticks\":\"\"},\"colorscale\":[[0.0,\"#0d0887\"],[0.1111111111111111,\"#46039f\"],[0.2222222222222222,\"#7201a8\"],[0.3333333333333333,\"#9c179e\"],[0.4444444444444444,\"#bd3786\"],[0.5555555555555556,\"#d8576b\"],[0.6666666666666666,\"#ed7953\"],[0.7777777777777778,\"#fb9f3a\"],[0.8888888888888888,\"#fdca26\"],[1.0,\"#f0f921\"]],\"type\":\"heatmapgl\"}],\"histogram\":[{\"marker\":{\"pattern\":{\"fillmode\":\"overlay\",\"size\":10,\"solidity\":0.2}},\"type\":\"histogram\"}],\"histogram2d\":[{\"colorbar\":{\"outlinewidth\":0,\"ticks\":\"\"},\"colorscale\":[[0.0,\"#0d0887\"],[0.1111111111111111,\"#46039f\"],[0.2222222222222222,\"#7201a8\"],[0.3333333333333333,\"#9c179e\"],[0.4444444444444444,\"#bd3786\"],[0.5555555555555556,\"#d8576b\"],[0.6666666666666666,\"#ed7953\"],[0.7777777777777778,\"#fb9f3a\"],[0.8888888888888888,\"#fdca26\"],[1.0,\"#f0f921\"]],\"type\":\"histogram2d\"}],\"histogram2dcontour\":[{\"colorbar\":{\"outlinewidth\":0,\"ticks\":\"\"},\"colorscale\":[[0.0,\"#0d0887\"],[0.1111111111111111,\"#46039f\"],[0.2222222222222222,\"#7201a8\"],[0.3333333333333333,\"#9c179e\"],[0.4444444444444444,\"#bd3786\"],[0.5555555555555556,\"#d8576b\"],[0.6666666666666666,\"#ed7953\"],[0.7777777777777778,\"#fb9f3a\"],[0.8888888888888888,\"#fdca26\"],[1.0,\"#f0f921\"]],\"type\":\"histogram2dcontour\"}],\"mesh3d\":[{\"colorbar\":{\"outlinewidth\":0,\"ticks\":\"\"},\"type\":\"mesh3d\"}],\"parcoords\":[{\"line\":{\"colorbar\":{\"outlinewidth\":0,\"ticks\":\"\"}},\"type\":\"parcoords\"}],\"pie\":[{\"automargin\":true,\"type\":\"pie\"}],\"scatter\":[{\"marker\":{\"colorbar\":{\"outlinewidth\":0,\"ticks\":\"\"}},\"type\":\"scatter\"}],\"scatter3d\":[{\"line\":{\"colorbar\":{\"outlinewidth\":0,\"ticks\":\"\"}},\"marker\":{\"colorbar\":{\"outlinewidth\":0,\"ticks\":\"\"}},\"type\":\"scatter3d\"}],\"scattercarpet\":[{\"marker\":{\"colorbar\":{\"outlinewidth\":0,\"ticks\":\"\"}},\"type\":\"scattercarpet\"}],\"scattergeo\":[{\"marker\":{\"colorbar\":{\"outlinewidth\":0,\"ticks\":\"\"}},\"type\":\"scattergeo\"}],\"scattergl\":[{\"marker\":{\"colorbar\":{\"outlinewidth\":0,\"ticks\":\"\"}},\"type\":\"scattergl\"}],\"scattermapbox\":[{\"marker\":{\"colorbar\":{\"outlinewidth\":0,\"ticks\":\"\"}},\"type\":\"scattermapbox\"}],\"scatterpolar\":[{\"marker\":{\"colorbar\":{\"outlinewidth\":0,\"ticks\":\"\"}},\"type\":\"scatterpolar\"}],\"scatterpolargl\":[{\"marker\":{\"colorbar\":{\"outlinewidth\":0,\"ticks\":\"\"}},\"type\":\"scatterpolargl\"}],\"scatterternary\":[{\"marker\":{\"colorbar\":{\"outlinewidth\":0,\"ticks\":\"\"}},\"type\":\"scatterternary\"}],\"surface\":[{\"colorbar\":{\"outlinewidth\":0,\"ticks\":\"\"},\"colorscale\":[[0.0,\"#0d0887\"],[0.1111111111111111,\"#46039f\"],[0.2222222222222222,\"#7201a8\"],[0.3333333333333333,\"#9c179e\"],[0.4444444444444444,\"#bd3786\"],[0.5555555555555556,\"#d8576b\"],[0.6666666666666666,\"#ed7953\"],[0.7777777777777778,\"#fb9f3a\"],[0.8888888888888888,\"#fdca26\"],[1.0,\"#f0f921\"]],\"type\":\"surface\"}],\"table\":[{\"cells\":{\"fill\":{\"color\":\"#EBF0F8\"},\"line\":{\"color\":\"white\"}},\"header\":{\"fill\":{\"color\":\"#C8D4E3\"},\"line\":{\"color\":\"white\"}},\"type\":\"table\"}]},\"layout\":{\"annotationdefaults\":{\"arrowcolor\":\"#2a3f5f\",\"arrowhead\":0,\"arrowwidth\":1},\"autotypenumbers\":\"strict\",\"coloraxis\":{\"colorbar\":{\"outlinewidth\":0,\"ticks\":\"\"}},\"colorscale\":{\"diverging\":[[0,\"#8e0152\"],[0.1,\"#c51b7d\"],[0.2,\"#de77ae\"],[0.3,\"#f1b6da\"],[0.4,\"#fde0ef\"],[0.5,\"#f7f7f7\"],[0.6,\"#e6f5d0\"],[0.7,\"#b8e186\"],[0.8,\"#7fbc41\"],[0.9,\"#4d9221\"],[1,\"#276419\"]],\"sequential\":[[0.0,\"#0d0887\"],[0.1111111111111111,\"#46039f\"],[0.2222222222222222,\"#7201a8\"],[0.3333333333333333,\"#9c179e\"],[0.4444444444444444,\"#bd3786\"],[0.5555555555555556,\"#d8576b\"],[0.6666666666666666,\"#ed7953\"],[0.7777777777777778,\"#fb9f3a\"],[0.8888888888888888,\"#fdca26\"],[1.0,\"#f0f921\"]],\"sequentialminus\":[[0.0,\"#0d0887\"],[0.1111111111111111,\"#46039f\"],[0.2222222222222222,\"#7201a8\"],[0.3333333333333333,\"#9c179e\"],[0.4444444444444444,\"#bd3786\"],[0.5555555555555556,\"#d8576b\"],[0.6666666666666666,\"#ed7953\"],[0.7777777777777778,\"#fb9f3a\"],[0.8888888888888888,\"#fdca26\"],[1.0,\"#f0f921\"]]},\"colorway\":[\"#636efa\",\"#EF553B\",\"#00cc96\",\"#ab63fa\",\"#FFA15A\",\"#19d3f3\",\"#FF6692\",\"#B6E880\",\"#FF97FF\",\"#FECB52\"],\"font\":{\"color\":\"#2a3f5f\"},\"geo\":{\"bgcolor\":\"white\",\"lakecolor\":\"white\",\"landcolor\":\"#E5ECF6\",\"showlakes\":true,\"showland\":true,\"subunitcolor\":\"white\"},\"hoverlabel\":{\"align\":\"left\"},\"hovermode\":\"closest\",\"mapbox\":{\"style\":\"light\"},\"paper_bgcolor\":\"white\",\"plot_bgcolor\":\"#E5ECF6\",\"polar\":{\"angularaxis\":{\"gridcolor\":\"white\",\"linecolor\":\"white\",\"ticks\":\"\"},\"bgcolor\":\"#E5ECF6\",\"radialaxis\":{\"gridcolor\":\"white\",\"linecolor\":\"white\",\"ticks\":\"\"}},\"scene\":{\"xaxis\":{\"backgroundcolor\":\"#E5ECF6\",\"gridcolor\":\"white\",\"gridwidth\":2,\"linecolor\":\"white\",\"showbackground\":true,\"ticks\":\"\",\"zerolinecolor\":\"white\"},\"yaxis\":{\"backgroundcolor\":\"#E5ECF6\",\"gridcolor\":\"white\",\"gridwidth\":2,\"linecolor\":\"white\",\"showbackground\":true,\"ticks\":\"\",\"zerolinecolor\":\"white\"},\"zaxis\":{\"backgroundcolor\":\"#E5ECF6\",\"gridcolor\":\"white\",\"gridwidth\":2,\"linecolor\":\"white\",\"showbackground\":true,\"ticks\":\"\",\"zerolinecolor\":\"white\"}},\"shapedefaults\":{\"line\":{\"color\":\"#2a3f5f\"}},\"ternary\":{\"aaxis\":{\"gridcolor\":\"white\",\"linecolor\":\"white\",\"ticks\":\"\"},\"baxis\":{\"gridcolor\":\"white\",\"linecolor\":\"white\",\"ticks\":\"\"},\"bgcolor\":\"#E5ECF6\",\"caxis\":{\"gridcolor\":\"white\",\"linecolor\":\"white\",\"ticks\":\"\"}},\"title\":{\"x\":0.05},\"xaxis\":{\"automargin\":true,\"gridcolor\":\"white\",\"linecolor\":\"white\",\"ticks\":\"\",\"title\":{\"standoff\":15},\"zerolinecolor\":\"white\",\"zerolinewidth\":2},\"yaxis\":{\"automargin\":true,\"gridcolor\":\"white\",\"linecolor\":\"white\",\"ticks\":\"\",\"title\":{\"standoff\":15},\"zerolinecolor\":\"white\",\"zerolinewidth\":2}}},\"xaxis\":{\"anchor\":\"y\",\"domain\":[0.0,1.0],\"title\":{\"text\":\"date\"}},\"yaxis\":{\"anchor\":\"x\",\"domain\":[0.0,1.0],\"title\":{\"text\":\"value\"}},\"legend\":{\"title\":{\"text\":\"variable\"},\"tracegroupgap\":0},\"margin\":{\"t\":60}},                        {\"responsive\": true}                    ).then(function(){\n",
       "                            \n",
       "var gd = document.getElementById('264f1ffa-084f-405b-882d-e4b765890e21');\n",
       "var x = new MutationObserver(function (mutations, observer) {{\n",
       "        var display = window.getComputedStyle(gd).display;\n",
       "        if (!display || display === 'none') {{\n",
       "            console.log([gd, 'removed!']);\n",
       "            Plotly.purge(gd);\n",
       "            observer.disconnect();\n",
       "        }}\n",
       "}});\n",
       "\n",
       "// Listen for the removal of the full notebook cells\n",
       "var notebookContainer = gd.closest('#notebook-container');\n",
       "if (notebookContainer) {{\n",
       "    x.observe(notebookContainer, {childList: true});\n",
       "}}\n",
       "\n",
       "// Listen for the clearing of the current output cell\n",
       "var outputEl = gd.closest('.output');\n",
       "if (outputEl) {{\n",
       "    x.observe(outputEl, {childList: true});\n",
       "}}\n",
       "\n",
       "                        })                };                });            </script>        </div>"
      ]
     },
     "metadata": {},
     "output_type": "display_data"
    }
   ],
   "source": [
    "data = data.assign(PFEx = data['PFE']*10)\n",
    "PFE_SPY = data[['PFEx','SPY']]\n",
    "    \n",
    "\n",
    "px.line(data_frame=PFE_SPY,\n",
    "        color_discrete_sequence=px.colors.qualitative.T10)"
   ]
  },
  {
   "cell_type": "code",
   "execution_count": 29,
   "id": "68dcb7f5-c1c0-43d0-af29-6bf18a2c8a3a",
   "metadata": {},
   "outputs": [
    {
     "data": {
      "application/vnd.plotly.v1+json": {
       "config": {
        "plotlyServerURL": "https://plot.ly"
       },
       "data": [
        {
         "hovertemplate": "date=%{x}<br>PFE=%{y}<extra></extra>",
         "legendgroup": "",
         "line": {
          "color": "#4C78A8",
          "dash": "solid"
         },
         "marker": {
          "symbol": "circle"
         },
         "mode": "lines",
         "name": "",
         "orientation": "v",
         "showlegend": false,
         "type": "scatter",
         "x": [
          "2020-01-02T00:00:00",
          "2020-01-03T00:00:00",
          "2020-01-06T00:00:00",
          "2020-01-07T00:00:00",
          "2020-01-08T00:00:00",
          "2020-01-09T00:00:00",
          "2020-01-10T00:00:00",
          "2020-01-13T00:00:00",
          "2020-01-14T00:00:00",
          "2020-01-15T00:00:00",
          "2020-01-16T00:00:00",
          "2020-01-17T00:00:00",
          "2020-01-21T00:00:00",
          "2020-01-22T00:00:00",
          "2020-01-23T00:00:00",
          "2020-01-24T00:00:00",
          "2020-01-27T00:00:00",
          "2020-01-28T00:00:00",
          "2020-01-29T00:00:00",
          "2020-01-30T00:00:00",
          "2020-01-31T00:00:00",
          "2020-02-03T00:00:00",
          "2020-02-04T00:00:00",
          "2020-02-05T00:00:00",
          "2020-02-06T00:00:00",
          "2020-02-07T00:00:00",
          "2020-02-10T00:00:00",
          "2020-02-11T00:00:00",
          "2020-02-12T00:00:00",
          "2020-02-13T00:00:00",
          "2020-02-14T00:00:00",
          "2020-02-18T00:00:00",
          "2020-02-19T00:00:00",
          "2020-02-20T00:00:00",
          "2020-02-21T00:00:00",
          "2020-02-24T00:00:00",
          "2020-02-25T00:00:00",
          "2020-02-26T00:00:00",
          "2020-02-27T00:00:00",
          "2020-02-28T00:00:00",
          "2020-03-02T00:00:00",
          "2020-03-03T00:00:00",
          "2020-03-04T00:00:00",
          "2020-03-05T00:00:00",
          "2020-03-06T00:00:00",
          "2020-03-09T00:00:00",
          "2020-03-10T00:00:00",
          "2020-03-11T00:00:00",
          "2020-03-12T00:00:00",
          "2020-03-13T00:00:00",
          "2020-03-16T00:00:00",
          "2020-03-17T00:00:00",
          "2020-03-18T00:00:00",
          "2020-03-19T00:00:00",
          "2020-03-20T00:00:00",
          "2020-03-23T00:00:00",
          "2020-03-24T00:00:00",
          "2020-03-25T00:00:00",
          "2020-03-26T00:00:00",
          "2020-03-27T00:00:00",
          "2020-03-30T00:00:00",
          "2020-03-31T00:00:00",
          "2020-04-01T00:00:00",
          "2020-04-02T00:00:00",
          "2020-04-03T00:00:00",
          "2020-04-06T00:00:00",
          "2020-04-07T00:00:00",
          "2020-04-08T00:00:00",
          "2020-04-09T00:00:00",
          "2020-04-13T00:00:00",
          "2020-04-14T00:00:00",
          "2020-04-15T00:00:00",
          "2020-04-16T00:00:00",
          "2020-04-17T00:00:00",
          "2020-04-20T00:00:00",
          "2020-04-21T00:00:00",
          "2020-04-22T00:00:00",
          "2020-04-23T00:00:00",
          "2020-04-24T00:00:00",
          "2020-04-27T00:00:00",
          "2020-04-28T00:00:00",
          "2020-04-29T00:00:00",
          "2020-04-30T00:00:00",
          "2020-05-01T00:00:00",
          "2020-05-04T00:00:00",
          "2020-05-05T00:00:00",
          "2020-05-06T00:00:00",
          "2020-05-07T00:00:00",
          "2020-05-08T00:00:00",
          "2020-05-11T00:00:00",
          "2020-05-12T00:00:00",
          "2020-05-13T00:00:00",
          "2020-05-14T00:00:00",
          "2020-05-15T00:00:00",
          "2020-05-18T00:00:00",
          "2020-05-19T00:00:00",
          "2020-05-20T00:00:00",
          "2020-05-21T00:00:00",
          "2020-05-22T00:00:00",
          "2020-05-26T00:00:00",
          "2020-05-27T00:00:00",
          "2020-05-28T00:00:00",
          "2020-05-29T00:00:00",
          "2020-06-01T00:00:00",
          "2020-06-02T00:00:00",
          "2020-06-03T00:00:00",
          "2020-06-04T00:00:00",
          "2020-06-05T00:00:00",
          "2020-06-08T00:00:00",
          "2020-06-09T00:00:00",
          "2020-06-10T00:00:00",
          "2020-06-11T00:00:00",
          "2020-06-12T00:00:00",
          "2020-06-15T00:00:00",
          "2020-06-16T00:00:00",
          "2020-06-17T00:00:00",
          "2020-06-18T00:00:00",
          "2020-06-19T00:00:00",
          "2020-06-22T00:00:00",
          "2020-06-23T00:00:00",
          "2020-06-24T00:00:00",
          "2020-06-25T00:00:00",
          "2020-06-26T00:00:00",
          "2020-06-29T00:00:00",
          "2020-06-30T00:00:00",
          "2020-07-01T00:00:00",
          "2020-07-02T00:00:00",
          "2020-07-06T00:00:00",
          "2020-07-07T00:00:00",
          "2020-07-08T00:00:00",
          "2020-07-09T00:00:00",
          "2020-07-10T00:00:00",
          "2020-07-13T00:00:00",
          "2020-07-14T00:00:00",
          "2020-07-15T00:00:00",
          "2020-07-16T00:00:00",
          "2020-07-17T00:00:00",
          "2020-07-20T00:00:00",
          "2020-07-21T00:00:00",
          "2020-07-22T00:00:00",
          "2020-07-23T00:00:00",
          "2020-07-24T00:00:00",
          "2020-07-27T00:00:00",
          "2020-07-28T00:00:00",
          "2020-07-29T00:00:00",
          "2020-07-30T00:00:00",
          "2020-07-31T00:00:00",
          "2020-08-03T00:00:00",
          "2020-08-04T00:00:00",
          "2020-08-05T00:00:00",
          "2020-08-06T00:00:00",
          "2020-08-07T00:00:00",
          "2020-08-10T00:00:00",
          "2020-08-11T00:00:00",
          "2020-08-12T00:00:00",
          "2020-08-13T00:00:00",
          "2020-08-14T00:00:00",
          "2020-08-17T00:00:00",
          "2020-08-18T00:00:00",
          "2020-08-19T00:00:00",
          "2020-08-20T00:00:00",
          "2020-08-21T00:00:00",
          "2020-08-24T00:00:00",
          "2020-08-25T00:00:00",
          "2020-08-26T00:00:00",
          "2020-08-27T00:00:00",
          "2020-08-28T00:00:00",
          "2020-08-31T00:00:00",
          "2020-09-01T00:00:00",
          "2020-09-02T00:00:00",
          "2020-09-03T00:00:00",
          "2020-09-04T00:00:00",
          "2020-09-08T00:00:00",
          "2020-09-09T00:00:00",
          "2020-09-10T00:00:00",
          "2020-09-11T00:00:00",
          "2020-09-14T00:00:00",
          "2020-09-15T00:00:00",
          "2020-09-16T00:00:00",
          "2020-09-17T00:00:00",
          "2020-09-18T00:00:00",
          "2020-09-21T00:00:00",
          "2020-09-22T00:00:00",
          "2020-09-23T00:00:00",
          "2020-09-24T00:00:00",
          "2020-09-25T00:00:00",
          "2020-09-28T00:00:00",
          "2020-09-29T00:00:00",
          "2020-09-30T00:00:00",
          "2020-10-01T00:00:00",
          "2020-10-02T00:00:00",
          "2020-10-05T00:00:00",
          "2020-10-06T00:00:00",
          "2020-10-07T00:00:00",
          "2020-10-08T00:00:00",
          "2020-10-09T00:00:00",
          "2020-10-12T00:00:00",
          "2020-10-13T00:00:00",
          "2020-10-14T00:00:00",
          "2020-10-15T00:00:00",
          "2020-10-16T00:00:00",
          "2020-10-19T00:00:00",
          "2020-10-20T00:00:00",
          "2020-10-21T00:00:00",
          "2020-10-22T00:00:00",
          "2020-10-23T00:00:00",
          "2020-10-26T00:00:00",
          "2020-10-27T00:00:00",
          "2020-10-28T00:00:00",
          "2020-10-29T00:00:00",
          "2020-10-30T00:00:00",
          "2020-11-02T00:00:00",
          "2020-11-03T00:00:00",
          "2020-11-04T00:00:00",
          "2020-11-05T00:00:00",
          "2020-11-06T00:00:00",
          "2020-11-09T00:00:00",
          "2020-11-10T00:00:00",
          "2020-11-11T00:00:00",
          "2020-11-12T00:00:00",
          "2020-11-13T00:00:00",
          "2020-11-16T00:00:00",
          "2020-11-17T00:00:00",
          "2020-11-18T00:00:00",
          "2020-11-19T00:00:00",
          "2020-11-20T00:00:00",
          "2020-11-23T00:00:00",
          "2020-11-24T00:00:00",
          "2020-11-25T00:00:00",
          "2020-11-27T00:00:00",
          "2020-11-30T00:00:00",
          "2020-12-01T00:00:00",
          "2020-12-02T00:00:00",
          "2020-12-03T00:00:00",
          "2020-12-04T00:00:00",
          "2020-12-07T00:00:00",
          "2020-12-08T00:00:00",
          "2020-12-09T00:00:00",
          "2020-12-10T00:00:00",
          "2020-12-11T00:00:00",
          "2020-12-14T00:00:00",
          "2020-12-15T00:00:00",
          "2020-12-16T00:00:00",
          "2020-12-17T00:00:00",
          "2020-12-18T00:00:00",
          "2020-12-21T00:00:00",
          "2020-12-22T00:00:00",
          "2020-12-23T00:00:00",
          "2020-12-24T00:00:00",
          "2020-12-28T00:00:00",
          "2020-12-29T00:00:00",
          "2020-12-30T00:00:00",
          "2020-12-31T00:00:00",
          "2021-01-04T00:00:00",
          "2021-01-05T00:00:00",
          "2021-01-06T00:00:00",
          "2021-01-07T00:00:00",
          "2021-01-08T00:00:00",
          "2021-01-11T00:00:00",
          "2021-01-12T00:00:00",
          "2021-01-13T00:00:00",
          "2021-01-14T00:00:00",
          "2021-01-15T00:00:00",
          "2021-01-19T00:00:00",
          "2021-01-20T00:00:00",
          "2021-01-21T00:00:00",
          "2021-01-22T00:00:00",
          "2021-01-25T00:00:00",
          "2021-01-26T00:00:00",
          "2021-01-27T00:00:00",
          "2021-01-28T00:00:00",
          "2021-01-29T00:00:00",
          "2021-02-01T00:00:00",
          "2021-02-02T00:00:00",
          "2021-02-03T00:00:00",
          "2021-02-04T00:00:00",
          "2021-02-05T00:00:00",
          "2021-02-08T00:00:00",
          "2021-02-09T00:00:00",
          "2021-02-10T00:00:00",
          "2021-02-11T00:00:00",
          "2021-02-12T00:00:00",
          "2021-02-16T00:00:00",
          "2021-02-17T00:00:00",
          "2021-02-18T00:00:00",
          "2021-02-19T00:00:00",
          "2021-02-22T00:00:00",
          "2021-02-23T00:00:00",
          "2021-02-24T00:00:00",
          "2021-02-25T00:00:00",
          "2021-02-26T00:00:00",
          "2021-03-01T00:00:00",
          "2021-03-02T00:00:00",
          "2021-03-03T00:00:00",
          "2021-03-04T00:00:00",
          "2021-03-05T00:00:00",
          "2021-03-08T00:00:00",
          "2021-03-09T00:00:00",
          "2021-03-10T00:00:00",
          "2021-03-11T00:00:00",
          "2021-03-12T00:00:00",
          "2021-03-15T00:00:00",
          "2021-03-16T00:00:00",
          "2021-03-17T00:00:00",
          "2021-03-18T00:00:00",
          "2021-03-19T00:00:00",
          "2021-03-22T00:00:00",
          "2021-03-23T00:00:00",
          "2021-03-24T00:00:00",
          "2021-03-25T00:00:00",
          "2021-03-26T00:00:00",
          "2021-03-29T00:00:00",
          "2021-03-30T00:00:00",
          "2021-03-31T00:00:00",
          "2021-04-01T00:00:00",
          "2021-04-05T00:00:00",
          "2021-04-06T00:00:00",
          "2021-04-07T00:00:00",
          "2021-04-08T00:00:00",
          "2021-04-09T00:00:00",
          "2021-04-12T00:00:00",
          "2021-04-13T00:00:00",
          "2021-04-14T00:00:00",
          "2021-04-15T00:00:00",
          "2021-04-16T00:00:00",
          "2021-04-19T00:00:00",
          "2021-04-20T00:00:00",
          "2021-04-21T00:00:00",
          "2021-04-22T00:00:00",
          "2021-04-23T00:00:00",
          "2021-04-26T00:00:00",
          "2021-04-27T00:00:00",
          "2021-04-28T00:00:00",
          "2021-04-29T00:00:00",
          "2021-04-30T00:00:00",
          "2021-05-03T00:00:00",
          "2021-05-04T00:00:00",
          "2021-05-05T00:00:00",
          "2021-05-06T00:00:00",
          "2021-05-07T00:00:00",
          "2021-05-10T00:00:00",
          "2021-05-11T00:00:00",
          "2021-05-12T00:00:00",
          "2021-05-13T00:00:00",
          "2021-05-14T00:00:00",
          "2021-05-17T00:00:00",
          "2021-05-18T00:00:00",
          "2021-05-19T00:00:00",
          "2021-05-20T00:00:00",
          "2021-05-21T00:00:00",
          "2021-05-24T00:00:00",
          "2021-05-25T00:00:00",
          "2021-05-26T00:00:00",
          "2021-05-27T00:00:00",
          "2021-05-28T00:00:00",
          "2021-06-01T00:00:00",
          "2021-06-02T00:00:00",
          "2021-06-03T00:00:00",
          "2021-06-04T00:00:00",
          "2021-06-07T00:00:00",
          "2021-06-08T00:00:00",
          "2021-06-09T00:00:00",
          "2021-06-10T00:00:00",
          "2021-06-11T00:00:00",
          "2021-06-14T00:00:00",
          "2021-06-15T00:00:00",
          "2021-06-16T00:00:00",
          "2021-06-17T00:00:00",
          "2021-06-18T00:00:00",
          "2021-06-21T00:00:00",
          "2021-06-22T00:00:00",
          "2021-06-23T00:00:00",
          "2021-06-24T00:00:00",
          "2021-06-25T00:00:00",
          "2021-06-28T00:00:00",
          "2021-06-29T00:00:00",
          "2021-06-30T00:00:00",
          "2021-07-01T00:00:00",
          "2021-07-02T00:00:00",
          "2021-07-06T00:00:00",
          "2021-07-07T00:00:00",
          "2021-07-08T00:00:00",
          "2021-07-09T00:00:00",
          "2021-07-12T00:00:00",
          "2021-07-13T00:00:00",
          "2021-07-14T00:00:00",
          "2021-07-15T00:00:00",
          "2021-07-16T00:00:00",
          "2021-07-19T00:00:00",
          "2021-07-20T00:00:00",
          "2021-07-21T00:00:00",
          "2021-07-22T00:00:00",
          "2021-07-23T00:00:00",
          "2021-07-26T00:00:00",
          "2021-07-27T00:00:00",
          "2021-07-28T00:00:00",
          "2021-07-29T00:00:00",
          "2021-07-30T00:00:00",
          "2021-08-02T00:00:00",
          "2021-08-03T00:00:00",
          "2021-08-04T00:00:00",
          "2021-08-05T00:00:00",
          "2021-08-06T00:00:00",
          "2021-08-09T00:00:00",
          "2021-08-10T00:00:00",
          "2021-08-11T00:00:00",
          "2021-08-12T00:00:00",
          "2021-08-13T00:00:00",
          "2021-08-16T00:00:00",
          "2021-08-17T00:00:00",
          "2021-08-18T00:00:00",
          "2021-08-19T00:00:00",
          "2021-08-20T00:00:00",
          "2021-08-23T00:00:00",
          "2021-08-24T00:00:00",
          "2021-08-25T00:00:00",
          "2021-08-26T00:00:00",
          "2021-08-27T00:00:00",
          "2021-08-30T00:00:00",
          "2021-08-31T00:00:00",
          "2021-09-01T00:00:00",
          "2021-09-02T00:00:00",
          "2021-09-03T00:00:00",
          "2021-09-07T00:00:00",
          "2021-09-08T00:00:00",
          "2021-09-09T00:00:00",
          "2021-09-10T00:00:00",
          "2021-09-13T00:00:00",
          "2021-09-14T00:00:00",
          "2021-09-15T00:00:00",
          "2021-09-16T00:00:00",
          "2021-09-17T00:00:00",
          "2021-09-20T00:00:00",
          "2021-09-21T00:00:00",
          "2021-09-22T00:00:00",
          "2021-09-23T00:00:00",
          "2021-09-24T00:00:00",
          "2021-09-27T00:00:00",
          "2021-09-28T00:00:00",
          "2021-09-29T00:00:00",
          "2021-09-30T00:00:00",
          "2021-10-01T00:00:00",
          "2021-10-04T00:00:00",
          "2021-10-05T00:00:00",
          "2021-10-06T00:00:00",
          "2021-10-07T00:00:00",
          "2021-10-08T00:00:00",
          "2021-10-11T00:00:00",
          "2021-10-12T00:00:00",
          "2021-10-13T00:00:00",
          "2021-10-14T00:00:00",
          "2021-10-15T00:00:00",
          "2021-10-18T00:00:00",
          "2021-10-19T00:00:00",
          "2021-10-20T00:00:00",
          "2021-10-21T00:00:00",
          "2021-10-22T00:00:00",
          "2021-10-25T00:00:00",
          "2021-10-26T00:00:00",
          "2021-10-27T00:00:00",
          "2021-10-28T00:00:00",
          "2021-10-29T00:00:00",
          "2021-11-01T00:00:00",
          "2021-11-02T00:00:00",
          "2021-11-03T00:00:00",
          "2021-11-04T00:00:00",
          "2021-11-05T00:00:00",
          "2021-11-08T00:00:00",
          "2021-11-09T00:00:00",
          "2021-11-10T00:00:00",
          "2021-11-11T00:00:00",
          "2021-11-12T00:00:00",
          "2021-11-15T00:00:00",
          "2021-11-16T00:00:00",
          "2021-11-17T00:00:00",
          "2021-11-18T00:00:00",
          "2021-11-19T00:00:00",
          "2021-11-22T00:00:00",
          "2021-11-23T00:00:00",
          "2021-11-24T00:00:00",
          "2021-11-26T00:00:00",
          "2021-11-29T00:00:00",
          "2021-11-30T00:00:00",
          "2021-12-01T00:00:00",
          "2021-12-02T00:00:00",
          "2021-12-03T00:00:00",
          "2021-12-06T00:00:00",
          "2021-12-07T00:00:00",
          "2021-12-08T00:00:00",
          "2021-12-09T00:00:00",
          "2021-12-10T00:00:00",
          "2021-12-13T00:00:00",
          "2021-12-14T00:00:00",
          "2021-12-15T00:00:00",
          "2021-12-16T00:00:00",
          "2021-12-17T00:00:00",
          "2021-12-20T00:00:00",
          "2021-12-21T00:00:00",
          "2021-12-22T00:00:00",
          "2021-12-23T00:00:00",
          "2021-12-27T00:00:00",
          "2021-12-28T00:00:00",
          "2021-12-29T00:00:00",
          "2021-12-30T00:00:00",
          "2021-12-31T00:00:00"
         ],
         "xaxis": "x",
         "y": [
          34.07484436035156,
          33.89202117919922,
          33.848487854003906,
          33.73530960083008,
          34.005191802978516,
          33.857200622558594,
          34.379547119140625,
          34.30990219116211,
          34.88449478149414,
          35.40684127807617,
          35.354610443115234,
          35.26755142211914,
          35.11954879760742,
          34.98896026611328,
          35.44166564941406,
          34.66684341430664,
          34.96284484863281,
          33.20425033569336,
          32.71672439575195,
          32.60239028930664,
          32.75191116333008,
          32.98936080932617,
          33.147674560546875,
          33.56982421875,
          33.64897537231445,
          33.46428680419922,
          33.253204345703125,
          33.49946212768555,
          33.191646575927734,
          32.47926330566406,
          32.109886169433594,
          31.94277572631836,
          31.863628387451172,
          31.529422760009766,
          31.415088653564453,
          30.49163818359375,
          29.840816497802734,
          30.535608291625977,
          29.990331649780273,
          29.392284393310547,
          30.67632484436035,
          30.16622543334961,
          32.01313781738281,
          31.186424255371094,
          30.799455642700195,
          29.69131088256836,
          30.421274185180664,
          28.29292869567871,
          26.40204620361328,
          28.767854690551758,
          26.542762756347656,
          28.284135818481445,
          28.46002960205078,
          26.75383949279785,
          25.513769149780273,
          25.056440353393555,
          26.120609283447266,
          26.164583206176758,
          27.92354965209961,
          27.175992965698242,
          28.73267364501953,
          28.706287384033203,
          27.92354965209961,
          28.908567428588867,
          29.585771560668945,
          30.403690338134766,
          29.559385299682617,
          30.430070877075195,
          31.124862670898438,
          30.90499496459961,
          32.04831314086914,
          31.63496208190918,
          31.555805206298828,
          32.461669921875,
          31.731704711914062,
          31.3271484375,
          31.881216049194336,
          32.268184661865234,
          32.875030517578125,
          33.710533142089844,
          33.34115982055664,
          33.52585220336914,
          33.73692321777344,
          33.10369110107422,
          33.08610916137695,
          33.86884689331055,
          33.86884689331055,
          32.8296012878418,
          33.060543060302734,
          33.84219741821289,
          33.18489456176758,
          32.90953826904297,
          33.68231201171875,
          33.54019546508789,
          33.8155517578125,
          33.46913528442383,
          33.42472457885742,
          33.096073150634766,
          33.30924987792969,
          33.30036926269531,
          33.22930908203125,
          33.91326141357422,
          33.92213821411133,
          31.497222900390625,
          32.11899948120117,
          32.11899948120117,
          31.98575782775879,
          31.967998504638672,
          32.500946044921875,
          32.16341781616211,
          31.90581703186035,
          29.57861328125,
          29.97832679748535,
          29.631906509399414,
          29.66744041442871,
          29.80955696105957,
          29.525320053100586,
          29.685203552246094,
          29.40984535217285,
          29.10784339904785,
          28.592660903930664,
          28.708131790161133,
          28.459423065185547,
          28.99237060546875,
          29.045665740966797,
          29.96944236755371,
          30.653390884399414,
          30.653390884399414,
          30.22703742980957,
          29.97832679748535,
          29.720735549926758,
          30.04938507080078,
          31.275165557861328,
          31.29293441772461,
          31.728168487548828,
          31.621583938598633,
          32.19894027709961,
          32.42100143432617,
          32.58976745605469,
          34.25079345703125,
          34.1175537109375,
          33.45136642456055,
          33.34477615356445,
          34.659385681152344,
          34.872562408447266,
          34.74699401855469,
          34.5137939453125,
          34.397193908691406,
          34.43306350708008,
          34.48688507080078,
          34.325435638427734,
          34.48688507080078,
          34.43306350708008,
          33.8949089050293,
          34.37925338745117,
          34.23574447631836,
          34.137081146240234,
          34.397193908691406,
          34.40616226196289,
          34.316471099853516,
          34.72905731201172,
          34.872562408447266,
          34.83668518066406,
          34.45100784301758,
          34.128116607666016,
          33.95769119262695,
          34.00254440307617,
          33.8949089050293,
          33.07870864868164,
          33.36572265625,
          32.6481819152832,
          32.612308502197266,
          32.22663116455078,
          32.450862884521484,
          31.975486755371094,
          32.35219955444336,
          33.195308685302734,
          33.15046310424805,
          32.98902130126953,
          33.02488708496094,
          32.8544807434082,
          32.30734634399414,
          32.513641357421875,
          32.28941345214844,
          32.07415008544922,
          32.33426284790039,
          32.63920974731445,
          32.44188690185547,
          32.917259216308594,
          32.621273040771484,
          32.63024139404297,
          32.96210479736328,
          32.44188690185547,
          32.710960388183594,
          33.087677001953125,
          32.997989654541016,
          33.02488708496094,
          33.09664535522461,
          33.06077194213867,
          32.78272247314453,
          34.038421630859375,
          33.90388107299805,
          33.625831604003906,
          33.258094787597656,
          33.572017669677734,
          34.244712829589844,
          34.011512756347656,
          33.572017669677734,
          31.796106338500977,
          31.643619537353516,
          31.823007583618164,
          32.495704650878906,
          32.4598274230957,
          33.482322692871094,
          32.97488021850586,
          32.98394012451172,
          35.52116775512695,
          35.04996871948242,
          34.886863708496094,
          34.02601623535156,
          34.99559783935547,
          33.826663970947266,
          34.42124557495117,
          34.68866729736328,
          34.56450653076172,
          35.05160140991211,
          34.87968444824219,
          34.95608901977539,
          34.88923645019531,
          35.557796478271484,
          36.58928680419922,
          37.63987731933594,
          38.967445373535156,
          38.28934097290039,
          38.528106689453125,
          39.39723587036133,
          40.64839553833008,
          39.97028350830078,
          39.85567092895508,
          39.2730712890625,
          37.4488639831543,
          36.97132110595703,
          36.14039611816406,
          36.321861267089844,
          35.98758316040039,
          35.701053619384766,
          35.08980178833008,
          35.75836181640625,
          35.59600067138672,
          35.16621017456055,
          35.3858757019043,
          35.08980178833008,
          35.15666198730469,
          35.15666198730469,
          35.519588470458984,
          35.21396255493164,
          35.39543151855469,
          35.4622917175293,
          36.073543548583984,
          35.51004409790039,
          35.20441436767578,
          35.0993537902832,
          35.05160140991211,
          35.08025360107422,
          34.86058044433594,
          34.84148406982422,
          34.9083366394043,
          35.60554885864258,
          35.63420104980469,
          34.61226272583008,
          34.62191390991211,
          34.66053771972656,
          34.563987731933594,
          33.78195571899414,
          33.63713073730469,
          33.685401916503906,
          33.7143669128418,
          33.617820739746094,
          33.76264572143555,
          33.540584564208984,
          33.24128723144531,
          33.52127456665039,
          33.4923095703125,
          33.685401916503906,
          33.366798400878906,
          33.25094223022461,
          33.07715606689453,
          32.73924255371094,
          32.58476638793945,
          32.652347564697266,
          32.333744049072266,
          32.52683639526367,
          32.353050231933594,
          33.20267105102539,
          33.019229888916016,
          33.20267105102539,
          33.1640510559082,
          33.26060104370117,
          33.72402572631836,
          33.51162338256836,
          33.73367691040039,
          34.18745422363281,
          34.59295654296875,
          34.5543327331543,
          34.5350227355957,
          34.303306579589844,
          34.757083892822266,
          34.139183044433594,
          34.380550384521484,
          34.438472747802734,
          34.998451232910156,
          35.35567855834961,
          34.86328887939453,
          34.97914123535156,
          35.04672622680664,
          35.02741622924805,
          34.805355072021484,
          34.670188903808594,
          34.71846389770508,
          35.33636474609375,
          35.69359588623047,
          35.87703323364258,
          35.886688232421875,
          36.30184555053711,
          37.23835754394531,
          37.5859260559082,
          37.682472229003906,
          38.16521072387695,
          37.305938720703125,
          37.32524871826172,
          37.34455108642578,
          37.12249755859375,
          37.470069885253906,
          37.26731491088867,
          37.31559371948242,
          38.45485305786133,
          38.570709228515625,
          38.59001922607422,
          38.20977020263672,
          38.59001922607422,
          38.863014221191406,
          38.36576843261719,
          38.697265625,
          39.09701156616211,
          39.019012451171875,
          39.10676193237305,
          39.04826354980469,
          38.833763122558594,
          39.116512298583984,
          38.95076370239258,
          38.814266204833984,
          38.34627151489258,
          37.9465217590332,
          37.68328094482422,
          37.76127624511719,
          37.53702926635742,
          37.81977844238281,
          37.995277404785156,
          38.170772552490234,
          38.01477813720703,
          37.87827682495117,
          38.814266204833984,
          39.662506103515625,
          39.14575958251953,
          38.63876724243164,
          38.599769592285156,
          38.317020416259766,
          38.49251937866211,
          37.83927917480469,
          38.434017181396484,
          38.619266510009766,
          38.073272705078125,
          38.20977020263672,
          38.00502395629883,
          38.14152145385742,
          38.12202072143555,
          38.18052291870117,
          38.570518493652344,
          38.73626708984375,
          38.30727005004883,
          38.36576843261719,
          38.268272399902344,
          38.619266510009766,
          38.7655143737793,
          38.658267974853516,
          38.95076370239258,
          39.08726119995117,
          39.34075927734375,
          39.14575958251953,
          40.02324676513672,
          39.99400329589844,
          40.43274688720703,
          40.63749313354492,
          40.764244079589844,
          41.04698944091797,
          42.363224029541016,
          42.097591400146484,
          42.11726760864258,
          43.248661041259766,
          44.940826416015625,
          44.45875549316406,
          44.33086013793945,
          44.3406982421875,
          45.2359733581543,
          47.41020965576172,
          45.56063461303711,
          46.4755859375,
          47.695518493652344,
          48.118560791015625,
          49.604122161865234,
          48.512088775634766,
          48.01034164428711,
          47.931636810302734,
          49.1220588684082,
          47.597137451171875,
          46.741214752197266,
          46.613319396972656,
          45.84593963623047,
          46.00334930419922,
          45.32451629638672,
          45.29500198364258,
          46.08205795288086,
          46.08205795288086,
          45.99351119995117,
          45.75739669799805,
          45.285160064697266,
          44.85227966308594,
          43.85862731933594,
          43.98652267456055,
          44.04555130004883,
          43.75040817260742,
          43.17979049682617,
          43.48477554321289,
          43.20930480957031,
          43.23881912231445,
          43.474937438964844,
          43.228981018066406,
          42.864967346191406,
          42.34354782104492,
          42.82561492919922,
          42.314029693603516,
          42.23532485961914,
          41.733577728271484,
          41.635196685791016,
          41.340049743652344,
          42.04840087890625,
          41.76309585571289,
          41.3794059753418,
          41.17279815673828,
          40.749759674072266,
          40.99571228027344,
          40.81863021850586,
          40.6513786315918,
          41.40892028808594,
          42.10742950439453,
          42.16646194458008,
          42.461605072021484,
          42.45176696777344,
          42.855133056640625,
          42.274681091308594,
          42.48128128051758,
          43.032222747802734,
          42.933837890625,
          44.71454620361328,
          44.09474563598633,
          43.51911544799805,
          48.243202209472656,
          47.96531295776367,
          46.943084716796875,
          48.650108337402344,
          49.801353454589844,
          49.3547477722168,
          49.275352478027344,
          49.22572708129883,
          50.48614501953125,
          51.022071838378906,
          50.41667556762695,
          50.813655853271484,
          50.69456481933594,
          50.50599670410156,
          53.592529296875,
          52.00460433959961,
          53.32456588745117,
          54.267398834228516,
          52.639774322509766,
          53.86049270629883,
          51.09154510498047,
          51.329734802246094,
          51.012149810791016,
          51.68701934814453,
          52.38173294067383,
          54.78347396850586,
          55.12091064453125,
          58.35630798339844,
          60.78782272338867,
          59.03117752075195,
          60.5595588684082,
          58.50517654418945,
          59.10064697265625,
          58.26698684692383,
          58.753292083740234,
          57.572269439697266,
          57.14551544189453,
          57.959327697753906,
          58.60441970825195
         ],
         "yaxis": "y"
        }
       ],
       "layout": {
        "autosize": true,
        "legend": {
         "tracegroupgap": 0
        },
        "margin": {
         "t": 60
        },
        "template": {
         "data": {
          "bar": [
           {
            "error_x": {
             "color": "#2a3f5f"
            },
            "error_y": {
             "color": "#2a3f5f"
            },
            "marker": {
             "line": {
              "color": "#E5ECF6",
              "width": 0.5
             },
             "pattern": {
              "fillmode": "overlay",
              "size": 10,
              "solidity": 0.2
             }
            },
            "type": "bar"
           }
          ],
          "barpolar": [
           {
            "marker": {
             "line": {
              "color": "#E5ECF6",
              "width": 0.5
             },
             "pattern": {
              "fillmode": "overlay",
              "size": 10,
              "solidity": 0.2
             }
            },
            "type": "barpolar"
           }
          ],
          "carpet": [
           {
            "aaxis": {
             "endlinecolor": "#2a3f5f",
             "gridcolor": "white",
             "linecolor": "white",
             "minorgridcolor": "white",
             "startlinecolor": "#2a3f5f"
            },
            "baxis": {
             "endlinecolor": "#2a3f5f",
             "gridcolor": "white",
             "linecolor": "white",
             "minorgridcolor": "white",
             "startlinecolor": "#2a3f5f"
            },
            "type": "carpet"
           }
          ],
          "choropleth": [
           {
            "colorbar": {
             "outlinewidth": 0,
             "ticks": ""
            },
            "type": "choropleth"
           }
          ],
          "contour": [
           {
            "colorbar": {
             "outlinewidth": 0,
             "ticks": ""
            },
            "colorscale": [
             [
              0,
              "#0d0887"
             ],
             [
              0.1111111111111111,
              "#46039f"
             ],
             [
              0.2222222222222222,
              "#7201a8"
             ],
             [
              0.3333333333333333,
              "#9c179e"
             ],
             [
              0.4444444444444444,
              "#bd3786"
             ],
             [
              0.5555555555555556,
              "#d8576b"
             ],
             [
              0.6666666666666666,
              "#ed7953"
             ],
             [
              0.7777777777777778,
              "#fb9f3a"
             ],
             [
              0.8888888888888888,
              "#fdca26"
             ],
             [
              1,
              "#f0f921"
             ]
            ],
            "type": "contour"
           }
          ],
          "contourcarpet": [
           {
            "colorbar": {
             "outlinewidth": 0,
             "ticks": ""
            },
            "type": "contourcarpet"
           }
          ],
          "heatmap": [
           {
            "colorbar": {
             "outlinewidth": 0,
             "ticks": ""
            },
            "colorscale": [
             [
              0,
              "#0d0887"
             ],
             [
              0.1111111111111111,
              "#46039f"
             ],
             [
              0.2222222222222222,
              "#7201a8"
             ],
             [
              0.3333333333333333,
              "#9c179e"
             ],
             [
              0.4444444444444444,
              "#bd3786"
             ],
             [
              0.5555555555555556,
              "#d8576b"
             ],
             [
              0.6666666666666666,
              "#ed7953"
             ],
             [
              0.7777777777777778,
              "#fb9f3a"
             ],
             [
              0.8888888888888888,
              "#fdca26"
             ],
             [
              1,
              "#f0f921"
             ]
            ],
            "type": "heatmap"
           }
          ],
          "heatmapgl": [
           {
            "colorbar": {
             "outlinewidth": 0,
             "ticks": ""
            },
            "colorscale": [
             [
              0,
              "#0d0887"
             ],
             [
              0.1111111111111111,
              "#46039f"
             ],
             [
              0.2222222222222222,
              "#7201a8"
             ],
             [
              0.3333333333333333,
              "#9c179e"
             ],
             [
              0.4444444444444444,
              "#bd3786"
             ],
             [
              0.5555555555555556,
              "#d8576b"
             ],
             [
              0.6666666666666666,
              "#ed7953"
             ],
             [
              0.7777777777777778,
              "#fb9f3a"
             ],
             [
              0.8888888888888888,
              "#fdca26"
             ],
             [
              1,
              "#f0f921"
             ]
            ],
            "type": "heatmapgl"
           }
          ],
          "histogram": [
           {
            "marker": {
             "pattern": {
              "fillmode": "overlay",
              "size": 10,
              "solidity": 0.2
             }
            },
            "type": "histogram"
           }
          ],
          "histogram2d": [
           {
            "colorbar": {
             "outlinewidth": 0,
             "ticks": ""
            },
            "colorscale": [
             [
              0,
              "#0d0887"
             ],
             [
              0.1111111111111111,
              "#46039f"
             ],
             [
              0.2222222222222222,
              "#7201a8"
             ],
             [
              0.3333333333333333,
              "#9c179e"
             ],
             [
              0.4444444444444444,
              "#bd3786"
             ],
             [
              0.5555555555555556,
              "#d8576b"
             ],
             [
              0.6666666666666666,
              "#ed7953"
             ],
             [
              0.7777777777777778,
              "#fb9f3a"
             ],
             [
              0.8888888888888888,
              "#fdca26"
             ],
             [
              1,
              "#f0f921"
             ]
            ],
            "type": "histogram2d"
           }
          ],
          "histogram2dcontour": [
           {
            "colorbar": {
             "outlinewidth": 0,
             "ticks": ""
            },
            "colorscale": [
             [
              0,
              "#0d0887"
             ],
             [
              0.1111111111111111,
              "#46039f"
             ],
             [
              0.2222222222222222,
              "#7201a8"
             ],
             [
              0.3333333333333333,
              "#9c179e"
             ],
             [
              0.4444444444444444,
              "#bd3786"
             ],
             [
              0.5555555555555556,
              "#d8576b"
             ],
             [
              0.6666666666666666,
              "#ed7953"
             ],
             [
              0.7777777777777778,
              "#fb9f3a"
             ],
             [
              0.8888888888888888,
              "#fdca26"
             ],
             [
              1,
              "#f0f921"
             ]
            ],
            "type": "histogram2dcontour"
           }
          ],
          "mesh3d": [
           {
            "colorbar": {
             "outlinewidth": 0,
             "ticks": ""
            },
            "type": "mesh3d"
           }
          ],
          "parcoords": [
           {
            "line": {
             "colorbar": {
              "outlinewidth": 0,
              "ticks": ""
             }
            },
            "type": "parcoords"
           }
          ],
          "pie": [
           {
            "automargin": true,
            "type": "pie"
           }
          ],
          "scatter": [
           {
            "marker": {
             "colorbar": {
              "outlinewidth": 0,
              "ticks": ""
             }
            },
            "type": "scatter"
           }
          ],
          "scatter3d": [
           {
            "line": {
             "colorbar": {
              "outlinewidth": 0,
              "ticks": ""
             }
            },
            "marker": {
             "colorbar": {
              "outlinewidth": 0,
              "ticks": ""
             }
            },
            "type": "scatter3d"
           }
          ],
          "scattercarpet": [
           {
            "marker": {
             "colorbar": {
              "outlinewidth": 0,
              "ticks": ""
             }
            },
            "type": "scattercarpet"
           }
          ],
          "scattergeo": [
           {
            "marker": {
             "colorbar": {
              "outlinewidth": 0,
              "ticks": ""
             }
            },
            "type": "scattergeo"
           }
          ],
          "scattergl": [
           {
            "marker": {
             "colorbar": {
              "outlinewidth": 0,
              "ticks": ""
             }
            },
            "type": "scattergl"
           }
          ],
          "scattermapbox": [
           {
            "marker": {
             "colorbar": {
              "outlinewidth": 0,
              "ticks": ""
             }
            },
            "type": "scattermapbox"
           }
          ],
          "scatterpolar": [
           {
            "marker": {
             "colorbar": {
              "outlinewidth": 0,
              "ticks": ""
             }
            },
            "type": "scatterpolar"
           }
          ],
          "scatterpolargl": [
           {
            "marker": {
             "colorbar": {
              "outlinewidth": 0,
              "ticks": ""
             }
            },
            "type": "scatterpolargl"
           }
          ],
          "scatterternary": [
           {
            "marker": {
             "colorbar": {
              "outlinewidth": 0,
              "ticks": ""
             }
            },
            "type": "scatterternary"
           }
          ],
          "surface": [
           {
            "colorbar": {
             "outlinewidth": 0,
             "ticks": ""
            },
            "colorscale": [
             [
              0,
              "#0d0887"
             ],
             [
              0.1111111111111111,
              "#46039f"
             ],
             [
              0.2222222222222222,
              "#7201a8"
             ],
             [
              0.3333333333333333,
              "#9c179e"
             ],
             [
              0.4444444444444444,
              "#bd3786"
             ],
             [
              0.5555555555555556,
              "#d8576b"
             ],
             [
              0.6666666666666666,
              "#ed7953"
             ],
             [
              0.7777777777777778,
              "#fb9f3a"
             ],
             [
              0.8888888888888888,
              "#fdca26"
             ],
             [
              1,
              "#f0f921"
             ]
            ],
            "type": "surface"
           }
          ],
          "table": [
           {
            "cells": {
             "fill": {
              "color": "#EBF0F8"
             },
             "line": {
              "color": "white"
             }
            },
            "header": {
             "fill": {
              "color": "#C8D4E3"
             },
             "line": {
              "color": "white"
             }
            },
            "type": "table"
           }
          ]
         },
         "layout": {
          "annotationdefaults": {
           "arrowcolor": "#2a3f5f",
           "arrowhead": 0,
           "arrowwidth": 1
          },
          "autotypenumbers": "strict",
          "coloraxis": {
           "colorbar": {
            "outlinewidth": 0,
            "ticks": ""
           }
          },
          "colorscale": {
           "diverging": [
            [
             0,
             "#8e0152"
            ],
            [
             0.1,
             "#c51b7d"
            ],
            [
             0.2,
             "#de77ae"
            ],
            [
             0.3,
             "#f1b6da"
            ],
            [
             0.4,
             "#fde0ef"
            ],
            [
             0.5,
             "#f7f7f7"
            ],
            [
             0.6,
             "#e6f5d0"
            ],
            [
             0.7,
             "#b8e186"
            ],
            [
             0.8,
             "#7fbc41"
            ],
            [
             0.9,
             "#4d9221"
            ],
            [
             1,
             "#276419"
            ]
           ],
           "sequential": [
            [
             0,
             "#0d0887"
            ],
            [
             0.1111111111111111,
             "#46039f"
            ],
            [
             0.2222222222222222,
             "#7201a8"
            ],
            [
             0.3333333333333333,
             "#9c179e"
            ],
            [
             0.4444444444444444,
             "#bd3786"
            ],
            [
             0.5555555555555556,
             "#d8576b"
            ],
            [
             0.6666666666666666,
             "#ed7953"
            ],
            [
             0.7777777777777778,
             "#fb9f3a"
            ],
            [
             0.8888888888888888,
             "#fdca26"
            ],
            [
             1,
             "#f0f921"
            ]
           ],
           "sequentialminus": [
            [
             0,
             "#0d0887"
            ],
            [
             0.1111111111111111,
             "#46039f"
            ],
            [
             0.2222222222222222,
             "#7201a8"
            ],
            [
             0.3333333333333333,
             "#9c179e"
            ],
            [
             0.4444444444444444,
             "#bd3786"
            ],
            [
             0.5555555555555556,
             "#d8576b"
            ],
            [
             0.6666666666666666,
             "#ed7953"
            ],
            [
             0.7777777777777778,
             "#fb9f3a"
            ],
            [
             0.8888888888888888,
             "#fdca26"
            ],
            [
             1,
             "#f0f921"
            ]
           ]
          },
          "colorway": [
           "#636efa",
           "#EF553B",
           "#00cc96",
           "#ab63fa",
           "#FFA15A",
           "#19d3f3",
           "#FF6692",
           "#B6E880",
           "#FF97FF",
           "#FECB52"
          ],
          "font": {
           "color": "#2a3f5f"
          },
          "geo": {
           "bgcolor": "white",
           "lakecolor": "white",
           "landcolor": "#E5ECF6",
           "showlakes": true,
           "showland": true,
           "subunitcolor": "white"
          },
          "hoverlabel": {
           "align": "left"
          },
          "hovermode": "closest",
          "mapbox": {
           "style": "light"
          },
          "paper_bgcolor": "white",
          "plot_bgcolor": "#E5ECF6",
          "polar": {
           "angularaxis": {
            "gridcolor": "white",
            "linecolor": "white",
            "ticks": ""
           },
           "bgcolor": "#E5ECF6",
           "radialaxis": {
            "gridcolor": "white",
            "linecolor": "white",
            "ticks": ""
           }
          },
          "scene": {
           "xaxis": {
            "backgroundcolor": "#E5ECF6",
            "gridcolor": "white",
            "gridwidth": 2,
            "linecolor": "white",
            "showbackground": true,
            "ticks": "",
            "zerolinecolor": "white"
           },
           "yaxis": {
            "backgroundcolor": "#E5ECF6",
            "gridcolor": "white",
            "gridwidth": 2,
            "linecolor": "white",
            "showbackground": true,
            "ticks": "",
            "zerolinecolor": "white"
           },
           "zaxis": {
            "backgroundcolor": "#E5ECF6",
            "gridcolor": "white",
            "gridwidth": 2,
            "linecolor": "white",
            "showbackground": true,
            "ticks": "",
            "zerolinecolor": "white"
           }
          },
          "shapedefaults": {
           "line": {
            "color": "#2a3f5f"
           }
          },
          "ternary": {
           "aaxis": {
            "gridcolor": "white",
            "linecolor": "white",
            "ticks": ""
           },
           "baxis": {
            "gridcolor": "white",
            "linecolor": "white",
            "ticks": ""
           },
           "bgcolor": "#E5ECF6",
           "caxis": {
            "gridcolor": "white",
            "linecolor": "white",
            "ticks": ""
           }
          },
          "title": {
           "x": 0.05
          },
          "xaxis": {
           "automargin": true,
           "gridcolor": "white",
           "linecolor": "white",
           "ticks": "",
           "title": {
            "standoff": 15
           },
           "zerolinecolor": "white",
           "zerolinewidth": 2
          },
          "yaxis": {
           "automargin": true,
           "gridcolor": "white",
           "linecolor": "white",
           "ticks": "",
           "title": {
            "standoff": 15
           },
           "zerolinecolor": "white",
           "zerolinewidth": 2
          }
         }
        },
        "xaxis": {
         "anchor": "y",
         "autorange": true,
         "domain": [
          0,
          1
         ],
         "range": [
          "2020-01-02",
          "2021-12-31"
         ],
         "title": {
          "text": "date"
         },
         "type": "date"
        },
        "yaxis": {
         "anchor": "x",
         "autorange": true,
         "domain": [
          0,
          1
         ],
         "range": [
          23.071363555060493,
          62.77289952172173
         ],
         "title": {
          "text": "PFE"
         },
         "type": "linear"
        }
       }
      },
      "image/png": "[encoded data removed]",
      "text/html": [
       "<div>                            <div id=\"5d560b41-fa1b-4871-836d-4e7e37c98597\" class=\"plotly-graph-div\" style=\"height:525px; width:100%;\"></div>            <script type=\"text/javascript\">                require([\"plotly\"], function(Plotly) {                    window.PLOTLYENV=window.PLOTLYENV || {};                                    if (document.getElementById(\"5d560b41-fa1b-4871-836d-4e7e37c98597\")) {                    Plotly.newPlot(                        \"5d560b41-fa1b-4871-836d-4e7e37c98597\",                        [{\"hovertemplate\":\"date=%{x}<br>PFE=%{y}<extra></extra>\",\"legendgroup\":\"\",\"line\":{\"color\":\"#4C78A8\",\"dash\":\"solid\"},\"marker\":{\"symbol\":\"circle\"},\"mode\":\"lines\",\"name\":\"\",\"orientation\":\"v\",\"showlegend\":false,\"x\":[\"2020-01-02T00:00:00\",\"2020-01-03T00:00:00\",\"2020-01-06T00:00:00\",\"2020-01-07T00:00:00\",\"2020-01-08T00:00:00\",\"2020-01-09T00:00:00\",\"2020-01-10T00:00:00\",\"2020-01-13T00:00:00\",\"2020-01-14T00:00:00\",\"2020-01-15T00:00:00\",\"2020-01-16T00:00:00\",\"2020-01-17T00:00:00\",\"2020-01-21T00:00:00\",\"2020-01-22T00:00:00\",\"2020-01-23T00:00:00\",\"2020-01-24T00:00:00\",\"2020-01-27T00:00:00\",\"2020-01-28T00:00:00\",\"2020-01-29T00:00:00\",\"2020-01-30T00:00:00\",\"2020-01-31T00:00:00\",\"2020-02-03T00:00:00\",\"2020-02-04T00:00:00\",\"2020-02-05T00:00:00\",\"2020-02-06T00:00:00\",\"2020-02-07T00:00:00\",\"2020-02-10T00:00:00\",\"2020-02-11T00:00:00\",\"2020-02-12T00:00:00\",\"2020-02-13T00:00:00\",\"2020-02-14T00:00:00\",\"2020-02-18T00:00:00\",\"2020-02-19T00:00:00\",\"2020-02-20T00:00:00\",\"2020-02-21T00:00:00\",\"2020-02-24T00:00:00\",\"2020-02-25T00:00:00\",\"2020-02-26T00:00:00\",\"2020-02-27T00:00:00\",\"2020-02-28T00:00:00\",\"2020-03-02T00:00:00\",\"2020-03-03T00:00:00\",\"2020-03-04T00:00:00\",\"2020-03-05T00:00:00\",\"2020-03-06T00:00:00\",\"2020-03-09T00:00:00\",\"2020-03-10T00:00:00\",\"2020-03-11T00:00:00\",\"2020-03-12T00:00:00\",\"2020-03-13T00:00:00\",\"2020-03-16T00:00:00\",\"2020-03-17T00:00:00\",\"2020-03-18T00:00:00\",\"2020-03-19T00:00:00\",\"2020-03-20T00:00:00\",\"2020-03-23T00:00:00\",\"2020-03-24T00:00:00\",\"2020-03-25T00:00:00\",\"2020-03-26T00:00:00\",\"2020-03-27T00:00:00\",\"2020-03-30T00:00:00\",\"2020-03-31T00:00:00\",\"2020-04-01T00:00:00\",\"2020-04-02T00:00:00\",\"2020-04-03T00:00:00\",\"2020-04-06T00:00:00\",\"2020-04-07T00:00:00\",\"2020-04-08T00:00:00\",\"2020-04-09T00:00:00\",\"2020-04-13T00:00:00\",\"2020-04-14T00:00:00\",\"2020-04-15T00:00:00\",\"2020-04-16T00:00:00\",\"2020-04-17T00:00:00\",\"2020-04-20T00:00:00\",\"2020-04-21T00:00:00\",\"2020-04-22T00:00:00\",\"2020-04-23T00:00:00\",\"2020-04-24T00:00:00\",\"2020-04-27T00:00:00\",\"2020-04-28T00:00:00\",\"2020-04-29T00:00:00\",\"2020-04-30T00:00:00\",\"2020-05-01T00:00:00\",\"2020-05-04T00:00:00\",\"2020-05-05T00:00:00\",\"2020-05-06T00:00:00\",\"2020-05-07T00:00:00\",\"2020-05-08T00:00:00\",\"2020-05-11T00:00:00\",\"2020-05-12T00:00:00\",\"2020-05-13T00:00:00\",\"2020-05-14T00:00:00\",\"2020-05-15T00:00:00\",\"2020-05-18T00:00:00\",\"2020-05-19T00:00:00\",\"2020-05-20T00:00:00\",\"2020-05-21T00:00:00\",\"2020-05-22T00:00:00\",\"2020-05-26T00:00:00\",\"2020-05-27T00:00:00\",\"2020-05-28T00:00:00\",\"2020-05-29T00:00:00\",\"2020-06-01T00:00:00\",\"2020-06-02T00:00:00\",\"2020-06-03T00:00:00\",\"2020-06-04T00:00:00\",\"2020-06-05T00:00:00\",\"2020-06-08T00:00:00\",\"2020-06-09T00:00:00\",\"2020-06-10T00:00:00\",\"2020-06-11T00:00:00\",\"2020-06-12T00:00:00\",\"2020-06-15T00:00:00\",\"2020-06-16T00:00:00\",\"2020-06-17T00:00:00\",\"2020-06-18T00:00:00\",\"2020-06-19T00:00:00\",\"2020-06-22T00:00:00\",\"2020-06-23T00:00:00\",\"2020-06-24T00:00:00\",\"2020-06-25T00:00:00\",\"2020-06-26T00:00:00\",\"2020-06-29T00:00:00\",\"2020-06-30T00:00:00\",\"2020-07-01T00:00:00\",\"2020-07-02T00:00:00\",\"2020-07-06T00:00:00\",\"2020-07-07T00:00:00\",\"2020-07-08T00:00:00\",\"2020-07-09T00:00:00\",\"2020-07-10T00:00:00\",\"2020-07-13T00:00:00\",\"2020-07-14T00:00:00\",\"2020-07-15T00:00:00\",\"2020-07-16T00:00:00\",\"2020-07-17T00:00:00\",\"2020-07-20T00:00:00\",\"2020-07-21T00:00:00\",\"2020-07-22T00:00:00\",\"2020-07-23T00:00:00\",\"2020-07-24T00:00:00\",\"2020-07-27T00:00:00\",\"2020-07-28T00:00:00\",\"2020-07-29T00:00:00\",\"2020-07-30T00:00:00\",\"2020-07-31T00:00:00\",\"2020-08-03T00:00:00\",\"2020-08-04T00:00:00\",\"2020-08-05T00:00:00\",\"2020-08-06T00:00:00\",\"2020-08-07T00:00:00\",\"2020-08-10T00:00:00\",\"2020-08-11T00:00:00\",\"2020-08-12T00:00:00\",\"2020-08-13T00:00:00\",\"2020-08-14T00:00:00\",\"2020-08-17T00:00:00\",\"2020-08-18T00:00:00\",\"2020-08-19T00:00:00\",\"2020-08-20T00:00:00\",\"2020-08-21T00:00:00\",\"2020-08-24T00:00:00\",\"2020-08-25T00:00:00\",\"2020-08-26T00:00:00\",\"2020-08-27T00:00:00\",\"2020-08-28T00:00:00\",\"2020-08-31T00:00:00\",\"2020-09-01T00:00:00\",\"2020-09-02T00:00:00\",\"2020-09-03T00:00:00\",\"2020-09-04T00:00:00\",\"2020-09-08T00:00:00\",\"2020-09-09T00:00:00\",\"2020-09-10T00:00:00\",\"2020-09-11T00:00:00\",\"2020-09-14T00:00:00\",\"2020-09-15T00:00:00\",\"2020-09-16T00:00:00\",\"2020-09-17T00:00:00\",\"2020-09-18T00:00:00\",\"2020-09-21T00:00:00\",\"2020-09-22T00:00:00\",\"2020-09-23T00:00:00\",\"2020-09-24T00:00:00\",\"2020-09-25T00:00:00\",\"2020-09-28T00:00:00\",\"2020-09-29T00:00:00\",\"2020-09-30T00:00:00\",\"2020-10-01T00:00:00\",\"2020-10-02T00:00:00\",\"2020-10-05T00:00:00\",\"2020-10-06T00:00:00\",\"2020-10-07T00:00:00\",\"2020-10-08T00:00:00\",\"2020-10-09T00:00:00\",\"2020-10-12T00:00:00\",\"2020-10-13T00:00:00\",\"2020-10-14T00:00:00\",\"2020-10-15T00:00:00\",\"2020-10-16T00:00:00\",\"2020-10-19T00:00:00\",\"2020-10-20T00:00:00\",\"2020-10-21T00:00:00\",\"2020-10-22T00:00:00\",\"2020-10-23T00:00:00\",\"2020-10-26T00:00:00\",\"2020-10-27T00:00:00\",\"2020-10-28T00:00:00\",\"2020-10-29T00:00:00\",\"2020-10-30T00:00:00\",\"2020-11-02T00:00:00\",\"2020-11-03T00:00:00\",\"2020-11-04T00:00:00\",\"2020-11-05T00:00:00\",\"2020-11-06T00:00:00\",\"2020-11-09T00:00:00\",\"2020-11-10T00:00:00\",\"2020-11-11T00:00:00\",\"2020-11-12T00:00:00\",\"2020-11-13T00:00:00\",\"2020-11-16T00:00:00\",\"2020-11-17T00:00:00\",\"2020-11-18T00:00:00\",\"2020-11-19T00:00:00\",\"2020-11-20T00:00:00\",\"2020-11-23T00:00:00\",\"2020-11-24T00:00:00\",\"2020-11-25T00:00:00\",\"2020-11-27T00:00:00\",\"2020-11-30T00:00:00\",\"2020-12-01T00:00:00\",\"2020-12-02T00:00:00\",\"2020-12-03T00:00:00\",\"2020-12-04T00:00:00\",\"2020-12-07T00:00:00\",\"2020-12-08T00:00:00\",\"2020-12-09T00:00:00\",\"2020-12-10T00:00:00\",\"2020-12-11T00:00:00\",\"2020-12-14T00:00:00\",\"2020-12-15T00:00:00\",\"2020-12-16T00:00:00\",\"2020-12-17T00:00:00\",\"2020-12-18T00:00:00\",\"2020-12-21T00:00:00\",\"2020-12-22T00:00:00\",\"2020-12-23T00:00:00\",\"2020-12-24T00:00:00\",\"2020-12-28T00:00:00\",\"2020-12-29T00:00:00\",\"2020-12-30T00:00:00\",\"2020-12-31T00:00:00\",\"2021-01-04T00:00:00\",\"2021-01-05T00:00:00\",\"2021-01-06T00:00:00\",\"2021-01-07T00:00:00\",\"2021-01-08T00:00:00\",\"2021-01-11T00:00:00\",\"2021-01-12T00:00:00\",\"2021-01-13T00:00:00\",\"2021-01-14T00:00:00\",\"2021-01-15T00:00:00\",\"2021-01-19T00:00:00\",\"2021-01-20T00:00:00\",\"2021-01-21T00:00:00\",\"2021-01-22T00:00:00\",\"2021-01-25T00:00:00\",\"2021-01-26T00:00:00\",\"2021-01-27T00:00:00\",\"2021-01-28T00:00:00\",\"2021-01-29T00:00:00\",\"2021-02-01T00:00:00\",\"2021-02-02T00:00:00\",\"2021-02-03T00:00:00\",\"2021-02-04T00:00:00\",\"2021-02-05T00:00:00\",\"2021-02-08T00:00:00\",\"2021-02-09T00:00:00\",\"2021-02-10T00:00:00\",\"2021-02-11T00:00:00\",\"2021-02-12T00:00:00\",\"2021-02-16T00:00:00\",\"2021-02-17T00:00:00\",\"2021-02-18T00:00:00\",\"2021-02-19T00:00:00\",\"2021-02-22T00:00:00\",\"2021-02-23T00:00:00\",\"2021-02-24T00:00:00\",\"2021-02-25T00:00:00\",\"2021-02-26T00:00:00\",\"2021-03-01T00:00:00\",\"2021-03-02T00:00:00\",\"2021-03-03T00:00:00\",\"2021-03-04T00:00:00\",\"2021-03-05T00:00:00\",\"2021-03-08T00:00:00\",\"2021-03-09T00:00:00\",\"2021-03-10T00:00:00\",\"2021-03-11T00:00:00\",\"2021-03-12T00:00:00\",\"2021-03-15T00:00:00\",\"2021-03-16T00:00:00\",\"2021-03-17T00:00:00\",\"2021-03-18T00:00:00\",\"2021-03-19T00:00:00\",\"2021-03-22T00:00:00\",\"2021-03-23T00:00:00\",\"2021-03-24T00:00:00\",\"2021-03-25T00:00:00\",\"2021-03-26T00:00:00\",\"2021-03-29T00:00:00\",\"2021-03-30T00:00:00\",\"2021-03-31T00:00:00\",\"2021-04-01T00:00:00\",\"2021-04-05T00:00:00\",\"2021-04-06T00:00:00\",\"2021-04-07T00:00:00\",\"2021-04-08T00:00:00\",\"2021-04-09T00:00:00\",\"2021-04-12T00:00:00\",\"2021-04-13T00:00:00\",\"2021-04-14T00:00:00\",\"2021-04-15T00:00:00\",\"2021-04-16T00:00:00\",\"2021-04-19T00:00:00\",\"2021-04-20T00:00:00\",\"2021-04-21T00:00:00\",\"2021-04-22T00:00:00\",\"2021-04-23T00:00:00\",\"2021-04-26T00:00:00\",\"2021-04-27T00:00:00\",\"2021-04-28T00:00:00\",\"2021-04-29T00:00:00\",\"2021-04-30T00:00:00\",\"2021-05-03T00:00:00\",\"2021-05-04T00:00:00\",\"2021-05-05T00:00:00\",\"2021-05-06T00:00:00\",\"2021-05-07T00:00:00\",\"2021-05-10T00:00:00\",\"2021-05-11T00:00:00\",\"2021-05-12T00:00:00\",\"2021-05-13T00:00:00\",\"2021-05-14T00:00:00\",\"2021-05-17T00:00:00\",\"2021-05-18T00:00:00\",\"2021-05-19T00:00:00\",\"2021-05-20T00:00:00\",\"2021-05-21T00:00:00\",\"2021-05-24T00:00:00\",\"2021-05-25T00:00:00\",\"2021-05-26T00:00:00\",\"2021-05-27T00:00:00\",\"2021-05-28T00:00:00\",\"2021-06-01T00:00:00\",\"2021-06-02T00:00:00\",\"2021-06-03T00:00:00\",\"2021-06-04T00:00:00\",\"2021-06-07T00:00:00\",\"2021-06-08T00:00:00\",\"2021-06-09T00:00:00\",\"2021-06-10T00:00:00\",\"2021-06-11T00:00:00\",\"2021-06-14T00:00:00\",\"2021-06-15T00:00:00\",\"2021-06-16T00:00:00\",\"2021-06-17T00:00:00\",\"2021-06-18T00:00:00\",\"2021-06-21T00:00:00\",\"2021-06-22T00:00:00\",\"2021-06-23T00:00:00\",\"2021-06-24T00:00:00\",\"2021-06-25T00:00:00\",\"2021-06-28T00:00:00\",\"2021-06-29T00:00:00\",\"2021-06-30T00:00:00\",\"2021-07-01T00:00:00\",\"2021-07-02T00:00:00\",\"2021-07-06T00:00:00\",\"2021-07-07T00:00:00\",\"2021-07-08T00:00:00\",\"2021-07-09T00:00:00\",\"2021-07-12T00:00:00\",\"2021-07-13T00:00:00\",\"2021-07-14T00:00:00\",\"2021-07-15T00:00:00\",\"2021-07-16T00:00:00\",\"2021-07-19T00:00:00\",\"2021-07-20T00:00:00\",\"2021-07-21T00:00:00\",\"2021-07-22T00:00:00\",\"2021-07-23T00:00:00\",\"2021-07-26T00:00:00\",\"2021-07-27T00:00:00\",\"2021-07-28T00:00:00\",\"2021-07-29T00:00:00\",\"2021-07-30T00:00:00\",\"2021-08-02T00:00:00\",\"2021-08-03T00:00:00\",\"2021-08-04T00:00:00\",\"2021-08-05T00:00:00\",\"2021-08-06T00:00:00\",\"2021-08-09T00:00:00\",\"2021-08-10T00:00:00\",\"2021-08-11T00:00:00\",\"2021-08-12T00:00:00\",\"2021-08-13T00:00:00\",\"2021-08-16T00:00:00\",\"2021-08-17T00:00:00\",\"2021-08-18T00:00:00\",\"2021-08-19T00:00:00\",\"2021-08-20T00:00:00\",\"2021-08-23T00:00:00\",\"2021-08-24T00:00:00\",\"2021-08-25T00:00:00\",\"2021-08-26T00:00:00\",\"2021-08-27T00:00:00\",\"2021-08-30T00:00:00\",\"2021-08-31T00:00:00\",\"2021-09-01T00:00:00\",\"2021-09-02T00:00:00\",\"2021-09-03T00:00:00\",\"2021-09-07T00:00:00\",\"2021-09-08T00:00:00\",\"2021-09-09T00:00:00\",\"2021-09-10T00:00:00\",\"2021-09-13T00:00:00\",\"2021-09-14T00:00:00\",\"2021-09-15T00:00:00\",\"2021-09-16T00:00:00\",\"2021-09-17T00:00:00\",\"2021-09-20T00:00:00\",\"2021-09-21T00:00:00\",\"2021-09-22T00:00:00\",\"2021-09-23T00:00:00\",\"2021-09-24T00:00:00\",\"2021-09-27T00:00:00\",\"2021-09-28T00:00:00\",\"2021-09-29T00:00:00\",\"2021-09-30T00:00:00\",\"2021-10-01T00:00:00\",\"2021-10-04T00:00:00\",\"2021-10-05T00:00:00\",\"2021-10-06T00:00:00\",\"2021-10-07T00:00:00\",\"2021-10-08T00:00:00\",\"2021-10-11T00:00:00\",\"2021-10-12T00:00:00\",\"2021-10-13T00:00:00\",\"2021-10-14T00:00:00\",\"2021-10-15T00:00:00\",\"2021-10-18T00:00:00\",\"2021-10-19T00:00:00\",\"2021-10-20T00:00:00\",\"2021-10-21T00:00:00\",\"2021-10-22T00:00:00\",\"2021-10-25T00:00:00\",\"2021-10-26T00:00:00\",\"2021-10-27T00:00:00\",\"2021-10-28T00:00:00\",\"2021-10-29T00:00:00\",\"2021-11-01T00:00:00\",\"2021-11-02T00:00:00\",\"2021-11-03T00:00:00\",\"2021-11-04T00:00:00\",\"2021-11-05T00:00:00\",\"2021-11-08T00:00:00\",\"2021-11-09T00:00:00\",\"2021-11-10T00:00:00\",\"2021-11-11T00:00:00\",\"2021-11-12T00:00:00\",\"2021-11-15T00:00:00\",\"2021-11-16T00:00:00\",\"2021-11-17T00:00:00\",\"2021-11-18T00:00:00\",\"2021-11-19T00:00:00\",\"2021-11-22T00:00:00\",\"2021-11-23T00:00:00\",\"2021-11-24T00:00:00\",\"2021-11-26T00:00:00\",\"2021-11-29T00:00:00\",\"2021-11-30T00:00:00\",\"2021-12-01T00:00:00\",\"2021-12-02T00:00:00\",\"2021-12-03T00:00:00\",\"2021-12-06T00:00:00\",\"2021-12-07T00:00:00\",\"2021-12-08T00:00:00\",\"2021-12-09T00:00:00\",\"2021-12-10T00:00:00\",\"2021-12-13T00:00:00\",\"2021-12-14T00:00:00\",\"2021-12-15T00:00:00\",\"2021-12-16T00:00:00\",\"2021-12-17T00:00:00\",\"2021-12-20T00:00:00\",\"2021-12-21T00:00:00\",\"2021-12-22T00:00:00\",\"2021-12-23T00:00:00\",\"2021-12-27T00:00:00\",\"2021-12-28T00:00:00\",\"2021-12-29T00:00:00\",\"2021-12-30T00:00:00\",\"2021-12-31T00:00:00\"],\"xaxis\":\"x\",\"y\":[34.07484436035156,33.89202117919922,33.848487854003906,33.73530960083008,34.005191802978516,33.857200622558594,34.379547119140625,34.30990219116211,34.88449478149414,35.40684127807617,35.354610443115234,35.26755142211914,35.11954879760742,34.98896026611328,35.44166564941406,34.66684341430664,34.96284484863281,33.20425033569336,32.71672439575195,32.60239028930664,32.75191116333008,32.98936080932617,33.147674560546875,33.56982421875,33.64897537231445,33.46428680419922,33.253204345703125,33.49946212768555,33.191646575927734,32.47926330566406,32.109886169433594,31.94277572631836,31.863628387451172,31.529422760009766,31.415088653564453,30.49163818359375,29.840816497802734,30.535608291625977,29.990331649780273,29.392284393310547,30.67632484436035,30.16622543334961,32.01313781738281,31.186424255371094,30.799455642700195,29.69131088256836,30.421274185180664,28.29292869567871,26.40204620361328,28.767854690551758,26.542762756347656,28.284135818481445,28.46002960205078,26.75383949279785,25.513769149780273,25.056440353393555,26.120609283447266,26.164583206176758,27.92354965209961,27.175992965698242,28.73267364501953,28.706287384033203,27.92354965209961,28.908567428588867,29.585771560668945,30.403690338134766,29.559385299682617,30.430070877075195,31.124862670898438,30.90499496459961,32.04831314086914,31.63496208190918,31.555805206298828,32.461669921875,31.731704711914062,31.3271484375,31.881216049194336,32.268184661865234,32.875030517578125,33.710533142089844,33.34115982055664,33.52585220336914,33.73692321777344,33.10369110107422,33.08610916137695,33.86884689331055,33.86884689331055,32.8296012878418,33.060543060302734,33.84219741821289,33.18489456176758,32.90953826904297,33.68231201171875,33.54019546508789,33.8155517578125,33.46913528442383,33.42472457885742,33.096073150634766,33.30924987792969,33.30036926269531,33.22930908203125,33.91326141357422,33.92213821411133,31.497222900390625,32.11899948120117,32.11899948120117,31.98575782775879,31.967998504638672,32.500946044921875,32.16341781616211,31.90581703186035,29.57861328125,29.97832679748535,29.631906509399414,29.66744041442871,29.80955696105957,29.525320053100586,29.685203552246094,29.40984535217285,29.10784339904785,28.592660903930664,28.708131790161133,28.459423065185547,28.99237060546875,29.045665740966797,29.96944236755371,30.653390884399414,30.653390884399414,30.22703742980957,29.97832679748535,29.720735549926758,30.04938507080078,31.275165557861328,31.29293441772461,31.728168487548828,31.621583938598633,32.19894027709961,32.42100143432617,32.58976745605469,34.25079345703125,34.1175537109375,33.45136642456055,33.34477615356445,34.659385681152344,34.872562408447266,34.74699401855469,34.5137939453125,34.397193908691406,34.43306350708008,34.48688507080078,34.325435638427734,34.48688507080078,34.43306350708008,33.8949089050293,34.37925338745117,34.23574447631836,34.137081146240234,34.397193908691406,34.40616226196289,34.316471099853516,34.72905731201172,34.872562408447266,34.83668518066406,34.45100784301758,34.128116607666016,33.95769119262695,34.00254440307617,33.8949089050293,33.07870864868164,33.36572265625,32.6481819152832,32.612308502197266,32.22663116455078,32.450862884521484,31.975486755371094,32.35219955444336,33.195308685302734,33.15046310424805,32.98902130126953,33.02488708496094,32.8544807434082,32.30734634399414,32.513641357421875,32.28941345214844,32.07415008544922,32.33426284790039,32.63920974731445,32.44188690185547,32.917259216308594,32.621273040771484,32.63024139404297,32.96210479736328,32.44188690185547,32.710960388183594,33.087677001953125,32.997989654541016,33.02488708496094,33.09664535522461,33.06077194213867,32.78272247314453,34.038421630859375,33.90388107299805,33.625831604003906,33.258094787597656,33.572017669677734,34.244712829589844,34.011512756347656,33.572017669677734,31.796106338500977,31.643619537353516,31.823007583618164,32.495704650878906,32.4598274230957,33.482322692871094,32.97488021850586,32.98394012451172,35.52116775512695,35.04996871948242,34.886863708496094,34.02601623535156,34.99559783935547,33.826663970947266,34.42124557495117,34.68866729736328,34.56450653076172,35.05160140991211,34.87968444824219,34.95608901977539,34.88923645019531,35.557796478271484,36.58928680419922,37.63987731933594,38.967445373535156,38.28934097290039,38.528106689453125,39.39723587036133,40.64839553833008,39.97028350830078,39.85567092895508,39.2730712890625,37.4488639831543,36.97132110595703,36.14039611816406,36.321861267089844,35.98758316040039,35.701053619384766,35.08980178833008,35.75836181640625,35.59600067138672,35.16621017456055,35.3858757019043,35.08980178833008,35.15666198730469,35.15666198730469,35.519588470458984,35.21396255493164,35.39543151855469,35.4622917175293,36.073543548583984,35.51004409790039,35.20441436767578,35.0993537902832,35.05160140991211,35.08025360107422,34.86058044433594,34.84148406982422,34.9083366394043,35.60554885864258,35.63420104980469,34.61226272583008,34.62191390991211,34.66053771972656,34.563987731933594,33.78195571899414,33.63713073730469,33.685401916503906,33.7143669128418,33.617820739746094,33.76264572143555,33.540584564208984,33.24128723144531,33.52127456665039,33.4923095703125,33.685401916503906,33.366798400878906,33.25094223022461,33.07715606689453,32.73924255371094,32.58476638793945,32.652347564697266,32.333744049072266,32.52683639526367,32.353050231933594,33.20267105102539,33.019229888916016,33.20267105102539,33.1640510559082,33.26060104370117,33.72402572631836,33.51162338256836,33.73367691040039,34.18745422363281,34.59295654296875,34.5543327331543,34.5350227355957,34.303306579589844,34.757083892822266,34.139183044433594,34.380550384521484,34.438472747802734,34.998451232910156,35.35567855834961,34.86328887939453,34.97914123535156,35.04672622680664,35.02741622924805,34.805355072021484,34.670188903808594,34.71846389770508,35.33636474609375,35.69359588623047,35.87703323364258,35.886688232421875,36.30184555053711,37.23835754394531,37.5859260559082,37.682472229003906,38.16521072387695,37.305938720703125,37.32524871826172,37.34455108642578,37.12249755859375,37.470069885253906,37.26731491088867,37.31559371948242,38.45485305786133,38.570709228515625,38.59001922607422,38.20977020263672,38.59001922607422,38.863014221191406,38.36576843261719,38.697265625,39.09701156616211,39.019012451171875,39.10676193237305,39.04826354980469,38.833763122558594,39.116512298583984,38.95076370239258,38.814266204833984,38.34627151489258,37.9465217590332,37.68328094482422,37.76127624511719,37.53702926635742,37.81977844238281,37.995277404785156,38.170772552490234,38.01477813720703,37.87827682495117,38.814266204833984,39.662506103515625,39.14575958251953,38.63876724243164,38.599769592285156,38.317020416259766,38.49251937866211,37.83927917480469,38.434017181396484,38.619266510009766,38.073272705078125,38.20977020263672,38.00502395629883,38.14152145385742,38.12202072143555,38.18052291870117,38.570518493652344,38.73626708984375,38.30727005004883,38.36576843261719,38.268272399902344,38.619266510009766,38.7655143737793,38.658267974853516,38.95076370239258,39.08726119995117,39.34075927734375,39.14575958251953,40.02324676513672,39.99400329589844,40.43274688720703,40.63749313354492,40.764244079589844,41.04698944091797,42.363224029541016,42.097591400146484,42.11726760864258,43.248661041259766,44.940826416015625,44.45875549316406,44.33086013793945,44.3406982421875,45.2359733581543,47.41020965576172,45.56063461303711,46.4755859375,47.695518493652344,48.118560791015625,49.604122161865234,48.512088775634766,48.01034164428711,47.931636810302734,49.1220588684082,47.597137451171875,46.741214752197266,46.613319396972656,45.84593963623047,46.00334930419922,45.32451629638672,45.29500198364258,46.08205795288086,46.08205795288086,45.99351119995117,45.75739669799805,45.285160064697266,44.85227966308594,43.85862731933594,43.98652267456055,44.04555130004883,43.75040817260742,43.17979049682617,43.48477554321289,43.20930480957031,43.23881912231445,43.474937438964844,43.228981018066406,42.864967346191406,42.34354782104492,42.82561492919922,42.314029693603516,42.23532485961914,41.733577728271484,41.635196685791016,41.340049743652344,42.04840087890625,41.76309585571289,41.3794059753418,41.17279815673828,40.749759674072266,40.99571228027344,40.81863021850586,40.6513786315918,41.40892028808594,42.10742950439453,42.16646194458008,42.461605072021484,42.45176696777344,42.855133056640625,42.274681091308594,42.48128128051758,43.032222747802734,42.933837890625,44.71454620361328,44.09474563598633,43.51911544799805,48.243202209472656,47.96531295776367,46.943084716796875,48.650108337402344,49.801353454589844,49.3547477722168,49.275352478027344,49.22572708129883,50.48614501953125,51.022071838378906,50.41667556762695,50.813655853271484,50.69456481933594,50.50599670410156,53.592529296875,52.00460433959961,53.32456588745117,54.267398834228516,52.639774322509766,53.86049270629883,51.09154510498047,51.329734802246094,51.012149810791016,51.68701934814453,52.38173294067383,54.78347396850586,55.12091064453125,58.35630798339844,60.78782272338867,59.03117752075195,60.5595588684082,58.50517654418945,59.10064697265625,58.26698684692383,58.753292083740234,57.572269439697266,57.14551544189453,57.959327697753906,58.60441970825195],\"yaxis\":\"y\",\"type\":\"scatter\"}],                        {\"template\":{\"data\":{\"bar\":[{\"error_x\":{\"color\":\"#2a3f5f\"},\"error_y\":{\"color\":\"#2a3f5f\"},\"marker\":{\"line\":{\"color\":\"#E5ECF6\",\"width\":0.5},\"pattern\":{\"fillmode\":\"overlay\",\"size\":10,\"solidity\":0.2}},\"type\":\"bar\"}],\"barpolar\":[{\"marker\":{\"line\":{\"color\":\"#E5ECF6\",\"width\":0.5},\"pattern\":{\"fillmode\":\"overlay\",\"size\":10,\"solidity\":0.2}},\"type\":\"barpolar\"}],\"carpet\":[{\"aaxis\":{\"endlinecolor\":\"#2a3f5f\",\"gridcolor\":\"white\",\"linecolor\":\"white\",\"minorgridcolor\":\"white\",\"startlinecolor\":\"#2a3f5f\"},\"baxis\":{\"endlinecolor\":\"#2a3f5f\",\"gridcolor\":\"white\",\"linecolor\":\"white\",\"minorgridcolor\":\"white\",\"startlinecolor\":\"#2a3f5f\"},\"type\":\"carpet\"}],\"choropleth\":[{\"colorbar\":{\"outlinewidth\":0,\"ticks\":\"\"},\"type\":\"choropleth\"}],\"contour\":[{\"colorbar\":{\"outlinewidth\":0,\"ticks\":\"\"},\"colorscale\":[[0.0,\"#0d0887\"],[0.1111111111111111,\"#46039f\"],[0.2222222222222222,\"#7201a8\"],[0.3333333333333333,\"#9c179e\"],[0.4444444444444444,\"#bd3786\"],[0.5555555555555556,\"#d8576b\"],[0.6666666666666666,\"#ed7953\"],[0.7777777777777778,\"#fb9f3a\"],[0.8888888888888888,\"#fdca26\"],[1.0,\"#f0f921\"]],\"type\":\"contour\"}],\"contourcarpet\":[{\"colorbar\":{\"outlinewidth\":0,\"ticks\":\"\"},\"type\":\"contourcarpet\"}],\"heatmap\":[{\"colorbar\":{\"outlinewidth\":0,\"ticks\":\"\"},\"colorscale\":[[0.0,\"#0d0887\"],[0.1111111111111111,\"#46039f\"],[0.2222222222222222,\"#7201a8\"],[0.3333333333333333,\"#9c179e\"],[0.4444444444444444,\"#bd3786\"],[0.5555555555555556,\"#d8576b\"],[0.6666666666666666,\"#ed7953\"],[0.7777777777777778,\"#fb9f3a\"],[0.8888888888888888,\"#fdca26\"],[1.0,\"#f0f921\"]],\"type\":\"heatmap\"}],\"heatmapgl\":[{\"colorbar\":{\"outlinewidth\":0,\"ticks\":\"\"},\"colorscale\":[[0.0,\"#0d0887\"],[0.1111111111111111,\"#46039f\"],[0.2222222222222222,\"#7201a8\"],[0.3333333333333333,\"#9c179e\"],[0.4444444444444444,\"#bd3786\"],[0.5555555555555556,\"#d8576b\"],[0.6666666666666666,\"#ed7953\"],[0.7777777777777778,\"#fb9f3a\"],[0.8888888888888888,\"#fdca26\"],[1.0,\"#f0f921\"]],\"type\":\"heatmapgl\"}],\"histogram\":[{\"marker\":{\"pattern\":{\"fillmode\":\"overlay\",\"size\":10,\"solidity\":0.2}},\"type\":\"histogram\"}],\"histogram2d\":[{\"colorbar\":{\"outlinewidth\":0,\"ticks\":\"\"},\"colorscale\":[[0.0,\"#0d0887\"],[0.1111111111111111,\"#46039f\"],[0.2222222222222222,\"#7201a8\"],[0.3333333333333333,\"#9c179e\"],[0.4444444444444444,\"#bd3786\"],[0.5555555555555556,\"#d8576b\"],[0.6666666666666666,\"#ed7953\"],[0.7777777777777778,\"#fb9f3a\"],[0.8888888888888888,\"#fdca26\"],[1.0,\"#f0f921\"]],\"type\":\"histogram2d\"}],\"histogram2dcontour\":[{\"colorbar\":{\"outlinewidth\":0,\"ticks\":\"\"},\"colorscale\":[[0.0,\"#0d0887\"],[0.1111111111111111,\"#46039f\"],[0.2222222222222222,\"#7201a8\"],[0.3333333333333333,\"#9c179e\"],[0.4444444444444444,\"#bd3786\"],[0.5555555555555556,\"#d8576b\"],[0.6666666666666666,\"#ed7953\"],[0.7777777777777778,\"#fb9f3a\"],[0.8888888888888888,\"#fdca26\"],[1.0,\"#f0f921\"]],\"type\":\"histogram2dcontour\"}],\"mesh3d\":[{\"colorbar\":{\"outlinewidth\":0,\"ticks\":\"\"},\"type\":\"mesh3d\"}],\"parcoords\":[{\"line\":{\"colorbar\":{\"outlinewidth\":0,\"ticks\":\"\"}},\"type\":\"parcoords\"}],\"pie\":[{\"automargin\":true,\"type\":\"pie\"}],\"scatter\":[{\"marker\":{\"colorbar\":{\"outlinewidth\":0,\"ticks\":\"\"}},\"type\":\"scatter\"}],\"scatter3d\":[{\"line\":{\"colorbar\":{\"outlinewidth\":0,\"ticks\":\"\"}},\"marker\":{\"colorbar\":{\"outlinewidth\":0,\"ticks\":\"\"}},\"type\":\"scatter3d\"}],\"scattercarpet\":[{\"marker\":{\"colorbar\":{\"outlinewidth\":0,\"ticks\":\"\"}},\"type\":\"scattercarpet\"}],\"scattergeo\":[{\"marker\":{\"colorbar\":{\"outlinewidth\":0,\"ticks\":\"\"}},\"type\":\"scattergeo\"}],\"scattergl\":[{\"marker\":{\"colorbar\":{\"outlinewidth\":0,\"ticks\":\"\"}},\"type\":\"scattergl\"}],\"scattermapbox\":[{\"marker\":{\"colorbar\":{\"outlinewidth\":0,\"ticks\":\"\"}},\"type\":\"scattermapbox\"}],\"scatterpolar\":[{\"marker\":{\"colorbar\":{\"outlinewidth\":0,\"ticks\":\"\"}},\"type\":\"scatterpolar\"}],\"scatterpolargl\":[{\"marker\":{\"colorbar\":{\"outlinewidth\":0,\"ticks\":\"\"}},\"type\":\"scatterpolargl\"}],\"scatterternary\":[{\"marker\":{\"colorbar\":{\"outlinewidth\":0,\"ticks\":\"\"}},\"type\":\"scatterternary\"}],\"surface\":[{\"colorbar\":{\"outlinewidth\":0,\"ticks\":\"\"},\"colorscale\":[[0.0,\"#0d0887\"],[0.1111111111111111,\"#46039f\"],[0.2222222222222222,\"#7201a8\"],[0.3333333333333333,\"#9c179e\"],[0.4444444444444444,\"#bd3786\"],[0.5555555555555556,\"#d8576b\"],[0.6666666666666666,\"#ed7953\"],[0.7777777777777778,\"#fb9f3a\"],[0.8888888888888888,\"#fdca26\"],[1.0,\"#f0f921\"]],\"type\":\"surface\"}],\"table\":[{\"cells\":{\"fill\":{\"color\":\"#EBF0F8\"},\"line\":{\"color\":\"white\"}},\"header\":{\"fill\":{\"color\":\"#C8D4E3\"},\"line\":{\"color\":\"white\"}},\"type\":\"table\"}]},\"layout\":{\"annotationdefaults\":{\"arrowcolor\":\"#2a3f5f\",\"arrowhead\":0,\"arrowwidth\":1},\"autotypenumbers\":\"strict\",\"coloraxis\":{\"colorbar\":{\"outlinewidth\":0,\"ticks\":\"\"}},\"colorscale\":{\"diverging\":[[0,\"#8e0152\"],[0.1,\"#c51b7d\"],[0.2,\"#de77ae\"],[0.3,\"#f1b6da\"],[0.4,\"#fde0ef\"],[0.5,\"#f7f7f7\"],[0.6,\"#e6f5d0\"],[0.7,\"#b8e186\"],[0.8,\"#7fbc41\"],[0.9,\"#4d9221\"],[1,\"#276419\"]],\"sequential\":[[0.0,\"#0d0887\"],[0.1111111111111111,\"#46039f\"],[0.2222222222222222,\"#7201a8\"],[0.3333333333333333,\"#9c179e\"],[0.4444444444444444,\"#bd3786\"],[0.5555555555555556,\"#d8576b\"],[0.6666666666666666,\"#ed7953\"],[0.7777777777777778,\"#fb9f3a\"],[0.8888888888888888,\"#fdca26\"],[1.0,\"#f0f921\"]],\"sequentialminus\":[[0.0,\"#0d0887\"],[0.1111111111111111,\"#46039f\"],[0.2222222222222222,\"#7201a8\"],[0.3333333333333333,\"#9c179e\"],[0.4444444444444444,\"#bd3786\"],[0.5555555555555556,\"#d8576b\"],[0.6666666666666666,\"#ed7953\"],[0.7777777777777778,\"#fb9f3a\"],[0.8888888888888888,\"#fdca26\"],[1.0,\"#f0f921\"]]},\"colorway\":[\"#636efa\",\"#EF553B\",\"#00cc96\",\"#ab63fa\",\"#FFA15A\",\"#19d3f3\",\"#FF6692\",\"#B6E880\",\"#FF97FF\",\"#FECB52\"],\"font\":{\"color\":\"#2a3f5f\"},\"geo\":{\"bgcolor\":\"white\",\"lakecolor\":\"white\",\"landcolor\":\"#E5ECF6\",\"showlakes\":true,\"showland\":true,\"subunitcolor\":\"white\"},\"hoverlabel\":{\"align\":\"left\"},\"hovermode\":\"closest\",\"mapbox\":{\"style\":\"light\"},\"paper_bgcolor\":\"white\",\"plot_bgcolor\":\"#E5ECF6\",\"polar\":{\"angularaxis\":{\"gridcolor\":\"white\",\"linecolor\":\"white\",\"ticks\":\"\"},\"bgcolor\":\"#E5ECF6\",\"radialaxis\":{\"gridcolor\":\"white\",\"linecolor\":\"white\",\"ticks\":\"\"}},\"scene\":{\"xaxis\":{\"backgroundcolor\":\"#E5ECF6\",\"gridcolor\":\"white\",\"gridwidth\":2,\"linecolor\":\"white\",\"showbackground\":true,\"ticks\":\"\",\"zerolinecolor\":\"white\"},\"yaxis\":{\"backgroundcolor\":\"#E5ECF6\",\"gridcolor\":\"white\",\"gridwidth\":2,\"linecolor\":\"white\",\"showbackground\":true,\"ticks\":\"\",\"zerolinecolor\":\"white\"},\"zaxis\":{\"backgroundcolor\":\"#E5ECF6\",\"gridcolor\":\"white\",\"gridwidth\":2,\"linecolor\":\"white\",\"showbackground\":true,\"ticks\":\"\",\"zerolinecolor\":\"white\"}},\"shapedefaults\":{\"line\":{\"color\":\"#2a3f5f\"}},\"ternary\":{\"aaxis\":{\"gridcolor\":\"white\",\"linecolor\":\"white\",\"ticks\":\"\"},\"baxis\":{\"gridcolor\":\"white\",\"linecolor\":\"white\",\"ticks\":\"\"},\"bgcolor\":\"#E5ECF6\",\"caxis\":{\"gridcolor\":\"white\",\"linecolor\":\"white\",\"ticks\":\"\"}},\"title\":{\"x\":0.05},\"xaxis\":{\"automargin\":true,\"gridcolor\":\"white\",\"linecolor\":\"white\",\"ticks\":\"\",\"title\":{\"standoff\":15},\"zerolinecolor\":\"white\",\"zerolinewidth\":2},\"yaxis\":{\"automargin\":true,\"gridcolor\":\"white\",\"linecolor\":\"white\",\"ticks\":\"\",\"title\":{\"standoff\":15},\"zerolinecolor\":\"white\",\"zerolinewidth\":2}}},\"xaxis\":{\"anchor\":\"y\",\"domain\":[0.0,1.0],\"title\":{\"text\":\"date\"}},\"yaxis\":{\"anchor\":\"x\",\"domain\":[0.0,1.0],\"title\":{\"text\":\"PFE\"}},\"legend\":{\"tracegroupgap\":0},\"margin\":{\"t\":60}},                        {\"responsive\": true}                    ).then(function(){\n",
       "                            \n",
       "var gd = document.getElementById('5d560b41-fa1b-4871-836d-4e7e37c98597');\n",
       "var x = new MutationObserver(function (mutations, observer) {{\n",
       "        var display = window.getComputedStyle(gd).display;\n",
       "        if (!display || display === 'none') {{\n",
       "            console.log([gd, 'removed!']);\n",
       "            Plotly.purge(gd);\n",
       "            observer.disconnect();\n",
       "        }}\n",
       "}});\n",
       "\n",
       "// Listen for the removal of the full notebook cells\n",
       "var notebookContainer = gd.closest('#notebook-container');\n",
       "if (notebookContainer) {{\n",
       "    x.observe(notebookContainer, {childList: true});\n",
       "}}\n",
       "\n",
       "// Listen for the clearing of the current output cell\n",
       "var outputEl = gd.closest('.output');\n",
       "if (outputEl) {{\n",
       "    x.observe(outputEl, {childList: true});\n",
       "}}\n",
       "\n",
       "                        })                };                });            </script>        </div>"
      ]
     },
     "metadata": {},
     "output_type": "display_data"
    }
   ],
   "source": [
    "px.line(data_frame=data, y='PFE', color_discrete_sequence=px.colors.qualitative.T10)"
   ]
  },
  {
   "cell_type": "markdown",
   "id": "5204be31-1d3d-45cd-a8a6-505e433d6903",
   "metadata": {},
   "source": [
    "## !!!AREA UNDER CONSTRUCTION!!!"
   ]
  },
  {
   "cell_type": "code",
   "execution_count": 69,
   "id": "61af4740-3806-419b-ad64-327c8d6d2071",
   "metadata": {},
   "outputs": [],
   "source": [
    "#create subsets to explore distinct covid waves\n",
    "wave1 = data[['PFE','daily_cases',]].loc['2020-03-23':'2020-05-10']\n",
    "wave2 = data[['PFE','daily_cases']].loc['2020-06-23':'2020-09-11']\n",
    "wave3 = data[['PFE','daily_cases']].loc['2020-10-10':'2021-02-18']\n",
    "wave4 = data[['PFE','daily_cases']].loc['2021-07-01':'2021-10-22']\n",
    "wave5 = data[['PFE','daily_cases']].loc['2021-12-01':'2021-12-31']"
   ]
  },
  {
   "cell_type": "code",
   "execution_count": null,
   "id": "23b3c725-1c83-40a6-9f05-2ada066bd8fd",
   "metadata": {},
   "outputs": [],
   "source": [
    "wave1.corr()"
   ]
  },
  {
   "cell_type": "code",
   "execution_count": 70,
   "id": "6a67ea47-9c49-48a2-aad6-7c96db29c91c",
   "metadata": {},
   "outputs": [],
   "source": [
    "#calculate stock price relative increases for each wave\n",
    "w1_PFEi = ((wave1['PFE'].max() / wave1['PFE'].min())-1)*100\n",
    "w2_PFEi = ((wave2['PFE'].max() / wave2['PFE'].min())-1)*100\n",
    "w3_PFEi = ((wave3['PFE'].max() / wave3['PFE'].min())-1)*100\n",
    "w4_PFEi = ((wave4['PFE'].max() / wave4['PFE'].min())-1)*100\n",
    "w5_PFEi = ((wave5['PFE'].max() / wave5['PFE'].min())-1)*100"
   ]
  },
  {
   "cell_type": "code",
   "execution_count": 71,
   "id": "c33c9589-4278-4fde-b8ad-35954efac55a",
   "metadata": {},
   "outputs": [],
   "source": [
    "#calculate covid case relative increases for each wave\n",
    "w1_casesi = ((wave1['daily_cases'].max() / wave1['daily_cases'].min())-1)*100\n",
    "w2_casesi = ((wave2['daily_cases'].max() / wave2['daily_cases'].min())-1)*100\n",
    "w3_casesi = ((wave3['daily_cases'].max() / wave3['daily_cases'].min())-1)*100\n",
    "w4_casesi = ((wave4['daily_cases'].max() / wave4['daily_cases'].min())-1)*100\n",
    "w5_casesi = ((wave5['daily_cases'].max() / wave5['daily_cases'].min())-1)*100"
   ]
  },
  {
   "cell_type": "code",
   "execution_count": null,
   "id": "bc9d0da2-2c50-4a2c-b321-d301c7baa537",
   "metadata": {},
   "outputs": [],
   "source": []
  }
 ],
 "metadata": {
  "kernelspec": {
   "display_name": "Python 3 (ipykernel)",
   "language": "python",
   "name": "python3"
  },
  "language_info": {
   "codemirror_mode": {
    "name": "ipython",
    "version": 3
   },
   "file_extension": ".py",
   "mimetype": "text/x-python",
   "name": "python",
   "nbconvert_exporter": "python",
   "pygments_lexer": "ipython3",
   "version": "3.9.7"
  }
 },
 "nbformat": 4,
 "nbformat_minor": 5
}
