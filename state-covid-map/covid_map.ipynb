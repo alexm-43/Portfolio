{
 "cells": [
  {
   "cell_type": "code",
   "execution_count": 1,
   "id": "6251967e-ea21-4740-8438-d40deb666701",
   "metadata": {},
   "outputs": [
    {
     "data": {
      "text/html": [
       "        <script type=\"text/javascript\">\n",
       "        window.PlotlyConfig = {MathJaxConfig: 'local'};\n",
       "        if (window.MathJax) {MathJax.Hub.Config({SVG: {font: \"STIX-Web\"}});}\n",
       "        if (typeof require !== 'undefined') {\n",
       "        require.undef(\"plotly\");\n",
       "        requirejs.config({\n",
       "            paths: {\n",
       "                'plotly': ['https://cdn.plot.ly/plotly-2.8.3.min']\n",
       "            }\n",
       "        });\n",
       "        require(['plotly'], function(Plotly) {\n",
       "            window._Plotly = Plotly;\n",
       "        });\n",
       "        }\n",
       "        </script>\n",
       "        "
      ]
     },
     "metadata": {},
     "output_type": "display_data"
    }
   ],
   "source": [
    "import plotly.graph_objs as go \n",
    "from plotly.offline import download_plotlyjs, init_notebook_mode, plot, iplot \n",
    "import chart_studio.plotly as py\n",
    "import pandas as pd\n",
    "\n",
    "# need to change notebook mode when not in a notebook environment\n",
    "init_notebook_mode(connected=True) "
   ]
  },
  {
   "cell_type": "code",
   "execution_count": 2,
   "id": "8f281186-b6bf-46b7-9e5f-638b01a4e181",
   "metadata": {},
   "outputs": [],
   "source": [
    "df = pd.read_csv('~/state-covid-map/covid_by_state.csv')"
   ]
  },
  {
   "cell_type": "code",
   "execution_count": 3,
   "id": "88e86ea3-d4be-40ff-8ad1-5446dc9cd746",
   "metadata": {},
   "outputs": [],
   "source": [
    "# Creates a df 'covid' of states, cases, and deaths through 2021\n",
    "data = df.loc[df['date'] == '2022-01-01']\n",
    "data = data.drop('state', axis=1)\n",
    "# Adding state abreviations makes mapping the states easier later\n",
    "states = pd.read_csv('~/state-covid-map/us-state-fips.csv',header=0, \n",
    "                     names=['state','fips','abr'])\n",
    "states['abr'] = states['abr'].str.strip()\n",
    "\n",
    "covid = states.merge(data, on='fips', how='left')"
   ]
  },
  {
   "cell_type": "code",
   "execution_count": 4,
   "id": "cea47160-3cfb-46c5-aec9-8b65623eea06",
   "metadata": {},
   "outputs": [],
   "source": [
    "pop = pd.read_csv('~/state-covid-map/population_by_state.csv',\n",
    "                  usecols=['STATE','POPESTIMATE2019'])\n",
    "pop['state']= pop['STATE']"
   ]
  },
  {
   "cell_type": "code",
   "execution_count": 5,
   "id": "bbcddfec-fff5-43a5-a2c7-6cfe54c13389",
   "metadata": {},
   "outputs": [],
   "source": [
    "# Adds population data to 'covid'\n",
    "covid = covid.merge(pop, on='state', how='left')\n",
    "\n",
    "covid = covid.drop('STATE', axis=1)"
   ]
  },
  {
   "cell_type": "code",
   "execution_count": 6,
   "id": "b7cc6804-27bb-4e6d-b87f-c7669fef6562",
   "metadata": {},
   "outputs": [],
   "source": [
    "# Adds some calculated fields to balance state population differences\n",
    "covid['mortality rate'] = ((covid['deaths']/covid['cases'])*100).round(2)\n",
    "covid['Cases Per capita'] = (covid['cases']/covid['POPESTIMATE2019']).round(4)\n",
    "\n",
    "covid= covid.rename(columns={'cases':'Total Cases','mortality rate':'Mortality Rate',\n",
    "                       'deaths':'Total Deaths'})\n"
   ]
  },
  {
   "cell_type": "code",
   "execution_count": 7,
   "id": "95960047-2436-4f8c-8eca-3d7fb35312a5",
   "metadata": {
    "tags": []
   },
   "outputs": [],
   "source": [
    "# Adds a field to display when hovering on the map\n",
    "covid['text'] = '_______________________________' + '<br>' + \\\n",
    "    covid[\"state\"] + '<br>' + \\\n",
    "    'Population: ' + covid[\"POPESTIMATE2019\"].astype(str)"
   ]
  },
  {
   "cell_type": "code",
   "execution_count": 8,
   "id": "a337ff96-d3cb-4266-a303-8ada7ba40fc7",
   "metadata": {},
   "outputs": [],
   "source": [
    "# Lets us choose which trace is visible\n",
    "cols_dd = ['Total Cases', 'Cases Per capita', 'Total Deaths', 'Mortality Rate']\n",
    "\n",
    "visible = pd.array(cols_dd)"
   ]
  },
  {
   "cell_type": "code",
   "execution_count": 9,
   "id": "caa9f216-1268-455c-be2d-12630607fe15",
   "metadata": {},
   "outputs": [],
   "source": [
    "colors = {\n",
    "    'Total Cases':'reds',\n",
    "    'Total Deaths':'inferno_r', \n",
    "    'Mortality Rate':'sunset', \n",
    "    'Cases Per capita':'deep'\n",
    "}"
   ]
  },
  {
   "cell_type": "code",
   "execution_count": 10,
   "id": "41da25c3-298e-4e76-8071-349fe236a2ad",
   "metadata": {},
   "outputs": [],
   "source": [
    "# Defines traces and buttons at same time\n",
    "traces = []\n",
    "buttons = []\n",
    "for value in cols_dd:\n",
    "    traces.append(go.Choropleth(\n",
    "        locations=covid['abr'],\n",
    "        locationmode = 'USA-states',\n",
    "        z=covid[value].astype(float), # Field to be color-coded\n",
    "        colorbar_title=value,\n",
    "        colorscale=colors[value], # Color scheme to use\n",
    "        text=covid['text'],\n",
    "        visible= True if value==cols_dd[0] else False))\n",
    "\n",
    "    buttons.append(dict(label=value,\n",
    "                        method=\"update\",\n",
    "                        args=[{\"visible\":list(visible==value)},\n",
    "                              {\"title\":f\"<b>{value} of Covid-19 By State</b>\"}]))\n",
    "\n",
    "updatemenus = [{\"active\":0,\n",
    "                \"buttons\":buttons,\n",
    "               }]"
   ]
  },
  {
   "cell_type": "code",
   "execution_count": 11,
   "id": "179739f6-806f-4abd-8f58-0b4baff65d0f",
   "metadata": {},
   "outputs": [
    {
     "data": {
      "application/vnd.plotly.v1+json": {
       "config": {
        "plotlyServerURL": "https://plot.ly"
       },
       "data": [
        {
         "colorbar": {
          "title": {
           "text": "Total Cases"
          }
         },
         "colorscale": [
          [
           0,
           "rgb(255,245,240)"
          ],
          [
           0.125,
           "rgb(254,224,210)"
          ],
          [
           0.25,
           "rgb(252,187,161)"
          ],
          [
           0.375,
           "rgb(252,146,114)"
          ],
          [
           0.5,
           "rgb(251,106,74)"
          ],
          [
           0.625,
           "rgb(239,59,44)"
          ],
          [
           0.75,
           "rgb(203,24,29)"
          ],
          [
           0.875,
           "rgb(165,15,21)"
          ],
          [
           1,
           "rgb(103,0,13)"
          ]
         ],
         "locationmode": "USA-states",
         "locations": [
          "AL",
          "AK",
          "AZ",
          "AR",
          "CA",
          "CO",
          "CT",
          "DE",
          "DC",
          "FL",
          "GA",
          "HI",
          "ID",
          "IL",
          "IN",
          "IA",
          "KS",
          "KY",
          "LA",
          "ME",
          "MD",
          "MA",
          "MI",
          "MN",
          "MS",
          "MO",
          "MT",
          "NE",
          "NV",
          "NH",
          "NJ",
          "NM",
          "NY",
          "NC",
          "ND",
          "OH",
          "OK",
          "OR",
          "PA",
          "RI",
          "SC",
          "SD",
          "TN",
          "TX",
          "UT",
          "VT",
          "VA",
          "WA",
          "WV",
          "WI",
          "WY"
         ],
         "text": [
          "_______________________________<br>Alabama<br>Population: 4903185",
          "_______________________________<br>Alaska<br>Population: 731545",
          "_______________________________<br>Arizona<br>Population: 7278717",
          "_______________________________<br>Arkansas<br>Population: 3017804",
          "_______________________________<br>California<br>Population: 39512223",
          "_______________________________<br>Colorado<br>Population: 5758736",
          "_______________________________<br>Connecticut<br>Population: 3565287",
          "_______________________________<br>Delaware<br>Population: 973764",
          "_______________________________<br>District of Columbia<br>Population: 705749",
          "_______________________________<br>Florida<br>Population: 21477737",
          "_______________________________<br>Georgia<br>Population: 10617423",
          "_______________________________<br>Hawaii<br>Population: 1415872",
          "_______________________________<br>Idaho<br>Population: 1787065",
          "_______________________________<br>Illinois<br>Population: 12671821",
          "_______________________________<br>Indiana<br>Population: 6732219",
          "_______________________________<br>Iowa<br>Population: 3155070",
          "_______________________________<br>Kansas<br>Population: 2913314",
          "_______________________________<br>Kentucky<br>Population: 4467673",
          "_______________________________<br>Louisiana<br>Population: 4648794",
          "_______________________________<br>Maine<br>Population: 1344212",
          "_______________________________<br>Maryland<br>Population: 6045680",
          "_______________________________<br>Massachusetts<br>Population: 6892503",
          "_______________________________<br>Michigan<br>Population: 9986857",
          "_______________________________<br>Minnesota<br>Population: 5639632",
          "_______________________________<br>Mississippi<br>Population: 2976149",
          "_______________________________<br>Missouri<br>Population: 6137428",
          "_______________________________<br>Montana<br>Population: 1068778",
          "_______________________________<br>Nebraska<br>Population: 1934408",
          "_______________________________<br>Nevada<br>Population: 3080156",
          "_______________________________<br>New Hampshire<br>Population: 1359711",
          "_______________________________<br>New Jersey<br>Population: 8882190",
          "_______________________________<br>New Mexico<br>Population: 2096829",
          "_______________________________<br>New York<br>Population: 19453561",
          "_______________________________<br>North Carolina<br>Population: 10488084",
          "_______________________________<br>North Dakota<br>Population: 762062",
          "_______________________________<br>Ohio<br>Population: 11689100",
          "_______________________________<br>Oklahoma<br>Population: 3956971",
          "_______________________________<br>Oregon<br>Population: 4217737",
          "_______________________________<br>Pennsylvania<br>Population: 12801989",
          "_______________________________<br>Rhode Island<br>Population: 1059361",
          "_______________________________<br>South Carolina<br>Population: 5148714",
          "_______________________________<br>South Dakota<br>Population: 884659",
          "_______________________________<br>Tennessee<br>Population: 6829174",
          "_______________________________<br>Texas<br>Population: 28995881",
          "_______________________________<br>Utah<br>Population: 3205958",
          "_______________________________<br>Vermont<br>Population: 623989",
          "_______________________________<br>Virginia<br>Population: 8535519",
          "_______________________________<br>Washington<br>Population: 7614893",
          "_______________________________<br>West Virginia<br>Population: 1792147",
          "_______________________________<br>Wisconsin<br>Population: 5822434",
          "_______________________________<br>Wyoming<br>Population: 578759"
         ],
         "type": "choropleth",
         "visible": false,
         "z": [
          896614,
          156130,
          1389708,
          570641,
          5515613,
          933257,
          510188,
          183880,
          94286,
          4166392,
          1798497,
          112283,
          319442,
          2154058,
          1250565,
          575501,
          520500,
          866041,
          828695,
          146736,
          700789,
          1140614,
          1706355,
          1022352,
          543737,
          1023420,
          197784,
          338257,
          501181,
          198667,
          1596644,
          350043,
          3555047,
          1685504,
          174671,
          2016095,
          708938,
          421263,
          2059613,
          231096,
          975320,
          179204,
          1379917,
          4578763,
          637144,
          64447,
          1118518,
          852824,
          328162,
          1120669,
          115638
         ]
        },
        {
         "colorbar": {
          "title": {
           "text": "Cases Per capita"
          }
         },
         "colorscale": [
          [
           0,
           "rgb(253, 253, 204)"
          ],
          [
           0.09090909090909091,
           "rgb(206, 236, 179)"
          ],
          [
           0.18181818181818182,
           "rgb(156, 219, 165)"
          ],
          [
           0.2727272727272727,
           "rgb(111, 201, 163)"
          ],
          [
           0.36363636363636365,
           "rgb(86, 177, 163)"
          ],
          [
           0.45454545454545453,
           "rgb(76, 153, 160)"
          ],
          [
           0.5454545454545454,
           "rgb(68, 130, 155)"
          ],
          [
           0.6363636363636364,
           "rgb(62, 108, 150)"
          ],
          [
           0.7272727272727273,
           "rgb(62, 82, 143)"
          ],
          [
           0.8181818181818182,
           "rgb(64, 60, 115)"
          ],
          [
           0.9090909090909091,
           "rgb(54, 43, 77)"
          ],
          [
           1,
           "rgb(39, 26, 44)"
          ]
         ],
         "locationmode": "USA-states",
         "locations": [
          "AL",
          "AK",
          "AZ",
          "AR",
          "CA",
          "CO",
          "CT",
          "DE",
          "DC",
          "FL",
          "GA",
          "HI",
          "ID",
          "IL",
          "IN",
          "IA",
          "KS",
          "KY",
          "LA",
          "ME",
          "MD",
          "MA",
          "MI",
          "MN",
          "MS",
          "MO",
          "MT",
          "NE",
          "NV",
          "NH",
          "NJ",
          "NM",
          "NY",
          "NC",
          "ND",
          "OH",
          "OK",
          "OR",
          "PA",
          "RI",
          "SC",
          "SD",
          "TN",
          "TX",
          "UT",
          "VT",
          "VA",
          "WA",
          "WV",
          "WI",
          "WY"
         ],
         "text": [
          "_______________________________<br>Alabama<br>Population: 4903185",
          "_______________________________<br>Alaska<br>Population: 731545",
          "_______________________________<br>Arizona<br>Population: 7278717",
          "_______________________________<br>Arkansas<br>Population: 3017804",
          "_______________________________<br>California<br>Population: 39512223",
          "_______________________________<br>Colorado<br>Population: 5758736",
          "_______________________________<br>Connecticut<br>Population: 3565287",
          "_______________________________<br>Delaware<br>Population: 973764",
          "_______________________________<br>District of Columbia<br>Population: 705749",
          "_______________________________<br>Florida<br>Population: 21477737",
          "_______________________________<br>Georgia<br>Population: 10617423",
          "_______________________________<br>Hawaii<br>Population: 1415872",
          "_______________________________<br>Idaho<br>Population: 1787065",
          "_______________________________<br>Illinois<br>Population: 12671821",
          "_______________________________<br>Indiana<br>Population: 6732219",
          "_______________________________<br>Iowa<br>Population: 3155070",
          "_______________________________<br>Kansas<br>Population: 2913314",
          "_______________________________<br>Kentucky<br>Population: 4467673",
          "_______________________________<br>Louisiana<br>Population: 4648794",
          "_______________________________<br>Maine<br>Population: 1344212",
          "_______________________________<br>Maryland<br>Population: 6045680",
          "_______________________________<br>Massachusetts<br>Population: 6892503",
          "_______________________________<br>Michigan<br>Population: 9986857",
          "_______________________________<br>Minnesota<br>Population: 5639632",
          "_______________________________<br>Mississippi<br>Population: 2976149",
          "_______________________________<br>Missouri<br>Population: 6137428",
          "_______________________________<br>Montana<br>Population: 1068778",
          "_______________________________<br>Nebraska<br>Population: 1934408",
          "_______________________________<br>Nevada<br>Population: 3080156",
          "_______________________________<br>New Hampshire<br>Population: 1359711",
          "_______________________________<br>New Jersey<br>Population: 8882190",
          "_______________________________<br>New Mexico<br>Population: 2096829",
          "_______________________________<br>New York<br>Population: 19453561",
          "_______________________________<br>North Carolina<br>Population: 10488084",
          "_______________________________<br>North Dakota<br>Population: 762062",
          "_______________________________<br>Ohio<br>Population: 11689100",
          "_______________________________<br>Oklahoma<br>Population: 3956971",
          "_______________________________<br>Oregon<br>Population: 4217737",
          "_______________________________<br>Pennsylvania<br>Population: 12801989",
          "_______________________________<br>Rhode Island<br>Population: 1059361",
          "_______________________________<br>South Carolina<br>Population: 5148714",
          "_______________________________<br>South Dakota<br>Population: 884659",
          "_______________________________<br>Tennessee<br>Population: 6829174",
          "_______________________________<br>Texas<br>Population: 28995881",
          "_______________________________<br>Utah<br>Population: 3205958",
          "_______________________________<br>Vermont<br>Population: 623989",
          "_______________________________<br>Virginia<br>Population: 8535519",
          "_______________________________<br>Washington<br>Population: 7614893",
          "_______________________________<br>West Virginia<br>Population: 1792147",
          "_______________________________<br>Wisconsin<br>Population: 5822434",
          "_______________________________<br>Wyoming<br>Population: 578759"
         ],
         "type": "choropleth",
         "visible": true,
         "z": [
          0.1829,
          0.2134,
          0.1909,
          0.1891,
          0.1396,
          0.1621,
          0.1431,
          0.1888,
          0.1336,
          0.194,
          0.1694,
          0.0793,
          0.1788,
          0.17,
          0.1858,
          0.1824,
          0.1787,
          0.1938,
          0.1783,
          0.1092,
          0.1159,
          0.1655,
          0.1709,
          0.1813,
          0.1827,
          0.1668,
          0.1851,
          0.1749,
          0.1627,
          0.1461,
          0.1798,
          0.1669,
          0.1827,
          0.1607,
          0.2292,
          0.1725,
          0.1792,
          0.0999,
          0.1609,
          0.2181,
          0.1894,
          0.2026,
          0.2021,
          0.1579,
          0.1987,
          0.1033,
          0.131,
          0.112,
          0.1831,
          0.1925,
          0.1998
         ]
        },
        {
         "colorbar": {
          "title": {
           "text": "Total Deaths"
          }
         },
         "colorscale": [
          [
           0,
           "#fcffa4"
          ],
          [
           0.1111111111111111,
           "#f7d13d"
          ],
          [
           0.2222222222222222,
           "#fb9b06"
          ],
          [
           0.3333333333333333,
           "#ed6925"
          ],
          [
           0.4444444444444444,
           "#cf4446"
          ],
          [
           0.5555555555555556,
           "#a52c60"
          ],
          [
           0.6666666666666666,
           "#781c6d"
          ],
          [
           0.7777777777777778,
           "#4a0c6b"
          ],
          [
           0.8888888888888888,
           "#1b0c41"
          ],
          [
           1,
           "#000004"
          ]
         ],
         "locationmode": "USA-states",
         "locations": [
          "AL",
          "AK",
          "AZ",
          "AR",
          "CA",
          "CO",
          "CT",
          "DE",
          "DC",
          "FL",
          "GA",
          "HI",
          "ID",
          "IL",
          "IN",
          "IA",
          "KS",
          "KY",
          "LA",
          "ME",
          "MD",
          "MA",
          "MI",
          "MN",
          "MS",
          "MO",
          "MT",
          "NE",
          "NV",
          "NH",
          "NJ",
          "NM",
          "NY",
          "NC",
          "ND",
          "OH",
          "OK",
          "OR",
          "PA",
          "RI",
          "SC",
          "SD",
          "TN",
          "TX",
          "UT",
          "VT",
          "VA",
          "WA",
          "WV",
          "WI",
          "WY"
         ],
         "text": [
          "_______________________________<br>Alabama<br>Population: 4903185",
          "_______________________________<br>Alaska<br>Population: 731545",
          "_______________________________<br>Arizona<br>Population: 7278717",
          "_______________________________<br>Arkansas<br>Population: 3017804",
          "_______________________________<br>California<br>Population: 39512223",
          "_______________________________<br>Colorado<br>Population: 5758736",
          "_______________________________<br>Connecticut<br>Population: 3565287",
          "_______________________________<br>Delaware<br>Population: 973764",
          "_______________________________<br>District of Columbia<br>Population: 705749",
          "_______________________________<br>Florida<br>Population: 21477737",
          "_______________________________<br>Georgia<br>Population: 10617423",
          "_______________________________<br>Hawaii<br>Population: 1415872",
          "_______________________________<br>Idaho<br>Population: 1787065",
          "_______________________________<br>Illinois<br>Population: 12671821",
          "_______________________________<br>Indiana<br>Population: 6732219",
          "_______________________________<br>Iowa<br>Population: 3155070",
          "_______________________________<br>Kansas<br>Population: 2913314",
          "_______________________________<br>Kentucky<br>Population: 4467673",
          "_______________________________<br>Louisiana<br>Population: 4648794",
          "_______________________________<br>Maine<br>Population: 1344212",
          "_______________________________<br>Maryland<br>Population: 6045680",
          "_______________________________<br>Massachusetts<br>Population: 6892503",
          "_______________________________<br>Michigan<br>Population: 9986857",
          "_______________________________<br>Minnesota<br>Population: 5639632",
          "_______________________________<br>Mississippi<br>Population: 2976149",
          "_______________________________<br>Missouri<br>Population: 6137428",
          "_______________________________<br>Montana<br>Population: 1068778",
          "_______________________________<br>Nebraska<br>Population: 1934408",
          "_______________________________<br>Nevada<br>Population: 3080156",
          "_______________________________<br>New Hampshire<br>Population: 1359711",
          "_______________________________<br>New Jersey<br>Population: 8882190",
          "_______________________________<br>New Mexico<br>Population: 2096829",
          "_______________________________<br>New York<br>Population: 19453561",
          "_______________________________<br>North Carolina<br>Population: 10488084",
          "_______________________________<br>North Dakota<br>Population: 762062",
          "_______________________________<br>Ohio<br>Population: 11689100",
          "_______________________________<br>Oklahoma<br>Population: 3956971",
          "_______________________________<br>Oregon<br>Population: 4217737",
          "_______________________________<br>Pennsylvania<br>Population: 12801989",
          "_______________________________<br>Rhode Island<br>Population: 1059361",
          "_______________________________<br>South Carolina<br>Population: 5148714",
          "_______________________________<br>South Dakota<br>Population: 884659",
          "_______________________________<br>Tennessee<br>Population: 6829174",
          "_______________________________<br>Texas<br>Population: 28995881",
          "_______________________________<br>Utah<br>Population: 3205958",
          "_______________________________<br>Vermont<br>Population: 623989",
          "_______________________________<br>Virginia<br>Population: 8535519",
          "_______________________________<br>Washington<br>Population: 7614893",
          "_______________________________<br>West Virginia<br>Population: 1792147",
          "_______________________________<br>Wisconsin<br>Population: 5822434",
          "_______________________________<br>Wyoming<br>Population: 578759"
         ],
         "type": "choropleth",
         "visible": false,
         "z": [
          16455,
          954,
          24354,
          9180,
          76709,
          10480,
          9160,
          2286,
          1211,
          62504,
          30283,
          1091,
          4163,
          31017,
          19037,
          7858,
          7030,
          12149,
          14986,
          1531,
          11758,
          20273,
          28984,
          10656,
          10450,
          16227,
          2907,
          2917,
          8420,
          1961,
          29053,
          5857,
          59072,
          19436,
          2057,
          29447,
          11552,
          5655,
          36714,
          3066,
          14636,
          2486,
          20640,
          76062,
          3787,
          471,
          15587,
          9904,
          5336,
          11173,
          1526
         ]
        },
        {
         "colorbar": {
          "title": {
           "text": "Mortality Rate"
          }
         },
         "colorscale": [
          [
           0,
           "rgb(243, 231, 155)"
          ],
          [
           0.16666666666666666,
           "rgb(250, 196, 132)"
          ],
          [
           0.3333333333333333,
           "rgb(248, 160, 126)"
          ],
          [
           0.5,
           "rgb(235, 127, 134)"
          ],
          [
           0.6666666666666666,
           "rgb(206, 102, 147)"
          ],
          [
           0.8333333333333334,
           "rgb(160, 89, 160)"
          ],
          [
           1,
           "rgb(92, 83, 165)"
          ]
         ],
         "locationmode": "USA-states",
         "locations": [
          "AL",
          "AK",
          "AZ",
          "AR",
          "CA",
          "CO",
          "CT",
          "DE",
          "DC",
          "FL",
          "GA",
          "HI",
          "ID",
          "IL",
          "IN",
          "IA",
          "KS",
          "KY",
          "LA",
          "ME",
          "MD",
          "MA",
          "MI",
          "MN",
          "MS",
          "MO",
          "MT",
          "NE",
          "NV",
          "NH",
          "NJ",
          "NM",
          "NY",
          "NC",
          "ND",
          "OH",
          "OK",
          "OR",
          "PA",
          "RI",
          "SC",
          "SD",
          "TN",
          "TX",
          "UT",
          "VT",
          "VA",
          "WA",
          "WV",
          "WI",
          "WY"
         ],
         "text": [
          "_______________________________<br>Alabama<br>Population: 4903185",
          "_______________________________<br>Alaska<br>Population: 731545",
          "_______________________________<br>Arizona<br>Population: 7278717",
          "_______________________________<br>Arkansas<br>Population: 3017804",
          "_______________________________<br>California<br>Population: 39512223",
          "_______________________________<br>Colorado<br>Population: 5758736",
          "_______________________________<br>Connecticut<br>Population: 3565287",
          "_______________________________<br>Delaware<br>Population: 973764",
          "_______________________________<br>District of Columbia<br>Population: 705749",
          "_______________________________<br>Florida<br>Population: 21477737",
          "_______________________________<br>Georgia<br>Population: 10617423",
          "_______________________________<br>Hawaii<br>Population: 1415872",
          "_______________________________<br>Idaho<br>Population: 1787065",
          "_______________________________<br>Illinois<br>Population: 12671821",
          "_______________________________<br>Indiana<br>Population: 6732219",
          "_______________________________<br>Iowa<br>Population: 3155070",
          "_______________________________<br>Kansas<br>Population: 2913314",
          "_______________________________<br>Kentucky<br>Population: 4467673",
          "_______________________________<br>Louisiana<br>Population: 4648794",
          "_______________________________<br>Maine<br>Population: 1344212",
          "_______________________________<br>Maryland<br>Population: 6045680",
          "_______________________________<br>Massachusetts<br>Population: 6892503",
          "_______________________________<br>Michigan<br>Population: 9986857",
          "_______________________________<br>Minnesota<br>Population: 5639632",
          "_______________________________<br>Mississippi<br>Population: 2976149",
          "_______________________________<br>Missouri<br>Population: 6137428",
          "_______________________________<br>Montana<br>Population: 1068778",
          "_______________________________<br>Nebraska<br>Population: 1934408",
          "_______________________________<br>Nevada<br>Population: 3080156",
          "_______________________________<br>New Hampshire<br>Population: 1359711",
          "_______________________________<br>New Jersey<br>Population: 8882190",
          "_______________________________<br>New Mexico<br>Population: 2096829",
          "_______________________________<br>New York<br>Population: 19453561",
          "_______________________________<br>North Carolina<br>Population: 10488084",
          "_______________________________<br>North Dakota<br>Population: 762062",
          "_______________________________<br>Ohio<br>Population: 11689100",
          "_______________________________<br>Oklahoma<br>Population: 3956971",
          "_______________________________<br>Oregon<br>Population: 4217737",
          "_______________________________<br>Pennsylvania<br>Population: 12801989",
          "_______________________________<br>Rhode Island<br>Population: 1059361",
          "_______________________________<br>South Carolina<br>Population: 5148714",
          "_______________________________<br>South Dakota<br>Population: 884659",
          "_______________________________<br>Tennessee<br>Population: 6829174",
          "_______________________________<br>Texas<br>Population: 28995881",
          "_______________________________<br>Utah<br>Population: 3205958",
          "_______________________________<br>Vermont<br>Population: 623989",
          "_______________________________<br>Virginia<br>Population: 8535519",
          "_______________________________<br>Washington<br>Population: 7614893",
          "_______________________________<br>West Virginia<br>Population: 1792147",
          "_______________________________<br>Wisconsin<br>Population: 5822434",
          "_______________________________<br>Wyoming<br>Population: 578759"
         ],
         "type": "choropleth",
         "visible": false,
         "z": [
          1.84,
          0.61,
          1.75,
          1.61,
          1.39,
          1.12,
          1.8,
          1.24,
          1.28,
          1.5,
          1.68,
          0.97,
          1.3,
          1.44,
          1.52,
          1.37,
          1.35,
          1.4,
          1.81,
          1.04,
          1.68,
          1.78,
          1.7,
          1.04,
          1.92,
          1.59,
          1.47,
          0.86,
          1.68,
          0.99,
          1.82,
          1.67,
          1.66,
          1.15,
          1.18,
          1.46,
          1.63,
          1.34,
          1.78,
          1.33,
          1.5,
          1.39,
          1.5,
          1.66,
          0.59,
          0.73,
          1.39,
          1.16,
          1.63,
          1,
          1.32
         ]
        }
       ],
       "layout": {
        "autosize": true,
        "geo": {
         "scope": "usa"
        },
        "showlegend": false,
        "template": {
         "data": {
          "bar": [
           {
            "error_x": {
             "color": "#2a3f5f"
            },
            "error_y": {
             "color": "#2a3f5f"
            },
            "marker": {
             "line": {
              "color": "#E5ECF6",
              "width": 0.5
             },
             "pattern": {
              "fillmode": "overlay",
              "size": 10,
              "solidity": 0.2
             }
            },
            "type": "bar"
           }
          ],
          "barpolar": [
           {
            "marker": {
             "line": {
              "color": "#E5ECF6",
              "width": 0.5
             },
             "pattern": {
              "fillmode": "overlay",
              "size": 10,
              "solidity": 0.2
             }
            },
            "type": "barpolar"
           }
          ],
          "carpet": [
           {
            "aaxis": {
             "endlinecolor": "#2a3f5f",
             "gridcolor": "white",
             "linecolor": "white",
             "minorgridcolor": "white",
             "startlinecolor": "#2a3f5f"
            },
            "baxis": {
             "endlinecolor": "#2a3f5f",
             "gridcolor": "white",
             "linecolor": "white",
             "minorgridcolor": "white",
             "startlinecolor": "#2a3f5f"
            },
            "type": "carpet"
           }
          ],
          "choropleth": [
           {
            "colorbar": {
             "outlinewidth": 0,
             "ticks": ""
            },
            "type": "choropleth"
           }
          ],
          "contour": [
           {
            "colorbar": {
             "outlinewidth": 0,
             "ticks": ""
            },
            "colorscale": [
             [
              0,
              "#0d0887"
             ],
             [
              0.1111111111111111,
              "#46039f"
             ],
             [
              0.2222222222222222,
              "#7201a8"
             ],
             [
              0.3333333333333333,
              "#9c179e"
             ],
             [
              0.4444444444444444,
              "#bd3786"
             ],
             [
              0.5555555555555556,
              "#d8576b"
             ],
             [
              0.6666666666666666,
              "#ed7953"
             ],
             [
              0.7777777777777778,
              "#fb9f3a"
             ],
             [
              0.8888888888888888,
              "#fdca26"
             ],
             [
              1,
              "#f0f921"
             ]
            ],
            "type": "contour"
           }
          ],
          "contourcarpet": [
           {
            "colorbar": {
             "outlinewidth": 0,
             "ticks": ""
            },
            "type": "contourcarpet"
           }
          ],
          "heatmap": [
           {
            "colorbar": {
             "outlinewidth": 0,
             "ticks": ""
            },
            "colorscale": [
             [
              0,
              "#0d0887"
             ],
             [
              0.1111111111111111,
              "#46039f"
             ],
             [
              0.2222222222222222,
              "#7201a8"
             ],
             [
              0.3333333333333333,
              "#9c179e"
             ],
             [
              0.4444444444444444,
              "#bd3786"
             ],
             [
              0.5555555555555556,
              "#d8576b"
             ],
             [
              0.6666666666666666,
              "#ed7953"
             ],
             [
              0.7777777777777778,
              "#fb9f3a"
             ],
             [
              0.8888888888888888,
              "#fdca26"
             ],
             [
              1,
              "#f0f921"
             ]
            ],
            "type": "heatmap"
           }
          ],
          "heatmapgl": [
           {
            "colorbar": {
             "outlinewidth": 0,
             "ticks": ""
            },
            "colorscale": [
             [
              0,
              "#0d0887"
             ],
             [
              0.1111111111111111,
              "#46039f"
             ],
             [
              0.2222222222222222,
              "#7201a8"
             ],
             [
              0.3333333333333333,
              "#9c179e"
             ],
             [
              0.4444444444444444,
              "#bd3786"
             ],
             [
              0.5555555555555556,
              "#d8576b"
             ],
             [
              0.6666666666666666,
              "#ed7953"
             ],
             [
              0.7777777777777778,
              "#fb9f3a"
             ],
             [
              0.8888888888888888,
              "#fdca26"
             ],
             [
              1,
              "#f0f921"
             ]
            ],
            "type": "heatmapgl"
           }
          ],
          "histogram": [
           {
            "marker": {
             "pattern": {
              "fillmode": "overlay",
              "size": 10,
              "solidity": 0.2
             }
            },
            "type": "histogram"
           }
          ],
          "histogram2d": [
           {
            "colorbar": {
             "outlinewidth": 0,
             "ticks": ""
            },
            "colorscale": [
             [
              0,
              "#0d0887"
             ],
             [
              0.1111111111111111,
              "#46039f"
             ],
             [
              0.2222222222222222,
              "#7201a8"
             ],
             [
              0.3333333333333333,
              "#9c179e"
             ],
             [
              0.4444444444444444,
              "#bd3786"
             ],
             [
              0.5555555555555556,
              "#d8576b"
             ],
             [
              0.6666666666666666,
              "#ed7953"
             ],
             [
              0.7777777777777778,
              "#fb9f3a"
             ],
             [
              0.8888888888888888,
              "#fdca26"
             ],
             [
              1,
              "#f0f921"
             ]
            ],
            "type": "histogram2d"
           }
          ],
          "histogram2dcontour": [
           {
            "colorbar": {
             "outlinewidth": 0,
             "ticks": ""
            },
            "colorscale": [
             [
              0,
              "#0d0887"
             ],
             [
              0.1111111111111111,
              "#46039f"
             ],
             [
              0.2222222222222222,
              "#7201a8"
             ],
             [
              0.3333333333333333,
              "#9c179e"
             ],
             [
              0.4444444444444444,
              "#bd3786"
             ],
             [
              0.5555555555555556,
              "#d8576b"
             ],
             [
              0.6666666666666666,
              "#ed7953"
             ],
             [
              0.7777777777777778,
              "#fb9f3a"
             ],
             [
              0.8888888888888888,
              "#fdca26"
             ],
             [
              1,
              "#f0f921"
             ]
            ],
            "type": "histogram2dcontour"
           }
          ],
          "mesh3d": [
           {
            "colorbar": {
             "outlinewidth": 0,
             "ticks": ""
            },
            "type": "mesh3d"
           }
          ],
          "parcoords": [
           {
            "line": {
             "colorbar": {
              "outlinewidth": 0,
              "ticks": ""
             }
            },
            "type": "parcoords"
           }
          ],
          "pie": [
           {
            "automargin": true,
            "type": "pie"
           }
          ],
          "scatter": [
           {
            "marker": {
             "colorbar": {
              "outlinewidth": 0,
              "ticks": ""
             }
            },
            "type": "scatter"
           }
          ],
          "scatter3d": [
           {
            "line": {
             "colorbar": {
              "outlinewidth": 0,
              "ticks": ""
             }
            },
            "marker": {
             "colorbar": {
              "outlinewidth": 0,
              "ticks": ""
             }
            },
            "type": "scatter3d"
           }
          ],
          "scattercarpet": [
           {
            "marker": {
             "colorbar": {
              "outlinewidth": 0,
              "ticks": ""
             }
            },
            "type": "scattercarpet"
           }
          ],
          "scattergeo": [
           {
            "marker": {
             "colorbar": {
              "outlinewidth": 0,
              "ticks": ""
             }
            },
            "type": "scattergeo"
           }
          ],
          "scattergl": [
           {
            "marker": {
             "colorbar": {
              "outlinewidth": 0,
              "ticks": ""
             }
            },
            "type": "scattergl"
           }
          ],
          "scattermapbox": [
           {
            "marker": {
             "colorbar": {
              "outlinewidth": 0,
              "ticks": ""
             }
            },
            "type": "scattermapbox"
           }
          ],
          "scatterpolar": [
           {
            "marker": {
             "colorbar": {
              "outlinewidth": 0,
              "ticks": ""
             }
            },
            "type": "scatterpolar"
           }
          ],
          "scatterpolargl": [
           {
            "marker": {
             "colorbar": {
              "outlinewidth": 0,
              "ticks": ""
             }
            },
            "type": "scatterpolargl"
           }
          ],
          "scatterternary": [
           {
            "marker": {
             "colorbar": {
              "outlinewidth": 0,
              "ticks": ""
             }
            },
            "type": "scatterternary"
           }
          ],
          "surface": [
           {
            "colorbar": {
             "outlinewidth": 0,
             "ticks": ""
            },
            "colorscale": [
             [
              0,
              "#0d0887"
             ],
             [
              0.1111111111111111,
              "#46039f"
             ],
             [
              0.2222222222222222,
              "#7201a8"
             ],
             [
              0.3333333333333333,
              "#9c179e"
             ],
             [
              0.4444444444444444,
              "#bd3786"
             ],
             [
              0.5555555555555556,
              "#d8576b"
             ],
             [
              0.6666666666666666,
              "#ed7953"
             ],
             [
              0.7777777777777778,
              "#fb9f3a"
             ],
             [
              0.8888888888888888,
              "#fdca26"
             ],
             [
              1,
              "#f0f921"
             ]
            ],
            "type": "surface"
           }
          ],
          "table": [
           {
            "cells": {
             "fill": {
              "color": "#EBF0F8"
             },
             "line": {
              "color": "white"
             }
            },
            "header": {
             "fill": {
              "color": "#C8D4E3"
             },
             "line": {
              "color": "white"
             }
            },
            "type": "table"
           }
          ]
         },
         "layout": {
          "annotationdefaults": {
           "arrowcolor": "#2a3f5f",
           "arrowhead": 0,
           "arrowwidth": 1
          },
          "autotypenumbers": "strict",
          "coloraxis": {
           "colorbar": {
            "outlinewidth": 0,
            "ticks": ""
           }
          },
          "colorscale": {
           "diverging": [
            [
             0,
             "#8e0152"
            ],
            [
             0.1,
             "#c51b7d"
            ],
            [
             0.2,
             "#de77ae"
            ],
            [
             0.3,
             "#f1b6da"
            ],
            [
             0.4,
             "#fde0ef"
            ],
            [
             0.5,
             "#f7f7f7"
            ],
            [
             0.6,
             "#e6f5d0"
            ],
            [
             0.7,
             "#b8e186"
            ],
            [
             0.8,
             "#7fbc41"
            ],
            [
             0.9,
             "#4d9221"
            ],
            [
             1,
             "#276419"
            ]
           ],
           "sequential": [
            [
             0,
             "#0d0887"
            ],
            [
             0.1111111111111111,
             "#46039f"
            ],
            [
             0.2222222222222222,
             "#7201a8"
            ],
            [
             0.3333333333333333,
             "#9c179e"
            ],
            [
             0.4444444444444444,
             "#bd3786"
            ],
            [
             0.5555555555555556,
             "#d8576b"
            ],
            [
             0.6666666666666666,
             "#ed7953"
            ],
            [
             0.7777777777777778,
             "#fb9f3a"
            ],
            [
             0.8888888888888888,
             "#fdca26"
            ],
            [
             1,
             "#f0f921"
            ]
           ],
           "sequentialminus": [
            [
             0,
             "#0d0887"
            ],
            [
             0.1111111111111111,
             "#46039f"
            ],
            [
             0.2222222222222222,
             "#7201a8"
            ],
            [
             0.3333333333333333,
             "#9c179e"
            ],
            [
             0.4444444444444444,
             "#bd3786"
            ],
            [
             0.5555555555555556,
             "#d8576b"
            ],
            [
             0.6666666666666666,
             "#ed7953"
            ],
            [
             0.7777777777777778,
             "#fb9f3a"
            ],
            [
             0.8888888888888888,
             "#fdca26"
            ],
            [
             1,
             "#f0f921"
            ]
           ]
          },
          "colorway": [
           "#636efa",
           "#EF553B",
           "#00cc96",
           "#ab63fa",
           "#FFA15A",
           "#19d3f3",
           "#FF6692",
           "#B6E880",
           "#FF97FF",
           "#FECB52"
          ],
          "font": {
           "color": "#2a3f5f"
          },
          "geo": {
           "bgcolor": "white",
           "lakecolor": "white",
           "landcolor": "#E5ECF6",
           "showlakes": true,
           "showland": true,
           "subunitcolor": "white"
          },
          "hoverlabel": {
           "align": "left"
          },
          "hovermode": "closest",
          "mapbox": {
           "style": "light"
          },
          "paper_bgcolor": "white",
          "plot_bgcolor": "#E5ECF6",
          "polar": {
           "angularaxis": {
            "gridcolor": "white",
            "linecolor": "white",
            "ticks": ""
           },
           "bgcolor": "#E5ECF6",
           "radialaxis": {
            "gridcolor": "white",
            "linecolor": "white",
            "ticks": ""
           }
          },
          "scene": {
           "xaxis": {
            "backgroundcolor": "#E5ECF6",
            "gridcolor": "white",
            "gridwidth": 2,
            "linecolor": "white",
            "showbackground": true,
            "ticks": "",
            "zerolinecolor": "white"
           },
           "yaxis": {
            "backgroundcolor": "#E5ECF6",
            "gridcolor": "white",
            "gridwidth": 2,
            "linecolor": "white",
            "showbackground": true,
            "ticks": "",
            "zerolinecolor": "white"
           },
           "zaxis": {
            "backgroundcolor": "#E5ECF6",
            "gridcolor": "white",
            "gridwidth": 2,
            "linecolor": "white",
            "showbackground": true,
            "ticks": "",
            "zerolinecolor": "white"
           }
          },
          "shapedefaults": {
           "line": {
            "color": "#2a3f5f"
           }
          },
          "ternary": {
           "aaxis": {
            "gridcolor": "white",
            "linecolor": "white",
            "ticks": ""
           },
           "baxis": {
            "gridcolor": "white",
            "linecolor": "white",
            "ticks": ""
           },
           "bgcolor": "#E5ECF6",
           "caxis": {
            "gridcolor": "white",
            "linecolor": "white",
            "ticks": ""
           }
          },
          "title": {
           "x": 0.05
          },
          "xaxis": {
           "automargin": true,
           "gridcolor": "white",
           "linecolor": "white",
           "ticks": "",
           "title": {
            "standoff": 15
           },
           "zerolinecolor": "white",
           "zerolinewidth": 2
          },
          "yaxis": {
           "automargin": true,
           "gridcolor": "white",
           "linecolor": "white",
           "ticks": "",
           "title": {
            "standoff": 15
           },
           "zerolinecolor": "white",
           "zerolinewidth": 2
          }
         }
        },
        "title": {
         "text": "<b>Cases Per capita of Covid-19 By State</b>",
         "x": 0.5
        },
        "updatemenus": [
         {
          "active": 1,
          "buttons": [
           {
            "args": [
             {
              "visible": [
               true,
               false,
               false,
               false
              ]
             },
             {
              "title": "<b>Total Cases of Covid-19 By State</b>"
             }
            ],
            "label": "Total Cases",
            "method": "update"
           },
           {
            "args": [
             {
              "visible": [
               false,
               true,
               false,
               false
              ]
             },
             {
              "title": "<b>Cases Per capita of Covid-19 By State</b>"
             }
            ],
            "label": "Cases Per capita",
            "method": "update"
           },
           {
            "args": [
             {
              "visible": [
               false,
               false,
               true,
               false
              ]
             },
             {
              "title": "<b>Total Deaths of Covid-19 By State</b>"
             }
            ],
            "label": "Total Deaths",
            "method": "update"
           },
           {
            "args": [
             {
              "visible": [
               false,
               false,
               false,
               true
              ]
             },
             {
              "title": "<b>Mortality Rate of Covid-19 By State</b>"
             }
            ],
            "label": "Mortality Rate",
            "method": "update"
           }
          ]
         }
        ]
       }
      },
      "image/png": "[encoded data removed]",
      "text/html": [
       "<div>                            <div id=\"861d3bda-43d3-49c4-8fc0-e2abe8026928\" class=\"plotly-graph-div\" style=\"height:525px; width:100%;\"></div>            <script type=\"text/javascript\">                require([\"plotly\"], function(Plotly) {                    window.PLOTLYENV=window.PLOTLYENV || {};                                    if (document.getElementById(\"861d3bda-43d3-49c4-8fc0-e2abe8026928\")) {                    Plotly.newPlot(                        \"861d3bda-43d3-49c4-8fc0-e2abe8026928\",                        [{\"colorbar\":{\"title\":{\"text\":\"Total Cases\"}},\"colorscale\":[[0.0,\"rgb(255,245,240)\"],[0.125,\"rgb(254,224,210)\"],[0.25,\"rgb(252,187,161)\"],[0.375,\"rgb(252,146,114)\"],[0.5,\"rgb(251,106,74)\"],[0.625,\"rgb(239,59,44)\"],[0.75,\"rgb(203,24,29)\"],[0.875,\"rgb(165,15,21)\"],[1.0,\"rgb(103,0,13)\"]],\"locationmode\":\"USA-states\",\"locations\":[\"AL\",\"AK\",\"AZ\",\"AR\",\"CA\",\"CO\",\"CT\",\"DE\",\"DC\",\"FL\",\"GA\",\"HI\",\"ID\",\"IL\",\"IN\",\"IA\",\"KS\",\"KY\",\"LA\",\"ME\",\"MD\",\"MA\",\"MI\",\"MN\",\"MS\",\"MO\",\"MT\",\"NE\",\"NV\",\"NH\",\"NJ\",\"NM\",\"NY\",\"NC\",\"ND\",\"OH\",\"OK\",\"OR\",\"PA\",\"RI\",\"SC\",\"SD\",\"TN\",\"TX\",\"UT\",\"VT\",\"VA\",\"WA\",\"WV\",\"WI\",\"WY\"],\"text\":[\"_______________________________<br>Alabama<br>Population: 4903185\",\"_______________________________<br>Alaska<br>Population: 731545\",\"_______________________________<br>Arizona<br>Population: 7278717\",\"_______________________________<br>Arkansas<br>Population: 3017804\",\"_______________________________<br>California<br>Population: 39512223\",\"_______________________________<br>Colorado<br>Population: 5758736\",\"_______________________________<br>Connecticut<br>Population: 3565287\",\"_______________________________<br>Delaware<br>Population: 973764\",\"_______________________________<br>District of Columbia<br>Population: 705749\",\"_______________________________<br>Florida<br>Population: 21477737\",\"_______________________________<br>Georgia<br>Population: 10617423\",\"_______________________________<br>Hawaii<br>Population: 1415872\",\"_______________________________<br>Idaho<br>Population: 1787065\",\"_______________________________<br>Illinois<br>Population: 12671821\",\"_______________________________<br>Indiana<br>Population: 6732219\",\"_______________________________<br>Iowa<br>Population: 3155070\",\"_______________________________<br>Kansas<br>Population: 2913314\",\"_______________________________<br>Kentucky<br>Population: 4467673\",\"_______________________________<br>Louisiana<br>Population: 4648794\",\"_______________________________<br>Maine<br>Population: 1344212\",\"_______________________________<br>Maryland<br>Population: 6045680\",\"_______________________________<br>Massachusetts<br>Population: 6892503\",\"_______________________________<br>Michigan<br>Population: 9986857\",\"_______________________________<br>Minnesota<br>Population: 5639632\",\"_______________________________<br>Mississippi<br>Population: 2976149\",\"_______________________________<br>Missouri<br>Population: 6137428\",\"_______________________________<br>Montana<br>Population: 1068778\",\"_______________________________<br>Nebraska<br>Population: 1934408\",\"_______________________________<br>Nevada<br>Population: 3080156\",\"_______________________________<br>New Hampshire<br>Population: 1359711\",\"_______________________________<br>New Jersey<br>Population: 8882190\",\"_______________________________<br>New Mexico<br>Population: 2096829\",\"_______________________________<br>New York<br>Population: 19453561\",\"_______________________________<br>North Carolina<br>Population: 10488084\",\"_______________________________<br>North Dakota<br>Population: 762062\",\"_______________________________<br>Ohio<br>Population: 11689100\",\"_______________________________<br>Oklahoma<br>Population: 3956971\",\"_______________________________<br>Oregon<br>Population: 4217737\",\"_______________________________<br>Pennsylvania<br>Population: 12801989\",\"_______________________________<br>Rhode Island<br>Population: 1059361\",\"_______________________________<br>South Carolina<br>Population: 5148714\",\"_______________________________<br>South Dakota<br>Population: 884659\",\"_______________________________<br>Tennessee<br>Population: 6829174\",\"_______________________________<br>Texas<br>Population: 28995881\",\"_______________________________<br>Utah<br>Population: 3205958\",\"_______________________________<br>Vermont<br>Population: 623989\",\"_______________________________<br>Virginia<br>Population: 8535519\",\"_______________________________<br>Washington<br>Population: 7614893\",\"_______________________________<br>West Virginia<br>Population: 1792147\",\"_______________________________<br>Wisconsin<br>Population: 5822434\",\"_______________________________<br>Wyoming<br>Population: 578759\"],\"visible\":true,\"z\":[896614.0,156130.0,1389708.0,570641.0,5515613.0,933257.0,510188.0,183880.0,94286.0,4166392.0,1798497.0,112283.0,319442.0,2154058.0,1250565.0,575501.0,520500.0,866041.0,828695.0,146736.0,700789.0,1140614.0,1706355.0,1022352.0,543737.0,1023420.0,197784.0,338257.0,501181.0,198667.0,1596644.0,350043.0,3555047.0,1685504.0,174671.0,2016095.0,708938.0,421263.0,2059613.0,231096.0,975320.0,179204.0,1379917.0,4578763.0,637144.0,64447.0,1118518.0,852824.0,328162.0,1120669.0,115638.0],\"type\":\"choropleth\"},{\"colorbar\":{\"title\":{\"text\":\"Cases Per capita\"}},\"colorscale\":[[0.0,\"rgb(253, 253, 204)\"],[0.09090909090909091,\"rgb(206, 236, 179)\"],[0.18181818181818182,\"rgb(156, 219, 165)\"],[0.2727272727272727,\"rgb(111, 201, 163)\"],[0.36363636363636365,\"rgb(86, 177, 163)\"],[0.45454545454545453,\"rgb(76, 153, 160)\"],[0.5454545454545454,\"rgb(68, 130, 155)\"],[0.6363636363636364,\"rgb(62, 108, 150)\"],[0.7272727272727273,\"rgb(62, 82, 143)\"],[0.8181818181818182,\"rgb(64, 60, 115)\"],[0.9090909090909091,\"rgb(54, 43, 77)\"],[1.0,\"rgb(39, 26, 44)\"]],\"locationmode\":\"USA-states\",\"locations\":[\"AL\",\"AK\",\"AZ\",\"AR\",\"CA\",\"CO\",\"CT\",\"DE\",\"DC\",\"FL\",\"GA\",\"HI\",\"ID\",\"IL\",\"IN\",\"IA\",\"KS\",\"KY\",\"LA\",\"ME\",\"MD\",\"MA\",\"MI\",\"MN\",\"MS\",\"MO\",\"MT\",\"NE\",\"NV\",\"NH\",\"NJ\",\"NM\",\"NY\",\"NC\",\"ND\",\"OH\",\"OK\",\"OR\",\"PA\",\"RI\",\"SC\",\"SD\",\"TN\",\"TX\",\"UT\",\"VT\",\"VA\",\"WA\",\"WV\",\"WI\",\"WY\"],\"text\":[\"_______________________________<br>Alabama<br>Population: 4903185\",\"_______________________________<br>Alaska<br>Population: 731545\",\"_______________________________<br>Arizona<br>Population: 7278717\",\"_______________________________<br>Arkansas<br>Population: 3017804\",\"_______________________________<br>California<br>Population: 39512223\",\"_______________________________<br>Colorado<br>Population: 5758736\",\"_______________________________<br>Connecticut<br>Population: 3565287\",\"_______________________________<br>Delaware<br>Population: 973764\",\"_______________________________<br>District of Columbia<br>Population: 705749\",\"_______________________________<br>Florida<br>Population: 21477737\",\"_______________________________<br>Georgia<br>Population: 10617423\",\"_______________________________<br>Hawaii<br>Population: 1415872\",\"_______________________________<br>Idaho<br>Population: 1787065\",\"_______________________________<br>Illinois<br>Population: 12671821\",\"_______________________________<br>Indiana<br>Population: 6732219\",\"_______________________________<br>Iowa<br>Population: 3155070\",\"_______________________________<br>Kansas<br>Population: 2913314\",\"_______________________________<br>Kentucky<br>Population: 4467673\",\"_______________________________<br>Louisiana<br>Population: 4648794\",\"_______________________________<br>Maine<br>Population: 1344212\",\"_______________________________<br>Maryland<br>Population: 6045680\",\"_______________________________<br>Massachusetts<br>Population: 6892503\",\"_______________________________<br>Michigan<br>Population: 9986857\",\"_______________________________<br>Minnesota<br>Population: 5639632\",\"_______________________________<br>Mississippi<br>Population: 2976149\",\"_______________________________<br>Missouri<br>Population: 6137428\",\"_______________________________<br>Montana<br>Population: 1068778\",\"_______________________________<br>Nebraska<br>Population: 1934408\",\"_______________________________<br>Nevada<br>Population: 3080156\",\"_______________________________<br>New Hampshire<br>Population: 1359711\",\"_______________________________<br>New Jersey<br>Population: 8882190\",\"_______________________________<br>New Mexico<br>Population: 2096829\",\"_______________________________<br>New York<br>Population: 19453561\",\"_______________________________<br>North Carolina<br>Population: 10488084\",\"_______________________________<br>North Dakota<br>Population: 762062\",\"_______________________________<br>Ohio<br>Population: 11689100\",\"_______________________________<br>Oklahoma<br>Population: 3956971\",\"_______________________________<br>Oregon<br>Population: 4217737\",\"_______________________________<br>Pennsylvania<br>Population: 12801989\",\"_______________________________<br>Rhode Island<br>Population: 1059361\",\"_______________________________<br>South Carolina<br>Population: 5148714\",\"_______________________________<br>South Dakota<br>Population: 884659\",\"_______________________________<br>Tennessee<br>Population: 6829174\",\"_______________________________<br>Texas<br>Population: 28995881\",\"_______________________________<br>Utah<br>Population: 3205958\",\"_______________________________<br>Vermont<br>Population: 623989\",\"_______________________________<br>Virginia<br>Population: 8535519\",\"_______________________________<br>Washington<br>Population: 7614893\",\"_______________________________<br>West Virginia<br>Population: 1792147\",\"_______________________________<br>Wisconsin<br>Population: 5822434\",\"_______________________________<br>Wyoming<br>Population: 578759\"],\"visible\":false,\"z\":[0.1829,0.2134,0.1909,0.1891,0.1396,0.1621,0.1431,0.1888,0.1336,0.194,0.1694,0.0793,0.1788,0.17,0.1858,0.1824,0.1787,0.1938,0.1783,0.1092,0.1159,0.1655,0.1709,0.1813,0.1827,0.1668,0.1851,0.1749,0.1627,0.1461,0.1798,0.1669,0.1827,0.1607,0.2292,0.1725,0.1792,0.0999,0.1609,0.2181,0.1894,0.2026,0.2021,0.1579,0.1987,0.1033,0.131,0.112,0.1831,0.1925,0.1998],\"type\":\"choropleth\"},{\"colorbar\":{\"title\":{\"text\":\"Total Deaths\"}},\"colorscale\":[[0.0,\"#fcffa4\"],[0.1111111111111111,\"#f7d13d\"],[0.2222222222222222,\"#fb9b06\"],[0.3333333333333333,\"#ed6925\"],[0.4444444444444444,\"#cf4446\"],[0.5555555555555556,\"#a52c60\"],[0.6666666666666666,\"#781c6d\"],[0.7777777777777778,\"#4a0c6b\"],[0.8888888888888888,\"#1b0c41\"],[1.0,\"#000004\"]],\"locationmode\":\"USA-states\",\"locations\":[\"AL\",\"AK\",\"AZ\",\"AR\",\"CA\",\"CO\",\"CT\",\"DE\",\"DC\",\"FL\",\"GA\",\"HI\",\"ID\",\"IL\",\"IN\",\"IA\",\"KS\",\"KY\",\"LA\",\"ME\",\"MD\",\"MA\",\"MI\",\"MN\",\"MS\",\"MO\",\"MT\",\"NE\",\"NV\",\"NH\",\"NJ\",\"NM\",\"NY\",\"NC\",\"ND\",\"OH\",\"OK\",\"OR\",\"PA\",\"RI\",\"SC\",\"SD\",\"TN\",\"TX\",\"UT\",\"VT\",\"VA\",\"WA\",\"WV\",\"WI\",\"WY\"],\"text\":[\"_______________________________<br>Alabama<br>Population: 4903185\",\"_______________________________<br>Alaska<br>Population: 731545\",\"_______________________________<br>Arizona<br>Population: 7278717\",\"_______________________________<br>Arkansas<br>Population: 3017804\",\"_______________________________<br>California<br>Population: 39512223\",\"_______________________________<br>Colorado<br>Population: 5758736\",\"_______________________________<br>Connecticut<br>Population: 3565287\",\"_______________________________<br>Delaware<br>Population: 973764\",\"_______________________________<br>District of Columbia<br>Population: 705749\",\"_______________________________<br>Florida<br>Population: 21477737\",\"_______________________________<br>Georgia<br>Population: 10617423\",\"_______________________________<br>Hawaii<br>Population: 1415872\",\"_______________________________<br>Idaho<br>Population: 1787065\",\"_______________________________<br>Illinois<br>Population: 12671821\",\"_______________________________<br>Indiana<br>Population: 6732219\",\"_______________________________<br>Iowa<br>Population: 3155070\",\"_______________________________<br>Kansas<br>Population: 2913314\",\"_______________________________<br>Kentucky<br>Population: 4467673\",\"_______________________________<br>Louisiana<br>Population: 4648794\",\"_______________________________<br>Maine<br>Population: 1344212\",\"_______________________________<br>Maryland<br>Population: 6045680\",\"_______________________________<br>Massachusetts<br>Population: 6892503\",\"_______________________________<br>Michigan<br>Population: 9986857\",\"_______________________________<br>Minnesota<br>Population: 5639632\",\"_______________________________<br>Mississippi<br>Population: 2976149\",\"_______________________________<br>Missouri<br>Population: 6137428\",\"_______________________________<br>Montana<br>Population: 1068778\",\"_______________________________<br>Nebraska<br>Population: 1934408\",\"_______________________________<br>Nevada<br>Population: 3080156\",\"_______________________________<br>New Hampshire<br>Population: 1359711\",\"_______________________________<br>New Jersey<br>Population: 8882190\",\"_______________________________<br>New Mexico<br>Population: 2096829\",\"_______________________________<br>New York<br>Population: 19453561\",\"_______________________________<br>North Carolina<br>Population: 10488084\",\"_______________________________<br>North Dakota<br>Population: 762062\",\"_______________________________<br>Ohio<br>Population: 11689100\",\"_______________________________<br>Oklahoma<br>Population: 3956971\",\"_______________________________<br>Oregon<br>Population: 4217737\",\"_______________________________<br>Pennsylvania<br>Population: 12801989\",\"_______________________________<br>Rhode Island<br>Population: 1059361\",\"_______________________________<br>South Carolina<br>Population: 5148714\",\"_______________________________<br>South Dakota<br>Population: 884659\",\"_______________________________<br>Tennessee<br>Population: 6829174\",\"_______________________________<br>Texas<br>Population: 28995881\",\"_______________________________<br>Utah<br>Population: 3205958\",\"_______________________________<br>Vermont<br>Population: 623989\",\"_______________________________<br>Virginia<br>Population: 8535519\",\"_______________________________<br>Washington<br>Population: 7614893\",\"_______________________________<br>West Virginia<br>Population: 1792147\",\"_______________________________<br>Wisconsin<br>Population: 5822434\",\"_______________________________<br>Wyoming<br>Population: 578759\"],\"visible\":false,\"z\":[16455.0,954.0,24354.0,9180.0,76709.0,10480.0,9160.0,2286.0,1211.0,62504.0,30283.0,1091.0,4163.0,31017.0,19037.0,7858.0,7030.0,12149.0,14986.0,1531.0,11758.0,20273.0,28984.0,10656.0,10450.0,16227.0,2907.0,2917.0,8420.0,1961.0,29053.0,5857.0,59072.0,19436.0,2057.0,29447.0,11552.0,5655.0,36714.0,3066.0,14636.0,2486.0,20640.0,76062.0,3787.0,471.0,15587.0,9904.0,5336.0,11173.0,1526.0],\"type\":\"choropleth\"},{\"colorbar\":{\"title\":{\"text\":\"Mortality Rate\"}},\"colorscale\":[[0.0,\"rgb(243, 231, 155)\"],[0.16666666666666666,\"rgb(250, 196, 132)\"],[0.3333333333333333,\"rgb(248, 160, 126)\"],[0.5,\"rgb(235, 127, 134)\"],[0.6666666666666666,\"rgb(206, 102, 147)\"],[0.8333333333333334,\"rgb(160, 89, 160)\"],[1.0,\"rgb(92, 83, 165)\"]],\"locationmode\":\"USA-states\",\"locations\":[\"AL\",\"AK\",\"AZ\",\"AR\",\"CA\",\"CO\",\"CT\",\"DE\",\"DC\",\"FL\",\"GA\",\"HI\",\"ID\",\"IL\",\"IN\",\"IA\",\"KS\",\"KY\",\"LA\",\"ME\",\"MD\",\"MA\",\"MI\",\"MN\",\"MS\",\"MO\",\"MT\",\"NE\",\"NV\",\"NH\",\"NJ\",\"NM\",\"NY\",\"NC\",\"ND\",\"OH\",\"OK\",\"OR\",\"PA\",\"RI\",\"SC\",\"SD\",\"TN\",\"TX\",\"UT\",\"VT\",\"VA\",\"WA\",\"WV\",\"WI\",\"WY\"],\"text\":[\"_______________________________<br>Alabama<br>Population: 4903185\",\"_______________________________<br>Alaska<br>Population: 731545\",\"_______________________________<br>Arizona<br>Population: 7278717\",\"_______________________________<br>Arkansas<br>Population: 3017804\",\"_______________________________<br>California<br>Population: 39512223\",\"_______________________________<br>Colorado<br>Population: 5758736\",\"_______________________________<br>Connecticut<br>Population: 3565287\",\"_______________________________<br>Delaware<br>Population: 973764\",\"_______________________________<br>District of Columbia<br>Population: 705749\",\"_______________________________<br>Florida<br>Population: 21477737\",\"_______________________________<br>Georgia<br>Population: 10617423\",\"_______________________________<br>Hawaii<br>Population: 1415872\",\"_______________________________<br>Idaho<br>Population: 1787065\",\"_______________________________<br>Illinois<br>Population: 12671821\",\"_______________________________<br>Indiana<br>Population: 6732219\",\"_______________________________<br>Iowa<br>Population: 3155070\",\"_______________________________<br>Kansas<br>Population: 2913314\",\"_______________________________<br>Kentucky<br>Population: 4467673\",\"_______________________________<br>Louisiana<br>Population: 4648794\",\"_______________________________<br>Maine<br>Population: 1344212\",\"_______________________________<br>Maryland<br>Population: 6045680\",\"_______________________________<br>Massachusetts<br>Population: 6892503\",\"_______________________________<br>Michigan<br>Population: 9986857\",\"_______________________________<br>Minnesota<br>Population: 5639632\",\"_______________________________<br>Mississippi<br>Population: 2976149\",\"_______________________________<br>Missouri<br>Population: 6137428\",\"_______________________________<br>Montana<br>Population: 1068778\",\"_______________________________<br>Nebraska<br>Population: 1934408\",\"_______________________________<br>Nevada<br>Population: 3080156\",\"_______________________________<br>New Hampshire<br>Population: 1359711\",\"_______________________________<br>New Jersey<br>Population: 8882190\",\"_______________________________<br>New Mexico<br>Population: 2096829\",\"_______________________________<br>New York<br>Population: 19453561\",\"_______________________________<br>North Carolina<br>Population: 10488084\",\"_______________________________<br>North Dakota<br>Population: 762062\",\"_______________________________<br>Ohio<br>Population: 11689100\",\"_______________________________<br>Oklahoma<br>Population: 3956971\",\"_______________________________<br>Oregon<br>Population: 4217737\",\"_______________________________<br>Pennsylvania<br>Population: 12801989\",\"_______________________________<br>Rhode Island<br>Population: 1059361\",\"_______________________________<br>South Carolina<br>Population: 5148714\",\"_______________________________<br>South Dakota<br>Population: 884659\",\"_______________________________<br>Tennessee<br>Population: 6829174\",\"_______________________________<br>Texas<br>Population: 28995881\",\"_______________________________<br>Utah<br>Population: 3205958\",\"_______________________________<br>Vermont<br>Population: 623989\",\"_______________________________<br>Virginia<br>Population: 8535519\",\"_______________________________<br>Washington<br>Population: 7614893\",\"_______________________________<br>West Virginia<br>Population: 1792147\",\"_______________________________<br>Wisconsin<br>Population: 5822434\",\"_______________________________<br>Wyoming<br>Population: 578759\"],\"visible\":false,\"z\":[1.84,0.61,1.75,1.61,1.39,1.12,1.8,1.24,1.28,1.5,1.68,0.97,1.3,1.44,1.52,1.37,1.35,1.4,1.81,1.04,1.68,1.78,1.7,1.04,1.92,1.59,1.47,0.86,1.68,0.99,1.82,1.67,1.66,1.15,1.18,1.46,1.63,1.34,1.78,1.33,1.5,1.39,1.5,1.66,0.59,0.73,1.39,1.16,1.63,1.0,1.32],\"type\":\"choropleth\"}],                        {\"showlegend\":false,\"updatemenus\":[{\"active\":0,\"buttons\":[{\"args\":[{\"visible\":[true,false,false,false]},{\"title\":\"<b>Total Cases of Covid-19 By State</b>\"}],\"label\":\"Total Cases\",\"method\":\"update\"},{\"args\":[{\"visible\":[false,true,false,false]},{\"title\":\"<b>Cases Per capita of Covid-19 By State</b>\"}],\"label\":\"Cases Per capita\",\"method\":\"update\"},{\"args\":[{\"visible\":[false,false,true,false]},{\"title\":\"<b>Total Deaths of Covid-19 By State</b>\"}],\"label\":\"Total Deaths\",\"method\":\"update\"},{\"args\":[{\"visible\":[false,false,false,true]},{\"title\":\"<b>Mortality Rate of Covid-19 By State</b>\"}],\"label\":\"Mortality Rate\",\"method\":\"update\"}]}],\"geo\":{\"scope\":\"usa\"},\"template\":{\"data\":{\"bar\":[{\"error_x\":{\"color\":\"#2a3f5f\"},\"error_y\":{\"color\":\"#2a3f5f\"},\"marker\":{\"line\":{\"color\":\"#E5ECF6\",\"width\":0.5},\"pattern\":{\"fillmode\":\"overlay\",\"size\":10,\"solidity\":0.2}},\"type\":\"bar\"}],\"barpolar\":[{\"marker\":{\"line\":{\"color\":\"#E5ECF6\",\"width\":0.5},\"pattern\":{\"fillmode\":\"overlay\",\"size\":10,\"solidity\":0.2}},\"type\":\"barpolar\"}],\"carpet\":[{\"aaxis\":{\"endlinecolor\":\"#2a3f5f\",\"gridcolor\":\"white\",\"linecolor\":\"white\",\"minorgridcolor\":\"white\",\"startlinecolor\":\"#2a3f5f\"},\"baxis\":{\"endlinecolor\":\"#2a3f5f\",\"gridcolor\":\"white\",\"linecolor\":\"white\",\"minorgridcolor\":\"white\",\"startlinecolor\":\"#2a3f5f\"},\"type\":\"carpet\"}],\"choropleth\":[{\"colorbar\":{\"outlinewidth\":0,\"ticks\":\"\"},\"type\":\"choropleth\"}],\"contour\":[{\"colorbar\":{\"outlinewidth\":0,\"ticks\":\"\"},\"colorscale\":[[0.0,\"#0d0887\"],[0.1111111111111111,\"#46039f\"],[0.2222222222222222,\"#7201a8\"],[0.3333333333333333,\"#9c179e\"],[0.4444444444444444,\"#bd3786\"],[0.5555555555555556,\"#d8576b\"],[0.6666666666666666,\"#ed7953\"],[0.7777777777777778,\"#fb9f3a\"],[0.8888888888888888,\"#fdca26\"],[1.0,\"#f0f921\"]],\"type\":\"contour\"}],\"contourcarpet\":[{\"colorbar\":{\"outlinewidth\":0,\"ticks\":\"\"},\"type\":\"contourcarpet\"}],\"heatmap\":[{\"colorbar\":{\"outlinewidth\":0,\"ticks\":\"\"},\"colorscale\":[[0.0,\"#0d0887\"],[0.1111111111111111,\"#46039f\"],[0.2222222222222222,\"#7201a8\"],[0.3333333333333333,\"#9c179e\"],[0.4444444444444444,\"#bd3786\"],[0.5555555555555556,\"#d8576b\"],[0.6666666666666666,\"#ed7953\"],[0.7777777777777778,\"#fb9f3a\"],[0.8888888888888888,\"#fdca26\"],[1.0,\"#f0f921\"]],\"type\":\"heatmap\"}],\"heatmapgl\":[{\"colorbar\":{\"outlinewidth\":0,\"ticks\":\"\"},\"colorscale\":[[0.0,\"#0d0887\"],[0.1111111111111111,\"#46039f\"],[0.2222222222222222,\"#7201a8\"],[0.3333333333333333,\"#9c179e\"],[0.4444444444444444,\"#bd3786\"],[0.5555555555555556,\"#d8576b\"],[0.6666666666666666,\"#ed7953\"],[0.7777777777777778,\"#fb9f3a\"],[0.8888888888888888,\"#fdca26\"],[1.0,\"#f0f921\"]],\"type\":\"heatmapgl\"}],\"histogram\":[{\"marker\":{\"pattern\":{\"fillmode\":\"overlay\",\"size\":10,\"solidity\":0.2}},\"type\":\"histogram\"}],\"histogram2d\":[{\"colorbar\":{\"outlinewidth\":0,\"ticks\":\"\"},\"colorscale\":[[0.0,\"#0d0887\"],[0.1111111111111111,\"#46039f\"],[0.2222222222222222,\"#7201a8\"],[0.3333333333333333,\"#9c179e\"],[0.4444444444444444,\"#bd3786\"],[0.5555555555555556,\"#d8576b\"],[0.6666666666666666,\"#ed7953\"],[0.7777777777777778,\"#fb9f3a\"],[0.8888888888888888,\"#fdca26\"],[1.0,\"#f0f921\"]],\"type\":\"histogram2d\"}],\"histogram2dcontour\":[{\"colorbar\":{\"outlinewidth\":0,\"ticks\":\"\"},\"colorscale\":[[0.0,\"#0d0887\"],[0.1111111111111111,\"#46039f\"],[0.2222222222222222,\"#7201a8\"],[0.3333333333333333,\"#9c179e\"],[0.4444444444444444,\"#bd3786\"],[0.5555555555555556,\"#d8576b\"],[0.6666666666666666,\"#ed7953\"],[0.7777777777777778,\"#fb9f3a\"],[0.8888888888888888,\"#fdca26\"],[1.0,\"#f0f921\"]],\"type\":\"histogram2dcontour\"}],\"mesh3d\":[{\"colorbar\":{\"outlinewidth\":0,\"ticks\":\"\"},\"type\":\"mesh3d\"}],\"parcoords\":[{\"line\":{\"colorbar\":{\"outlinewidth\":0,\"ticks\":\"\"}},\"type\":\"parcoords\"}],\"pie\":[{\"automargin\":true,\"type\":\"pie\"}],\"scatter\":[{\"marker\":{\"colorbar\":{\"outlinewidth\":0,\"ticks\":\"\"}},\"type\":\"scatter\"}],\"scatter3d\":[{\"line\":{\"colorbar\":{\"outlinewidth\":0,\"ticks\":\"\"}},\"marker\":{\"colorbar\":{\"outlinewidth\":0,\"ticks\":\"\"}},\"type\":\"scatter3d\"}],\"scattercarpet\":[{\"marker\":{\"colorbar\":{\"outlinewidth\":0,\"ticks\":\"\"}},\"type\":\"scattercarpet\"}],\"scattergeo\":[{\"marker\":{\"colorbar\":{\"outlinewidth\":0,\"ticks\":\"\"}},\"type\":\"scattergeo\"}],\"scattergl\":[{\"marker\":{\"colorbar\":{\"outlinewidth\":0,\"ticks\":\"\"}},\"type\":\"scattergl\"}],\"scattermapbox\":[{\"marker\":{\"colorbar\":{\"outlinewidth\":0,\"ticks\":\"\"}},\"type\":\"scattermapbox\"}],\"scatterpolar\":[{\"marker\":{\"colorbar\":{\"outlinewidth\":0,\"ticks\":\"\"}},\"type\":\"scatterpolar\"}],\"scatterpolargl\":[{\"marker\":{\"colorbar\":{\"outlinewidth\":0,\"ticks\":\"\"}},\"type\":\"scatterpolargl\"}],\"scatterternary\":[{\"marker\":{\"colorbar\":{\"outlinewidth\":0,\"ticks\":\"\"}},\"type\":\"scatterternary\"}],\"surface\":[{\"colorbar\":{\"outlinewidth\":0,\"ticks\":\"\"},\"colorscale\":[[0.0,\"#0d0887\"],[0.1111111111111111,\"#46039f\"],[0.2222222222222222,\"#7201a8\"],[0.3333333333333333,\"#9c179e\"],[0.4444444444444444,\"#bd3786\"],[0.5555555555555556,\"#d8576b\"],[0.6666666666666666,\"#ed7953\"],[0.7777777777777778,\"#fb9f3a\"],[0.8888888888888888,\"#fdca26\"],[1.0,\"#f0f921\"]],\"type\":\"surface\"}],\"table\":[{\"cells\":{\"fill\":{\"color\":\"#EBF0F8\"},\"line\":{\"color\":\"white\"}},\"header\":{\"fill\":{\"color\":\"#C8D4E3\"},\"line\":{\"color\":\"white\"}},\"type\":\"table\"}]},\"layout\":{\"annotationdefaults\":{\"arrowcolor\":\"#2a3f5f\",\"arrowhead\":0,\"arrowwidth\":1},\"autotypenumbers\":\"strict\",\"coloraxis\":{\"colorbar\":{\"outlinewidth\":0,\"ticks\":\"\"}},\"colorscale\":{\"diverging\":[[0,\"#8e0152\"],[0.1,\"#c51b7d\"],[0.2,\"#de77ae\"],[0.3,\"#f1b6da\"],[0.4,\"#fde0ef\"],[0.5,\"#f7f7f7\"],[0.6,\"#e6f5d0\"],[0.7,\"#b8e186\"],[0.8,\"#7fbc41\"],[0.9,\"#4d9221\"],[1,\"#276419\"]],\"sequential\":[[0.0,\"#0d0887\"],[0.1111111111111111,\"#46039f\"],[0.2222222222222222,\"#7201a8\"],[0.3333333333333333,\"#9c179e\"],[0.4444444444444444,\"#bd3786\"],[0.5555555555555556,\"#d8576b\"],[0.6666666666666666,\"#ed7953\"],[0.7777777777777778,\"#fb9f3a\"],[0.8888888888888888,\"#fdca26\"],[1.0,\"#f0f921\"]],\"sequentialminus\":[[0.0,\"#0d0887\"],[0.1111111111111111,\"#46039f\"],[0.2222222222222222,\"#7201a8\"],[0.3333333333333333,\"#9c179e\"],[0.4444444444444444,\"#bd3786\"],[0.5555555555555556,\"#d8576b\"],[0.6666666666666666,\"#ed7953\"],[0.7777777777777778,\"#fb9f3a\"],[0.8888888888888888,\"#fdca26\"],[1.0,\"#f0f921\"]]},\"colorway\":[\"#636efa\",\"#EF553B\",\"#00cc96\",\"#ab63fa\",\"#FFA15A\",\"#19d3f3\",\"#FF6692\",\"#B6E880\",\"#FF97FF\",\"#FECB52\"],\"font\":{\"color\":\"#2a3f5f\"},\"geo\":{\"bgcolor\":\"white\",\"lakecolor\":\"white\",\"landcolor\":\"#E5ECF6\",\"showlakes\":true,\"showland\":true,\"subunitcolor\":\"white\"},\"hoverlabel\":{\"align\":\"left\"},\"hovermode\":\"closest\",\"mapbox\":{\"style\":\"light\"},\"paper_bgcolor\":\"white\",\"plot_bgcolor\":\"#E5ECF6\",\"polar\":{\"angularaxis\":{\"gridcolor\":\"white\",\"linecolor\":\"white\",\"ticks\":\"\"},\"bgcolor\":\"#E5ECF6\",\"radialaxis\":{\"gridcolor\":\"white\",\"linecolor\":\"white\",\"ticks\":\"\"}},\"scene\":{\"xaxis\":{\"backgroundcolor\":\"#E5ECF6\",\"gridcolor\":\"white\",\"gridwidth\":2,\"linecolor\":\"white\",\"showbackground\":true,\"ticks\":\"\",\"zerolinecolor\":\"white\"},\"yaxis\":{\"backgroundcolor\":\"#E5ECF6\",\"gridcolor\":\"white\",\"gridwidth\":2,\"linecolor\":\"white\",\"showbackground\":true,\"ticks\":\"\",\"zerolinecolor\":\"white\"},\"zaxis\":{\"backgroundcolor\":\"#E5ECF6\",\"gridcolor\":\"white\",\"gridwidth\":2,\"linecolor\":\"white\",\"showbackground\":true,\"ticks\":\"\",\"zerolinecolor\":\"white\"}},\"shapedefaults\":{\"line\":{\"color\":\"#2a3f5f\"}},\"ternary\":{\"aaxis\":{\"gridcolor\":\"white\",\"linecolor\":\"white\",\"ticks\":\"\"},\"baxis\":{\"gridcolor\":\"white\",\"linecolor\":\"white\",\"ticks\":\"\"},\"bgcolor\":\"#E5ECF6\",\"caxis\":{\"gridcolor\":\"white\",\"linecolor\":\"white\",\"ticks\":\"\"}},\"title\":{\"x\":0.05},\"xaxis\":{\"automargin\":true,\"gridcolor\":\"white\",\"linecolor\":\"white\",\"ticks\":\"\",\"title\":{\"standoff\":15},\"zerolinecolor\":\"white\",\"zerolinewidth\":2},\"yaxis\":{\"automargin\":true,\"gridcolor\":\"white\",\"linecolor\":\"white\",\"ticks\":\"\",\"title\":{\"standoff\":15},\"zerolinecolor\":\"white\",\"zerolinewidth\":2}}},\"title\":{\"text\":\"<b><b>Total Cases</b> of Covid-19 By State</b>\",\"x\":0.5}},                        {\"responsive\": true}                    ).then(function(){\n",
       "                            \n",
       "var gd = document.getElementById('861d3bda-43d3-49c4-8fc0-e2abe8026928');\n",
       "var x = new MutationObserver(function (mutations, observer) {{\n",
       "        var display = window.getComputedStyle(gd).display;\n",
       "        if (!display || display === 'none') {{\n",
       "            console.log([gd, 'removed!']);\n",
       "            Plotly.purge(gd);\n",
       "            observer.disconnect();\n",
       "        }}\n",
       "}});\n",
       "\n",
       "// Listen for the removal of the full notebook cells\n",
       "var notebookContainer = gd.closest('#notebook-container');\n",
       "if (notebookContainer) {{\n",
       "    x.observe(notebookContainer, {childList: true});\n",
       "}}\n",
       "\n",
       "// Listen for the clearing of the current output cell\n",
       "var outputEl = gd.closest('.output');\n",
       "if (outputEl) {{\n",
       "    x.observe(outputEl, {childList: true});\n",
       "}}\n",
       "\n",
       "                        })                };                });            </script>        </div>"
      ]
     },
     "metadata": {},
     "output_type": "display_data"
    }
   ],
   "source": [
    "# Show figure\n",
    "fig = go.Figure(data=traces,\n",
    "                layout=dict(updatemenus=updatemenus, geo_scope= 'usa', showlegend=False))\n",
    "# This is in order to get the first title displayed correctly\n",
    "first_title = f\"<b>{cols_dd[0]}</b> of Covid-19 By State\" \n",
    "fig.update_layout(title=f\"<b>{first_title}</b>\",title_x=0.5)\n",
    "fig.show()"
   ]
  },
  {
   "cell_type": "code",
   "execution_count": null,
   "id": "6db1b595-1111-4c27-9a51-435a8eec8130",
   "metadata": {},
   "outputs": [],
   "source": []
  }
 ],
 "metadata": {
  "kernelspec": {
   "display_name": "Python 3 (ipykernel)",
   "language": "python",
   "name": "python3"
  },
  "language_info": {
   "codemirror_mode": {
    "name": "ipython",
    "version": 3
   },
   "file_extension": ".py",
   "mimetype": "text/x-python",
   "name": "python",
   "nbconvert_exporter": "python",
   "pygments_lexer": "ipython3",
   "version": "3.9.7"
  }
 },
 "nbformat": 4,
 "nbformat_minor": 5
}
